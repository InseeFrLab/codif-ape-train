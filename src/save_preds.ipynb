{
 "cells": [
  {
   "cell_type": "code",
   "execution_count": 2,
   "metadata": {},
   "outputs": [],
   "source": [
    "import sys\n",
    "import time\n",
    "\n",
    "import mlflow\n",
    "import pandas as pd\n",
    "import yaml\n",
    "import fasttext\n",
    "\n",
    "from constants import TEXT_FEATURE\n",
    "from fasttext_classifier.fasttext_evaluator import FastTextEvaluator\n",
    "from fasttext_classifier.fasttext_preprocessor import FastTextPreprocessor\n",
    "from fasttext_classifier.fasttext_trainer import FastTextTrainer\n",
    "from fasttext_classifier.fasttext_wrapper import FastTextWrapper\n",
    "from utils import get_root_path\n"
   ]
  },
  {
   "cell_type": "code",
   "execution_count": 3,
   "metadata": {},
   "outputs": [
    {
     "name": "stdout",
     "output_type": "stream",
     "text": [
      "*** Preprocessing the database...\n",
      "\n"
     ]
    }
   ],
   "source": [
    "config_path = \"config/config_fasttext27.yaml\"\n",
    "\n",
    "preprocessor = FastTextPreprocessor()\n",
    "\n",
    "print(\"*** Preprocessing the database...\\n\")\n",
    "# Load data, assumed to be stored in a .parquet file\n",
    "df = pd.read_parquet(\"../data/extraction_sirene_20220712_harmonised.parquet\", engine=\"pyarrow\")\n",
    "\n",
    "with open(get_root_path() / config_path, \"r\") as stream:\n",
    "    config = yaml.safe_load(stream)\n",
    "params = config[\"params\"]\n",
    "categorical_features = config[\"categorical_features\"]\n",
    "Y = config[\"Y\"][0]\n",
    "oversampling = config[\"oversampling\"]\n",
    "\n",
    "# Preprocess data\n",
    "df_train, df_test, df_gu = preprocessor.preprocess(\n",
    "    df=df,\n",
    "    y=Y,\n",
    "    text_feature=TEXT_FEATURE,\n",
    "    categorical_features=categorical_features,\n",
    "    oversampling=oversampling,\n",
    ")"
   ]
  },
  {
   "cell_type": "markdown",
   "metadata": {},
   "source": [
    "- Model 1\n",
    "    mc cp minio/projet-ape/mlflow-artifacts/1/533b0455ad9e4ba2abc3806a6a5867d6/artifacts/default/artifacts/default.bin models/model1.bin\n",
    "\n",
    "- Model 2\n",
    "    mc cp minio/projet-ape/mlflow-artifacts/1/d59e23a319fe40e0afed1c79172ba9bd/artifacts/default/artifacts/default.bin models/model2.bin\n",
    "\n",
    "- Model 3\n",
    "    mc cp minio/projet-ape/mlflow-artifacts/1/62b2c9295f3a48b3b81872e6db560bd5/artifacts/default/artifacts/default.bin models/model3.bin\n",
    "    \n",
    "- Model 4\n",
    "    mc cp minio/projet-ape/mlflow-artifacts/1/cdde7a391d0c423499b64ccdf5ec941a/artifacts/default/artifacts/default.bin models/model4.bin"
   ]
  },
  {
   "cell_type": "code",
   "execution_count": 5,
   "metadata": {},
   "outputs": [
    {
     "name": "stderr",
     "output_type": "stream",
     "text": [
      "Warning : `load_model` does not return WordVectorModel or SupervisedModel any more, but a `FastText` object which is very similar.\n"
     ]
    }
   ],
   "source": [
    "model4 = fasttext.load_model(\"../models/model4.bin\")\n",
    "evaluator4 = FastTextEvaluator(model4)"
   ]
  },
  {
   "cell_type": "code",
   "execution_count": 6,
   "metadata": {},
   "outputs": [
    {
     "name": "stderr",
     "output_type": "stream",
     "text": [
      "Warning : `load_model` does not return WordVectorModel or SupervisedModel any more, but a `FastText` object which is very similar.\n"
     ]
    }
   ],
   "source": [
    "model2 = fasttext.load_model(\"../models/model2.bin\")\n",
    "evaluator2 = FastTextEvaluator(model2)"
   ]
  },
  {
   "cell_type": "code",
   "execution_count": 7,
   "metadata": {},
   "outputs": [],
   "source": [
    "gu2 = evaluator2.get_aggregated_preds(df_gu, Y, TEXT_FEATURE, categorical_features, 5)\n",
    "test2 = evaluator2.get_aggregated_preds(df_test, Y, TEXT_FEATURE, categorical_features, 5)\n",
    "gu4 = evaluator4.get_aggregated_preds(df_gu, Y, TEXT_FEATURE, categorical_features, 5)\n",
    "test4 = evaluator4.get_aggregated_preds(df_test, Y, TEXT_FEATURE, categorical_features, 5)"
   ]
  },
  {
   "cell_type": "code",
   "execution_count": 9,
   "metadata": {},
   "outputs": [],
   "source": [
    "test2.to_csv(\"../data/predictions_test_d59e23a319fe40e0afed1c79172ba9bd.csv\")\n",
    "gu2.to_csv(\"../data/predictions_GU_d59e23a319fe40e0afed1c79172ba9bd.csv\")\n",
    "test4.to_csv(\"../data/predictions_test_cdde7a391d0c423499b64ccdf5ec941a.csv\")\n",
    "gu4.to_csv(\"../data/predictions_GU_cdde7a391d0c423499b64ccdf5ec941a.csv\")"
   ]
  },
  {
   "cell_type": "markdown",
   "metadata": {},
   "source": [
    "mc cp data/predictions_test_cdde7a391d0c423499b64ccdf5ec941a.csv minio/projet-ape/data/predictions_test_cdde7a391d0c423499b64ccdf5ec941a.csv\n",
    "\n",
    "mc cp data/predictions_GU_cdde7a391d0c423499b64ccdf5ec941a.csv minio/projet-ape/data/predictions_GU_cdde7a391d0c423499b64ccdf5ec941a.csv"
   ]
  },
  {
   "cell_type": "markdown",
   "metadata": {},
   "source": []
  }
 ],
 "metadata": {
  "interpreter": {
   "hash": "ed5946f2a0d3f5e934efd92075c2a89b2cb5130d0efd6e4509a568bedf48ed26"
  },
  "kernelspec": {
   "display_name": "Python 3.10.4 ('basesspcloud')",
   "language": "python",
   "name": "python3"
  },
  "language_info": {
   "codemirror_mode": {
    "name": "ipython",
    "version": 3
   },
   "file_extension": ".py",
   "mimetype": "text/x-python",
   "name": "python",
   "nbconvert_exporter": "python",
   "pygments_lexer": "ipython3",
   "version": "3.10.4"
  },
  "orig_nbformat": 4
 },
 "nbformat": 4,
 "nbformat_minor": 2
}
