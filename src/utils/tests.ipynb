{
 "cells": [
  {
   "cell_type": "code",
   "execution_count": null,
   "metadata": {},
   "outputs": [],
   "source": [
    "import os\n",
    "import sys\n",
    "\n",
    "import numpy as np\n",
    "import pandas as pd\n",
    "\n",
    "from framework_classes import PREPROCESSORS\n",
    "from utils.data import get_all_data, get_df_naf, get_Y\n",
    "\n",
    "%load_ext autoreload\n",
    "%autoreload 2"
   ]
  },
  {
   "cell_type": "code",
   "execution_count": null,
   "metadata": {},
   "outputs": [],
   "source": [
    "import json\n",
    "\n",
    "mappings = {}\n",
    "for key in [\"apet_finale\", \"CJ\", \"CRT\", \"NAT\", \"TYP\"]:\n",
    "\n",
    "    file = f\"../../data/mappings/{key}_mapping.json\"\n",
    "    with open(file, \"r\") as f:\n",
    "        mappings[key] = json.load(f)"
   ]
  },
  {
   "cell_type": "code",
   "execution_count": null,
   "metadata": {},
   "outputs": [],
   "source": [
    "revision = \"NAF2008\"\n",
    "model_class = \"torchFastText\"\n",
    "start_month = 1\n",
    "start_year = 2018\n",
    "text_feature = \"libelle\"\n",
    "textual_features_1 = \"NAT_LIB\"\n",
    "textual_features_2 = \"AGRI\"\n",
    "categorical_features_1 = \"TYP\"\n",
    "categorical_features_2 = \"NAT\"\n",
    "categorical_features_3 = \"SRF\"\n",
    "categorical_features_4 = \"CJ\"\n",
    "categorical_features_5 = \"CRT\""
   ]
  },
  {
   "cell_type": "code",
   "execution_count": null,
   "metadata": {},
   "outputs": [],
   "source": [
    "Y = get_Y(revision=revision)\n",
    "params = {\n",
    "    key: value\n",
    "    for key, value in locals().items()\n",
    "    if (\n",
    "        key\n",
    "        not in [\n",
    "            \"remote_server_uri\",\n",
    "            \"experiment_name\",\n",
    "            \"run_name\",\n",
    "            \"revision\",\n",
    "            \"Y\",\n",
    "            \"model_class\",\n",
    "            \"text_feature\",\n",
    "            \"pre_training_weights\",\n",
    "            \"start_month\",\n",
    "            \"start_year\",\n",
    "        ]\n",
    "    )\n",
    "    and not key.startswith(\"textual_features\")\n",
    "    and not key.startswith(\"categorical_features\")\n",
    "    and not key.startswith(\"embedding_dim\")\n",
    "}\n",
    "params[\"thread\"] = os.cpu_count()\n",
    "textual_features = [value for key, value in locals().items() if key.startswith(\"textual_features_\")]\n",
    "categorical_features = [\n",
    "    value for key, value in locals().items() if key.startswith(\"categorical_features_\")\n",
    "]\n",
    "embedding_dims = [value for key, value in locals().items() if key.startswith(\"embedding_dim\")]"
   ]
  },
  {
   "cell_type": "code",
   "execution_count": null,
   "metadata": {},
   "outputs": [],
   "source": [
    "# Load data\n",
    "# Sirene 4\n",
    "df_s3, df_s4 = get_all_data(revision=revision, start_month=start_month, start_year=start_year)\n",
    "# Detailed NAF\n",
    "df_naf = get_df_naf(revision=revision)"
   ]
  },
  {
   "cell_type": "code",
   "execution_count": null,
   "metadata": {},
   "outputs": [],
   "source": [
    "df_s4_samp = df_s4.sample(frac=0.01)\n",
    "df_s3_samp = df_s3.sample(frac=0.01)"
   ]
  },
  {
   "cell_type": "code",
   "execution_count": null,
   "metadata": {},
   "outputs": [],
   "source": [
    "preprocessor = PREPROCESSORS[\"PyTorch\"]()"
   ]
  },
  {
   "cell_type": "code",
   "execution_count": null,
   "metadata": {},
   "outputs": [],
   "source": [
    "# Preprocess data\n",
    "# Sirene 4\n",
    "# df_train_s4, df_val_s4, df_test = preprocessor.preprocess(\n",
    "#     df=df_s4_samp,\n",
    "#     df_naf=df_naf,\n",
    "#     y=Y,\n",
    "#     text_feature=text_feature,\n",
    "#     textual_features=textual_features,\n",
    "#     categorical_features=categorical_features,\n",
    "#     test_size=0.1,\n",
    "# )\n",
    "df_train_s4  = preprocessor.preprocess(\n",
    "    df=df_s4_samp,\n",
    "    df_naf=df_naf,\n",
    "    y=Y,\n",
    "    text_feature=text_feature,\n",
    "    textual_features=textual_features,\n",
    "    categorical_features=categorical_features,\n",
    "    test_size=0.1,\n",
    "    mapping=True\n",
    ")\n",
    "# # Get test_data from LabelStudio\n",
    "# df_test_ls = pd.concat(\n",
    "#     preprocessor.preprocess(\n",
    "#         get_test_data(revision=revision, y=Y),\n",
    "#         df_naf,\n",
    "#         Y,\n",
    "#         text_feature,\n",
    "#         textual_features,\n",
    "#         categorical_features,\n",
    "#         add_codes=False,\n",
    "#     ),\n",
    "#     axis=0,\n",
    "# )\n",
    "# Sirene 3\n",
    "# if df_s3.empty:\n",
    "#     df_train = df_train_s4\n",
    "# else:\n",
    "#     df_train_s3, df_val_s3, df_test_s3 = preprocessor.preprocess(\n",
    "#         df_s3_samp, df_naf, Y, text_feature, textual_features, categorical_features, recase=True, s3=True\n",
    "#     )\n",
    "#     # All train data together\n",
    "#     df_s3_processed = pd.concat([df_train_s3, df_val_s3, df_test_s3])\n",
    "#     df_train = pd.concat([df_s3_processed, df_train_s4], axis=0).reset_index(drop=True)\n",
    "\n",
    "df_train = df_train_s4\n",
    "#df_val = df_val_s4"
   ]
  },
  {
   "cell_type": "code",
   "execution_count": null,
   "metadata": {},
   "outputs": [],
   "source": [
    "df_train_s4[categorical_features].isna().sum()"
   ]
  },
  {
   "cell_type": "code",
   "execution_count": null,
   "metadata": {},
   "outputs": [],
   "source": [
    "import json\n",
    "\n",
    "for variable in categorical_features:\n",
    "    sorted_by_count_unique_values = df_train_s4[variable].value_counts()\n",
    "    mapping = {k: v for v, k in enumerate(sorted_by_count_unique_values.index)}\n",
    "\n",
    "    #save in json\n",
    "    with open(f\"../data/mappings/{variable}_mapping.json\", \"w\") as f:\n",
    "        json.dump(mapping, f, indent=3)"
   ]
  },
  {
   "cell_type": "code",
   "execution_count": null,
   "metadata": {},
   "outputs": [],
   "source": [
    "df_train_s4[df_train_s4[\"CJ\"].isna()]"
   ]
  },
  {
   "cell_type": "code",
   "execution_count": null,
   "metadata": {},
   "outputs": [],
   "source": [
    "train_text, train_categorical_variables = (\n",
    "    df_train[text_feature].values,\n",
    "    df_train[categorical_features].values,\n",
    ")\n",
    "val_text, val_categorical_variables = (\n",
    "    df_val[text_feature].values,\n",
    "    df_val[categorical_features].values,\n",
    ")"
   ]
  },
  {
   "cell_type": "code",
   "execution_count": null,
   "metadata": {},
   "outputs": [],
   "source": [
    "df_train[Y].isna().sum()"
   ]
  },
  {
   "cell_type": "code",
   "execution_count": null,
   "metadata": {},
   "outputs": [],
   "source": [
    "train_categorical_variables"
   ]
  },
  {
   "cell_type": "code",
   "execution_count": null,
   "metadata": {},
   "outputs": [],
   "source": [
    "(train_categorical_variables == np.nan).sum()"
   ]
  },
  {
   "cell_type": "code",
   "execution_count": null,
   "metadata": {},
   "outputs": [],
   "source": [
    "categorical_vocab_sizes = np.max(train_categorical_variables, axis=0) + 1\n",
    "print(\"cat \", categorical_vocab_sizes)"
   ]
  }
 ],
 "metadata": {
  "kernelspec": {
   "display_name": "base",
   "language": "python",
   "name": "python3"
  },
  "language_info": {
   "codemirror_mode": {
    "name": "ipython",
    "version": 3
   },
   "file_extension": ".py",
   "mimetype": "text/x-python",
   "name": "python",
   "nbconvert_exporter": "python",
   "pygments_lexer": "ipython3",
   "version": "3.12.7"
  }
 },
 "nbformat": 4,
 "nbformat_minor": 2
}
