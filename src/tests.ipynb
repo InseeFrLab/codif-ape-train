{
 "cells": [
  {
   "cell_type": "code",
   "execution_count": null,
   "metadata": {},
   "outputs": [],
   "source": [
    "import os\n",
    "\n",
    "import pandas as pd\n",
    "\n",
    "from constants import FRAMEWORK_CLASSES\n",
    "from utils.data import get_all_data, get_df_naf, get_Y\n",
    "\n",
    "%load_ext autoreload\n",
    "%autoreload 2"
   ]
  },
  {
   "cell_type": "code",
   "execution_count": null,
   "metadata": {},
   "outputs": [],
   "source": [
    "import sys\n",
    "\n",
    "# Get the absolute path to the project root directory\n",
    "project_root = os.getcwd()  # or adjust if notebook is in a subdirectory\n",
    "\n",
    "# Add both the torch-fastText root and the specific package directory\n",
    "sys.path.append(os.path.join(project_root, \"../torch-fastText\"))\n",
    "sys.path.append(os.path.join(project_root, \"../torch-fastText\", \"torchFastText\"))\n",
    "\n",
    "# For debugging, you can print the sys.path to verify:\n",
    "print(\"Python path:\", sys.path)\n",
    "\n",
    "# Now try importing"
   ]
  },
  {
   "cell_type": "code",
   "execution_count": null,
   "metadata": {},
   "outputs": [],
   "source": [
    "revision = \"NAF2008\"\n",
    "model_class = \"torchFastText\"\n",
    "start_month = 1\n",
    "start_year = 2018\n",
    "text_feature = \"libelle\"\n",
    "textual_features_1 = \"NAT_LIB\"\n",
    "textual_features_2 = \"AGRI\"\n",
    "categorical_features_1 = \"TYP\"\n",
    "categorical_features_2 = \"NAT\"\n",
    "categorical_features_3 = \"SRF\"\n",
    "categorical_features_4 = \"CJ\"\n",
    "categorical_features_5 = \"CRT\""
   ]
  },
  {
   "cell_type": "code",
   "execution_count": null,
   "metadata": {},
   "outputs": [],
   "source": [
    "Y = get_Y(revision=revision)\n",
    "params = {\n",
    "    key: value\n",
    "    for key, value in locals().items()\n",
    "    if (\n",
    "        key\n",
    "        not in [\n",
    "            \"remote_server_uri\",\n",
    "            \"experiment_name\",\n",
    "            \"run_name\",\n",
    "            \"revision\",\n",
    "            \"Y\",\n",
    "            \"model_class\",\n",
    "            \"text_feature\",\n",
    "            \"pre_training_weights\",\n",
    "            \"start_month\",\n",
    "            \"start_year\",\n",
    "        ]\n",
    "    )\n",
    "    and not key.startswith(\"textual_features\")\n",
    "    and not key.startswith(\"categorical_features\")\n",
    "    and not key.startswith(\"embedding_dim\")\n",
    "}\n",
    "params[\"thread\"] = os.cpu_count()\n",
    "textual_features = [value for key, value in locals().items() if key.startswith(\"textual_features_\")]\n",
    "categorical_features = [\n",
    "    value for key, value in locals().items() if key.startswith(\"categorical_features_\")\n",
    "]\n",
    "embedding_dims = [value for key, value in locals().items() if key.startswith(\"embedding_dim\")]"
   ]
  },
  {
   "cell_type": "code",
   "execution_count": null,
   "metadata": {},
   "outputs": [],
   "source": [
    "textual_features"
   ]
  },
  {
   "cell_type": "code",
   "execution_count": null,
   "metadata": {},
   "outputs": [],
   "source": [
    "framework_classes = FRAMEWORK_CLASSES[model_class]\n",
    "\n",
    "preprocessor = framework_classes[\"preprocessor\"]()\n",
    "\n",
    "# Load data\n",
    "# Sirene 4\n",
    "df_s3, df_s4 = get_all_data(revision=revision, start_month=start_month, start_year=start_year)\n",
    "# Detailed NAF\n",
    "df_naf = get_df_naf(revision=revision)"
   ]
  },
  {
   "cell_type": "code",
   "execution_count": null,
   "metadata": {},
   "outputs": [],
   "source": [
    "# Preprocess data\n",
    "# Sirene 4\n",
    "df_train_s4, df_val_s4, df_test = preprocessor.preprocess(\n",
    "    df=df_s4,\n",
    "    df_naf=df_naf,\n",
    "    y=Y,\n",
    "    text_feature=text_feature,\n",
    "    textual_features=textual_features,\n",
    "    categorical_features=categorical_features,\n",
    "    test_size=0.1,\n",
    ")\n",
    "# # Get test_data from LabelStudio\n",
    "# df_test_ls = pd.concat(\n",
    "#     preprocessor.preprocess(\n",
    "#         get_test_data(revision=revision, y=Y),\n",
    "#         df_naf,\n",
    "#         Y,\n",
    "#         text_feature,\n",
    "#         textual_features,\n",
    "#         categorical_features,\n",
    "#         add_codes=False,\n",
    "#     ),\n",
    "#     axis=0,\n",
    "# )\n",
    "# Sirene 3\n",
    "if df_s3.empty:\n",
    "    df_train = df_train_s4\n",
    "else:\n",
    "    df_train_s3 = pd.concat(\n",
    "        preprocessor.preprocess(\n",
    "            df_s3,\n",
    "            df_naf,\n",
    "            Y,\n",
    "            text_feature,\n",
    "            textual_features,\n",
    "            categorical_features,\n",
    "            recase=True,\n",
    "        ),\n",
    "        axis=0,\n",
    "    )\n",
    "    # All train data together\n",
    "    df_train = pd.concat([df_train_s3, df_train_s4], axis=0).reset_index(drop=True)\n",
    "# Shuffle in case it is not done later\n",
    "df_train = df_train.sample(frac=1)"
   ]
  },
  {
   "cell_type": "code",
   "execution_count": null,
   "metadata": {},
   "outputs": [],
   "source": [
    "df_train"
   ]
  }
 ],
 "metadata": {
  "kernelspec": {
   "display_name": "base",
   "language": "python",
   "name": "python3"
  },
  "language_info": {
   "codemirror_mode": {
    "name": "ipython",
    "version": 3
   },
   "file_extension": ".py",
   "mimetype": "text/x-python",
   "name": "python",
   "nbconvert_exporter": "python",
   "pygments_lexer": "ipython3",
   "version": "3.12.7"
  }
 },
 "nbformat": 4,
 "nbformat_minor": 2
}
