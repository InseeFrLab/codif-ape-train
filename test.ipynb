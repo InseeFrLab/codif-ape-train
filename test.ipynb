{
 "cells": [
  {
   "cell_type": "code",
   "execution_count": null,
   "metadata": {},
   "outputs": [],
   "source": [
    "import os\n",
    "import sys\n",
    "\n",
    "sys.path.append(os.path.abspath(\"src/\"))\n",
    "\n",
    "import logging\n",
    "import time\n",
    "from pathlib import Path\n",
    "\n",
    "import hydra\n",
    "import matplotlib.pyplot as plt\n",
    "import mlflow\n",
    "import numpy as np\n",
    "import pandas as pd\n",
    "import torch\n",
    "import yaml\n",
    "from giskard import Dataset, Model, scan, testing\n",
    "from hydra import initialize_config_dir\n",
    "from joblib import Memory\n",
    "from omegaconf import DictConfig, OmegaConf\n",
    "from sklearn.metrics import accuracy_score\n",
    "from torch import nn\n",
    "from torch.utils.data import DataLoader\n",
    "from torch.utils.data.dataset import random_split\n",
    "from torchFastText.datasets import FastTextModelDataset\n",
    "\n",
    "from src.datasets import SoftClassifDataset, TextClassificationDataModule\n",
    "from src.utils.evaluation import get_inv_mapping\n",
    "\n",
    "%load_ext autoreload\n",
    "%autoreload 2"
   ]
  },
  {
   "cell_type": "code",
   "execution_count": null,
   "metadata": {},
   "outputs": [],
   "source": [
    "import os\n",
    "\n",
    "import mlflow\n",
    "\n",
    "os.environ['MLFLOW_TRACKING_URI'] = \"https://projet-ape-mlflow.user.lab.sspcloud.fr/\" \n",
    "model_name = \"FastText-pytorch-2025\"\n",
    "module = mlflow.pytorch.load_model(f\"models:/{model_name}/2\")"
   ]
  },
  {
   "cell_type": "code",
   "execution_count": null,
   "metadata": {},
   "outputs": [],
   "source": [
    "import pandas as pd\n",
    "\n",
    "input_data = pd.DataFrame([\n",
    "    {\n",
    "        \"description_activity\": \"Coiffure\",\n",
    "        \"other_nature_activity\": None,\n",
    "        \"precision_act_sec_agricole\": None,\n",
    "        \"type_form\": None,\n",
    "        \"nature\": None,\n",
    "        \"surface\": None,\n",
    "        \"cj\": None,\n",
    "        \"activity_permanence_status\": None\n",
    "    }\n",
    "])\n",
    "# Create params dictionary\n",
    "params_dict = {\n",
    "    \"nb_echos_max\": 5,\n",
    "    \"prob_min\": 0.00,\n",
    "    \"dataloader_params\":\n",
    "    {\n",
    "        \"pin_memory\": False,\n",
    "        \"persistent_workers\": False,\n",
    "        \"num_workers\": 0,\n",
    "        \"batch_size\": 1,\n",
    "    }\n",
    "}\n",
    "\n",
    "module.predict(input_data, params=params_dict)  # Merge with run parameters"
   ]
  }
 ],
 "metadata": {
  "kernelspec": {
   "display_name": ".venv",
   "language": "python",
   "name": "python3"
  },
  "language_info": {
   "codemirror_mode": {
    "name": "ipython",
    "version": 3
   },
   "file_extension": ".py",
   "mimetype": "text/x-python",
   "name": "python",
   "nbconvert_exporter": "python",
   "pygments_lexer": "ipython3",
   "version": "3.12.9"
  }
 },
 "nbformat": 4,
 "nbformat_minor": 2
}
