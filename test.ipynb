{
 "cells": [
  {
   "cell_type": "code",
   "execution_count": null,
   "metadata": {},
   "outputs": [],
   "source": [
    "import os\n",
    "import sys\n",
    "\n",
    "sys.path.append(os.path.abspath(\"src/\"))\n",
    "\n",
    "import logging\n",
    "from pathlib import Path\n",
    "\n",
    "import hydra\n",
    "import matplotlib.pyplot as plt\n",
    "import mlflow\n",
    "import numpy as np\n",
    "import pandas as pd\n",
    "import torch\n",
    "import yaml\n",
    "from hydra import initialize_config_dir\n",
    "from joblib import Memory\n",
    "from omegaconf import DictConfig, OmegaConf\n",
    "from torchFastText.datasets import FastTextModelDataset\n",
    "\n",
    "from src.api.constants import VALID_ACTIV_PERM, VALID_SURFACE, VALID_TYPE_FORM\n",
    "from src.api.mlflow_wrapper import MLFlowPyTorchWrapper\n",
    "from src.api.models import Prediction, PredictionResponse, SingleForm\n",
    "from src.datasets import SoftClassifDataset, TextClassificationDataModule\n",
    "from src.utils.evaluation import get_inv_mapping\n",
    "\n",
    "%load_ext autoreload\n",
    "%autoreload 2"
   ]
  },
  {
   "cell_type": "code",
   "execution_count": null,
   "metadata": {},
   "outputs": [],
   "source": [
    "import os\n",
    "\n",
    "import mlflow\n",
    "\n",
    "os.environ['MLFLOW_TRACKING_URI'] = \"https://projet-ape-mlflow.user.lab.sspcloud.fr/\" \n",
    "model_name = \"test_wrapper_pytorch\"\n",
    "module = mlflow.pyfunc.load_model(f\"models:/{model_name}/latest\")\n",
    "# run_id = \"d6f7599fc1f64f819a359bdb0046ac2b\"\n",
    "\n",
    "# logged_model = f'runs:/{run_id}/pytorch_model/'\n",
    "# module = mlflow.pytorch.load_model(logged_model, map_location=torch.device('cpu'))"
   ]
  },
  {
   "cell_type": "code",
   "execution_count": null,
   "metadata": {},
   "outputs": [],
   "source": [
    "import pandas as pd\n",
    "\n",
    "input_data = pd.DataFrame([\n",
    "    {\n",
    "        \"description_activity\": \"Coiffure\",\n",
    "        \"other_nature_activity\": None,\n",
    "        \"precision_act_sec_agricole\": None,\n",
    "        \"type_form\": None,\n",
    "        \"nature\": None,\n",
    "        \"surface\": None,\n",
    "        \"cj\": None,\n",
    "        \"activity_permanence_status\": None\n",
    "    }\n",
    "])\n",
    "# Create params dictionary\n",
    "params_dict = {\n",
    "'nb_echos_max': 5,\n",
    "'prob_min': 0.00,\n",
    "}\n",
    "\n",
    "module.predict(input_data, params=params_dict)  # Merge with run parameters"
   ]
  }
 ],
 "metadata": {
  "kernelspec": {
   "display_name": ".venv",
   "language": "python",
   "name": "python3"
  },
  "language_info": {
   "codemirror_mode": {
    "name": "ipython",
    "version": 3
   },
   "file_extension": ".py",
   "mimetype": "text/x-python",
   "name": "python",
   "nbconvert_exporter": "python",
   "pygments_lexer": "ipython3",
   "version": "3.12.9"
  }
 },
 "nbformat": 4,
 "nbformat_minor": 2
}
