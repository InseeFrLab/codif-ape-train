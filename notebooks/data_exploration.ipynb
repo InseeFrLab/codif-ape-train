{
 "cells": [
  {
   "cell_type": "markdown",
   "id": "8549431c-6a29-4f96-a18d-4d123c8dd243",
   "metadata": {},
   "source": [
    "# Exploration des données de Sirene"
   ]
  },
  {
   "cell_type": "markdown",
   "id": "e50d3691-bd39-4880-a198-a71ad8f56a99",
   "metadata": {},
   "source": [
    "Nous disposons de deux jeux de données :\n",
    "- `LIBELLES_POCAPE.csv` : jeu d'entraînement ;\n",
    "- `JEU_EVALUATION` : jeu de test ou d'évaluation ;"
   ]
  },
  {
   "cell_type": "markdown",
   "id": "385752fc-3805-478a-91dc-88420d402456",
   "metadata": {},
   "source": [
    "## Chargement des données"
   ]
  },
  {
   "cell_type": "code",
   "execution_count": 1,
   "id": "aa9ee43e-b8d9-4c5f-8b60-6512c958a173",
   "metadata": {},
   "outputs": [
    {
     "ename": "ModuleNotFoundError",
     "evalue": "No module named 'src'",
     "output_type": "error",
     "traceback": [
      "\u001b[0;31m---------------------------------------------------------------------------\u001b[0m",
      "\u001b[0;31mModuleNotFoundError\u001b[0m                       Traceback (most recent call last)",
      "\u001b[0;32m/tmp/ipykernel_2291/295116534.py\u001b[0m in \u001b[0;36m<module>\u001b[0;34m\u001b[0m\n\u001b[0;32m----> 1\u001b[0;31m \u001b[0;32mfrom\u001b[0m \u001b[0msrc\u001b[0m\u001b[0;34m.\u001b[0m\u001b[0mFileSystem\u001b[0m \u001b[0;32mimport\u001b[0m \u001b[0mFileSystem\u001b[0m\u001b[0;34m\u001b[0m\u001b[0;34m\u001b[0m\u001b[0m\n\u001b[0m\u001b[1;32m      2\u001b[0m \u001b[0;34m\u001b[0m\u001b[0m\n\u001b[1;32m      3\u001b[0m \u001b[0mfs\u001b[0m \u001b[0;34m=\u001b[0m \u001b[0mFileSystem\u001b[0m\u001b[0;34m(\u001b[0m\u001b[0;34m)\u001b[0m\u001b[0;34m.\u001b[0m\u001b[0mget_file_system\u001b[0m\u001b[0;34m(\u001b[0m\u001b[0;34m)\u001b[0m\u001b[0;34m\u001b[0m\u001b[0;34m\u001b[0m\u001b[0m\n",
      "\u001b[0;31mModuleNotFoundError\u001b[0m: No module named 'src'"
     ]
    }
   ],
   "source": [
    "from src.FileSystem import FileSystem\n",
    "\n",
    "fs = FileSystem().get_file_system()"
   ]
  },
  {
   "cell_type": "code",
   "execution_count": null,
   "id": "04c45d53-f813-4c9e-9a73-4152e5a79f86",
   "metadata": {},
   "outputs": [],
   "source": []
  }
 ],
 "metadata": {
  "kernelspec": {
   "display_name": "Python 3 (ipykernel)",
   "language": "python",
   "name": "python3"
  },
  "language_info": {
   "codemirror_mode": {
    "name": "ipython",
    "version": 3
   },
   "file_extension": ".py",
   "mimetype": "text/x-python",
   "name": "python",
   "nbconvert_exporter": "python",
   "pygments_lexer": "ipython3",
   "version": "3.9.7"
  }
 },
 "nbformat": 4,
 "nbformat_minor": 5
}
