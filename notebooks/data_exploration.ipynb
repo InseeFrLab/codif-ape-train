{
 "cells": [
  {
   "cell_type": "markdown",
   "id": "8549431c-6a29-4f96-a18d-4d123c8dd243",
   "metadata": {},
   "source": [
    "# Exploration des données de Sirene"
   ]
  },
  {
   "cell_type": "markdown",
   "id": "e50d3691-bd39-4880-a198-a71ad8f56a99",
   "metadata": {},
   "source": [
    "Nous disposons de deux jeux de données :\n",
    "- `LIBELLES_POCAPE.csv` : jeu d'entraînement ;\n",
    "- `JEU_EVALUATION` : jeu de test ou d'évaluation ;"
   ]
  },
  {
   "cell_type": "markdown",
   "id": "385752fc-3805-478a-91dc-88420d402456",
   "metadata": {},
   "source": [
    "## Chargement des données"
   ]
  },
  {
   "cell_type": "code",
   "execution_count": 6,
   "id": "aa9ee43e-b8d9-4c5f-8b60-6512c958a173",
   "metadata": {},
   "outputs": [],
   "source": [
    "import pandas as pd\n",
    "\n",
    "df = pd.read_csv(\"../data/LIBELLES_POCAPE.csv\", sep=\";\")"
   ]
  },
  {
   "cell_type": "code",
   "execution_count": 7,
   "id": "66ad3137-4bc1-4c6d-983c-bf7dfa88c87e",
   "metadata": {},
   "outputs": [
    {
     "data": {
      "text/html": [
       "<div>\n",
       "<style scoped>\n",
       "    .dataframe tbody tr th:only-of-type {\n",
       "        vertical-align: middle;\n",
       "    }\n",
       "\n",
       "    .dataframe tbody tr th {\n",
       "        vertical-align: top;\n",
       "    }\n",
       "\n",
       "    .dataframe thead th {\n",
       "        text-align: right;\n",
       "    }\n",
       "</style>\n",
       "<table border=\"1\" class=\"dataframe\">\n",
       "  <thead>\n",
       "    <tr style=\"text-align: right;\">\n",
       "      <th></th>\n",
       "      <th>NumeroLiasse</th>\n",
       "      <th>LIBELLE</th>\n",
       "      <th>NATURE</th>\n",
       "      <th>SEDENTARITE</th>\n",
       "      <th>CODE</th>\n",
       "      <th>auto</th>\n",
       "      <th>EVT</th>\n",
       "      <th>CPRO</th>\n",
       "    </tr>\n",
       "  </thead>\n",
       "  <tbody>\n",
       "    <tr>\n",
       "      <th>0</th>\n",
       "      <td>A00990001491</td>\n",
       "      <td>PROJET HUMANITAIRE DANS LE BUT DE CONSTRUIRE E...</td>\n",
       "      <td>NR</td>\n",
       "      <td>N</td>\n",
       "      <td>9499Z</td>\n",
       "      <td>S</td>\n",
       "      <td>1</td>\n",
       "      <td>M</td>\n",
       "    </tr>\n",
       "    <tr>\n",
       "      <th>1</th>\n",
       "      <td>A00990001509</td>\n",
       "      <td>EDUCATION  RECHERCHE ET ENSEIGNEMENT EN NEUROR...</td>\n",
       "      <td>NR</td>\n",
       "      <td>N</td>\n",
       "      <td>7219Z</td>\n",
       "      <td>S</td>\n",
       "      <td>1</td>\n",
       "      <td>M</td>\n",
       "    </tr>\n",
       "    <tr>\n",
       "      <th>2</th>\n",
       "      <td>A00990001517</td>\n",
       "      <td>ORGANISER UN STAGE HUMANITAIRE AU CAMBODGE</td>\n",
       "      <td>NR</td>\n",
       "      <td>N</td>\n",
       "      <td>9499Z</td>\n",
       "      <td>S</td>\n",
       "      <td>1</td>\n",
       "      <td>M</td>\n",
       "    </tr>\n",
       "    <tr>\n",
       "      <th>3</th>\n",
       "      <td>A00990001525</td>\n",
       "      <td>AIDE LOGISTIQUE ET FINANCIERE POUR DES PILOTES...</td>\n",
       "      <td>NR</td>\n",
       "      <td>N</td>\n",
       "      <td>9319Z</td>\n",
       "      <td>S</td>\n",
       "      <td>1</td>\n",
       "      <td>M</td>\n",
       "    </tr>\n",
       "    <tr>\n",
       "      <th>4</th>\n",
       "      <td>A00990001533</td>\n",
       "      <td>ACCOMPAGNER LES PERSONNES AU DEVELOPPEMENT DE ...</td>\n",
       "      <td>NR</td>\n",
       "      <td>N</td>\n",
       "      <td>8299Z</td>\n",
       "      <td>S</td>\n",
       "      <td>1</td>\n",
       "      <td>M</td>\n",
       "    </tr>\n",
       "  </tbody>\n",
       "</table>\n",
       "</div>"
      ],
      "text/plain": [
       "   NumeroLiasse                                            LIBELLE NATURE  \\\n",
       "0  A00990001491  PROJET HUMANITAIRE DANS LE BUT DE CONSTRUIRE E...     NR   \n",
       "1  A00990001509  EDUCATION  RECHERCHE ET ENSEIGNEMENT EN NEUROR...     NR   \n",
       "2  A00990001517         ORGANISER UN STAGE HUMANITAIRE AU CAMBODGE     NR   \n",
       "3  A00990001525  AIDE LOGISTIQUE ET FINANCIERE POUR DES PILOTES...     NR   \n",
       "4  A00990001533  ACCOMPAGNER LES PERSONNES AU DEVELOPPEMENT DE ...     NR   \n",
       "\n",
       "  SEDENTARITE   CODE auto  EVT CPRO  \n",
       "0           N  9499Z    S    1    M  \n",
       "1           N  7219Z    S    1    M  \n",
       "2           N  9499Z    S    1    M  \n",
       "3           N  9319Z    S    1    M  \n",
       "4           N  8299Z    S    1    M  "
      ]
     },
     "execution_count": 7,
     "metadata": {},
     "output_type": "execute_result"
    }
   ],
   "source": [
    "df.head()"
   ]
  },
  {
   "cell_type": "markdown",
   "id": "fb52a3c3-ff05-44f7-9452-98bddaf91cac",
   "metadata": {},
   "source": [
    "Les variables du jeu de données sont les suivantes :\n",
    "- numeroLiasse : Identifiant de la liasse ;\n",
    "- LIBELLE : Libellé déclaré  ;\n",
    "- NATURE : Nature de l'activité (NR si non renseignée) ;\n",
    "- SEDENTARITE : Caractère sédentaire ou non de l'activité (modalité N lorsque l'activité est sédentaire sinon A pour ambulant et F pour forain) ;\n",
    "- CODE : Code APE déterminé pour le libellé d'activité (soit automatiquement, soit par le gestionnaire) ;\n",
    "- auto : Type de liasse ;\n",
    "- EVT : Code événement ;\n",
    "- CPRO : Type de personne (personne physique, personne morale ou exploitation en commun)."
   ]
  },
  {
   "cell_type": "markdown",
   "id": "9d11e7fa-2981-44e6-9a72-b83903e45dc5",
   "metadata": {},
   "source": [
    "## Statistiques descriptives "
   ]
  },
  {
   "cell_type": "code",
   "execution_count": 8,
   "id": "d0e5a777-cdf2-49ad-86d0-625363635ca5",
   "metadata": {},
   "outputs": [
    {
     "data": {
      "text/plain": [
       "1444829"
      ]
     },
     "execution_count": 8,
     "metadata": {},
     "output_type": "execute_result"
    }
   ],
   "source": [
    "len(df)"
   ]
  },
  {
   "cell_type": "markdown",
   "id": "88cd459d-6dfa-4f3b-af98-e93b2986fd17",
   "metadata": {},
   "source": [
    "Le jeu de données comporte 1.44M d'observations."
   ]
  },
  {
   "cell_type": "code",
   "execution_count": 21,
   "id": "be04cbe5-f564-417c-9e74-a0db56152c50",
   "metadata": {},
   "outputs": [
    {
     "data": {
      "text/plain": [
       "0"
      ]
     },
     "execution_count": 21,
     "metadata": {},
     "output_type": "execute_result"
    }
   ],
   "source": [
    "df.duplicated().sum()"
   ]
  },
  {
   "cell_type": "markdown",
   "id": "3d2406bf-cad2-4ca1-a963-32fa86ee4513",
   "metadata": {},
   "source": [
    "### Nature de l'activité"
   ]
  },
  {
   "cell_type": "code",
   "execution_count": 16,
   "id": "34cf6cbd-50ab-4ccf-9cd0-8276ceec4df5",
   "metadata": {},
   "outputs": [
    {
     "data": {
      "text/plain": [
       "[Text(0.5, 0, \"Nature de l'activité\"), Text(0, 0.5, \"Nombre d'établissements\")]"
      ]
     },
     "execution_count": 16,
     "metadata": {},
     "output_type": "execute_result"
    },
    {
     "data": {
      "image/png": "[encoded data removed]",
      "text/plain": [
       "<Figure size 842.4x595.44 with 1 Axes>"
      ]
     },
     "metadata": {},
     "output_type": "display_data"
    }
   ],
   "source": [
    "import seaborn as sns\n",
    "\n",
    "sns.set_theme(style=\"whitegrid\")\n",
    "sns.set(rc={\"figure.figsize\": (11.7, 8.27)})\n",
    "\n",
    "ax = sns.countplot(x=\"NATURE\", data=df)\n",
    "ax.set(xlabel=\"Nature de l'activité\", ylabel=\"Nombre d'établissements\")"
   ]
  },
  {
   "cell_type": "markdown",
   "id": "eb0fe9f9-866b-426a-a7fb-d0592b54eefc",
   "metadata": {},
   "source": [
    "### Sédentarité"
   ]
  },
  {
   "cell_type": "code",
   "execution_count": 17,
   "id": "19bba7f1-8da5-4fc1-b99a-aff45b92dbd3",
   "metadata": {},
   "outputs": [
    {
     "data": {
      "text/plain": [
       "[Text(0.5, 0, 'Sédentarité'), Text(0, 0.5, \"Nombre d'établissements\")]"
      ]
     },
     "execution_count": 17,
     "metadata": {},
     "output_type": "execute_result"
    },
    {
     "data": {
      "image/png": "[encoded data removed]",
      "text/plain": [
       "<Figure size 842.4x595.44 with 1 Axes>"
      ]
     },
     "metadata": {},
     "output_type": "display_data"
    }
   ],
   "source": [
    "ax = sns.countplot(x=\"SEDENTARITE\", data=df)\n",
    "ax.set(xlabel=\"Sédentarité\", ylabel=\"Nombre d'établissements\")"
   ]
  },
  {
   "cell_type": "markdown",
   "id": "f0c6c676-0b2e-4ef3-9486-de3645bdd350",
   "metadata": {},
   "source": [
    "### Type de liasse"
   ]
  },
  {
   "cell_type": "code",
   "execution_count": 18,
   "id": "353ff26c-be0b-4fb3-92f7-e258b69015e0",
   "metadata": {},
   "outputs": [
    {
     "data": {
      "text/plain": [
       "[Text(0.5, 0, 'Type de liasse'), Text(0, 0.5, \"Nombre d'établissements\")]"
      ]
     },
     "execution_count": 18,
     "metadata": {},
     "output_type": "execute_result"
    },
    {
     "data": {
      "image/png": "[encoded data removed]",
      "text/plain": [
       "<Figure size 842.4x595.44 with 1 Axes>"
      ]
     },
     "metadata": {},
     "output_type": "display_data"
    }
   ],
   "source": [
    "ax = sns.countplot(x=\"auto\", data=df)\n",
    "ax.set(xlabel=\"Type de liasse\", ylabel=\"Nombre d'établissements\")"
   ]
  },
  {
   "cell_type": "markdown",
   "id": "7afb90f7-0ef2-4140-8217-e7eb7e327603",
   "metadata": {
    "tags": []
   },
   "source": [
    "### Code évènement"
   ]
  },
  {
   "cell_type": "code",
   "execution_count": 19,
   "id": "4ff7fc8f-1fbb-41f7-a0f4-c0d0799dcd2b",
   "metadata": {},
   "outputs": [
    {
     "data": {
      "text/plain": [
       "[Text(0.5, 0, 'Code évènement'), Text(0, 0.5, \"Nombre d'établissements\")]"
      ]
     },
     "execution_count": 19,
     "metadata": {},
     "output_type": "execute_result"
    },
    {
     "data": {
      "image/png": "[encoded data removed]",
      "text/plain": [
       "<Figure size 842.4x595.44 with 1 Axes>"
      ]
     },
     "metadata": {},
     "output_type": "display_data"
    }
   ],
   "source": [
    "ax = sns.countplot(x=\"EVT\", data=df)\n",
    "ax.set(xlabel=\"Code évènement\", ylabel=\"Nombre d'établissements\")"
   ]
  },
  {
   "cell_type": "markdown",
   "id": "51b10bb0-24af-4afa-8427-180da847b4cf",
   "metadata": {},
   "source": [
    "### Type de personne"
   ]
  },
  {
   "cell_type": "code",
   "execution_count": 20,
   "id": "982bce83-fb18-4367-b9c4-b6eb579b38a6",
   "metadata": {},
   "outputs": [
    {
     "data": {
      "text/plain": [
       "[Text(0.5, 0, 'Type de personne'), Text(0, 0.5, \"Nombre d'établissements\")]"
      ]
     },
     "execution_count": 20,
     "metadata": {},
     "output_type": "execute_result"
    },
    {
     "data": {
      "image/png": "[encoded data removed]",
      "text/plain": [
       "<Figure size 842.4x595.44 with 1 Axes>"
      ]
     },
     "metadata": {},
     "output_type": "display_data"
    }
   ],
   "source": [
    "ax = sns.countplot(x=\"CPRO\", data=df)\n",
    "ax.set(xlabel=\"Type de personne\", ylabel=\"Nombre d'établissements\")"
   ]
  },
  {
   "cell_type": "markdown",
   "id": "fe77f37f-b722-40b2-8455-366e899320e4",
   "metadata": {},
   "source": [
    "### Activité"
   ]
  },
  {
   "cell_type": "code",
   "execution_count": 23,
   "id": "42e4c96a-0887-467b-81f4-3abbfb1c8982",
   "metadata": {},
   "outputs": [
    {
     "data": {
      "text/plain": [
       "715"
      ]
     },
     "execution_count": 23,
     "metadata": {},
     "output_type": "execute_result"
    }
   ],
   "source": [
    "df[\"CODE\"].nunique()"
   ]
  },
  {
   "cell_type": "markdown",
   "id": "5a2af84b-a685-4e02-ae1d-4f9c8e9396fd",
   "metadata": {},
   "source": [
    "715 codes d'activité différents - il y a 732 sous-classes dans la NAF2."
   ]
  },
  {
   "cell_type": "code",
   "execution_count": 24,
   "id": "3a57acf3-6d07-42a1-a883-4974626135fb",
   "metadata": {},
   "outputs": [],
   "source": [
    "df[\"CODE_1\"] = df[\"CODE\"].str[:1]"
   ]
  },
  {
   "cell_type": "code",
   "execution_count": 25,
   "id": "74803a84-8030-433f-8c53-65a17fd9d35a",
   "metadata": {},
   "outputs": [
    {
     "data": {
      "text/plain": [
       "[Text(0.5, 0, \"Section d'activité\"), Text(0, 0.5, \"Nombre d'établissements\")]"
      ]
     },
     "execution_count": 25,
     "metadata": {},
     "output_type": "execute_result"
    },
    {
     "data": {
      "image/png": "[encoded data removed]",
      "text/plain": [
       "<Figure size 842.4x595.44 with 1 Axes>"
      ]
     },
     "metadata": {},
     "output_type": "display_data"
    }
   ],
   "source": [
    "ax = sns.countplot(x=\"CODE_1\", data=df)\n",
    "ax.set(xlabel=\"Section d'activité\", ylabel=\"Nombre d'établissements\")"
   ]
  },
  {
   "cell_type": "markdown",
   "id": "1fa21246-28f5-4e7d-9ccb-d7218d991213",
   "metadata": {},
   "source": [
    "### Libellé"
   ]
  },
  {
   "cell_type": "code",
   "execution_count": 29,
   "id": "e6e06a96-9ef8-4e09-97c0-666e588c1511",
   "metadata": {},
   "outputs": [
    {
     "data": {
      "text/plain": [
       "0     False\n",
       "1     False\n",
       "2     False\n",
       "3     False\n",
       "4     False\n",
       "5     False\n",
       "6     False\n",
       "7     False\n",
       "8     False\n",
       "9     False\n",
       "10     True\n",
       "11    False\n",
       "12    False\n",
       "13    False\n",
       "14    False\n",
       "15    False\n",
       "16    False\n",
       "17    False\n",
       "18     True\n",
       "19    False\n",
       "20     True\n",
       "21     True\n",
       "22    False\n",
       "23    False\n",
       "24     True\n",
       "25    False\n",
       "26    False\n",
       "27    False\n",
       "28     True\n",
       "29    False\n",
       "Name: LIBELLE, dtype: bool"
      ]
     },
     "execution_count": 29,
     "metadata": {},
     "output_type": "execute_result"
    }
   ],
   "source": [
    "df[\"LIBELLE\"].duplicated(keep=False).head(30)"
   ]
  },
  {
   "cell_type": "code",
   "execution_count": 27,
   "id": "99a90caf-331d-4345-aa8b-a945c5054dec",
   "metadata": {},
   "outputs": [
    {
     "data": {
      "text/plain": [
       "0     PROJET HUMANITAIRE DANS LE BUT DE CONSTRUIRE E...\n",
       "1     EDUCATION  RECHERCHE ET ENSEIGNEMENT EN NEUROR...\n",
       "2            ORGANISER UN STAGE HUMANITAIRE AU CAMBODGE\n",
       "3     AIDE LOGISTIQUE ET FINANCIERE POUR DES PILOTES...\n",
       "4     ACCOMPAGNER LES PERSONNES AU DEVELOPPEMENT DE ...\n",
       "5                  SOLIDARITE   ENTRAIDE DES MILITAIRES\n",
       "6     RASSEMBLEMENTS AVEC EXPOSITIONS ET ACCEUIL DE ...\n",
       "7                 ATTACHE A UNE ECOLE APRES DESIGNATION\n",
       "8            MANDATAIRE FINANCIER D ELECTION MUNICIPALE\n",
       "9                     SENSIBILISATION A L ENVIRONNEMENT\n",
       "10                                                SPORT\n",
       "11                   ACTION CARITATIVE ET COMMEMORATIVE\n",
       "12       RASSEMBLEMENTS ET POSSIBILITE EVENEMENT ANNUEL\n",
       "13                      ORGANISATION DE SOIREE CONCERTS\n",
       "14    ANIMATION DE LA VIE CULTURELLE A BERNAY ET SES...\n",
       "15    ACCOMPAGNEMENT  INFORMATION ET FORMATION DE PE...\n",
       "16    ACTIVITES DE SOUTIEN AU DEVELOPPEMENT ECONOMIQ...\n",
       "17                                 CREATION DEVENEMENTS\n",
       "18                                       REPRESENTATION\n",
       "19    ACTIVITES D INTERET GENERAL CONCOURANT A LA PR...\n",
       "20                                                SPORT\n",
       "21                                         RESTAURATION\n",
       "22                                               FORUMS\n",
       "23     TIERS LIEU DEDIE A L ECONOMIE DE LA CONNAISSANCE\n",
       "24                                  PLONGEE SOUS MARINE\n",
       "25     DEVELOPPER UN SYSTEME D ECHANGES AU NIVEAU LOCAL\n",
       "26                                PRESTATIONS DE DJSETS\n",
       "27    SOUTIEN ET ACCOMPAGNEMENT DES FEMMES PENDANT E...\n",
       "28                                 ASSOCIATION SPORTIVE\n",
       "29                              CONTRIBUER AU SAUVETAGE\n",
       "Name: LIBELLE, dtype: object"
      ]
     },
     "execution_count": 27,
     "metadata": {},
     "output_type": "execute_result"
    }
   ],
   "source": [
    "df[\"LIBELLE\"].head(30)"
   ]
  },
  {
   "cell_type": "code",
   "execution_count": 31,
   "id": "dd27dcd6-50f5-410d-a3ae-d7434dfcff01",
   "metadata": {},
   "outputs": [
    {
     "data": {
      "text/plain": [
       "0.7093046997257115"
      ]
     },
     "execution_count": 31,
     "metadata": {},
     "output_type": "execute_result"
    }
   ],
   "source": [
    "df[\"LIBELLE\"].duplicated(keep=False).sum() / len(df)"
   ]
  },
  {
   "cell_type": "markdown",
   "id": "23acb3ef-281c-4540-b93d-ed33b6f30edd",
   "metadata": {},
   "source": [
    "70% des libellés apparaissent plus d'une fois."
   ]
  },
  {
   "cell_type": "code",
   "execution_count": null,
   "id": "46fbad3c-3b78-4691-ab52-bd1dbd40b182",
   "metadata": {},
   "outputs": [],
   "source": []
  }
 ],
 "metadata": {
  "kernelspec": {
   "display_name": "Python 3 (ipykernel)",
   "language": "python",
   "name": "python3"
  },
  "language_info": {
   "codemirror_mode": {
    "name": "ipython",
    "version": 3
   },
   "file_extension": ".py",
   "mimetype": "text/x-python",
   "name": "python",
   "nbconvert_exporter": "python",
   "pygments_lexer": "ipython3",
   "version": "3.9.7"
  }
 },
 "nbformat": 4,
 "nbformat_minor": 5
}
