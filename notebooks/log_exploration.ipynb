{
 "cells": [
  {
   "cell_type": "code",
   "execution_count": null,
   "metadata": {},
   "outputs": [],
   "source": [
    "import sys\n",
    "sys.path.append(\"../\")"
   ]
  },
  {
   "cell_type": "code",
   "execution_count": null,
   "metadata": {},
   "outputs": [],
   "source": [
    "header_length = len(\"2022-10-05 11:56:15.580  INFO 8982 --- [           main] \")\n",
    "header_length"
   ]
  },
  {
   "cell_type": "code",
   "execution_count": null,
   "metadata": {},
   "outputs": [],
   "source": [
    "event_length = len(\"f.i.sirene4.repertoire.BatchApplication  \")\n",
    "event_length"
   ]
  },
  {
   "cell_type": "code",
   "execution_count": null,
   "metadata": {},
   "outputs": [],
   "source": [
    "first_line = \"2022-10-05 11:56:15.580  INFO 8982 --- [           main] f.i.sirene4.repertoire.BatchApplication  : Starting BatchApplication v2.3.3 using Java 11.0.16.1 on qfbatrelst01.ad.insee.intra with PID 8982 (/opt/insee/sirene4/qf3/lib/repertoire-batch-2.3.3.jar started by www-data in /opt/insee/sirene4/qf3/tmp)\""
   ]
  },
  {
   "cell_type": "code",
   "execution_count": null,
   "metadata": {},
   "outputs": [],
   "source": [
    "line_without_timestamp = first_line[header_length:]\n",
    "event_type = line_without_timestamp[:event_length]\n",
    "event_type.rstrip()"
   ]
  },
  {
   "cell_type": "code",
   "execution_count": null,
   "metadata": {},
   "outputs": [],
   "source": [
    "description = line_without_timestamp[event_length + 2:]\n",
    "description"
   ]
  },
  {
   "cell_type": "code",
   "execution_count": null,
   "metadata": {},
   "outputs": [],
   "source": [
    "import pandas as pd\n",
    "\n",
    "def extract_log_info(f):\n",
    "    event_types = []\n",
    "    descriptions = []\n",
    "    for line in f:\n",
    "        line_without_timestamp = line[header_length:]\n",
    "        if not line_without_timestamp:\n",
    "            continue\n",
    "        event_types.append(line_without_timestamp[:event_length].rstrip())\n",
    "        descriptions.append(line_without_timestamp[event_length + 2:])\n",
    "    return pd.DataFrame(list(zip(event_types, descriptions)), columns =['event_type', 'description'])\n",
    "\n",
    "with open(\"../data/api_log.log\") as f:\n",
    "    df = extract_log_info(f)"
   ]
  },
  {
   "cell_type": "code",
   "execution_count": null,
   "metadata": {},
   "outputs": [],
   "source": [
    "df"
   ]
  },
  {
   "cell_type": "code",
   "execution_count": null,
   "metadata": {},
   "outputs": [],
   "source": [
    "identifier = \"s.i.AbstractBatchCodificationServiceImpl\"\n",
    "log_info = \"r.b.j.c.s.i.BatchCodificationServiceImpl\"\n",
    "raw_input = \"stractLiasse1ToLiasseVarInteretProcessor\""
   ]
  },
  {
   "cell_type": "code",
   "execution_count": null,
   "metadata": {},
   "outputs": [],
   "source": [
    "df_ids = df[df.event_type == identifier]\n",
    "df_ids.head()"
   ]
  },
  {
   "cell_type": "code",
   "execution_count": null,
   "metadata": {},
   "outputs": [],
   "source": [
    "df_info = df[df.event_type == log_info]\n",
    "df_info.head()"
   ]
  },
  {
   "cell_type": "code",
   "execution_count": null,
   "metadata": {},
   "outputs": [],
   "source": [
    "df_ids.shape"
   ]
  },
  {
   "cell_type": "code",
   "execution_count": null,
   "metadata": {},
   "outputs": [],
   "source": [
    "df_info.shape"
   ]
  },
  {
   "cell_type": "code",
   "execution_count": null,
   "metadata": {},
   "outputs": [],
   "source": [
    "df_raw_input = df[df.event_type == raw_input]\n",
    "df_raw_input.head()"
   ]
  },
  {
   "cell_type": "code",
   "execution_count": null,
   "metadata": {},
   "outputs": [],
   "source": [
    "df_raw_input = df_raw_input[df_raw_input.description.str.startswith(\"LiasseVarInteretCodification\")]\n",
    "df_raw_input.head()"
   ]
  },
  {
   "cell_type": "code",
   "execution_count": null,
   "metadata": {},
   "outputs": [],
   "source": [
    "df_raw_input.shape"
   ]
  },
  {
   "cell_type": "code",
   "execution_count": null,
   "metadata": {},
   "outputs": [],
   "source": [
    "test_str = df_raw_input.iloc[0, 1]\n",
    "test_str"
   ]
  },
  {
   "cell_type": "code",
   "execution_count": null,
   "metadata": {},
   "outputs": [],
   "source": [
    "import re\n",
    "\n",
    "regex = re.compile(r'norme=([^,]*),')\n",
    "matches = regex.search(test_str)\n",
    "matches.group(1)"
   ]
  },
  {
   "cell_type": "code",
   "execution_count": null,
   "metadata": {},
   "outputs": [],
   "source": [
    "regex = re.compile(r'liasseType=([^,]*),')\n",
    "matches = regex.search(test_str)\n",
    "matches.group(1)"
   ]
  },
  {
   "cell_type": "code",
   "execution_count": null,
   "metadata": {},
   "outputs": [],
   "source": [
    "regex"
   ]
  },
  {
   "cell_type": "code",
   "execution_count": null,
   "metadata": {},
   "outputs": [],
   "source": [
    "raw_fields = [\n",
    "    \"norme\",\n",
    "    \"siren\",\n",
    "    \"nic\",\n",
    "    \"liasseType\",\n",
    "    \"categorieJuridique\",\n",
    "    \"domas\",\n",
    "    \"ssdom\",\n",
    "    \"domaineAssoc\",\n",
    "    \"ssDomaineAssoc\",\n",
    "    \"libelleActivitePrincipaleEtablissement\",\n",
    "    \"sedentarite\",\n",
    "    \"natureActivites\",\n",
    "    \"surface\",\n",
    "    \"lieuExercice\",\n",
    "    \"presenceSalaries\"\n",
    "]\n",
    "raw_regexes = [re.compile(r'{}'.format(field + '=([^,]*)[,\\]]')) for field in raw_fields]\n",
    "raw_regexes"
   ]
  },
  {
   "cell_type": "code",
   "execution_count": null,
   "metadata": {},
   "outputs": [],
   "source": [
    "def parse_raw_input(raw_input, fields, regexes):\n",
    "    raw_input_dict = {}\n",
    "    for field, regex in zip(fields, regexes):\n",
    "        matches = regex.search(raw_input)\n",
    "        raw_input_dict[field] = matches.group(1)\n",
    "    return raw_input_dict"
   ]
  },
  {
   "cell_type": "code",
   "execution_count": null,
   "metadata": {},
   "outputs": [],
   "source": [
    "parse_raw_input(test_str, raw_fields, raw_regexes)"
   ]
  },
  {
   "cell_type": "code",
   "execution_count": null,
   "metadata": {},
   "outputs": [],
   "source": [
    "dict_series = [parse_raw_input(raw_input, raw_fields, raw_regexes) for raw_input in df_raw_input.description]"
   ]
  },
  {
   "cell_type": "code",
   "execution_count": null,
   "metadata": {},
   "outputs": [],
   "source": [
    "pd.DataFrame(list(dict_series))"
   ]
  },
  {
   "cell_type": "code",
   "execution_count": null,
   "metadata": {},
   "outputs": [],
   "source": [
    "test_str = df_info.iloc[0, 1]\n",
    "test_str"
   ]
  },
  {
   "cell_type": "code",
   "execution_count": null,
   "metadata": {},
   "outputs": [],
   "source": [
    "info_fields = [\n",
    "    \"libelleActivite\",\n",
    "    \"natureActivites\",\n",
    "    \"liasseType\",\n",
    "    \"evenementType\",\n",
    "    \"surface\",\n",
    "    \"libelleNettoye\",\n",
    "    \"predictions\",\n",
    "    \"bilan\"\n",
    "]\n",
    "info_regexes = [re.compile(r'{}'.format(field + '=([^,]*),')) for field in info_fields]\n",
    "\n",
    "info_fields.append(\"fasttextVersion\")\n",
    "info_regexes.append(re.compile(r'fasttextVersion=([^,]*)\\]'))\n",
    "\n",
    "info_regexes"
   ]
  },
  {
   "cell_type": "code",
   "execution_count": null,
   "metadata": {},
   "outputs": [],
   "source": [
    "parse_raw_input(test_str, info_fields, info_regexes)"
   ]
  },
  {
   "cell_type": "code",
   "execution_count": null,
   "metadata": {},
   "outputs": [],
   "source": [
    "def extract_first_pred(predictions):\n",
    "    regex = re.compile(r'proposé = ([^;]*) ;.*associée = ([^;]*)\\].*proposé = ([^;]*) ;.*associée = ([^;]*)\\]')\n",
    "    matches = regex.search(predictions)\n",
    "    first_code = matches.group(1)\n",
    "    second_code = matches.group(3)\n",
    "    first_proba = matches.group(2)\n",
    "    second_proba = matches.group(4)\n",
    "    return (first_code, second_code, float(first_proba), float(second_proba))\n",
    "\n",
    "extract_first_pred(parse_raw_input(test_str, info_fields, info_regexes)[\"predictions\"])"
   ]
  },
  {
   "cell_type": "code",
   "execution_count": null,
   "metadata": {},
   "outputs": [],
   "source": [
    "dict_series = [parse_raw_input(info_input, info_fields, info_regexes) for info_input in df_info.description]"
   ]
  },
  {
   "cell_type": "code",
   "execution_count": null,
   "metadata": {},
   "outputs": [],
   "source": [
    "df = pd.DataFrame(list(dict_series))"
   ]
  },
  {
   "cell_type": "code",
   "execution_count": null,
   "metadata": {},
   "outputs": [],
   "source": [
    "predictions = [extract_first_pred(predictions) for predictions in df[\"predictions\"]]\n",
    "df[\"first_pred\"] = [prediction[0] for prediction in predictions]\n",
    "df[\"second_pred\"] = [prediction[0] for prediction in predictions]\n",
    "df[\"first_proba\"] = [prediction[0] for prediction in predictions]\n",
    "df[\"second_proba\"] = [prediction[0] for prediction in predictions]\n",
    "\n",
    "df"
   ]
  },
  {
   "cell_type": "code",
   "execution_count": null,
   "metadata": {},
   "outputs": [],
   "source": [
    "import pandas as pd\n",
    "\n",
    "df = pd.read_csv(\"comparison.csv\")"
   ]
  },
  {
   "cell_type": "code",
   "execution_count": null,
   "metadata": {},
   "outputs": [],
   "source": [
    "df = df[~df.RAW.str.contains(\"oeuvre\")]"
   ]
  },
  {
   "cell_type": "code",
   "execution_count": null,
   "metadata": {},
   "outputs": [],
   "source": [
    "df.RAW.iloc[7]"
   ]
  },
  {
   "cell_type": "code",
   "execution_count": null,
   "metadata": {},
   "outputs": [],
   "source": [
    "df.RAW.replace(\n",
    "    to_replace=r\"(\\s|^)([a-z]{1})(?:\\s|$)\", value=r'\\1', regex=True\n",
    ").iloc[7]"
   ]
  },
  {
   "cell_type": "code",
   "execution_count": null,
   "metadata": {},
   "outputs": [],
   "source": [
    "df.RAW.replace(\n",
    "    to_replace=r\"\\b([a-z]{1})\\b\", value=' ', regex=True\n",
    ").iloc[7]"
   ]
  },
  {
   "cell_type": "code",
   "execution_count": null,
   "metadata": {},
   "outputs": [],
   "source": [
    "x = compare_libs[~compare_libs[\"CHECK\"]]"
   ]
  },
  {
   "cell_type": "markdown",
   "metadata": {},
   "source": [
    "1) Prepro mots vide de sens\n",
    "2) ```\"œ\"``` pas décodé de la même manière\n",
    "3) ```\"€\"``` pas décodé de la même manière\n",
    "4) ```\"Yeti\"``` pas racinisé de la même manière\n",
    "5) ```\"Terassemment\"``` pas racinisé de la même manière"
   ]
  },
  {
   "cell_type": "code",
   "execution_count": null,
   "metadata": {},
   "outputs": [],
   "source": [
    "model = fasttext.load_model(\"../models/model.bin\")"
   ]
  },
  {
   "cell_type": "code",
   "execution_count": null,
   "metadata": {},
   "outputs": [],
   "source": [
    "res = model.predict(df[compare_libs.CHECK].libelleNettoye.to_list(), k=2)\n",
    "\n",
    "first_pred = [res[0][i][0].replace(\"__label__\", \"\") for i in range(len(res[0]))]\n",
    "second_pred = [res[0][i][1].replace(\"__label__\", \"\") for i in range(len(res[0]))]\n",
    "first_proba = [res[1][i][0] for i in range(len(res[1]))]\n",
    "second_proba = [res[1][i][1] for i in range(len(res[1]))]"
   ]
  },
  {
   "cell_type": "code",
   "execution_count": null,
   "metadata": {},
   "outputs": [],
   "source": [
    "lib_clean = df[compare_libs.CHECK].libelleNettoye.apply(lambda x : x.split(\" AUTO\")[0]).to_list()\n",
    "\n",
    "df_compare = pd.DataFrame({\n",
    "    \"Lib\" : df[compare_libs.CHECK].libelleNettoye, \n",
    "    \"pred_1_PY\" : first_pred, \n",
    "    \"pred_1_JAVA\" : df[compare_libs.CHECK].first_pred,\n",
    "    \"pred_2_PY\" : second_pred, \n",
    "    \"pred_2_JAVA\" : df[compare_libs.CHECK].second_pred,\n",
    "    \"prob_1_PY\" : first_proba, \n",
    "    \"prob_1_JAVA\" : df[compare_libs.CHECK].first_proba,\n",
    "    \"prob_2_PY\" : second_proba, \n",
    "    \"prob_2_JAVA\" : df[compare_libs.CHECK].second_proba\n",
    "    })\n"
   ]
  },
  {
   "cell_type": "code",
   "execution_count": null,
   "metadata": {},
   "outputs": [],
   "source": [
    "df_compare[df_compare.pred_1_PY != df_compare.pred_1_JAVA]"
   ]
  },
  {
   "cell_type": "code",
   "execution_count": null,
   "metadata": {},
   "outputs": [],
   "source": [
    "df_compare[df_compare.pred_2_PY != df_compare.pred_2_JAVA]"
   ]
  },
  {
   "cell_type": "code",
   "execution_count": null,
   "metadata": {},
   "outputs": [],
   "source": [
    "df_compare[(df_compare.pred_1_PY != df_compare.pred_1_JAVA) | (df_compare.pred_2_PY != df_compare.pred_2_JAVA)]"
   ]
  }
 ],
 "metadata": {
  "kernelspec": {
   "display_name": "Python 3.9.0 ('base')",
   "language": "python",
   "name": "python3"
  },
  "language_info": {
   "codemirror_mode": {
    "name": "ipython",
    "version": 3
   },
   "file_extension": ".py",
   "mimetype": "text/x-python",
   "name": "python",
   "nbconvert_exporter": "python",
   "pygments_lexer": "ipython3",
   "version": "3.10.4"
  },
  "orig_nbformat": 4,
  "vscode": {
   "interpreter": {
    "hash": "3fa046f995eb80ac40c0869a1f9df46519f4ada8b8c395ef25dd1aa1a1a2fc63"
   }
  }
 },
 "nbformat": 4,
 "nbformat_minor": 2
}
