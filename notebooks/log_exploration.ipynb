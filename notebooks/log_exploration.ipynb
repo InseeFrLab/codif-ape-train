{
 "cells": [
  {
   "cell_type": "code",
   "execution_count": 2,
   "metadata": {},
   "outputs": [],
   "source": [
    "import sys\n",
    "sys.path.append(\"../\")"
   ]
  },
  {
   "cell_type": "code",
   "execution_count": 3,
   "metadata": {},
   "outputs": [
    {
     "data": {
      "text/plain": [
       "57"
      ]
     },
     "execution_count": 3,
     "metadata": {},
     "output_type": "execute_result"
    }
   ],
   "source": [
    "header_length = len(\"2022-10-05 11:56:15.580  INFO 8982 --- [           main] \")\n",
    "header_length"
   ]
  },
  {
   "cell_type": "code",
   "execution_count": 6,
   "metadata": {},
   "outputs": [
    {
     "data": {
      "text/plain": [
       "41"
      ]
     },
     "execution_count": 6,
     "metadata": {},
     "output_type": "execute_result"
    }
   ],
   "source": [
    "event_length = len(\"f.i.sirene4.repertoire.BatchApplication  \")\n",
    "event_length"
   ]
  },
  {
   "cell_type": "code",
   "execution_count": 4,
   "metadata": {},
   "outputs": [],
   "source": [
    "first_line = \"2022-10-05 11:56:15.580  INFO 8982 --- [           main] f.i.sirene4.repertoire.BatchApplication  : Starting BatchApplication v2.3.3 using Java 11.0.16.1 on qfbatrelst01.ad.insee.intra with PID 8982 (/opt/insee/sirene4/qf3/lib/repertoire-batch-2.3.3.jar started by www-data in /opt/insee/sirene4/qf3/tmp)\""
   ]
  },
  {
   "cell_type": "code",
   "execution_count": 8,
   "metadata": {},
   "outputs": [
    {
     "data": {
      "text/plain": [
       "'f.i.sirene4.repertoire.BatchApplication'"
      ]
     },
     "execution_count": 8,
     "metadata": {},
     "output_type": "execute_result"
    }
   ],
   "source": [
    "line_without_timestamp = first_line[header_length:]\n",
    "event_type = line_without_timestamp[:event_length]\n",
    "event_type.rstrip()"
   ]
  },
  {
   "cell_type": "code",
   "execution_count": 10,
   "metadata": {},
   "outputs": [
    {
     "data": {
      "text/plain": [
       "'Starting BatchApplication v2.3.3 using Java 11.0.16.1 on qfbatrelst01.ad.insee.intra with PID 8982 (/opt/insee/sirene4/qf3/lib/repertoire-batch-2.3.3.jar started by www-data in /opt/insee/sirene4/qf3/tmp)'"
      ]
     },
     "execution_count": 10,
     "metadata": {},
     "output_type": "execute_result"
    }
   ],
   "source": [
    "description = line_without_timestamp[event_length + 2:]\n",
    "description"
   ]
  },
  {
   "cell_type": "code",
   "execution_count": 12,
   "metadata": {},
   "outputs": [],
   "source": [
    "import pandas as pd\n",
    "\n",
    "def extract_log_info(f):\n",
    "    event_types = []\n",
    "    descriptions = []\n",
    "    for line in f:\n",
    "        line_without_timestamp = line[header_length:]\n",
    "        if not line_without_timestamp:\n",
    "            continue\n",
    "        event_types.append(line_without_timestamp[:event_length].rstrip())\n",
    "        descriptions.append(line_without_timestamp[event_length + 2:])\n",
    "    return pd.DataFrame(list(zip(event_types, descriptions)), columns =['event_type', 'description'])\n",
    "\n",
    "with open(\"../data/api_log.log\") as f:\n",
    "    df = extract_log_info(f)"
   ]
  },
  {
   "cell_type": "code",
   "execution_count": 13,
   "metadata": {},
   "outputs": [
    {
     "data": {
      "text/html": [
       "<div>\n",
       "<style scoped>\n",
       "    .dataframe tbody tr th:only-of-type {\n",
       "        vertical-align: middle;\n",
       "    }\n",
       "\n",
       "    .dataframe tbody tr th {\n",
       "        vertical-align: top;\n",
       "    }\n",
       "\n",
       "    .dataframe thead th {\n",
       "        text-align: right;\n",
       "    }\n",
       "</style>\n",
       "<table border=\"1\" class=\"dataframe\">\n",
       "  <thead>\n",
       "    <tr style=\"text-align: right;\">\n",
       "      <th></th>\n",
       "      <th>event_type</th>\n",
       "      <th>description</th>\n",
       "    </tr>\n",
       "  </thead>\n",
       "  <tbody>\n",
       "    <tr>\n",
       "      <th>0</th>\n",
       "      <td>f3/scriptsh/CodificationAnalyse.sh  metho</td>\n",
       "      <td>=FASTTEXT ic=0.5\\n</td>\n",
       "    </tr>\n",
       "    <tr>\n",
       "      <th>1</th>\n",
       "      <td>o.s.boot.SpringApplication</td>\n",
       "      <td>\\n</td>\n",
       "    </tr>\n",
       "    <tr>\n",
       "      <th>2</th>\n",
       "      <td>f.i.sirene4.repertoire.BatchApplication</td>\n",
       "      <td>Starting BatchApplication v2.3.3 using Java 11...</td>\n",
       "    </tr>\n",
       "    <tr>\n",
       "      <th>3</th>\n",
       "      <td>f.i.sirene4.repertoire.BatchApplication</td>\n",
       "      <td>The following 1 profile is active: \"qf3\"\\n</td>\n",
       "    </tr>\n",
       "    <tr>\n",
       "      <th>4</th>\n",
       "      <td>.s.d.r.c.RepositoryConfigurationDelegate</td>\n",
       "      <td>Multiple Spring Data modules found, entering s...</td>\n",
       "    </tr>\n",
       "    <tr>\n",
       "      <th>...</th>\n",
       "      <td>...</td>\n",
       "      <td>...</td>\n",
       "    </tr>\n",
       "    <tr>\n",
       "      <th>343975</th>\n",
       "      <td>org.ehcache.core.EhcacheManager</td>\n",
       "      <td>Cache 'fr.insee.sirene4.repertoire.bdd.codific...</td>\n",
       "    </tr>\n",
       "    <tr>\n",
       "      <th>343976</th>\n",
       "      <td>org.ehcache.core.EhcacheManager</td>\n",
       "      <td>Cache 'codificationNatureActivite' removed fro...</td>\n",
       "    </tr>\n",
       "    <tr>\n",
       "      <th>343977</th>\n",
       "      <td>org.ehcache.core.EhcacheManager</td>\n",
       "      <td>Cache 'countUniteLegaleHisto' removed from Ehc...</td>\n",
       "    </tr>\n",
       "    <tr>\n",
       "      <th>343978</th>\n",
       "      <td>org.ehcache.core.EhcacheManager</td>\n",
       "      <td>Cache 'default-update-timestamps-region' remov...</td>\n",
       "    </tr>\n",
       "    <tr>\n",
       "      <th>343979</th>\n",
       "      <td>org.ehcache.core.EhcacheManager</td>\n",
       "      <td>Cache 'fr.insee.sirene4.repertoire.bdd.sirene4...</td>\n",
       "    </tr>\n",
       "  </tbody>\n",
       "</table>\n",
       "<p>343980 rows × 2 columns</p>\n",
       "</div>"
      ],
      "text/plain": [
       "                                       event_type  \\\n",
       "0       f3/scriptsh/CodificationAnalyse.sh  metho   \n",
       "1                      o.s.boot.SpringApplication   \n",
       "2         f.i.sirene4.repertoire.BatchApplication   \n",
       "3         f.i.sirene4.repertoire.BatchApplication   \n",
       "4        .s.d.r.c.RepositoryConfigurationDelegate   \n",
       "...                                           ...   \n",
       "343975            org.ehcache.core.EhcacheManager   \n",
       "343976            org.ehcache.core.EhcacheManager   \n",
       "343977            org.ehcache.core.EhcacheManager   \n",
       "343978            org.ehcache.core.EhcacheManager   \n",
       "343979            org.ehcache.core.EhcacheManager   \n",
       "\n",
       "                                              description  \n",
       "0                                      =FASTTEXT ic=0.5\\n  \n",
       "1                                                      \\n  \n",
       "2       Starting BatchApplication v2.3.3 using Java 11...  \n",
       "3              The following 1 profile is active: \"qf3\"\\n  \n",
       "4       Multiple Spring Data modules found, entering s...  \n",
       "...                                                   ...  \n",
       "343975  Cache 'fr.insee.sirene4.repertoire.bdd.codific...  \n",
       "343976  Cache 'codificationNatureActivite' removed fro...  \n",
       "343977  Cache 'countUniteLegaleHisto' removed from Ehc...  \n",
       "343978  Cache 'default-update-timestamps-region' remov...  \n",
       "343979  Cache 'fr.insee.sirene4.repertoire.bdd.sirene4...  \n",
       "\n",
       "[343980 rows x 2 columns]"
      ]
     },
     "execution_count": 13,
     "metadata": {},
     "output_type": "execute_result"
    }
   ],
   "source": [
    "df"
   ]
  },
  {
   "cell_type": "code",
   "execution_count": 14,
   "metadata": {},
   "outputs": [],
   "source": [
    "identifier = \"s.i.AbstractBatchCodificationServiceImpl\"\n",
    "log_info = \"r.b.j.c.s.i.BatchCodificationServiceImpl\"\n",
    "raw_input = \"stractLiasse1ToLiasseVarInteretProcessor\""
   ]
  },
  {
   "cell_type": "code",
   "execution_count": 15,
   "metadata": {},
   "outputs": [
    {
     "data": {
      "text/html": [
       "<div>\n",
       "<style scoped>\n",
       "    .dataframe tbody tr th:only-of-type {\n",
       "        vertical-align: middle;\n",
       "    }\n",
       "\n",
       "    .dataframe tbody tr th {\n",
       "        vertical-align: top;\n",
       "    }\n",
       "\n",
       "    .dataframe thead th {\n",
       "        text-align: right;\n",
       "    }\n",
       "</style>\n",
       "<table border=\"1\" class=\"dataframe\">\n",
       "  <thead>\n",
       "    <tr style=\"text-align: right;\">\n",
       "      <th></th>\n",
       "      <th>event_type</th>\n",
       "      <th>description</th>\n",
       "    </tr>\n",
       "  </thead>\n",
       "  <tbody>\n",
       "    <tr>\n",
       "      <th>570</th>\n",
       "      <td>s.i.AbstractBatchCodificationServiceImpl</td>\n",
       "      <td>Traitement de la liasse J00010013613\\n</td>\n",
       "    </tr>\n",
       "    <tr>\n",
       "      <th>579</th>\n",
       "      <td>s.i.AbstractBatchCodificationServiceImpl</td>\n",
       "      <td>Traitement de la liasse J00010000461\\n</td>\n",
       "    </tr>\n",
       "    <tr>\n",
       "      <th>588</th>\n",
       "      <td>s.i.AbstractBatchCodificationServiceImpl</td>\n",
       "      <td>Traitement de la liasse J00010000479\\n</td>\n",
       "    </tr>\n",
       "    <tr>\n",
       "      <th>603</th>\n",
       "      <td>s.i.AbstractBatchCodificationServiceImpl</td>\n",
       "      <td>Traitement de la liasse J00010000818\\n</td>\n",
       "    </tr>\n",
       "    <tr>\n",
       "      <th>612</th>\n",
       "      <td>s.i.AbstractBatchCodificationServiceImpl</td>\n",
       "      <td>Traitement de la liasse J00010000834\\n</td>\n",
       "    </tr>\n",
       "  </tbody>\n",
       "</table>\n",
       "</div>"
      ],
      "text/plain": [
       "                                   event_type  \\\n",
       "570  s.i.AbstractBatchCodificationServiceImpl   \n",
       "579  s.i.AbstractBatchCodificationServiceImpl   \n",
       "588  s.i.AbstractBatchCodificationServiceImpl   \n",
       "603  s.i.AbstractBatchCodificationServiceImpl   \n",
       "612  s.i.AbstractBatchCodificationServiceImpl   \n",
       "\n",
       "                                description  \n",
       "570  Traitement de la liasse J00010013613\\n  \n",
       "579  Traitement de la liasse J00010000461\\n  \n",
       "588  Traitement de la liasse J00010000479\\n  \n",
       "603  Traitement de la liasse J00010000818\\n  \n",
       "612  Traitement de la liasse J00010000834\\n  "
      ]
     },
     "execution_count": 15,
     "metadata": {},
     "output_type": "execute_result"
    }
   ],
   "source": [
    "df_ids = df[df.event_type == identifier]\n",
    "df_ids.head()"
   ]
  },
  {
   "cell_type": "code",
   "execution_count": 16,
   "metadata": {},
   "outputs": [
    {
     "data": {
      "text/html": [
       "<div>\n",
       "<style scoped>\n",
       "    .dataframe tbody tr th:only-of-type {\n",
       "        vertical-align: middle;\n",
       "    }\n",
       "\n",
       "    .dataframe tbody tr th {\n",
       "        vertical-align: top;\n",
       "    }\n",
       "\n",
       "    .dataframe thead th {\n",
       "        text-align: right;\n",
       "    }\n",
       "</style>\n",
       "<table border=\"1\" class=\"dataframe\">\n",
       "  <thead>\n",
       "    <tr style=\"text-align: right;\">\n",
       "      <th></th>\n",
       "      <th>event_type</th>\n",
       "      <th>description</th>\n",
       "    </tr>\n",
       "  </thead>\n",
       "  <tbody>\n",
       "    <tr>\n",
       "      <th>571</th>\n",
       "      <td>r.b.j.c.s.i.BatchCodificationServiceImpl</td>\n",
       "      <td>CodificationBilan [libelleActivite=Coaching sp...</td>\n",
       "    </tr>\n",
       "    <tr>\n",
       "      <th>580</th>\n",
       "      <td>r.b.j.c.s.i.BatchCodificationServiceImpl</td>\n",
       "      <td>CodificationBilan [libelleActivite=Réalisation...</td>\n",
       "    </tr>\n",
       "    <tr>\n",
       "      <th>589</th>\n",
       "      <td>r.b.j.c.s.i.BatchCodificationServiceImpl</td>\n",
       "      <td>CodificationBilan [libelleActivite=\"Electricie...</td>\n",
       "    </tr>\n",
       "    <tr>\n",
       "      <th>604</th>\n",
       "      <td>r.b.j.c.s.i.BatchCodificationServiceImpl</td>\n",
       "      <td>CodificationBilan [libelleActivite=\"prestation...</td>\n",
       "    </tr>\n",
       "    <tr>\n",
       "      <th>613</th>\n",
       "      <td>r.b.j.c.s.i.BatchCodificationServiceImpl</td>\n",
       "      <td>CodificationBilan [libelleActivite=Agent Comme...</td>\n",
       "    </tr>\n",
       "  </tbody>\n",
       "</table>\n",
       "</div>"
      ],
      "text/plain": [
       "                                   event_type  \\\n",
       "571  r.b.j.c.s.i.BatchCodificationServiceImpl   \n",
       "580  r.b.j.c.s.i.BatchCodificationServiceImpl   \n",
       "589  r.b.j.c.s.i.BatchCodificationServiceImpl   \n",
       "604  r.b.j.c.s.i.BatchCodificationServiceImpl   \n",
       "613  r.b.j.c.s.i.BatchCodificationServiceImpl   \n",
       "\n",
       "                                           description  \n",
       "571  CodificationBilan [libelleActivite=Coaching sp...  \n",
       "580  CodificationBilan [libelleActivite=Réalisation...  \n",
       "589  CodificationBilan [libelleActivite=\"Electricie...  \n",
       "604  CodificationBilan [libelleActivite=\"prestation...  \n",
       "613  CodificationBilan [libelleActivite=Agent Comme...  "
      ]
     },
     "execution_count": 16,
     "metadata": {},
     "output_type": "execute_result"
    }
   ],
   "source": [
    "df_info = df[df.event_type == log_info]\n",
    "df_info.head()"
   ]
  },
  {
   "cell_type": "code",
   "execution_count": 17,
   "metadata": {},
   "outputs": [
    {
     "data": {
      "text/plain": [
       "(32932, 2)"
      ]
     },
     "execution_count": 17,
     "metadata": {},
     "output_type": "execute_result"
    }
   ],
   "source": [
    "df_ids.shape"
   ]
  },
  {
   "cell_type": "code",
   "execution_count": 18,
   "metadata": {},
   "outputs": [
    {
     "data": {
      "text/plain": [
       "(32931, 2)"
      ]
     },
     "execution_count": 18,
     "metadata": {},
     "output_type": "execute_result"
    }
   ],
   "source": [
    "df_info.shape"
   ]
  },
  {
   "cell_type": "code",
   "execution_count": 19,
   "metadata": {},
   "outputs": [
    {
     "data": {
      "text/html": [
       "<div>\n",
       "<style scoped>\n",
       "    .dataframe tbody tr th:only-of-type {\n",
       "        vertical-align: middle;\n",
       "    }\n",
       "\n",
       "    .dataframe tbody tr th {\n",
       "        vertical-align: top;\n",
       "    }\n",
       "\n",
       "    .dataframe thead th {\n",
       "        text-align: right;\n",
       "    }\n",
       "</style>\n",
       "<table border=\"1\" class=\"dataframe\">\n",
       "  <thead>\n",
       "    <tr style=\"text-align: right;\">\n",
       "      <th></th>\n",
       "      <th>event_type</th>\n",
       "      <th>description</th>\n",
       "    </tr>\n",
       "  </thead>\n",
       "  <tbody>\n",
       "    <tr>\n",
       "      <th>563</th>\n",
       "      <td>stractLiasse1ToLiasseVarInteretProcessor</td>\n",
       "      <td>Traitement du fichier 1437.xml\\n</td>\n",
       "    </tr>\n",
       "    <tr>\n",
       "      <th>565</th>\n",
       "      <td>stractLiasse1ToLiasseVarInteretProcessor</td>\n",
       "      <td>Recherche de liasses avec processor V2016.02\\n</td>\n",
       "    </tr>\n",
       "    <tr>\n",
       "      <th>566</th>\n",
       "      <td>stractLiasse1ToLiasseVarInteretProcessor</td>\n",
       "      <td>regentXml fr.insee.sirene4.repertoire.xml.edi....</td>\n",
       "    </tr>\n",
       "    <tr>\n",
       "      <th>567</th>\n",
       "      <td>stractLiasse1ToLiasseVarInteretProcessor</td>\n",
       "      <td>Liasses lues dans le fichier 1437.xml (nombre ...</td>\n",
       "    </tr>\n",
       "    <tr>\n",
       "      <th>568</th>\n",
       "      <td>stractLiasse1ToLiasseVarInteretProcessor</td>\n",
       "      <td>Liasses à utiliser dans le fichier 1437.xml (n...</td>\n",
       "    </tr>\n",
       "  </tbody>\n",
       "</table>\n",
       "</div>"
      ],
      "text/plain": [
       "                                   event_type  \\\n",
       "563  stractLiasse1ToLiasseVarInteretProcessor   \n",
       "565  stractLiasse1ToLiasseVarInteretProcessor   \n",
       "566  stractLiasse1ToLiasseVarInteretProcessor   \n",
       "567  stractLiasse1ToLiasseVarInteretProcessor   \n",
       "568  stractLiasse1ToLiasseVarInteretProcessor   \n",
       "\n",
       "                                           description  \n",
       "563                   Traitement du fichier 1437.xml\\n  \n",
       "565     Recherche de liasses avec processor V2016.02\\n  \n",
       "566  regentXml fr.insee.sirene4.repertoire.xml.edi....  \n",
       "567  Liasses lues dans le fichier 1437.xml (nombre ...  \n",
       "568  Liasses à utiliser dans le fichier 1437.xml (n...  "
      ]
     },
     "execution_count": 19,
     "metadata": {},
     "output_type": "execute_result"
    }
   ],
   "source": [
    "df_raw_input = df[df.event_type == raw_input]\n",
    "df_raw_input.head()"
   ]
  },
  {
   "cell_type": "code",
   "execution_count": 21,
   "metadata": {},
   "outputs": [
    {
     "data": {
      "text/html": [
       "<div>\n",
       "<style scoped>\n",
       "    .dataframe tbody tr th:only-of-type {\n",
       "        vertical-align: middle;\n",
       "    }\n",
       "\n",
       "    .dataframe tbody tr th {\n",
       "        vertical-align: top;\n",
       "    }\n",
       "\n",
       "    .dataframe thead th {\n",
       "        text-align: right;\n",
       "    }\n",
       "</style>\n",
       "<table border=\"1\" class=\"dataframe\">\n",
       "  <thead>\n",
       "    <tr style=\"text-align: right;\">\n",
       "      <th></th>\n",
       "      <th>event_type</th>\n",
       "      <th>description</th>\n",
       "    </tr>\n",
       "  </thead>\n",
       "  <tbody>\n",
       "    <tr>\n",
       "      <th>569</th>\n",
       "      <td>stractLiasse1ToLiasseVarInteretProcessor</td>\n",
       "      <td>LiasseVarInteretCodification [norme=V2016.02, ...</td>\n",
       "    </tr>\n",
       "    <tr>\n",
       "      <th>578</th>\n",
       "      <td>stractLiasse1ToLiasseVarInteretProcessor</td>\n",
       "      <td>LiasseVarInteretCodification [norme=V2016.02, ...</td>\n",
       "    </tr>\n",
       "    <tr>\n",
       "      <th>587</th>\n",
       "      <td>stractLiasse1ToLiasseVarInteretProcessor</td>\n",
       "      <td>LiasseVarInteretCodification [norme=V2016.02, ...</td>\n",
       "    </tr>\n",
       "    <tr>\n",
       "      <th>602</th>\n",
       "      <td>stractLiasse1ToLiasseVarInteretProcessor</td>\n",
       "      <td>LiasseVarInteretCodification [norme=V2016.02, ...</td>\n",
       "    </tr>\n",
       "    <tr>\n",
       "      <th>611</th>\n",
       "      <td>stractLiasse1ToLiasseVarInteretProcessor</td>\n",
       "      <td>LiasseVarInteretCodification [norme=V2016.02, ...</td>\n",
       "    </tr>\n",
       "  </tbody>\n",
       "</table>\n",
       "</div>"
      ],
      "text/plain": [
       "                                   event_type  \\\n",
       "569  stractLiasse1ToLiasseVarInteretProcessor   \n",
       "578  stractLiasse1ToLiasseVarInteretProcessor   \n",
       "587  stractLiasse1ToLiasseVarInteretProcessor   \n",
       "602  stractLiasse1ToLiasseVarInteretProcessor   \n",
       "611  stractLiasse1ToLiasseVarInteretProcessor   \n",
       "\n",
       "                                           description  \n",
       "569  LiasseVarInteretCodification [norme=V2016.02, ...  \n",
       "578  LiasseVarInteretCodification [norme=V2016.02, ...  \n",
       "587  LiasseVarInteretCodification [norme=V2016.02, ...  \n",
       "602  LiasseVarInteretCodification [norme=V2016.02, ...  \n",
       "611  LiasseVarInteretCodification [norme=V2016.02, ...  "
      ]
     },
     "execution_count": 21,
     "metadata": {},
     "output_type": "execute_result"
    }
   ],
   "source": [
    "df_raw_input = df_raw_input[df_raw_input.description.str.startswith(\"LiasseVarInteretCodification\")]\n",
    "df_raw_input.head()"
   ]
  },
  {
   "cell_type": "code",
   "execution_count": 22,
   "metadata": {},
   "outputs": [
    {
     "data": {
      "text/plain": [
       "(32932, 2)"
      ]
     },
     "execution_count": 22,
     "metadata": {},
     "output_type": "execute_result"
    }
   ],
   "source": [
    "df_raw_input.shape"
   ]
  },
  {
   "cell_type": "code",
   "execution_count": 77,
   "metadata": {},
   "outputs": [
    {
     "data": {
      "text/plain": [
       "'LiasseVarInteretCodification [norme=V2016.02, siren=000000000, nic=00000, liasseType=X, categorieJuridique=null, domas=null, ssdom=null, domaineAssoc=null, ssDomaineAssoc=null, libelleActivitePrincipaleEtablissement=Coaching sportif, sedentarite=null, natureActivites=null, surface=null, lieuExercice=null, presenceSalaries=N]\\n'"
      ]
     },
     "execution_count": 77,
     "metadata": {},
     "output_type": "execute_result"
    }
   ],
   "source": [
    "test_str = df_raw_input.iloc[0, 1]\n",
    "test_str"
   ]
  },
  {
   "cell_type": "code",
   "execution_count": 78,
   "metadata": {},
   "outputs": [
    {
     "data": {
      "text/plain": [
       "'V2016.02'"
      ]
     },
     "execution_count": 78,
     "metadata": {},
     "output_type": "execute_result"
    }
   ],
   "source": [
    "import re\n",
    "\n",
    "regex = re.compile(r'norme=([^,]*),')\n",
    "matches = regex.search(test_str)\n",
    "matches.group(1)"
   ]
  },
  {
   "cell_type": "code",
   "execution_count": 79,
   "metadata": {},
   "outputs": [
    {
     "data": {
      "text/plain": [
       "'X'"
      ]
     },
     "execution_count": 79,
     "metadata": {},
     "output_type": "execute_result"
    }
   ],
   "source": [
    "regex = re.compile(r'liasseType=([^,]*),')\n",
    "matches = regex.search(test_str)\n",
    "matches.group(1)"
   ]
  },
  {
   "cell_type": "code",
   "execution_count": 80,
   "metadata": {},
   "outputs": [
    {
     "data": {
      "text/plain": [
       "re.compile(r'liasseType=([^,]*),', re.UNICODE)"
      ]
     },
     "execution_count": 80,
     "metadata": {},
     "output_type": "execute_result"
    }
   ],
   "source": [
    "regex"
   ]
  },
  {
   "cell_type": "code",
   "execution_count": 85,
   "metadata": {},
   "outputs": [
    {
     "data": {
      "text/plain": [
       "[re.compile(r'norme=([^,]*)[,\\]]', re.UNICODE),\n",
       " re.compile(r'siren=([^,]*)[,\\]]', re.UNICODE),\n",
       " re.compile(r'nic=([^,]*)[,\\]]', re.UNICODE),\n",
       " re.compile(r'liasseType=([^,]*)[,\\]]', re.UNICODE),\n",
       " re.compile(r'categorieJuridique=([^,]*)[,\\]]', re.UNICODE),\n",
       " re.compile(r'domas=([^,]*)[,\\]]', re.UNICODE),\n",
       " re.compile(r'ssdom=([^,]*)[,\\]]', re.UNICODE),\n",
       " re.compile(r'domaineAssoc=([^,]*)[,\\]]', re.UNICODE),\n",
       " re.compile(r'ssDomaineAssoc=([^,]*)[,\\]]', re.UNICODE),\n",
       " re.compile(r'libelleActivitePrincipaleEtablissement=([^,]*)[,\\]]',\n",
       "            re.UNICODE),\n",
       " re.compile(r'sedentarite=([^,]*)[,\\]]', re.UNICODE),\n",
       " re.compile(r'natureActivites=([^,]*)[,\\]]', re.UNICODE),\n",
       " re.compile(r'surface=([^,]*)[,\\]]', re.UNICODE),\n",
       " re.compile(r'lieuExercice=([^,]*)[,\\]]', re.UNICODE),\n",
       " re.compile(r'presenceSalaries=([^,]*)[,\\]]', re.UNICODE)]"
      ]
     },
     "execution_count": 85,
     "metadata": {},
     "output_type": "execute_result"
    }
   ],
   "source": [
    "raw_fields = [\n",
    "    \"norme\",\n",
    "    \"siren\",\n",
    "    \"nic\",\n",
    "    \"liasseType\",\n",
    "    \"categorieJuridique\",\n",
    "    \"domas\",\n",
    "    \"ssdom\",\n",
    "    \"domaineAssoc\",\n",
    "    \"ssDomaineAssoc\",\n",
    "    \"libelleActivitePrincipaleEtablissement\",\n",
    "    \"sedentarite\",\n",
    "    \"natureActivites\",\n",
    "    \"surface\",\n",
    "    \"lieuExercice\",\n",
    "    \"presenceSalaries\"\n",
    "]\n",
    "raw_regexes = [re.compile(r'{}'.format(field + '=([^,]*)[,\\]]')) for field in raw_fields]\n",
    "raw_regexes"
   ]
  },
  {
   "cell_type": "code",
   "execution_count": 101,
   "metadata": {},
   "outputs": [],
   "source": [
    "def parse_raw_input(raw_input, fields, regexes):\n",
    "    raw_input_dict = {}\n",
    "    for field, regex in zip(fields, regexes):\n",
    "        matches = regex.search(raw_input)\n",
    "        raw_input_dict[field] = matches.group(1)\n",
    "    return raw_input_dict"
   ]
  },
  {
   "cell_type": "code",
   "execution_count": 87,
   "metadata": {},
   "outputs": [
    {
     "data": {
      "text/plain": [
       "{'norme': 'V2016.02',\n",
       " 'siren': '000000000',\n",
       " 'nic': '00000',\n",
       " 'liasseType': 'X',\n",
       " 'categorieJuridique': 'null',\n",
       " 'domas': 'null',\n",
       " 'ssdom': 'null',\n",
       " 'domaineAssoc': 'null',\n",
       " 'ssDomaineAssoc': 'null',\n",
       " 'libelleActivitePrincipaleEtablissement': 'Coaching sportif',\n",
       " 'sedentarite': 'null',\n",
       " 'natureActivites': 'null',\n",
       " 'surface': 'null',\n",
       " 'lieuExercice': 'null',\n",
       " 'presenceSalaries': 'N'}"
      ]
     },
     "execution_count": 87,
     "metadata": {},
     "output_type": "execute_result"
    }
   ],
   "source": [
    "parse_raw_input(test_str, raw_fields, raw_regexes)"
   ]
  },
  {
   "cell_type": "code",
   "execution_count": 88,
   "metadata": {},
   "outputs": [],
   "source": [
    "dict_series = [parse_raw_input(raw_input, raw_fields, raw_regexes) for raw_input in df_raw_input.description]"
   ]
  },
  {
   "cell_type": "code",
   "execution_count": 89,
   "metadata": {},
   "outputs": [
    {
     "data": {
      "text/html": [
       "<div>\n",
       "<style scoped>\n",
       "    .dataframe tbody tr th:only-of-type {\n",
       "        vertical-align: middle;\n",
       "    }\n",
       "\n",
       "    .dataframe tbody tr th {\n",
       "        vertical-align: top;\n",
       "    }\n",
       "\n",
       "    .dataframe thead th {\n",
       "        text-align: right;\n",
       "    }\n",
       "</style>\n",
       "<table border=\"1\" class=\"dataframe\">\n",
       "  <thead>\n",
       "    <tr style=\"text-align: right;\">\n",
       "      <th></th>\n",
       "      <th>norme</th>\n",
       "      <th>siren</th>\n",
       "      <th>nic</th>\n",
       "      <th>liasseType</th>\n",
       "      <th>categorieJuridique</th>\n",
       "      <th>domas</th>\n",
       "      <th>ssdom</th>\n",
       "      <th>domaineAssoc</th>\n",
       "      <th>ssDomaineAssoc</th>\n",
       "      <th>libelleActivitePrincipaleEtablissement</th>\n",
       "      <th>sedentarite</th>\n",
       "      <th>natureActivites</th>\n",
       "      <th>surface</th>\n",
       "      <th>lieuExercice</th>\n",
       "      <th>presenceSalaries</th>\n",
       "    </tr>\n",
       "  </thead>\n",
       "  <tbody>\n",
       "    <tr>\n",
       "      <th>0</th>\n",
       "      <td>V2016.02</td>\n",
       "      <td>000000000</td>\n",
       "      <td>00000</td>\n",
       "      <td>X</td>\n",
       "      <td>null</td>\n",
       "      <td>null</td>\n",
       "      <td>null</td>\n",
       "      <td>null</td>\n",
       "      <td>null</td>\n",
       "      <td>Coaching sportif</td>\n",
       "      <td>null</td>\n",
       "      <td>null</td>\n",
       "      <td>null</td>\n",
       "      <td>null</td>\n",
       "      <td>N</td>\n",
       "    </tr>\n",
       "    <tr>\n",
       "      <th>1</th>\n",
       "      <td>V2016.02</td>\n",
       "      <td>000000000</td>\n",
       "      <td>00000</td>\n",
       "      <td>X</td>\n",
       "      <td>null</td>\n",
       "      <td>null</td>\n",
       "      <td>null</td>\n",
       "      <td>null</td>\n",
       "      <td>null</td>\n",
       "      <td>Réalisation de dessins d'animation.</td>\n",
       "      <td>null</td>\n",
       "      <td>null</td>\n",
       "      <td>null</td>\n",
       "      <td>null</td>\n",
       "      <td>N</td>\n",
       "    </tr>\n",
       "    <tr>\n",
       "      <th>2</th>\n",
       "      <td>V2016.02</td>\n",
       "      <td>000000000</td>\n",
       "      <td>00000</td>\n",
       "      <td>Z</td>\n",
       "      <td>null</td>\n",
       "      <td>null</td>\n",
       "      <td>null</td>\n",
       "      <td>null</td>\n",
       "      <td>null</td>\n",
       "      <td>Electricien</td>\n",
       "      <td>null</td>\n",
       "      <td>14</td>\n",
       "      <td>null</td>\n",
       "      <td>null</td>\n",
       "      <td>N</td>\n",
       "    </tr>\n",
       "    <tr>\n",
       "      <th>3</th>\n",
       "      <td>V2016.02</td>\n",
       "      <td>000000000</td>\n",
       "      <td>00000</td>\n",
       "      <td>X</td>\n",
       "      <td>null</td>\n",
       "      <td>null</td>\n",
       "      <td>null</td>\n",
       "      <td>null</td>\n",
       "      <td>null</td>\n",
       "      <td>prestations de services</td>\n",
       "      <td>null</td>\n",
       "      <td>99</td>\n",
       "      <td>null</td>\n",
       "      <td>null</td>\n",
       "      <td>N</td>\n",
       "    </tr>\n",
       "    <tr>\n",
       "      <th>4</th>\n",
       "      <td>V2016.02</td>\n",
       "      <td>000000000</td>\n",
       "      <td>00000</td>\n",
       "      <td>R</td>\n",
       "      <td>null</td>\n",
       "      <td>null</td>\n",
       "      <td>null</td>\n",
       "      <td>null</td>\n",
       "      <td>null</td>\n",
       "      <td>Agent Commercial Mandataire en Immobilier</td>\n",
       "      <td>null</td>\n",
       "      <td>null</td>\n",
       "      <td>null</td>\n",
       "      <td>null</td>\n",
       "      <td>N</td>\n",
       "    </tr>\n",
       "    <tr>\n",
       "      <th>...</th>\n",
       "      <td>...</td>\n",
       "      <td>...</td>\n",
       "      <td>...</td>\n",
       "      <td>...</td>\n",
       "      <td>...</td>\n",
       "      <td>...</td>\n",
       "      <td>...</td>\n",
       "      <td>...</td>\n",
       "      <td>...</td>\n",
       "      <td>...</td>\n",
       "      <td>...</td>\n",
       "      <td>...</td>\n",
       "      <td>...</td>\n",
       "      <td>...</td>\n",
       "      <td>...</td>\n",
       "    </tr>\n",
       "    <tr>\n",
       "      <th>32927</th>\n",
       "      <td>V2016.02</td>\n",
       "      <td>000000000</td>\n",
       "      <td>00000</td>\n",
       "      <td>C</td>\n",
       "      <td>5499</td>\n",
       "      <td>null</td>\n",
       "      <td>null</td>\n",
       "      <td>null</td>\n",
       "      <td>null</td>\n",
       "      <td>Réalisation de séances d'hypnose</td>\n",
       "      <td>A</td>\n",
       "      <td>99</td>\n",
       "      <td>null</td>\n",
       "      <td>null</td>\n",
       "      <td>N</td>\n",
       "    </tr>\n",
       "    <tr>\n",
       "      <th>32928</th>\n",
       "      <td>V2016.02</td>\n",
       "      <td>000000000</td>\n",
       "      <td>00000</td>\n",
       "      <td>C</td>\n",
       "      <td>null</td>\n",
       "      <td>null</td>\n",
       "      <td>null</td>\n",
       "      <td>null</td>\n",
       "      <td>null</td>\n",
       "      <td>Exploitation de boutique E-commerce. Recours à...</td>\n",
       "      <td>null</td>\n",
       "      <td>99</td>\n",
       "      <td>null</td>\n",
       "      <td>null</td>\n",
       "      <td>N</td>\n",
       "    </tr>\n",
       "    <tr>\n",
       "      <th>32929</th>\n",
       "      <td>V2016.02</td>\n",
       "      <td>000000000</td>\n",
       "      <td>00000</td>\n",
       "      <td>C</td>\n",
       "      <td>null</td>\n",
       "      <td>null</td>\n",
       "      <td>null</td>\n",
       "      <td>null</td>\n",
       "      <td>null</td>\n",
       "      <td>Prépration et vente de plats cuisinés à emporter</td>\n",
       "      <td>A</td>\n",
       "      <td>99</td>\n",
       "      <td>null</td>\n",
       "      <td>null</td>\n",
       "      <td>N</td>\n",
       "    </tr>\n",
       "    <tr>\n",
       "      <th>32930</th>\n",
       "      <td>V2016.02</td>\n",
       "      <td>000000000</td>\n",
       "      <td>00000</td>\n",
       "      <td>X</td>\n",
       "      <td>null</td>\n",
       "      <td>null</td>\n",
       "      <td>null</td>\n",
       "      <td>null</td>\n",
       "      <td>null</td>\n",
       "      <td>Animations d'ateliers</td>\n",
       "      <td>A</td>\n",
       "      <td>null</td>\n",
       "      <td>null</td>\n",
       "      <td>null</td>\n",
       "      <td>N</td>\n",
       "    </tr>\n",
       "    <tr>\n",
       "      <th>32931</th>\n",
       "      <td>V2016.02</td>\n",
       "      <td>000000000</td>\n",
       "      <td>00000</td>\n",
       "      <td>X</td>\n",
       "      <td>null</td>\n",
       "      <td>null</td>\n",
       "      <td>null</td>\n",
       "      <td>null</td>\n",
       "      <td>null</td>\n",
       "      <td>Petite pêche</td>\n",
       "      <td>null</td>\n",
       "      <td>null</td>\n",
       "      <td>null</td>\n",
       "      <td>null</td>\n",
       "      <td>N</td>\n",
       "    </tr>\n",
       "  </tbody>\n",
       "</table>\n",
       "<p>32932 rows × 15 columns</p>\n",
       "</div>"
      ],
      "text/plain": [
       "          norme      siren    nic liasseType categorieJuridique domas ssdom  \\\n",
       "0      V2016.02  000000000  00000          X               null  null  null   \n",
       "1      V2016.02  000000000  00000          X               null  null  null   \n",
       "2      V2016.02  000000000  00000          Z               null  null  null   \n",
       "3      V2016.02  000000000  00000          X               null  null  null   \n",
       "4      V2016.02  000000000  00000          R               null  null  null   \n",
       "...         ...        ...    ...        ...                ...   ...   ...   \n",
       "32927  V2016.02  000000000  00000          C               5499  null  null   \n",
       "32928  V2016.02  000000000  00000          C               null  null  null   \n",
       "32929  V2016.02  000000000  00000          C               null  null  null   \n",
       "32930  V2016.02  000000000  00000          X               null  null  null   \n",
       "32931  V2016.02  000000000  00000          X               null  null  null   \n",
       "\n",
       "      domaineAssoc ssDomaineAssoc  \\\n",
       "0             null           null   \n",
       "1             null           null   \n",
       "2             null           null   \n",
       "3             null           null   \n",
       "4             null           null   \n",
       "...            ...            ...   \n",
       "32927         null           null   \n",
       "32928         null           null   \n",
       "32929         null           null   \n",
       "32930         null           null   \n",
       "32931         null           null   \n",
       "\n",
       "                  libelleActivitePrincipaleEtablissement sedentarite  \\\n",
       "0                                       Coaching sportif        null   \n",
       "1                    Réalisation de dessins d'animation.        null   \n",
       "2                                            Electricien        null   \n",
       "3                                prestations de services        null   \n",
       "4              Agent Commercial Mandataire en Immobilier        null   \n",
       "...                                                  ...         ...   \n",
       "32927                   Réalisation de séances d'hypnose           A   \n",
       "32928  Exploitation de boutique E-commerce. Recours à...        null   \n",
       "32929   Prépration et vente de plats cuisinés à emporter           A   \n",
       "32930                              Animations d'ateliers           A   \n",
       "32931                                      Petite pêche         null   \n",
       "\n",
       "      natureActivites surface lieuExercice presenceSalaries  \n",
       "0                null    null         null                N  \n",
       "1                null    null         null                N  \n",
       "2                  14    null         null                N  \n",
       "3                  99    null         null                N  \n",
       "4                null    null         null                N  \n",
       "...               ...     ...          ...              ...  \n",
       "32927              99    null         null                N  \n",
       "32928              99    null         null                N  \n",
       "32929              99    null         null                N  \n",
       "32930            null    null         null                N  \n",
       "32931            null    null         null                N  \n",
       "\n",
       "[32932 rows x 15 columns]"
      ]
     },
     "execution_count": 89,
     "metadata": {},
     "output_type": "execute_result"
    }
   ],
   "source": [
    "pd.DataFrame(list(dict_series))"
   ]
  },
  {
   "cell_type": "code",
   "execution_count": 90,
   "metadata": {},
   "outputs": [
    {
     "data": {
      "text/plain": [
       "'CodificationBilan [libelleActivite=Coaching sportif, natureActivites=null, liasseType=X, evenementType=01P, surface=null, libelleNettoye=coaching sportif AUTO_X EVT_SICORE_01P SURF_NaN NAT_SICORE_NaN, predictions=[prediction n° 1 : code naf proposé = 8551Z ; proba associée = 0.9999134404782226][prediction n° 2 : code naf proposé = 8559A ; proba associée = 4.613136953991082E-5], bilan=Codification réussie avec FastText et un indicateur de confiance : 0.5, fasttextVersion=7256ac141b5e9707ecf064b26f6080bf]\\n'"
      ]
     },
     "execution_count": 90,
     "metadata": {},
     "output_type": "execute_result"
    }
   ],
   "source": [
    "test_str = df_info.iloc[0, 1]\n",
    "test_str"
   ]
  },
  {
   "cell_type": "code",
   "execution_count": 99,
   "metadata": {},
   "outputs": [
    {
     "data": {
      "text/plain": [
       "[re.compile(r'libelleActivite=([^,]*),', re.UNICODE),\n",
       " re.compile(r'natureActivites=([^,]*),', re.UNICODE),\n",
       " re.compile(r'liasseType=([^,]*),', re.UNICODE),\n",
       " re.compile(r'evenementType=([^,]*),', re.UNICODE),\n",
       " re.compile(r'surface=([^,]*),', re.UNICODE),\n",
       " re.compile(r'libelleNettoye=([^,]*),', re.UNICODE),\n",
       " re.compile(r'predictions=([^,]*),', re.UNICODE),\n",
       " re.compile(r'bilan=([^,]*),', re.UNICODE),\n",
       " re.compile(r'fasttextVersion=([^,]*)\\]', re.UNICODE)]"
      ]
     },
     "execution_count": 99,
     "metadata": {},
     "output_type": "execute_result"
    }
   ],
   "source": [
    "info_fields = [\n",
    "    \"libelleActivite\",\n",
    "    \"natureActivites\",\n",
    "    \"liasseType\",\n",
    "    \"evenementType\",\n",
    "    \"surface\",\n",
    "    \"libelleNettoye\",\n",
    "    \"predictions\",\n",
    "    \"bilan\"\n",
    "]\n",
    "info_regexes = [re.compile(r'{}'.format(field + '=([^,]*),')) for field in info_fields]\n",
    "\n",
    "info_fields.append(\"fasttextVersion\")\n",
    "info_regexes.append(re.compile(r'fasttextVersion=([^,]*)\\]'))\n",
    "\n",
    "info_regexes"
   ]
  },
  {
   "cell_type": "code",
   "execution_count": 102,
   "metadata": {},
   "outputs": [
    {
     "data": {
      "text/plain": [
       "{'libelleActivite': 'Coaching sportif',\n",
       " 'natureActivites': 'null',\n",
       " 'liasseType': 'X',\n",
       " 'evenementType': '01P',\n",
       " 'surface': 'null',\n",
       " 'libelleNettoye': 'coaching sportif AUTO_X EVT_SICORE_01P SURF_NaN NAT_SICORE_NaN',\n",
       " 'predictions': '[prediction n° 1 : code naf proposé = 8551Z ; proba associée = 0.9999134404782226][prediction n° 2 : code naf proposé = 8559A ; proba associée = 4.613136953991082E-5]',\n",
       " 'bilan': 'Codification réussie avec FastText et un indicateur de confiance : 0.5',\n",
       " 'fasttextVersion': '7256ac141b5e9707ecf064b26f6080bf'}"
      ]
     },
     "execution_count": 102,
     "metadata": {},
     "output_type": "execute_result"
    }
   ],
   "source": [
    "parse_raw_input(test_str, info_fields, info_regexes)"
   ]
  },
  {
   "cell_type": "code",
   "execution_count": 108,
   "metadata": {},
   "outputs": [
    {
     "data": {
      "text/plain": [
       "('8551Z', '8559A', 0.9999134404782226, 4.613136953991082e-05)"
      ]
     },
     "execution_count": 108,
     "metadata": {},
     "output_type": "execute_result"
    }
   ],
   "source": [
    "def extract_first_pred(predictions):\n",
    "    regex = re.compile(r'proposé = ([^;]*) ;.*associée = ([^;]*)\\].*proposé = ([^;]*) ;.*associée = ([^;]*)\\]')\n",
    "    matches = regex.search(predictions)\n",
    "    first_code = matches.group(1)\n",
    "    second_code = matches.group(3)\n",
    "    first_proba = matches.group(2)\n",
    "    second_proba = matches.group(4)\n",
    "    return (first_code, second_code, float(first_proba), float(second_proba))\n",
    "\n",
    "extract_first_pred(parse_raw_input(test_str, info_fields, info_regexes)[\"predictions\"])"
   ]
  },
  {
   "cell_type": "code",
   "execution_count": 111,
   "metadata": {},
   "outputs": [],
   "source": [
    "dict_series = [parse_raw_input(info_input, info_fields, info_regexes) for info_input in df_info.description]"
   ]
  },
  {
   "cell_type": "code",
   "execution_count": 115,
   "metadata": {},
   "outputs": [],
   "source": [
    "df = pd.DataFrame(list(dict_series))"
   ]
  },
  {
   "cell_type": "code",
   "execution_count": 117,
   "metadata": {},
   "outputs": [
    {
     "data": {
      "text/html": [
       "<div>\n",
       "<style scoped>\n",
       "    .dataframe tbody tr th:only-of-type {\n",
       "        vertical-align: middle;\n",
       "    }\n",
       "\n",
       "    .dataframe tbody tr th {\n",
       "        vertical-align: top;\n",
       "    }\n",
       "\n",
       "    .dataframe thead th {\n",
       "        text-align: right;\n",
       "    }\n",
       "</style>\n",
       "<table border=\"1\" class=\"dataframe\">\n",
       "  <thead>\n",
       "    <tr style=\"text-align: right;\">\n",
       "      <th></th>\n",
       "      <th>libelleActivite</th>\n",
       "      <th>natureActivites</th>\n",
       "      <th>liasseType</th>\n",
       "      <th>evenementType</th>\n",
       "      <th>surface</th>\n",
       "      <th>libelleNettoye</th>\n",
       "      <th>predictions</th>\n",
       "      <th>bilan</th>\n",
       "      <th>fasttextVersion</th>\n",
       "      <th>first_pred</th>\n",
       "      <th>second_pred</th>\n",
       "      <th>first_proba</th>\n",
       "      <th>second_proba</th>\n",
       "    </tr>\n",
       "  </thead>\n",
       "  <tbody>\n",
       "    <tr>\n",
       "      <th>0</th>\n",
       "      <td>Coaching sportif</td>\n",
       "      <td>null</td>\n",
       "      <td>X</td>\n",
       "      <td>01P</td>\n",
       "      <td>null</td>\n",
       "      <td>coaching sportif AUTO_X EVT_SICORE_01P SURF_Na...</td>\n",
       "      <td>[prediction n° 1 : code naf proposé = 8551Z ; ...</td>\n",
       "      <td>Codification réussie avec FastText et un indic...</td>\n",
       "      <td>7256ac141b5e9707ecf064b26f6080bf</td>\n",
       "      <td>8551Z</td>\n",
       "      <td>8551Z</td>\n",
       "      <td>8551Z</td>\n",
       "      <td>8551Z</td>\n",
       "    </tr>\n",
       "    <tr>\n",
       "      <th>1</th>\n",
       "      <td>Réalisation de dessins d'animation.</td>\n",
       "      <td>null</td>\n",
       "      <td>X</td>\n",
       "      <td>01P</td>\n",
       "      <td>null</td>\n",
       "      <td>realis dessin anim AUTO_X EVT_SICORE_01P SURF_...</td>\n",
       "      <td>[prediction n° 1 : code naf proposé = 5911A ; ...</td>\n",
       "      <td>Codification réussie avec FastText et un indic...</td>\n",
       "      <td>7256ac141b5e9707ecf064b26f6080bf</td>\n",
       "      <td>5911A</td>\n",
       "      <td>5911A</td>\n",
       "      <td>5911A</td>\n",
       "      <td>5911A</td>\n",
       "    </tr>\n",
       "    <tr>\n",
       "      <th>2</th>\n",
       "      <td>\"Electricien</td>\n",
       "      <td>14</td>\n",
       "      <td>Z</td>\n",
       "      <td>01P</td>\n",
       "      <td>null</td>\n",
       "      <td>electricien electricit general AUTO_Z EVT_SICO...</td>\n",
       "      <td>[prediction n° 1 : code naf proposé = 4321A ; ...</td>\n",
       "      <td>Codification réussie avec FastText et un indic...</td>\n",
       "      <td>7256ac141b5e9707ecf064b26f6080bf</td>\n",
       "      <td>4321A</td>\n",
       "      <td>4321A</td>\n",
       "      <td>4321A</td>\n",
       "      <td>4321A</td>\n",
       "    </tr>\n",
       "    <tr>\n",
       "      <th>3</th>\n",
       "      <td>\"prestations de services</td>\n",
       "      <td>99</td>\n",
       "      <td>X</td>\n",
       "      <td>01P</td>\n",
       "      <td>null</td>\n",
       "      <td>prestat servic assist ressort britann tach adm...</td>\n",
       "      <td>[prediction n° 1 : code naf proposé = 6831Z ; ...</td>\n",
       "      <td>Codification réussie avec FastText et un indic...</td>\n",
       "      <td>7256ac141b5e9707ecf064b26f6080bf</td>\n",
       "      <td>6831Z</td>\n",
       "      <td>6831Z</td>\n",
       "      <td>6831Z</td>\n",
       "      <td>6831Z</td>\n",
       "    </tr>\n",
       "    <tr>\n",
       "      <th>4</th>\n",
       "      <td>Agent Commercial Mandataire en Immobilier</td>\n",
       "      <td>null</td>\n",
       "      <td>R</td>\n",
       "      <td>01P</td>\n",
       "      <td>null</td>\n",
       "      <td>agent commercial mandatair immobili AUTO_R EVT...</td>\n",
       "      <td>[prediction n° 1 : code naf proposé = 6831Z ; ...</td>\n",
       "      <td>Codification réussie avec FastText et un indic...</td>\n",
       "      <td>7256ac141b5e9707ecf064b26f6080bf</td>\n",
       "      <td>6831Z</td>\n",
       "      <td>6831Z</td>\n",
       "      <td>6831Z</td>\n",
       "      <td>6831Z</td>\n",
       "    </tr>\n",
       "    <tr>\n",
       "      <th>...</th>\n",
       "      <td>...</td>\n",
       "      <td>...</td>\n",
       "      <td>...</td>\n",
       "      <td>...</td>\n",
       "      <td>...</td>\n",
       "      <td>...</td>\n",
       "      <td>...</td>\n",
       "      <td>...</td>\n",
       "      <td>...</td>\n",
       "      <td>...</td>\n",
       "      <td>...</td>\n",
       "      <td>...</td>\n",
       "      <td>...</td>\n",
       "    </tr>\n",
       "    <tr>\n",
       "      <th>32926</th>\n",
       "      <td>Réalisation de séances d'hypnose</td>\n",
       "      <td>99</td>\n",
       "      <td>C</td>\n",
       "      <td>01M</td>\n",
       "      <td>null</td>\n",
       "      <td>realis seanc hypnos AUTO_C EVT_SICORE_01M SURF...</td>\n",
       "      <td>[prediction n° 1 : code naf proposé = 9609Z ; ...</td>\n",
       "      <td>Codification réussie avec FastText et un indic...</td>\n",
       "      <td>7256ac141b5e9707ecf064b26f6080bf</td>\n",
       "      <td>9609Z</td>\n",
       "      <td>9609Z</td>\n",
       "      <td>9609Z</td>\n",
       "      <td>9609Z</td>\n",
       "    </tr>\n",
       "    <tr>\n",
       "      <th>32927</th>\n",
       "      <td>Exploitation de boutique E-commerce. Recours à...</td>\n",
       "      <td>99</td>\n",
       "      <td>C</td>\n",
       "      <td>01P</td>\n",
       "      <td>null</td>\n",
       "      <td>exploit boutiqu e commerc recour acte AUTO_C E...</td>\n",
       "      <td>[prediction n° 1 : code naf proposé = 4791B ; ...</td>\n",
       "      <td>Échec de la codification FastText</td>\n",
       "      <td>7256ac141b5e9707ecf064b26f6080bf</td>\n",
       "      <td>4791B</td>\n",
       "      <td>4791B</td>\n",
       "      <td>4791B</td>\n",
       "      <td>4791B</td>\n",
       "    </tr>\n",
       "    <tr>\n",
       "      <th>32928</th>\n",
       "      <td>Prépration et vente de plats cuisinés à emporter</td>\n",
       "      <td>99</td>\n",
       "      <td>C</td>\n",
       "      <td>05P</td>\n",
       "      <td>null</td>\n",
       "      <td>preprat vent plat cuisin emport AUTO_C EVT_SIC...</td>\n",
       "      <td>[prediction n° 1 : code naf proposé = 5610C ; ...</td>\n",
       "      <td>Codification réussie avec FastText et un indic...</td>\n",
       "      <td>7256ac141b5e9707ecf064b26f6080bf</td>\n",
       "      <td>5610C</td>\n",
       "      <td>5610C</td>\n",
       "      <td>5610C</td>\n",
       "      <td>5610C</td>\n",
       "    </tr>\n",
       "    <tr>\n",
       "      <th>32929</th>\n",
       "      <td>\"Animations d'ateliers</td>\n",
       "      <td>null</td>\n",
       "      <td>X</td>\n",
       "      <td>01P</td>\n",
       "      <td>null</td>\n",
       "      <td>anim ateli stag spectacl improvis theatral clo...</td>\n",
       "      <td>[prediction n° 1 : code naf proposé = 9001Z ; ...</td>\n",
       "      <td>Codification réussie avec FastText et un indic...</td>\n",
       "      <td>7256ac141b5e9707ecf064b26f6080bf</td>\n",
       "      <td>9001Z</td>\n",
       "      <td>9001Z</td>\n",
       "      <td>9001Z</td>\n",
       "      <td>9001Z</td>\n",
       "    </tr>\n",
       "    <tr>\n",
       "      <th>32930</th>\n",
       "      <td>Petite pêche</td>\n",
       "      <td>null</td>\n",
       "      <td>X</td>\n",
       "      <td>01P</td>\n",
       "      <td>null</td>\n",
       "      <td>petit pech AUTO_X EVT_SICORE_01P SURF_NaN NAT_...</td>\n",
       "      <td>[prediction n° 1 : code naf proposé = 0311Z ; ...</td>\n",
       "      <td>Codification réussie avec FastText et un indic...</td>\n",
       "      <td>7256ac141b5e9707ecf064b26f6080bf</td>\n",
       "      <td>0311Z</td>\n",
       "      <td>0311Z</td>\n",
       "      <td>0311Z</td>\n",
       "      <td>0311Z</td>\n",
       "    </tr>\n",
       "  </tbody>\n",
       "</table>\n",
       "<p>32931 rows × 13 columns</p>\n",
       "</div>"
      ],
      "text/plain": [
       "                                         libelleActivite natureActivites  \\\n",
       "0                                       Coaching sportif            null   \n",
       "1                    Réalisation de dessins d'animation.            null   \n",
       "2                                           \"Electricien              14   \n",
       "3                               \"prestations de services              99   \n",
       "4              Agent Commercial Mandataire en Immobilier            null   \n",
       "...                                                  ...             ...   \n",
       "32926                   Réalisation de séances d'hypnose              99   \n",
       "32927  Exploitation de boutique E-commerce. Recours à...              99   \n",
       "32928   Prépration et vente de plats cuisinés à emporter              99   \n",
       "32929                             \"Animations d'ateliers            null   \n",
       "32930                                      Petite pêche             null   \n",
       "\n",
       "      liasseType evenementType surface  \\\n",
       "0              X           01P    null   \n",
       "1              X           01P    null   \n",
       "2              Z           01P    null   \n",
       "3              X           01P    null   \n",
       "4              R           01P    null   \n",
       "...          ...           ...     ...   \n",
       "32926          C           01M    null   \n",
       "32927          C           01P    null   \n",
       "32928          C           05P    null   \n",
       "32929          X           01P    null   \n",
       "32930          X           01P    null   \n",
       "\n",
       "                                          libelleNettoye  \\\n",
       "0      coaching sportif AUTO_X EVT_SICORE_01P SURF_Na...   \n",
       "1      realis dessin anim AUTO_X EVT_SICORE_01P SURF_...   \n",
       "2      electricien electricit general AUTO_Z EVT_SICO...   \n",
       "3      prestat servic assist ressort britann tach adm...   \n",
       "4      agent commercial mandatair immobili AUTO_R EVT...   \n",
       "...                                                  ...   \n",
       "32926  realis seanc hypnos AUTO_C EVT_SICORE_01M SURF...   \n",
       "32927  exploit boutiqu e commerc recour acte AUTO_C E...   \n",
       "32928  preprat vent plat cuisin emport AUTO_C EVT_SIC...   \n",
       "32929  anim ateli stag spectacl improvis theatral clo...   \n",
       "32930  petit pech AUTO_X EVT_SICORE_01P SURF_NaN NAT_...   \n",
       "\n",
       "                                             predictions  \\\n",
       "0      [prediction n° 1 : code naf proposé = 8551Z ; ...   \n",
       "1      [prediction n° 1 : code naf proposé = 5911A ; ...   \n",
       "2      [prediction n° 1 : code naf proposé = 4321A ; ...   \n",
       "3      [prediction n° 1 : code naf proposé = 6831Z ; ...   \n",
       "4      [prediction n° 1 : code naf proposé = 6831Z ; ...   \n",
       "...                                                  ...   \n",
       "32926  [prediction n° 1 : code naf proposé = 9609Z ; ...   \n",
       "32927  [prediction n° 1 : code naf proposé = 4791B ; ...   \n",
       "32928  [prediction n° 1 : code naf proposé = 5610C ; ...   \n",
       "32929  [prediction n° 1 : code naf proposé = 9001Z ; ...   \n",
       "32930  [prediction n° 1 : code naf proposé = 0311Z ; ...   \n",
       "\n",
       "                                                   bilan  \\\n",
       "0      Codification réussie avec FastText et un indic...   \n",
       "1      Codification réussie avec FastText et un indic...   \n",
       "2      Codification réussie avec FastText et un indic...   \n",
       "3      Codification réussie avec FastText et un indic...   \n",
       "4      Codification réussie avec FastText et un indic...   \n",
       "...                                                  ...   \n",
       "32926  Codification réussie avec FastText et un indic...   \n",
       "32927                  Échec de la codification FastText   \n",
       "32928  Codification réussie avec FastText et un indic...   \n",
       "32929  Codification réussie avec FastText et un indic...   \n",
       "32930  Codification réussie avec FastText et un indic...   \n",
       "\n",
       "                        fasttextVersion first_pred second_pred first_proba  \\\n",
       "0      7256ac141b5e9707ecf064b26f6080bf      8551Z       8551Z       8551Z   \n",
       "1      7256ac141b5e9707ecf064b26f6080bf      5911A       5911A       5911A   \n",
       "2      7256ac141b5e9707ecf064b26f6080bf      4321A       4321A       4321A   \n",
       "3      7256ac141b5e9707ecf064b26f6080bf      6831Z       6831Z       6831Z   \n",
       "4      7256ac141b5e9707ecf064b26f6080bf      6831Z       6831Z       6831Z   \n",
       "...                                 ...        ...         ...         ...   \n",
       "32926  7256ac141b5e9707ecf064b26f6080bf      9609Z       9609Z       9609Z   \n",
       "32927  7256ac141b5e9707ecf064b26f6080bf      4791B       4791B       4791B   \n",
       "32928  7256ac141b5e9707ecf064b26f6080bf      5610C       5610C       5610C   \n",
       "32929  7256ac141b5e9707ecf064b26f6080bf      9001Z       9001Z       9001Z   \n",
       "32930  7256ac141b5e9707ecf064b26f6080bf      0311Z       0311Z       0311Z   \n",
       "\n",
       "      second_proba  \n",
       "0            8551Z  \n",
       "1            5911A  \n",
       "2            4321A  \n",
       "3            6831Z  \n",
       "4            6831Z  \n",
       "...            ...  \n",
       "32926        9609Z  \n",
       "32927        4791B  \n",
       "32928        5610C  \n",
       "32929        9001Z  \n",
       "32930        0311Z  \n",
       "\n",
       "[32931 rows x 13 columns]"
      ]
     },
     "execution_count": 117,
     "metadata": {},
     "output_type": "execute_result"
    }
   ],
   "source": [
    "predictions = [extract_first_pred(predictions) for predictions in df[\"predictions\"]]\n",
    "df[\"first_pred\"] = [prediction[0] for prediction in predictions]\n",
    "df[\"second_pred\"] = [prediction[0] for prediction in predictions]\n",
    "df[\"first_proba\"] = [prediction[0] for prediction in predictions]\n",
    "df[\"second_proba\"] = [prediction[0] for prediction in predictions]\n",
    "\n",
    "df"
   ]
  },
  {
   "cell_type": "code",
   "execution_count": null,
   "metadata": {},
   "outputs": [],
   "source": []
  }
 ],
 "metadata": {
  "kernelspec": {
   "display_name": "Python 3.9.0 ('base')",
   "language": "python",
   "name": "python3"
  },
  "language_info": {
   "codemirror_mode": {
    "name": "ipython",
    "version": 3
   },
   "file_extension": ".py",
   "mimetype": "text/x-python",
   "name": "python",
   "nbconvert_exporter": "python",
   "pygments_lexer": "ipython3",
   "version": "3.9.0"
  },
  "orig_nbformat": 4,
  "vscode": {
   "interpreter": {
    "hash": "3fa046f995eb80ac40c0869a1f9df46519f4ada8b8c395ef25dd1aa1a1a2fc63"
   }
  }
 },
 "nbformat": 4,
 "nbformat_minor": 2
}
