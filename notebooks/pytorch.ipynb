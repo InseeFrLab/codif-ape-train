{
 "cells": [
  {
   "cell_type": "markdown",
   "metadata": {},
   "source": [
    "# Test implémentation de FastText avec Pytorch"
   ]
  },
  {
   "cell_type": "code",
   "execution_count": 1,
   "metadata": {},
   "outputs": [],
   "source": [
    "import sys\n",
    "sys.path.append(\"../\")\n",
    "sys.path.append(\"../src/\")"
   ]
  },
  {
   "cell_type": "markdown",
   "metadata": {},
   "source": [
    "## Chargement des données"
   ]
  },
  {
   "cell_type": "code",
   "execution_count": 3,
   "metadata": {},
   "outputs": [],
   "source": [
    "import pandas as pd\n",
    "df_orig = pd.read_parquet(\"../data/extraction_sirene_20220712.parquet\", engine=\"pyarrow\")"
   ]
  },
  {
   "cell_type": "code",
   "execution_count": 4,
   "metadata": {},
   "outputs": [],
   "source": [
    "distinct_values = df_orig[\"APE_SICORE\"].unique().tolist()\n",
    "y_dict = {key: value for key, value in zip(distinct_values, range(len(distinct_values)))}"
   ]
  },
  {
   "cell_type": "code",
   "execution_count": 5,
   "metadata": {},
   "outputs": [],
   "source": [
    "import pandas as pd\n",
    "import yaml\n",
    "\n",
    "df = df_orig.sample(frac=0.001, random_state=1)"
   ]
  },
  {
   "cell_type": "code",
   "execution_count": 6,
   "metadata": {},
   "outputs": [
    {
     "data": {
      "text/plain": [
       "(10866, 20)"
      ]
     },
     "execution_count": 6,
     "metadata": {},
     "output_type": "execute_result"
    }
   ],
   "source": [
    "df.shape"
   ]
  },
  {
   "cell_type": "markdown",
   "metadata": {},
   "source": [
    "## Chargement du fichier de configuration sans variable catégorielle"
   ]
  },
  {
   "cell_type": "code",
   "execution_count": 7,
   "metadata": {},
   "outputs": [],
   "source": [
    "config_path = \"../config/config_fasttext_00.yaml\"\n",
    "with open(config_path, \"r\") as stream:\n",
    "    fasttext_config = yaml.safe_load(stream)\n",
    "params = fasttext_config[\"params\"]\n",
    "categorical_features = fasttext_config[\"categorical_features\"]"
   ]
  },
  {
   "cell_type": "code",
   "execution_count": 8,
   "metadata": {},
   "outputs": [],
   "source": [
    "categorical_features"
   ]
  },
  {
   "cell_type": "markdown",
   "metadata": {},
   "source": [
    "## Entraînement du modèle"
   ]
  },
  {
   "cell_type": "code",
   "execution_count": 9,
   "metadata": {},
   "outputs": [],
   "source": [
    "from fasttext_classifier.fasttext_preprocessor import FastTextPreprocessor\n",
    "from fasttext_classifier.fasttext_trainer import FastTextTrainer\n",
    "\n",
    "preprocessor = FastTextPreprocessor()\n",
    "trainer = FastTextTrainer()"
   ]
  },
  {
   "cell_type": "code",
   "execution_count": 10,
   "metadata": {},
   "outputs": [],
   "source": [
    "from src.constants import TEXT_FEATURE, Y"
   ]
  },
  {
   "cell_type": "code",
   "execution_count": 11,
   "metadata": {},
   "outputs": [
    {
     "name": "stderr",
     "output_type": "stream",
     "text": [
      "Read 0M words\n",
      "Number of words:  1417\n",
      "Number of labels: 428\n",
      "Progress: 100.0% words/sec/thread:    6588 lr:  0.000000 avg.loss:  2.017687 ETA:   0h 0m 0s\n"
     ]
    }
   ],
   "source": [
    "# Preprocess data\n",
    "df_train, df_test, df_gu = preprocessor.preprocess(\n",
    "    df=df,\n",
    "    y=Y,\n",
    "    text_feature=TEXT_FEATURE,\n",
    "    categorical_features=categorical_features,\n",
    ")\n",
    "\n",
    "# Run training of the model\n",
    "model = trainer.train(df_train, Y, TEXT_FEATURE, categorical_features, params)"
   ]
  },
  {
   "cell_type": "code",
   "execution_count": 12,
   "metadata": {},
   "outputs": [
    {
     "data": {
      "text/html": [
       "<div>\n",
       "<style scoped>\n",
       "    .dataframe tbody tr th:only-of-type {\n",
       "        vertical-align: middle;\n",
       "    }\n",
       "\n",
       "    .dataframe tbody tr th {\n",
       "        vertical-align: top;\n",
       "    }\n",
       "\n",
       "    .dataframe thead th {\n",
       "        text-align: right;\n",
       "    }\n",
       "</style>\n",
       "<table border=\"1\" class=\"dataframe\">\n",
       "  <thead>\n",
       "    <tr style=\"text-align: right;\">\n",
       "      <th></th>\n",
       "      <th>LIB_SICORE</th>\n",
       "      <th>APE_NIV5</th>\n",
       "    </tr>\n",
       "    <tr>\n",
       "      <th>LIA_NUM</th>\n",
       "      <th></th>\n",
       "      <th></th>\n",
       "    </tr>\n",
       "  </thead>\n",
       "  <tbody>\n",
       "    <tr>\n",
       "      <th>U44074165258</th>\n",
       "      <td>dieteticien</td>\n",
       "      <td>8690F</td>\n",
       "    </tr>\n",
       "    <tr>\n",
       "      <th>U63070437203</th>\n",
       "      <td>medium voi energeticien</td>\n",
       "      <td>9609Z</td>\n",
       "    </tr>\n",
       "    <tr>\n",
       "      <th>I33186517343</th>\n",
       "      <td>producteur electricit photovolta</td>\n",
       "      <td>3511Z</td>\n",
       "    </tr>\n",
       "    <tr>\n",
       "      <th>C72019032577</th>\n",
       "      <td>product electricit</td>\n",
       "      <td>3511Z</td>\n",
       "    </tr>\n",
       "    <tr>\n",
       "      <th>M73017781391</th>\n",
       "      <td>maconner</td>\n",
       "      <td>4399C</td>\n",
       "    </tr>\n",
       "  </tbody>\n",
       "</table>\n",
       "</div>"
      ],
      "text/plain": [
       "                                    LIB_SICORE APE_NIV5\n",
       "LIA_NUM                                                \n",
       "U44074165258                       dieteticien    8690F\n",
       "U63070437203           medium voi energeticien    9609Z\n",
       "I33186517343  producteur electricit photovolta    3511Z\n",
       "C72019032577                product electricit    3511Z\n",
       "M73017781391                          maconner    4399C"
      ]
     },
     "execution_count": 12,
     "metadata": {},
     "output_type": "execute_result"
    }
   ],
   "source": [
    "df_train.head()"
   ]
  },
  {
   "cell_type": "code",
   "execution_count": 134,
   "metadata": {},
   "outputs": [],
   "source": [
    "word_id_mapping = {}\n",
    "for sentence in df_train[\"LIB_SICORE\"]:\n",
    "    for word in sentence.split(\" \"):\n",
    "        word_id_mapping[word] = model.get_word_id(word)"
   ]
  },
  {
   "cell_type": "code",
   "execution_count": 142,
   "metadata": {},
   "outputs": [
    {
     "data": {
      "text/html": [
       "<div>\n",
       "<style scoped>\n",
       "    .dataframe tbody tr th:only-of-type {\n",
       "        vertical-align: middle;\n",
       "    }\n",
       "\n",
       "    .dataframe tbody tr th {\n",
       "        vertical-align: top;\n",
       "    }\n",
       "\n",
       "    .dataframe thead th {\n",
       "        text-align: right;\n",
       "    }\n",
       "</style>\n",
       "<table border=\"1\" class=\"dataframe\">\n",
       "  <thead>\n",
       "    <tr style=\"text-align: right;\">\n",
       "      <th></th>\n",
       "      <th>LIB_SICORE</th>\n",
       "      <th>APE_NIV5</th>\n",
       "    </tr>\n",
       "    <tr>\n",
       "      <th>LIA_NUM</th>\n",
       "      <th></th>\n",
       "      <th></th>\n",
       "    </tr>\n",
       "  </thead>\n",
       "  <tbody>\n",
       "    <tr>\n",
       "      <th>U31073440239</th>\n",
       "      <td>product spectacl viv</td>\n",
       "      <td>9001Z</td>\n",
       "    </tr>\n",
       "    <tr>\n",
       "      <th>G31520227555</th>\n",
       "      <td>achat vent locat tous vehicul neuf er occas sa...</td>\n",
       "      <td>4511Z</td>\n",
       "    </tr>\n",
       "    <tr>\n",
       "      <th>U59073596087</th>\n",
       "      <td>enlev livraison marchandis</td>\n",
       "      <td>5320Z</td>\n",
       "    </tr>\n",
       "    <tr>\n",
       "      <th>G92511544765</th>\n",
       "      <td>livraison rep cours a domicil velo</td>\n",
       "      <td>5320Z</td>\n",
       "    </tr>\n",
       "    <tr>\n",
       "      <th>G57015046108</th>\n",
       "      <td>agent commercial</td>\n",
       "      <td>4617B</td>\n",
       "    </tr>\n",
       "    <tr>\n",
       "      <th>M33019511555</th>\n",
       "      <td>traval finit bat</td>\n",
       "      <td>4339Z</td>\n",
       "    </tr>\n",
       "    <tr>\n",
       "      <th>X38011010489</th>\n",
       "      <td>sylvicultur autr activit forestier</td>\n",
       "      <td>0210Z</td>\n",
       "    </tr>\n",
       "    <tr>\n",
       "      <th>U69075690803</th>\n",
       "      <td>conseil commun organis</td>\n",
       "      <td>7021Z</td>\n",
       "    </tr>\n",
       "    <tr>\n",
       "      <th>C63029039224</th>\n",
       "      <td>heberg restaur</td>\n",
       "      <td>5510Z</td>\n",
       "    </tr>\n",
       "    <tr>\n",
       "      <th>U45072765015</th>\n",
       "      <td>traduct oeuvr litterair text scientif pedagog</td>\n",
       "      <td>9003B</td>\n",
       "    </tr>\n",
       "    <tr>\n",
       "      <th>G69518628802</th>\n",
       "      <td>conseil strateg domain commun marketing design...</td>\n",
       "      <td>7021Z</td>\n",
       "    </tr>\n",
       "    <tr>\n",
       "      <th>G86821014932</th>\n",
       "      <td>loueur meubl non professionnel</td>\n",
       "      <td>6820A</td>\n",
       "    </tr>\n",
       "    <tr>\n",
       "      <th>U75078193033</th>\n",
       "      <td>avocat</td>\n",
       "      <td>6910Z</td>\n",
       "    </tr>\n",
       "    <tr>\n",
       "      <th>U33072664090</th>\n",
       "      <td>conseil entrepris</td>\n",
       "      <td>7022Z</td>\n",
       "    </tr>\n",
       "    <tr>\n",
       "      <th>U75173537985</th>\n",
       "      <td>edit publiqu lign bas donne repertoir list adress</td>\n",
       "      <td>5812Z</td>\n",
       "    </tr>\n",
       "    <tr>\n",
       "      <th>U69070051092</th>\n",
       "      <td>vendeur a domicil</td>\n",
       "      <td>4799A</td>\n",
       "    </tr>\n",
       "    <tr>\n",
       "      <th>M93010940792</th>\n",
       "      <td>nettoyag cour tout typ bat</td>\n",
       "      <td>8121Z</td>\n",
       "    </tr>\n",
       "    <tr>\n",
       "      <th>C75018077477</th>\n",
       "      <td>bar caf restaur</td>\n",
       "      <td>5630Z</td>\n",
       "    </tr>\n",
       "    <tr>\n",
       "      <th>G08026771867</th>\n",
       "      <td>construct exploit sous tout form a part energ ...</td>\n",
       "      <td>3511Z</td>\n",
       "    </tr>\n",
       "    <tr>\n",
       "      <th>G57016061577</th>\n",
       "      <td>acquisit administr gestion tous immeubl bien i...</td>\n",
       "      <td>6820B</td>\n",
       "    </tr>\n",
       "  </tbody>\n",
       "</table>\n",
       "</div>"
      ],
      "text/plain": [
       "                                                     LIB_SICORE APE_NIV5\n",
       "LIA_NUM                                                                 \n",
       "U31073440239                               product spectacl viv    9001Z\n",
       "G31520227555  achat vent locat tous vehicul neuf er occas sa...    4511Z\n",
       "U59073596087                         enlev livraison marchandis    5320Z\n",
       "G92511544765                 livraison rep cours a domicil velo    5320Z\n",
       "G57015046108                                   agent commercial    4617B\n",
       "M33019511555                                   traval finit bat    4339Z\n",
       "X38011010489                 sylvicultur autr activit forestier    0210Z\n",
       "U69075690803                             conseil commun organis    7021Z\n",
       "C63029039224                                     heberg restaur    5510Z\n",
       "U45072765015      traduct oeuvr litterair text scientif pedagog    9003B\n",
       "G69518628802  conseil strateg domain commun marketing design...    7021Z\n",
       "G86821014932                     loueur meubl non professionnel    6820A\n",
       "U75078193033                                             avocat    6910Z\n",
       "U33072664090                                  conseil entrepris    7022Z\n",
       "U75173537985  edit publiqu lign bas donne repertoir list adress    5812Z\n",
       "U69070051092                                  vendeur a domicil    4799A\n",
       "M93010940792                         nettoyag cour tout typ bat    8121Z\n",
       "C75018077477                                    bar caf restaur    5630Z\n",
       "G08026771867  construct exploit sous tout form a part energ ...    3511Z\n",
       "G57016061577  acquisit administr gestion tous immeubl bien i...    6820B"
      ]
     },
     "execution_count": 142,
     "metadata": {},
     "output_type": "execute_result"
    }
   ],
   "source": [
    "df_train.tail(20)"
   ]
  },
  {
   "cell_type": "code",
   "execution_count": 163,
   "metadata": {},
   "outputs": [],
   "source": [
    "word_counts = {}\n",
    "for sentence in df_train[\"LIB_SICORE\"]:\n",
    "    for word in sentence.split(\" \"):\n",
    "        word_counts[word] = word_counts.setdefault(word, 0) + 1"
   ]
  },
  {
   "cell_type": "code",
   "execution_count": 165,
   "metadata": {},
   "outputs": [],
   "source": [
    "new_word_id_mapping = {}\n",
    "i = 1\n",
    "for word, counts in word_counts.items():\n",
    "    if word_counts[word] > 2:\n",
    "        new_word_id_mapping[word] = i\n",
    "        i += 1"
   ]
  },
  {
   "cell_type": "code",
   "execution_count": 166,
   "metadata": {},
   "outputs": [
    {
     "data": {
      "text/plain": [
       "3604"
      ]
     },
     "execution_count": 166,
     "metadata": {},
     "output_type": "execute_result"
    }
   ],
   "source": [
    "len(word_id_mapping)"
   ]
  },
  {
   "cell_type": "code",
   "execution_count": 167,
   "metadata": {},
   "outputs": [
    {
     "data": {
      "text/plain": [
       "1417"
      ]
     },
     "execution_count": 167,
     "metadata": {},
     "output_type": "execute_result"
    }
   ],
   "source": [
    "len(new_word_id_mapping)"
   ]
  },
  {
   "cell_type": "code",
   "execution_count": 168,
   "metadata": {},
   "outputs": [
    {
     "data": {
      "text/plain": [
       "1417"
      ]
     },
     "execution_count": 168,
     "metadata": {},
     "output_type": "execute_result"
    }
   ],
   "source": [
    "nwords"
   ]
  },
  {
   "cell_type": "code",
   "execution_count": null,
   "metadata": {},
   "outputs": [],
   "source": [
    "for word in .replace(', ',' ').split():\n",
    "    wordfreq[word] = wordfreq.setdefault(word, 0) + 1"
   ]
  },
  {
   "cell_type": "code",
   "execution_count": 157,
   "metadata": {},
   "outputs": [
    {
     "name": "stdout",
     "output_type": "stream",
     "text": [
      "edit publiqu lign bas donne repertoir list adress\n",
      "repertoir\n",
      "edit publiqu lign bas donne repertoir list adress\n",
      "list\n",
      "edit publiqu lign bas donne repertoir list adress\n",
      "adress\n",
      "acquisit propriet gestion administr disposit bien immobili protefeuill\n",
      "protefeuill\n",
      "radiologu remplac\n",
      "radiologu\n",
      "commerc lign produit textil edit limite statu collect film dessin anime servic\n",
      "limite\n",
      "commerc lign produit textil edit limite statu collect film dessin anime servic\n",
      "statu\n",
      "commerc lign produit textil edit limite statu collect film dessin anime servic\n",
      "anime\n",
      "product commercialis volaill fermier oeuf tous produit deriv\n",
      "fermier\n",
      "mecan carrosser locat achat vent lavag nettoyag depannag vehicul motoris non auto moto quad\n",
      "quad\n",
      "feder promouvoir activit artist membr\n",
      "feder\n"
     ]
    }
   ],
   "source": [
    "for i in range(1, 50):\n",
    "    indices = indices_matrix(df_train[\"LIB_SICORE\"][-i], model)\n",
    "    for word in df_train[\"LIB_SICORE\"][-i].split(\" \"):\n",
    "        if model.get_word_id(word) == -1:\n",
    "            print(df_train[\"LIB_SICORE\"][-i])\n",
    "            print(word)\n",
    "\n",
    "    if -1 in indices:\n",
    "        print(indices)"
   ]
  },
  {
   "cell_type": "code",
   "execution_count": 135,
   "metadata": {},
   "outputs": [
    {
     "data": {
      "text/plain": [
       "3604"
      ]
     },
     "execution_count": 135,
     "metadata": {},
     "output_type": "execute_result"
    }
   ],
   "source": [
    "len(word_id_mapping)"
   ]
  },
  {
   "cell_type": "code",
   "execution_count": 170,
   "metadata": {},
   "outputs": [],
   "source": [
    "from pytorch_classifier.pytorch_utils import indices_matrix\n",
    "\n",
    "text = df_train[\"LIB_SICORE\"]\n",
    "indices_batch = [indices_matrix(\n",
    "    sentence, model\n",
    "    ) for sentence in text]"
   ]
  },
  {
   "cell_type": "code",
   "execution_count": 96,
   "metadata": {},
   "outputs": [
    {
     "data": {
      "text/plain": [
       "[(24,), (48,), (66,), (38,), (18,), (56,), (34,), (34,), (52,), (64,)]"
      ]
     },
     "execution_count": 96,
     "metadata": {},
     "output_type": "execute_result"
    }
   ],
   "source": [
    "[tokens.shape for tokens in indices_batch]"
   ]
  },
  {
   "cell_type": "code",
   "execution_count": 121,
   "metadata": {},
   "outputs": [
    {
     "data": {
      "text/plain": [
       "array([    622,  403022, 1843452,  916994,  928569,  601928, 1143943,\n",
       "        783114,  977421,  356435, 1788453,  847108,     110,  422353,\n",
       "       1078524, 2001002, 1837974,  138490,     422,  454853,  178468,\n",
       "        500166,  931558, 1488339,  934240, 1975212, 1622843, 1949298,\n",
       "        587184,  116832, 1007907,   45592,   66829, 1720752, 1931859,\n",
       "        679149, 1372828,  876245, 1255311, 1799600,  720868,  620645,\n",
       "             0,  714332,  396081,  319073,  968503, 1208858])"
      ]
     },
     "execution_count": 121,
     "metadata": {},
     "output_type": "execute_result"
    }
   ],
   "source": [
    "indices_batch[1]"
   ]
  },
  {
   "cell_type": "code",
   "execution_count": 98,
   "metadata": {},
   "outputs": [],
   "source": [
    "tokens = []\n",
    "indices = []\n",
    "for word in model.get_line(text[0])[0]:\n",
    "    tokens += model.get_subwords(word)[0]\n",
    "    indices += model.get_subwords(word)[1].tolist()"
   ]
  },
  {
   "cell_type": "code",
   "execution_count": 99,
   "metadata": {},
   "outputs": [],
   "source": [
    "def get_ngram_list(word: str, n: int):        \n",
    "    return [word[i: i+n] for i in range(len(word) - n + 1)]"
   ]
  },
  {
   "cell_type": "code",
   "execution_count": 100,
   "metadata": {},
   "outputs": [],
   "source": [
    "nwords = len(model.get_words())\n",
    "buckets = model.f.getArgs().bucket"
   ]
  },
  {
   "cell_type": "code",
   "execution_count": 101,
   "metadata": {},
   "outputs": [
    {
     "data": {
      "text/plain": [
       "1417"
      ]
     },
     "execution_count": 101,
     "metadata": {},
     "output_type": "execute_result"
    }
   ],
   "source": [
    "nwords"
   ]
  },
  {
   "cell_type": "code",
   "execution_count": 102,
   "metadata": {},
   "outputs": [
    {
     "data": {
      "text/plain": [
       "2000000"
      ]
     },
     "execution_count": 102,
     "metadata": {},
     "output_type": "execute_result"
    }
   ],
   "source": [
    "buckets"
   ]
  },
  {
   "cell_type": "code",
   "execution_count": 103,
   "metadata": {},
   "outputs": [
    {
     "data": {
      "text/plain": [
       "3"
      ]
     },
     "execution_count": 103,
     "metadata": {},
     "output_type": "execute_result"
    }
   ],
   "source": [
    "word_ngrams = model.f.getArgs().wordNgrams\n",
    "word_ngrams"
   ]
  },
  {
   "cell_type": "code",
   "execution_count": 176,
   "metadata": {},
   "outputs": [],
   "source": [
    "from pytorch_classifier.pytorch_utils import get_hash, get_word_ngram_id\n",
    "\n",
    "def get_subword_hash(subword: str, buckets: int, nwords: int):\n",
    "    \"\"\"\n",
    "\n",
    "    Args:\n",
    "        raw_hash (int): _description_\n",
    "    \"\"\"\n",
    "    return get_hash(subword) % buckets + nwords\n",
    "\n",
    "def get_word_index(word: str):\n",
    "    \"\"\"_summary_\n",
    "\n",
    "    Args:\n",
    "        word (str): _description_\n",
    "    \"\"\"\n",
    "    return new_word_id_mapping[word]\n",
    "\n",
    "def get_subwords(word: str, min_n: int, max_n: int, buckets: int, nwords: int):\n",
    "    \"\"\"_summary_\n",
    "\n",
    "    Args:\n",
    "        word (str): _description_\n",
    "    \"\"\"\n",
    "    if min_n < 2:\n",
    "        raise ValueError(\"`min_n` parameter must be greater than 2.\")\n",
    "    if max_n > 6:\n",
    "        raise ValueError(\"`max_n` parameter must be smaller than 7.\")\n",
    "        \n",
    "    tokens = []\n",
    "    word_with_tags = '<' + word + '>'\n",
    "    for n in range(min_n, max_n + 1):\n",
    "        tokens += get_ngram_list(word_with_tags, n)\n",
    "    indices = [get_subword_hash(token, buckets, nwords) for token in tokens]\n",
    "\n",
    "    # Add word\n",
    "    try:\n",
    "        tokens = [word] + tokens\n",
    "        indices = [get_word_index(word)] + indices\n",
    "    except KeyError:\n",
    "        # print(\"Token was not in mapping, not adding it to subwords.\")\n",
    "        pass\n",
    "\n",
    "    return (tokens, indices)"
   ]
  },
  {
   "cell_type": "code",
   "execution_count": 117,
   "metadata": {},
   "outputs": [],
   "source": [
    "import numpy as np\n",
    "def indices_matrix_no_ft(sentence: str, min_n: int, max_n: int, nwords: int, buckets: int, word_ngrams: int):\n",
    "    \"\"\"_summary_\n",
    "\n",
    "    Args:\n",
    "        sentence (str): _description_\n",
    "    \"\"\"\n",
    "    indices = []\n",
    "    words = []\n",
    "    word_ngram_ids = []\n",
    "\n",
    "    for word in sentence.split(\" \"):\n",
    "        indices += get_subwords(word, min_n=min_n, max_n=max_n, buckets=buckets, nwords=nwords)[1]\n",
    "        words += [word]\n",
    "    \n",
    "    # Adding end of string token\n",
    "    indices += [0]\n",
    "    words += [\"</s>\"]\n",
    "\n",
    "    for word_ngram_len in range(2, word_ngrams + 1):\n",
    "        for i in range(len(words) - word_ngram_len + 1):\n",
    "            hashes = tuple(get_hash(word) for word in words[i : i + word_ngram_len])\n",
    "            word_ngram_id = int(get_word_ngram_id(hashes, buckets, nwords))\n",
    "            word_ngram_ids.append(word_ngram_id)\n",
    "\n",
    "    all_indices = indices + word_ngram_ids\n",
    "    return np.asarray(all_indices)\n"
   ]
  },
  {
   "cell_type": "code",
   "execution_count": 118,
   "metadata": {},
   "outputs": [],
   "source": [
    "test = indices_matrix_no_ft(text[0], 3, 4, nwords, buckets, word_ngrams)"
   ]
  },
  {
   "cell_type": "code",
   "execution_count": 122,
   "metadata": {},
   "outputs": [
    {
     "data": {
      "text/plain": [
       "'medium voi energeticien'"
      ]
     },
     "execution_count": 122,
     "metadata": {},
     "output_type": "execute_result"
    }
   ],
   "source": [
    "text[1]"
   ]
  },
  {
   "cell_type": "code",
   "execution_count": 178,
   "metadata": {},
   "outputs": [
    {
     "name": "stdout",
     "output_type": "stream",
     "text": [
      "91\n",
      "1178\n",
      "1508\n",
      "1523\n",
      "4867\n",
      "5824\n"
     ]
    }
   ],
   "source": [
    "for i in range(len(df_train)):\n",
    "    diff = len(indices_matrix_no_ft(text[i], 3, 4, nwords, buckets, word_ngrams)) - len(indices_batch[i])\n",
    "    if diff != 0:\n",
    "        print(i)"
   ]
  },
  {
   "cell_type": "code",
   "execution_count": 182,
   "metadata": {},
   "outputs": [
    {
     "data": {
      "text/plain": [
       "LIB_SICORE         \n",
       "APE_NIV5      4778C\n",
       "Name: O00076420064, dtype: object"
      ]
     },
     "execution_count": 182,
     "metadata": {},
     "output_type": "execute_result"
    }
   ],
   "source": [
    "df_train.iloc[1508]"
   ]
  },
  {
   "cell_type": "code",
   "execution_count": 109,
   "metadata": {},
   "outputs": [
    {
     "data": {
      "text/plain": [
       "array([    576,   50997,  517364,  341210, 1312968,  691982, 1947177,\n",
       "       1156068,  319494, 1915707, 1288266,   45592,   66829, 1720752,\n",
       "       1931859,  679149, 1372828,  876245, 1255311, 1799600,  720868,\n",
       "        620645,       0, 1140484])"
      ]
     },
     "execution_count": 109,
     "metadata": {},
     "output_type": "execute_result"
    }
   ],
   "source": [
    "indices_batch[0]"
   ]
  },
  {
   "cell_type": "markdown",
   "metadata": {},
   "source": [
    "## Evaluation of the FastText model without categorical features"
   ]
  },
  {
   "cell_type": "code",
   "execution_count": 13,
   "metadata": {},
   "outputs": [
    {
     "name": "stdout",
     "output_type": "stream",
     "text": [
      "0\n",
      "             ground_truth_2 ground_truth_3 ground_truth_4 ground_truth_5  \\\n",
      "liasseNb                                                                   \n",
      "G75543170362             47            477           4779          4779Z   \n",
      "A00990215265             81            813           8130          8130Z   \n",
      "U75071417439             74            741           7410          7410Z   \n",
      "G34541188426             53            532           5320          5320Z   \n",
      "M87019007356             95            952           9529          9529Z   \n",
      "...                     ...            ...            ...            ...   \n",
      "C06059004508             27            274           2740          2740Z   \n",
      "G83556639355             68            683           6831          6831Z   \n",
      "G77523512381             53            532           5320          5320Z   \n",
      "M76011885415             33            332           3320          3320A   \n",
      "G55510018648             47            475           4759          4759B   \n",
      "\n",
      "             predictions_2 predictions_3 predictions_4 predictions_5  \\\n",
      "liasseNb                                                               \n",
      "G75543170362            47           477          4779         4779Z   \n",
      "A00990215265            81           813          8130         8130Z   \n",
      "U75071417439            74           741          7410         7410Z   \n",
      "G34541188426            53           532          5320         5320Z   \n",
      "M87019007356            95           952          9529         9529Z   \n",
      "...                    ...           ...           ...           ...   \n",
      "C06059004508            32           325          3250         3250A   \n",
      "G83556639355            68           683          6831         6831Z   \n",
      "G77523512381            53           532          5320         5320Z   \n",
      "M76011885415            33           332          3320         3320A   \n",
      "G55510018648            47           475          4759         4759B   \n",
      "\n",
      "              probabilities predictions_1 ground_truth_1  \n",
      "liasseNb                                                  \n",
      "G75543170362       0.943358             G              G  \n",
      "A00990215265       1.000010             N              N  \n",
      "U75071417439       0.924152             M              M  \n",
      "G34541188426       0.999040             H              H  \n",
      "M87019007356       0.705795             S              S  \n",
      "...                     ...           ...            ...  \n",
      "C06059004508       0.314061             C              C  \n",
      "G83556639355       0.782673             L              L  \n",
      "G77523512381       0.585111             H              H  \n",
      "M76011885415       0.492198             C              C  \n",
      "G55510018648       0.798197             G              G  \n",
      "\n",
      "[216695 rows x 11 columns]\n",
      "1\n",
      "             ground_truth_2 ground_truth_3 ground_truth_4 ground_truth_5  \\\n",
      "liasseNb                                                                   \n",
      "G75543170362             47            477           4779          4779Z   \n",
      "A00990215265             81            813           8130          8130Z   \n",
      "U75071417439             74            741           7410          7410Z   \n",
      "G34541188426             53            532           5320          5320Z   \n",
      "M87019007356             95            952           9529          9529Z   \n",
      "...                     ...            ...            ...            ...   \n",
      "C06059004508             27            274           2740          2740Z   \n",
      "G83556639355             68            683           6831          6831Z   \n",
      "G77523512381             53            532           5320          5320Z   \n",
      "M76011885415             33            332           3320          3320A   \n",
      "G55510018648             47            475           4759          4759B   \n",
      "\n",
      "             predictions_2 predictions_3 predictions_4 predictions_5  \\\n",
      "liasseNb                                                               \n",
      "G75543170362            47           475          4759         4759A   \n",
      "A00990215265            43           433          4334         4334Z   \n",
      "U75071417439            62           620          6201         6201Z   \n",
      "G34541188426            55           552          5520         5520Z   \n",
      "M87019007356            81           812          8121         8121Z   \n",
      "...                    ...           ...           ...           ...   \n",
      "C06059004508            22           222          2229         2229A   \n",
      "G83556639355            68           681          6810         6810Z   \n",
      "G77523512381            56           561          5610         5610C   \n",
      "M76011885415            25           256          2562         2562B   \n",
      "G55510018648            47           478          4789         4789Z   \n",
      "\n",
      "              probabilities predictions_1 ground_truth_1  \n",
      "liasseNb                                                  \n",
      "G75543170362       0.119213             G              G  \n",
      "A00990215265       0.020974             F              N  \n",
      "U75071417439       0.034110             J              M  \n",
      "G34541188426       0.000513             I              H  \n",
      "M87019007356       0.212079             N              S  \n",
      "...                     ...           ...            ...  \n",
      "C06059004508       0.156115             C              C  \n",
      "G83556639355       0.073706             L              L  \n",
      "G77523512381       0.407343             I              H  \n",
      "M76011885415       0.453272             C              C  \n",
      "G55510018648       0.148057             G              G  \n",
      "\n",
      "[216695 rows x 11 columns]\n"
     ]
    },
    {
     "data": {
      "image/png": "[encoded data removed]",
      "text/plain": [
       "<Figure size 1440x576 with 2 Axes>"
      ]
     },
     "metadata": {
      "needs_background": "light"
     },
     "output_type": "display_data"
    }
   ],
   "source": [
    "from fasttext_classifier.fasttext_evaluator import FastTextEvaluator\n",
    "\n",
    "evaluator = FastTextEvaluator(model)\n",
    "evaluation = evaluator.evaluate(\n",
    "    df_test,\n",
    "    Y,\n",
    "    TEXT_FEATURE,\n",
    "    categorical_features = categorical_features,\n",
    "    k=2\n",
    ")"
   ]
  },
  {
   "cell_type": "code",
   "execution_count": 19,
   "metadata": {},
   "outputs": [
    {
     "data": {
      "text/plain": [
       "0.8089895936685203"
      ]
     },
     "execution_count": 19,
     "metadata": {},
     "output_type": "execute_result"
    }
   ],
   "source": [
    "evaluation[0]['accuracy_level_5']"
   ]
  },
  {
   "cell_type": "markdown",
   "metadata": {},
   "source": [
    "## Pytorch"
   ]
  },
  {
   "cell_type": "code",
   "execution_count": 20,
   "metadata": {},
   "outputs": [],
   "source": [
    "from pytorch_classifier.pytorch_trainer import PytorchTrainer\n",
    "\n",
    "# Trainer module\n",
    "trainer = PytorchTrainer()"
   ]
  },
  {
   "cell_type": "code",
   "execution_count": 28,
   "metadata": {},
   "outputs": [],
   "source": [
    "categorical_features = ['AUTO', 'NAT_SICORE', 'SURF', 'EVT_SICORE']"
   ]
  },
  {
   "cell_type": "code",
   "execution_count": 29,
   "metadata": {},
   "outputs": [],
   "source": [
    "LEARNING_RATE = 3e-4\n",
    "PATIENCE = 5\n",
    "NUM_EPOCHS = 30\n",
    "\n",
    "params = {\n",
    "    \"num_epochs\": NUM_EPOCHS,\n",
    "    \"patience\": PATIENCE,\n",
    "    \"train_proportion\": 0.8,\n",
    "    \"batch_size\": 64,\n",
    "    \"learning_rate\": LEARNING_RATE,\n",
    "    \"fasttext_bin_path\": \"projet-ape/model_no_categorical.bin\"\n",
    "}"
   ]
  },
  {
   "cell_type": "code",
   "execution_count": 23,
   "metadata": {},
   "outputs": [],
   "source": [
    "from pytorch_classifier.pytorch_preprocessor import PytorchPreprocessor\n",
    "\n",
    "pytorch_preprocessor = PytorchPreprocessor()\n",
    "df_train_py, df_test_py, df_gu_py = pytorch_preprocessor.preprocess(\n",
    "    df=df,\n",
    "    y=Y,\n",
    "    text_feature=TEXT_FEATURE,\n",
    "    categorical_features=categorical_features,\n",
    ")"
   ]
  },
  {
   "cell_type": "code",
   "execution_count": 30,
   "metadata": {},
   "outputs": [
    {
     "data": {
      "text/html": [
       "<div>\n",
       "<style scoped>\n",
       "    .dataframe tbody tr th:only-of-type {\n",
       "        vertical-align: middle;\n",
       "    }\n",
       "\n",
       "    .dataframe tbody tr th {\n",
       "        vertical-align: top;\n",
       "    }\n",
       "\n",
       "    .dataframe thead th {\n",
       "        text-align: right;\n",
       "    }\n",
       "</style>\n",
       "<table border=\"1\" class=\"dataframe\">\n",
       "  <thead>\n",
       "    <tr style=\"text-align: right;\">\n",
       "      <th></th>\n",
       "      <th>LIB_SICORE</th>\n",
       "      <th>AUTO</th>\n",
       "      <th>NAT_SICORE</th>\n",
       "      <th>SURF</th>\n",
       "      <th>EVT_SICORE</th>\n",
       "      <th>APE_NIV5</th>\n",
       "    </tr>\n",
       "    <tr>\n",
       "      <th>LIA_NUM</th>\n",
       "      <th></th>\n",
       "      <th></th>\n",
       "      <th></th>\n",
       "      <th></th>\n",
       "      <th></th>\n",
       "      <th></th>\n",
       "    </tr>\n",
       "  </thead>\n",
       "  <tbody>\n",
       "    <tr>\n",
       "      <th>M94013856415</th>\n",
       "      <td>servic administr combin bureau</td>\n",
       "      <td>4</td>\n",
       "      <td>13</td>\n",
       "      <td>0</td>\n",
       "      <td>7</td>\n",
       "      <td>187</td>\n",
       "    </tr>\n",
       "    <tr>\n",
       "      <th>O00075154755</th>\n",
       "      <td>b</td>\n",
       "      <td>5</td>\n",
       "      <td>1</td>\n",
       "      <td>0</td>\n",
       "      <td>8</td>\n",
       "      <td>348</td>\n",
       "    </tr>\n",
       "    <tr>\n",
       "      <th>G78817252072</th>\n",
       "      <td>lmnp</td>\n",
       "      <td>3</td>\n",
       "      <td>1</td>\n",
       "      <td>0</td>\n",
       "      <td>12</td>\n",
       "      <td>25</td>\n",
       "    </tr>\n",
       "    <tr>\n",
       "      <th>G83838349047</th>\n",
       "      <td>loueur meubl non professionnel</td>\n",
       "      <td>3</td>\n",
       "      <td>1</td>\n",
       "      <td>0</td>\n",
       "      <td>1</td>\n",
       "      <td>25</td>\n",
       "    </tr>\n",
       "    <tr>\n",
       "      <th>G85017842569</th>\n",
       "      <td>auteur compositeur musiqu a imag</td>\n",
       "      <td>2</td>\n",
       "      <td>3</td>\n",
       "      <td>0</td>\n",
       "      <td>5</td>\n",
       "      <td>174</td>\n",
       "    </tr>\n",
       "  </tbody>\n",
       "</table>\n",
       "</div>"
      ],
      "text/plain": [
       "                                    LIB_SICORE  AUTO  NAT_SICORE  SURF  \\\n",
       "LIA_NUM                                                                  \n",
       "M94013856415    servic administr combin bureau     4          13     0   \n",
       "O00075154755                                 b     5           1     0   \n",
       "G78817252072                              lmnp     3           1     0   \n",
       "G83838349047    loueur meubl non professionnel     3           1     0   \n",
       "G85017842569  auteur compositeur musiqu a imag     2           3     0   \n",
       "\n",
       "              EVT_SICORE  APE_NIV5  \n",
       "LIA_NUM                             \n",
       "M94013856415           7       187  \n",
       "O00075154755           8       348  \n",
       "G78817252072          12        25  \n",
       "G83838349047           1        25  \n",
       "G85017842569           5       174  "
      ]
     },
     "execution_count": 30,
     "metadata": {},
     "output_type": "execute_result"
    }
   ],
   "source": [
    "df_train_py.head()"
   ]
  },
  {
   "cell_type": "code",
   "execution_count": null,
   "metadata": {},
   "outputs": [
    {
     "name": "stderr",
     "output_type": "stream",
     "text": [
      "Warning : `load_model` does not return WordVectorModel or SupervisedModel any more, but a `FastText` object which is very similar.\n",
      "  0%|          | 0/30 [00:00<?, ?it/s]"
     ]
    }
   ],
   "source": [
    "pytorch_classifier = trainer.train(df_train_py, Y, TEXT_FEATURE, categorical_features, params)"
   ]
  },
  {
   "cell_type": "code",
   "execution_count": null,
   "metadata": {},
   "outputs": [],
   "source": [
    "df_test.shape"
   ]
  },
  {
   "cell_type": "code",
   "execution_count": null,
   "metadata": {},
   "outputs": [],
   "source": [
    "df_test.head()"
   ]
  },
  {
   "cell_type": "code",
   "execution_count": null,
   "metadata": {},
   "outputs": [],
   "source": [
    "model"
   ]
  },
  {
   "cell_type": "code",
   "execution_count": null,
   "metadata": {},
   "outputs": [],
   "source": [
    "pytorch_classifier"
   ]
  },
  {
   "cell_type": "code",
   "execution_count": null,
   "metadata": {},
   "outputs": [],
   "source": [
    "from pytorch_classifier.pytorch_evaluator import PytorchEvaluator\n",
    "\n",
    "evaluator = PytorchEvaluator(fasttext_model=model, model=pytorch_classifier)"
   ]
  },
  {
   "cell_type": "code",
   "execution_count": null,
   "metadata": {},
   "outputs": [],
   "source": [
    "test = evaluator.evaluate(\n",
    "    df_test, Y, TEXT_FEATURE, categorical_features, 5\n",
    ")"
   ]
  },
  {
   "cell_type": "code",
   "execution_count": null,
   "metadata": {},
   "outputs": [],
   "source": [
    "from fasttext_classifier.fasttext_evaluator import FastTextEvaluator\n",
    "\n",
    "ft_preprocessor = FastTextPreprocessor()\n",
    "df_ft_train, df_ft_test, df_ft_gu = ft_preprocessor.preprocess(\n",
    "    df=df,\n",
    "    y=Y,\n",
    "    text_feature=TEXT_FEATURE,\n",
    "    categorical_features=categorical_features,\n",
    ")\n",
    "ft_evaluator = FastTextEvaluator(model)"
   ]
  },
  {
   "cell_type": "code",
   "execution_count": null,
   "metadata": {},
   "outputs": [],
   "source": [
    "test = ft_evaluator.evaluate(df_ft_test, Y, TEXT_FEATURE, categorical_features, 5)"
   ]
  },
  {
   "cell_type": "code",
   "execution_count": null,
   "metadata": {},
   "outputs": [],
   "source": [
    "model"
   ]
  },
  {
   "cell_type": "code",
   "execution_count": null,
   "metadata": {},
   "outputs": [],
   "source": [
    "model.save_model(\"dummy_model.bin\")"
   ]
  },
  {
   "cell_type": "code",
   "execution_count": null,
   "metadata": {},
   "outputs": [],
   "source": []
  }
 ],
 "metadata": {
  "kernelspec": {
   "display_name": "Python 3.9.0 ('base')",
   "language": "python",
   "name": "python3"
  },
  "language_info": {
   "codemirror_mode": {
    "name": "ipython",
    "version": 3
   },
   "file_extension": ".py",
   "mimetype": "text/x-python",
   "name": "python",
   "nbconvert_exporter": "python",
   "pygments_lexer": "ipython3",
   "version": "3.9.0"
  },
  "vscode": {
   "interpreter": {
    "hash": "3fa046f995eb80ac40c0869a1f9df46519f4ada8b8c395ef25dd1aa1a1a2fc63"
   }
  }
 },
 "nbformat": 4,
 "nbformat_minor": 4
}
