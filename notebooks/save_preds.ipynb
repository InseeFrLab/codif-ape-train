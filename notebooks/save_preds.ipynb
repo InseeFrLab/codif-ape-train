{
 "cells": [
  {
   "cell_type": "code",
   "execution_count": 1,
   "metadata": {},
   "outputs": [],
   "source": [
    "import sys\n",
    "import time\n",
    "\n",
    "import mlflow\n",
    "import pandas as pd\n",
    "import yaml\n",
    "import fasttext\n",
    "\n",
    "from constants import TEXT_FEATURE\n",
    "from fasttext_classifier.fasttext_evaluator import FastTextEvaluator\n",
    "from fasttext_classifier.fasttext_preprocessor import FastTextPreprocessor\n",
    "from fasttext_classifier.fasttext_trainer import FastTextTrainer\n",
    "from fasttext_classifier.fasttext_wrapper import FastTextWrapper\n",
    "from utils import get_root_path"
   ]
  },
  {
   "cell_type": "code",
   "execution_count": 2,
   "metadata": {},
   "outputs": [
    {
     "name": "stdout",
     "output_type": "stream",
     "text": [
      "*** Preprocessing the database...\n",
      "\n",
      "\t*** 5 missing codes have been added in the database.\n",
      "\n",
      "\t*** 2 missing codes have been added in the train database...\n",
      "\n"
     ]
    }
   ],
   "source": [
    "config_path = \"config/config_fasttext27.yaml\"\n",
    "\n",
    "preprocessor = FastTextPreprocessor()\n",
    "\n",
    "print(\"*** Preprocessing the database...\\n\")\n",
    "# Load data, assumed to be stored in a .parquet file\n",
    "df = pd.read_parquet(\n",
    "    \"../data/extraction_sirene_20220712_harmonized_20221014.parquet\", engine=\"pyarrow\"\n",
    ")\n",
    "\n",
    "with open(get_root_path() / config_path, \"r\") as stream:\n",
    "    config = yaml.safe_load(stream)\n",
    "params = config[\"params\"]\n",
    "categorical_features = config[\"categorical_features\"]\n",
    "Y = config[\"Y\"][0]\n",
    "oversampling = config[\"oversampling\"]\n",
    "\n",
    "# Preprocess data\n",
    "df_train, df_test, df_gu = preprocessor.preprocess(\n",
    "    df=df,\n",
    "    y=Y,\n",
    "    text_feature=TEXT_FEATURE,\n",
    "    categorical_features=categorical_features,\n",
    "    oversampling=oversampling,\n",
    ")"
   ]
  },
  {
   "cell_type": "markdown",
   "metadata": {},
   "source": [
    "mc cp minio/projet-ape/mlflow-artifacts/6/4e5c4673cbbd412e91456b3443e8dabe/artifacts/default/artifacts/default.bin models/model.bin"
   ]
  },
  {
   "cell_type": "code",
   "execution_count": 3,
   "metadata": {},
   "outputs": [
    {
     "name": "stderr",
     "output_type": "stream",
     "text": [
      "Warning : `load_model` does not return WordVectorModel or SupervisedModel any more, but a `FastText` object which is very similar.\n"
     ]
    }
   ],
   "source": [
    "model = fasttext.load_model(\"../models/model.bin\")\n",
    "evaluator = FastTextEvaluator(model)"
   ]
  },
  {
   "cell_type": "code",
   "execution_count": 4,
   "metadata": {},
   "outputs": [],
   "source": [
    "gu = evaluator.get_aggregated_preds(df_gu, Y, TEXT_FEATURE, categorical_features, 5)\n",
    "test = evaluator.get_aggregated_preds(df_test, Y, TEXT_FEATURE, categorical_features, 5)"
   ]
  },
  {
   "cell_type": "code",
   "execution_count": null,
   "metadata": {},
   "outputs": [],
   "source": [
    "test.to_csv(\"../data/predictions_test_4e5c4673cbbd412e91456b3443e8dabe.csv\")\n",
    "gu.to_csv(\"../data/predictions_GU_4e5c4673cbbd412e91456b3443e8dabe.csv\")"
   ]
  },
  {
   "cell_type": "markdown",
   "metadata": {},
   "source": [
    "mc cp data/predictions_test_4e5c4673cbbd412e91456b3443e8dabe.csv minio/projet-ape/data/predictions_test_4e5c4673cbbd412e91456b3443e8dabe.csv\n",
    "\n",
    "mc cp data/predictions_GU_4e5c4673cbbd412e91456b3443e8dabe.csv minio/projet-ape/data/predictions_GU_4e5c4673cbbd412e91456b3443e8dabe.csv"
   ]
  }
 ],
 "metadata": {
  "kernelspec": {
   "display_name": "Python 3.9.0 ('base')",
   "language": "python",
   "name": "python3"
  },
  "language_info": {
   "codemirror_mode": {
    "name": "ipython",
    "version": 3
   },
   "file_extension": ".py",
   "mimetype": "text/x-python",
   "name": "python",
   "nbconvert_exporter": "python",
   "pygments_lexer": "ipython3",
   "version": "3.10.4"
  },
  "orig_nbformat": 4,
  "vscode": {
   "interpreter": {
    "hash": "3fa046f995eb80ac40c0869a1f9df46519f4ada8b8c395ef25dd1aa1a1a2fc63"
   }
  }
 },
 "nbformat": 4,
 "nbformat_minor": 2
}
