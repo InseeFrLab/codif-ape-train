{
 "cells": [
  {
   "cell_type": "markdown",
   "id": "8549431c-6a29-4f96-a18d-4d123c8dd243",
   "metadata": {},
   "source": [
    "# Exploration des données de Sirene"
   ]
  },
  {
   "cell_type": "markdown",
   "id": "af4e4578",
   "metadata": {},
   "source": [
    "### Importation des différents packages nécessaires."
   ]
  },
  {
   "cell_type": "code",
   "execution_count": 10,
   "id": "aa9ee43e-b8d9-4c5f-8b60-6512c958a173",
   "metadata": {},
   "outputs": [],
   "source": [
    "import pandas as pd\n",
    "import numpy as np"
   ]
  },
  {
   "cell_type": "markdown",
   "id": "a7fde385",
   "metadata": {},
   "source": [
    "### Importation des données"
   ]
  },
  {
   "cell_type": "code",
   "execution_count": 14,
   "id": "c4e0353e",
   "metadata": {},
   "outputs": [],
   "source": [
    "df = pd.read_parquet('../data/extraction_sirene_20220510.parquet', engine='pyarrow')"
   ]
  },
  {
   "cell_type": "code",
   "execution_count": 16,
   "id": "8f1ef240",
   "metadata": {},
   "outputs": [
    {
     "data": {
      "text/plain": [
       "(11678980, 20)"
      ]
     },
     "execution_count": 16,
     "metadata": {},
     "output_type": "execute_result"
    }
   ],
   "source": [
    "df.shape"
   ]
  },
  {
   "cell_type": "code",
   "execution_count": 29,
   "id": "ca2b5cd0",
   "metadata": {},
   "outputs": [
    {
     "data": {
      "text/plain": [
       "array(['01P', '05P', '11M', '51M', '67P', '01M', '54P', '11P', None,\n",
       "       '52M', '61P', '12M', '01F', '62P', '04M', '07M', '07P', '03M',\n",
       "       '53P', '12F', '05M', '60P', '24P', '55P', '56P'], dtype=object)"
      ]
     },
     "execution_count": 29,
     "metadata": {},
     "output_type": "execute_result"
    }
   ],
   "source": [
    "pd.unique(df.EVT_SICORE)"
   ]
  },
  {
   "cell_type": "markdown",
   "id": "fb52a3c3-ff05-44f7-9452-98bddaf91cac",
   "metadata": {},
   "source": [
    "Les variables du jeu de données sont les suivantes :\n",
    "- CFE : A supprimer car plus disponible a terme ;\n",
    "- TYPE_SICORE : A probablement supprimer;\n",
    "- TYPE_BILAN : A probablement supprimer;\n",
    "- APE_SICORE : Code APE retenu lors du traitement de codification (soit Sicore soit gestionnaire);\n",
    "- APE_BILAN : Bilan = fait pour controler l'extraction et pour evaluation;\n",
    "- SURF : Surface en 5 modalités ;\n",
    "- NAT_SICORE : Nature de l'activité de l'entreprise (voir enums/nature.py);\n",
    "- SED_SICORE : Sédentarité = valeur manquante  (voir enums/sedentarite.py);\n",
    "- SED_LIASSE : Sédentarité = valeur manquante  (voir enums/sedentarite.py);;\n",
    "- AUTO : Type de liasse extrait de la base Brute Sirene ;\n",
    "- EVT_SICORE : Evenement de la liasse (voir enums/evenent_sirene.py). Première lettre signifie le pourquoi (creation, cessation). Derniere lettre P : physique; M : morale; F : exploitatin en commun ;\n",
    "- EVT_LIASSE : Evenement mais a verifier lequel est pris qd y en a plusieurs;\n",
    "- LIB_SICORE : Libellé base Sicore == LIB_LIASSE_ETAB_E71;\n",
    "- LIB_LIASSE_UL_U21 : Libellé base XML (normalement idem que E71);\n",
    "- LIB_LIASSE_ETAB_E71 : Libellé base XML (très utile, activité la plus importante de l'etablissement);\n",
    "- LIB_LIASSE_ETAB_E70 : Libellé base XML (activité exercée);\n",
    "- TROUVE_BILAN : Pas utile pour la pred, juste pour checker le merge;\n",
    "- TROUVE_XML : Pas utile pour la pred, juste pour checker le merge;\n",
    "- DATE : Date d'envoi de l'entreprise.\n",
    "\n",
    "3 bases de données : \n",
    "    - Base de départ (ensemble des taches de codifications Sicore ou reprise gestionnaire) : SICORE\n",
    "    - Base brute en XML : LIASSE\n",
    "    - Base de réponse pour controler : BILAN.\n"
   ]
  }
 ],
 "metadata": {
  "kernelspec": {
   "display_name": "Python 3 (ipykernel)",
   "language": "python",
   "name": "python3"
  },
  "language_info": {
   "codemirror_mode": {
    "name": "ipython",
    "version": 3
   },
   "file_extension": ".py",
   "mimetype": "text/x-python",
   "name": "python",
   "nbconvert_exporter": "python",
   "pygments_lexer": "ipython3",
   "version": "3.10.4"
  }
 },
 "nbformat": 4,
 "nbformat_minor": 5
}
