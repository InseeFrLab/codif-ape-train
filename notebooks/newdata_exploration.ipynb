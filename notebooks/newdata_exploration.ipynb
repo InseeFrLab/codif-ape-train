{
 "cells": [
  {
   "cell_type": "markdown",
   "id": "8549431c-6a29-4f96-a18d-4d123c8dd243",
   "metadata": {},
   "source": [
    "# Exploration des données de Sirene"
   ]
  },
  {
   "cell_type": "markdown",
   "id": "af4e4578",
   "metadata": {},
   "source": [
    "## Importation des différents packages nécessaires."
   ]
  },
  {
   "cell_type": "code",
   "execution_count": 1,
   "id": "aa9ee43e-b8d9-4c5f-8b60-6512c958a173",
   "metadata": {},
   "outputs": [
    {
     "name": "stderr",
     "output_type": "stream",
     "text": [
      "[nltk_data] Downloading package stopwords to /home/coder/nltk_data...\n",
      "[nltk_data]   Package stopwords is already up-to-date!\n"
     ]
    },
    {
     "data": {
      "text/plain": [
       "True"
      ]
     },
     "execution_count": 1,
     "metadata": {},
     "output_type": "execute_result"
    }
   ],
   "source": [
    "import pandas as pd\n",
    "import dask.dataframe as dd\n",
    "import numpy as np\n",
    "from datetime import datetime\n",
    "from tqdm import tqdm\n",
    "import nltk\n",
    "import string\n",
    "from nltk.corpus import stopwords\n",
    "\n",
    "nltk.download(\"stopwords\")"
   ]
  },
  {
   "cell_type": "markdown",
   "id": "a7fde385",
   "metadata": {},
   "source": [
    "## Importation des données"
   ]
  },
  {
   "cell_type": "code",
   "execution_count": 9,
   "id": "c4e0353e",
   "metadata": {},
   "outputs": [],
   "source": [
    "DBRaw = pd.read_parquet(\"../data/extraction_sirene_20220510.parquet\", engine=\"pyarrow\")"
   ]
  },
  {
   "cell_type": "markdown",
   "id": "32ebd953",
   "metadata": {},
   "source": [
    "On transforme les valeurs manquantes en NaN."
   ]
  },
  {
   "cell_type": "code",
   "execution_count": 7,
   "id": "f109d898",
   "metadata": {},
   "outputs": [],
   "source": [
    "DBRaw = DBRaw.fillna(value=np.nan)"
   ]
  },
  {
   "cell_type": "markdown",
   "id": "bdbec49e",
   "metadata": {},
   "source": [
    "On garde seulement les variables potentiellement intéressantes : \n",
    "- ``APE_SICORE :`` Code APE (Activité Principale Exercée) retenu lors du traitement de codification (soit Sicore soit gestionnaire) ;\n",
    "- ``NAT_SICORE :`` Nature de l'activité de l'entreprise ;\n",
    "- ``SED_SICORE :`` Sédentarité de l'entreprise ;\n",
    "- ``EVT_SICORE :`` Sédentarité de l'entreprise ;\n",
    "- ``LIB_SICORE :`` Sédentarité de l'entreprise ;\n",
    "- ``DATE :`` Sédentarité de l'entreprise ;\n",
    "- ``AUTO :`` Type de liasse extrait de la base brute Sirène ;\n",
    "- ``SURF :`` Surface en $m^2$ de l'établissement.\n"
   ]
  },
  {
   "cell_type": "code",
   "execution_count": 8,
   "id": "550efe05",
   "metadata": {},
   "outputs": [],
   "source": [
    "Var2Keep = [\n",
    "    \"APE_SICORE\",\n",
    "    \"LIB_SICORE\",\n",
    "    \"AUTO\",\n",
    "    \"DATE\",\n",
    "    \"NAT_SICORE\",\n",
    "    \"SED_SICORE\",\n",
    "    \"EVT_SICORE\",\n",
    "    \"SURF\",\n",
    "]\n",
    "DB = DBRaw[Var2Keep]"
   ]
  },
  {
   "cell_type": "markdown",
   "id": "5a210513",
   "metadata": {},
   "source": [
    "On regarde l'ampleur des variables manquantes pour les deux variables principales ``APE_SICORE`` et ``LIB_SICORE``."
   ]
  },
  {
   "cell_type": "code",
   "execution_count": 9,
   "id": "ba9a62d8",
   "metadata": {},
   "outputs": [
    {
     "data": {
      "text/plain": [
       "Dask Series Structure:\n",
       "npartitions=1\n",
       "APE_SICORE    object\n",
       "LIB_SICORE       ...\n",
       "dtype: object\n",
       "Dask Name: mul, 9 tasks"
      ]
     },
     "execution_count": 9,
     "metadata": {},
     "output_type": "execute_result"
    }
   ],
   "source": [
    "DB[[\"APE_SICORE\", \"LIB_SICORE\"]].isnull().sum() / DB.shape[0] * 100"
   ]
  },
  {
   "cell_type": "markdown",
   "id": "6338f6ef",
   "metadata": {},
   "source": [
    "On supprime les liasses où une valeur est manquante pour l'une de ces deux variables (6.77% de la base). Il s'agit principalement du code APE donc il n'est pas nécessaire de l'imputer."
   ]
  },
  {
   "cell_type": "code",
   "execution_count": 14,
   "id": "b1bb5cdd",
   "metadata": {},
   "outputs": [
    {
     "ename": "ValueError",
     "evalue": "The truth value of a Series is ambiguous. Use a.any() or a.all().",
     "output_type": "error",
     "traceback": [
      "\u001b[0;31m---------------------------------------------------------------------------\u001b[0m",
      "\u001b[0;31mValueError\u001b[0m                                Traceback (most recent call last)",
      "\u001b[1;32m/home/coder/work/codification-ape/notebooks/newdata_exploration.ipynb Cell 14'\u001b[0m in \u001b[0;36m<cell line: 1>\u001b[0;34m()\u001b[0m\n\u001b[0;32m----> <a href='vscode-notebook-cell://projet-ape-328191-0.kub.sspcloud.fr/home/coder/work/codification-ape/notebooks/newdata_exploration.ipynb#ch0000012vscode-remote?line=0'>1</a>\u001b[0m DB \u001b[39m=\u001b[39m DB[\u001b[39mnot\u001b[39;49;00m DB[\u001b[39m\"\u001b[39;49m\u001b[39mAPE_SICORE\u001b[39;49m\u001b[39m\"\u001b[39;49m]\u001b[39m.\u001b[39;49misna()]\n",
      "File \u001b[0;32m~/local/bin/conda/envs/basesspcloud/lib/python3.10/site-packages/dask/dataframe/core.py:706\u001b[0m, in \u001b[0;36m_Frame.__bool__\u001b[0;34m(self)\u001b[0m\n\u001b[1;32m    <a href='file:///home/coder/local/bin/conda/envs/basesspcloud/lib/python3.10/site-packages/dask/dataframe/core.py?line=704'>705</a>\u001b[0m \u001b[39mdef\u001b[39;00m \u001b[39m__bool__\u001b[39m(\u001b[39mself\u001b[39m):\n\u001b[0;32m--> <a href='file:///home/coder/local/bin/conda/envs/basesspcloud/lib/python3.10/site-packages/dask/dataframe/core.py?line=705'>706</a>\u001b[0m     \u001b[39mraise\u001b[39;00m \u001b[39mValueError\u001b[39;00m(\n\u001b[1;32m    <a href='file:///home/coder/local/bin/conda/envs/basesspcloud/lib/python3.10/site-packages/dask/dataframe/core.py?line=706'>707</a>\u001b[0m         \u001b[39mf\u001b[39m\u001b[39m\"\u001b[39m\u001b[39mThe truth value of a \u001b[39m\u001b[39m{\u001b[39;00m\u001b[39mself\u001b[39m\u001b[39m.\u001b[39m\u001b[39m__class__\u001b[39m\u001b[39m.\u001b[39m\u001b[39m__name__\u001b[39m\u001b[39m}\u001b[39;00m\u001b[39m is ambiguous. \u001b[39m\u001b[39m\"\u001b[39m\n\u001b[1;32m    <a href='file:///home/coder/local/bin/conda/envs/basesspcloud/lib/python3.10/site-packages/dask/dataframe/core.py?line=707'>708</a>\u001b[0m         \u001b[39m\"\u001b[39m\u001b[39mUse a.any() or a.all().\u001b[39m\u001b[39m\"\u001b[39m\n\u001b[1;32m    <a href='file:///home/coder/local/bin/conda/envs/basesspcloud/lib/python3.10/site-packages/dask/dataframe/core.py?line=708'>709</a>\u001b[0m     )\n",
      "\u001b[0;31mValueError\u001b[0m: The truth value of a Series is ambiguous. Use a.any() or a.all()."
     ]
    }
   ],
   "source": [
    "DB = DB[DB[\"APE_SICORE\"].isna()]"
   ]
  },
  {
   "cell_type": "markdown",
   "id": "21ed07a1",
   "metadata": {},
   "source": [
    "On a finalement 10.8 millions de liasses."
   ]
  },
  {
   "cell_type": "code",
   "execution_count": null,
   "id": "c477f469",
   "metadata": {},
   "outputs": [],
   "source": [
    "DB.shape"
   ]
  },
  {
   "cell_type": "markdown",
   "id": "4e7a6ff3",
   "metadata": {},
   "source": [
    "## I- Modèle 1"
   ]
  },
  {
   "cell_type": "markdown",
   "id": "f94485c9",
   "metadata": {},
   "source": [
    "On estime un modèle FastText standard en utilisant seulement les libellés comme features."
   ]
  },
  {
   "cell_type": "code",
   "execution_count": null,
   "id": "a54870f9",
   "metadata": {},
   "outputs": [],
   "source": [
    "DB1 = DB[[\"APE_SICORE\", \"LIB_SICORE\"]]\n",
    "DB1 = DB1[DB1[\"LIB_SICORE\"].notna()]"
   ]
  },
  {
   "cell_type": "code",
   "execution_count": null,
   "id": "e3db24ec",
   "metadata": {},
   "outputs": [],
   "source": [
    "def CleanLib(lib):\n",
    "    #    if not isinstance(lib,str):\n",
    "    #        return \"NAN\"\n",
    "    #    else:\n",
    "    # On supprime toutes les ponctuations\n",
    "    lib = lib.translate(str.maketrans(string.punctuation, \" \" * len(string.punctuation)))\n",
    "    # On supprime tous les chiffres\n",
    "    lib = lib.translate(str.maketrans(string.digits, \" \" * len(string.digits)))\n",
    "\n",
    "    # On supprime les stopwords et on renvoie les mots en majuscule\n",
    "    return \" \".join(\n",
    "        [x.upper() for x in lib.split() if x.lower() not in stopwords.words(\"french\") + [\"a\"]]\n",
    "    )"
   ]
  },
  {
   "cell_type": "code",
   "execution_count": 21,
   "id": "b0b2a6dc",
   "metadata": {},
   "outputs": [],
   "source": [
    "stopwords_ = set(stopwords.words(\"french\") + [\"a\"])\n",
    "\n",
    "\n",
    "def CleanLib(lib):\n",
    "    # On supprime toutes les ponctuations\n",
    "    lib = lib.translate(str.maketrans(string.punctuation, \" \" * len(string.punctuation)))\n",
    "    # On supprime tous les chiffres\n",
    "    lib = lib.translate(str.maketrans(string.digits, \" \" * len(string.digits)))\n",
    "\n",
    "    # On supprime les stopwords et on renvoie les mots en majuscule\n",
    "    return \" \".join([x.upper() for x in lib.split() if x.lower() not in stopwords_])"
   ]
  },
  {
   "cell_type": "code",
   "execution_count": 28,
   "id": "7d247a1f",
   "metadata": {},
   "outputs": [],
   "source": [
    "DB1[\"LIB_CLEAN\"] = DB1[\"LIB_SICORE\"].apply(lambda x: CleanLib(x))"
   ]
  },
  {
   "cell_type": "code",
   "execution_count": null,
   "id": "3313f31b",
   "metadata": {},
   "outputs": [],
   "source": []
  }
 ],
 "metadata": {
  "kernelspec": {
   "display_name": "Python 3 (ipykernel)",
   "language": "python",
   "name": "python3"
  },
  "language_info": {
   "codemirror_mode": {
    "name": "ipython",
    "version": 3
   },
   "file_extension": ".py",
   "mimetype": "text/x-python",
   "name": "python",
   "nbconvert_exporter": "python",
   "pygments_lexer": "ipython3",
   "version": "3.10.4"
  }
 },
 "nbformat": 4,
 "nbformat_minor": 5
}
