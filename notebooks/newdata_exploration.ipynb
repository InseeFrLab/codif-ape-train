{
 "cells": [
  {
   "cell_type": "markdown",
   "id": "8549431c-6a29-4f96-a18d-4d123c8dd243",
   "metadata": {},
   "source": [
    "# Exploration des données de Sirene"
   ]
  },
  {
   "cell_type": "markdown",
   "id": "af4e4578",
   "metadata": {},
   "source": [
    "## Importation des différents packages nécessaires."
   ]
  },
  {
   "cell_type": "code",
   "execution_count": null,
   "id": "aa9ee43e-b8d9-4c5f-8b60-6512c958a173",
   "metadata": {},
   "outputs": [],
   "source": [
    "import pandas as pd\n",
    "import numpy as np\n",
    "from datetime import datetime\n",
    "import nltk\n",
    "import string\n",
    "nltk.download('stopwords')"
   ]
  },
  {
   "cell_type": "markdown",
   "id": "a7fde385",
   "metadata": {},
   "source": [
    "## Importation des données"
   ]
  },
  {
   "cell_type": "code",
   "execution_count": null,
   "id": "c4e0353e",
   "metadata": {},
   "outputs": [],
   "source": [
    "DBRaw = pd.read_parquet('../data/extraction_sirene_20220510.parquet', engine='pyarrow')"
   ]
  },
  {
   "cell_type": "markdown",
   "id": "32ebd953",
   "metadata": {},
   "source": [
    "On transforme les valeurs manquantes en NaN."
   ]
  },
  {
   "cell_type": "code",
   "execution_count": null,
   "id": "f109d898",
   "metadata": {},
   "outputs": [],
   "source": [
    "DBRaw = DBRaw.fillna(value=np.nan)"
   ]
  },
  {
   "cell_type": "markdown",
   "id": "bdbec49e",
   "metadata": {},
   "source": [
    "On garde seulement les variables potentiellement intéressantes : \n",
    "- ``APE_SICORE :`` Code APE (Activité Principale Exercée) retenu lors du traitement de codification (soit Sicore soit gestionnaire) ;\n",
    "- ``NAT_SICORE :`` Nature de l'activité de l'entreprise ;\n",
    "- ``SED_SICORE :`` Sédentarité de l'entreprise ;\n",
    "- ``EVT_SICORE :`` Sédentarité de l'entreprise ;\n",
    "- ``LIB_SICORE :`` Sédentarité de l'entreprise ;\n",
    "- ``DATE :`` Sédentarité de l'entreprise ;\n",
    "- ``AUTO :`` Type de liasse extrait de la base brute Sirène ;\n",
    "- ``SURF :`` Surface en $m^2$ de l'établissement.\n"
   ]
  },
  {
   "cell_type": "code",
   "execution_count": null,
   "id": "550efe05",
   "metadata": {},
   "outputs": [],
   "source": [
    "Var2Keep = [\"APE_SICORE\",\"LIB_SICORE\",\"AUTO\",\"DATE\",\"NAT_SICORE\",\"SED_SICORE\",\"EVT_SICORE\",\"SURF\"]\n",
    "DB = DBRaw[Var2Keep]"
   ]
  },
  {
   "cell_type": "markdown",
   "id": "5a210513",
   "metadata": {},
   "source": [
    "On regarde l'ampleur des variables manquantes pour les deux variables principales ``APE_SICORE`` et ``LIB_SICORE``."
   ]
  },
  {
   "cell_type": "code",
   "execution_count": null,
   "id": "ba9a62d8",
   "metadata": {},
   "outputs": [],
   "source": [
    "DB[[\"APE_SICORE\",\"LIB_SICORE\"]].isnull().sum()/DB.shape[0] * 100"
   ]
  },
  {
   "cell_type": "markdown",
   "id": "6338f6ef",
   "metadata": {},
   "source": [
    "On supprime les liasses où une valeur est manquante pour l'une de ces deux variables (6.77% de la base). Il s'agit principalement du code APE donc il n'est pas nécessaire de l'imputer."
   ]
  },
  {
   "cell_type": "code",
   "execution_count": null,
   "id": "b1bb5cdd",
   "metadata": {},
   "outputs": [],
   "source": [
    "DB = DB[DB[\"APE_SICORE\"].notna()]"
   ]
  },
  {
   "cell_type": "markdown",
   "id": "21ed07a1",
   "metadata": {},
   "source": [
    "On a finalement 10.8 millions de liasses."
   ]
  },
  {
   "cell_type": "code",
   "execution_count": null,
   "id": "252a27b0",
   "metadata": {},
   "outputs": [],
   "source": [
    "DB.shape"
   ]
  },
  {
   "cell_type": "markdown",
   "id": "4e7a6ff3",
   "metadata": {},
   "source": [
    "## I- Modèle 1"
   ]
  },
  {
   "cell_type": "markdown",
   "id": "f94485c9",
   "metadata": {},
   "source": [
    "On estime un modèle FastText standard en utilisant seulement les libellés comme features."
   ]
  },
  {
   "cell_type": "code",
   "execution_count": null,
   "id": "ae1a6cef",
   "metadata": {},
   "outputs": [],
   "source": [
    "DB1[\"LIB_SICORE\"].isnull().sum()"
   ]
  },
  {
   "cell_type": "code",
   "execution_count": null,
   "id": "4e191f79",
   "metadata": {},
   "outputs": [],
   "source": [
    "DB1 = DB[[\"APE_SICORE\",\"LIB_SICORE\"]]"
   ]
  },
  {
   "cell_type": "code",
   "execution_count": null,
   "id": "20d073ee",
   "metadata": {},
   "outputs": [],
   "source": [
    "sstr = \"Contruction, EN l'INNOVATION au _78\""
   ]
  },
  {
   "cell_type": "code",
   "execution_count": null,
   "id": "9d30c3d0",
   "metadata": {},
   "outputs": [],
   "source": [
    "sstr = sstr.translate(str.maketrans(string.punctuation, ' ' * len(string.punctuation)))\n",
    "sstr = sstr.translate(str.maketrans(string.digits, ' ' * len(string.digits)))"
   ]
  },
  {
   "cell_type": "code",
   "execution_count": null,
   "id": "e3db24ec",
   "metadata": {},
   "outputs": [],
   "source": [
    "def CleanLib(lib):\n",
    "    if not isinstance(lib,str):\n",
    "        return \"NAN\"\n",
    "    else:\n",
    "        # On supprime toutes les ponctuations\n",
    "        lib = lib.translate(str.maketrans(string.punctuation, ' ' * len(string.punctuation)))\n",
    "        # On supprime tous les chiffres\n",
    "        lib = lib.translate(str.maketrans(string.digits, ' ' * len(string.digits)))\n",
    "\n",
    "        # On supprime les stopwords et on renvoie les mots en majuscule\n",
    "        return \" \".join([x.upper() for x in lib.split() if x.lower() not in stopwords.words('french') + ['a']])\n"
   ]
  },
  {
   "cell_type": "code",
   "execution_count": null,
   "id": "42a5dcb5",
   "metadata": {},
   "outputs": [],
   "source": [
    "from tqdm import tqdm"
   ]
  },
  {
   "cell_type": "code",
   "execution_count": null,
   "id": "c9ff49ad",
   "metadata": {},
   "outputs": [],
   "source": [
    "import time"
   ]
  },
  {
   "cell_type": "code",
   "execution_count": null,
   "id": "408d14ac",
   "metadata": {},
   "outputs": [],
   "source": [
    "temp = DB1.head(100)"
   ]
  },
  {
   "cell_type": "code",
   "execution_count": null,
   "id": "7d247a1f",
   "metadata": {},
   "outputs": [],
   "source": [
    "t0 = time.time()\n",
    "temp[\"LIB_SICORE\"].apply(lambda x: CleanLib(x))\n",
    "t1 = time.time()\n",
    "\n",
    "t1-t0"
   ]
  },
  {
   "cell_type": "code",
   "execution_count": null,
   "id": "2038c954",
   "metadata": {},
   "outputs": [],
   "source": [
    "t0 = time.time()\n",
    "[CleanLib(x) for x in tqdm(DB1[\"LIB_SICORE\"].tolist())]\n",
    "t1 = time.time()\n",
    "\n",
    "t1-t0"
   ]
  },
  {
   "cell_type": "code",
   "execution_count": null,
   "id": "91183c43",
   "metadata": {},
   "outputs": [],
   "source": []
  }
 ],
 "metadata": {
  "kernelspec": {
   "display_name": "Python 3 (ipykernel)",
   "language": "python",
   "name": "python3"
  },
  "language_info": {
   "codemirror_mode": {
    "name": "ipython",
    "version": 3
   },
   "file_extension": ".py",
   "mimetype": "text/x-python",
   "name": "python",
   "nbconvert_exporter": "python",
   "pygments_lexer": "ipython3",
   "version": "3.10.4"
  }
 },
 "nbformat": 4,
 "nbformat_minor": 5
}
