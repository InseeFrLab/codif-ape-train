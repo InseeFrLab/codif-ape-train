{
 "cells": [
  {
   "cell_type": "code",
   "execution_count": 1,
   "metadata": {},
   "outputs": [],
   "source": [
    "import sys\n",
    "import sys\n",
    "\n",
    "sys.path.append(\"../src\")\n",
    "import time\n",
    "\n",
    "import mlflow\n",
    "import pandas as pd\n",
    "import yaml\n",
    "import fasttext\n",
    "\n",
    "from constants import TEXT_FEATURE\n",
    "from fasttext_classifier.fasttext_evaluator import FastTextEvaluator\n",
    "from fasttext_classifier.fasttext_preprocessor import FastTextPreprocessor\n",
    "from fasttext_classifier.fasttext_trainer import FastTextTrainer\n",
    "from fasttext_classifier.fasttext_wrapper import FastTextWrapper\n",
    "from utils import get_root_path"
   ]
  },
  {
   "cell_type": "code",
   "execution_count": 2,
   "metadata": {},
   "outputs": [
    {
     "name": "stdout",
     "output_type": "stream",
     "text": [
      "*** Preprocessing the database...\n",
      "\n"
     ]
    }
   ],
   "source": [
    "config_path = \"config/config_fasttext27.yaml\"\n",
    "\n",
    "preprocessor = FastTextPreprocessor()\n",
    "\n",
    "df = pd.read_csv(\"../data/logs_analysis.csv\", engine=\"pyarrow\")\n",
    "\n",
    "with open(get_root_path() / config_path, \"r\") as stream:\n",
    "    config = yaml.safe_load(stream)\n",
    "params = config[\"params\"]\n",
    "categorical_features = config[\"categorical_features\"]\n",
    "Y = config[\"Y\"][0]\n",
    "oversampling = config[\"oversampling\"]"
   ]
  },
  {
   "cell_type": "markdown",
   "metadata": {},
   "source": [
    "mc cp minio/projet-ape/mlflow-artifacts/6/4e5c4673cbbd412e91456b3443e8dabe/artifacts/default/artifacts/default.bin models/model.bin"
   ]
  },
  {
   "cell_type": "code",
   "execution_count": 3,
   "metadata": {},
   "outputs": [
    {
     "name": "stderr",
     "output_type": "stream",
     "text": [
      "Warning : `load_model` does not return WordVectorModel or SupervisedModel any more, but a `FastText` object which is very similar.\n"
     ]
    }
   ],
   "source": [
    "model = fasttext.load_model(\"../models/model.bin\")"
   ]
  },
  {
   "cell_type": "code",
   "execution_count": 4,
   "metadata": {},
   "outputs": [],
   "source": [
    "k = 2\n",
    "res = model.predict(df[\"libelleNettoye\"].to_list(), k=k)\n",
    "preds = {\n",
    "    rank_pred: [\n",
    "        (x[rank_pred].replace(\"__label__\", \"\"), y[rank_pred]) for x, y in zip(res[0], res[1])\n",
    "    ]\n",
    "    for rank_pred in range(k)\n",
    "}\n",
    "\n",
    "level = 5\n",
    "predicted_classes = {\n",
    "    f\"predictions_{level}_k{rank_pred+1}\": [pred[0] for pred in preds[rank_pred]]\n",
    "    for rank_pred in range(k)\n",
    "}\n",
    "probs_prediction = {\n",
    "    f\"probabilities_k{rank_pred+1}\": [prob[1] for prob in preds[rank_pred]]\n",
    "    for rank_pred in range(k)\n",
    "}\n",
    "liasseNb = df.index\n",
    "\n",
    "preds_df = pd.DataFrame(predicted_classes)\n",
    "preds_df.set_index(liasseNb, inplace=True)\n",
    "\n",
    "proba_df = pd.DataFrame(probs_prediction)\n",
    "proba_df.set_index(liasseNb, inplace=True)\n",
    "res_df = pd.merge(preds_df, proba_df, left_index=True, right_index=True)\n",
    "res_df[\"score\"] = res_df.probabilities_k1 - res_df.probabilities_k2"
   ]
  },
  {
   "cell_type": "code",
   "execution_count": 9,
   "metadata": {},
   "outputs": [],
   "source": [
    "new_df = pd.merge(df, res_df, left_index=True, right_index=True)\n",
    "new_df[(new_df[\"sourceAppel\"] == \"WF\") & (new_df[\"score_x\"] > 0.9) & (new_df[\"score_y\"] < 0.9)][\n",
    "    [\n",
    "        \"libelleActivite\",\n",
    "        \"libelleNettoye\",\n",
    "        \"timestamp\",\n",
    "        \"first_pred\",\n",
    "        \"predictions_5_k1\",\n",
    "        \"second_pred\",\n",
    "        \"predictions_5_k2\",\n",
    "        \"first_proba\",\n",
    "        \"probabilities_k1\",\n",
    "        \"second_proba\",\n",
    "        \"probabilities_k2\",\n",
    "    ]\n",
    "]"
   ]
  },
  {
   "cell_type": "code",
   "execution_count": 19,
   "metadata": {},
   "outputs": [],
   "source": [
    "test = new_df[\n",
    "    (new_df[\"sourceAppel\"] == \"WF\") & (new_df[\"score_x\"] > 0.9) & (new_df[\"score_y\"] < 0.9)\n",
    "][\n",
    "    [\n",
    "        \"libelleActivite\",\n",
    "        \"libelleNettoye\",\n",
    "        \"timestamp\",\n",
    "        \"first_pred\",\n",
    "        \"predictions_5_k1\",\n",
    "        \"second_pred\",\n",
    "        \"predictions_5_k2\",\n",
    "        \"first_proba\",\n",
    "        \"probabilities_k1\",\n",
    "        \"second_proba\",\n",
    "        \"probabilities_k2\",\n",
    "    ]\n",
    "]\n",
    "test.to_csv(\"comparison_old_new_models.csv\")"
   ]
  },
  {
   "cell_type": "code",
   "execution_count": 56,
   "metadata": {},
   "outputs": [
    {
     "data": {
      "image/png": "[encoded data removed]",
      "text/plain": [
       "<Figure size 640x480 with 1 Axes>"
      ]
     },
     "metadata": {},
     "output_type": "display_data"
    }
   ],
   "source": [
    "import seaborn as sns\n",
    "import matplotlib.pyplot as plt\n",
    "\n",
    "# Create the histogram\n",
    "sns.histplot(res_df.loc[:9084].score, binwidth=0.01)\n",
    "plt.ylim(0, 4100)\n",
    "plt.yticks(range(0, 4500, 1000))\n",
    "\n",
    "# Calculate the quantiles\n",
    "quantiles = res_df.loc[:9084].score.quantile([0.05, 0.1, 0.15, 0.2, 0.25])\n",
    "\n",
    "# Add vertical lines at the quantiles\n",
    "for q in quantiles:\n",
    "    plt.axvline(q, color=\"r\", linestyle=\"dashed\", linewidth=1)\n",
    "\n",
    "# Show the plot\n",
    "plt.show()"
   ]
  }
 ],
 "metadata": {
  "kernelspec": {
   "display_name": "Python 3.9.0 ('base')",
   "language": "python",
   "name": "python3"
  },
  "language_info": {
   "codemirror_mode": {
    "name": "ipython",
    "version": 3
   },
   "file_extension": ".py",
   "mimetype": "text/x-python",
   "name": "python",
   "nbconvert_exporter": "python",
   "pygments_lexer": "ipython3",
   "version": "3.10.4"
  },
  "orig_nbformat": 4,
  "vscode": {
   "interpreter": {
    "hash": "3fa046f995eb80ac40c0869a1f9df46519f4ada8b8c395ef25dd1aa1a1a2fc63"
   }
  }
 },
 "nbformat": 4,
 "nbformat_minor": 2
}
