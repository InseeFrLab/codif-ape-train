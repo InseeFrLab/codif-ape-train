{
 "cells": [
  {
   "cell_type": "code",
   "execution_count": null,
   "metadata": {},
   "outputs": [],
   "source": [
    "!pip install nltk\n",
    "!pip install sentencepiece"
   ]
  },
  {
   "cell_type": "code",
   "execution_count": null,
   "metadata": {},
   "outputs": [],
   "source": [
    "import nltk\n",
    "nltk.download('stopwords')"
   ]
  },
  {
   "cell_type": "code",
   "execution_count": null,
   "metadata": {},
   "outputs": [],
   "source": [
    "import sys\n",
    "sys.path.append(\"../\")\n",
    "sys.path.append(\"../src/\")\n",
    "from src.camembert.camembert_preprocessor import CamembertPreprocessor\n",
    "from src.camembert.camembert_trainer import CamembertTrainer"
   ]
  },
  {
   "cell_type": "code",
   "execution_count": null,
   "metadata": {},
   "outputs": [],
   "source": [
    "preprocessor = CamembertPreprocessor()\n",
    "trainer = CamembertTrainer()"
   ]
  },
  {
   "cell_type": "code",
   "execution_count": null,
   "metadata": {},
   "outputs": [],
   "source": [
    "import pyarrow.parquet as pq\n",
    "import s3fs\n",
    "\n",
    "\n",
    "fs = s3fs.S3FileSystem(\n",
    "    client_kwargs={'endpoint_url': 'https://'+'minio.lab.sspcloud.fr'}\n",
    ")\n",
    "# Load data\n",
    "df = pq.read_table(\n",
    "    \"projet-ape/extractions/20240124_sirene4.parquet\", filesystem=fs\n",
    ").to_pandas()\n",
    "\n",
    "df.head()\n"
   ]
  },
  {
   "cell_type": "code",
   "execution_count": null,
   "metadata": {},
   "outputs": [],
   "source": [
    "# Preprocess data\n",
    "df_train, df_test = preprocessor.preprocess(\n",
    "    df=df,\n",
    "    y=\"apet_finale\",\n",
    "    text_feature=\"activ_pr_lib_et\",\n",
    "    categorical_features=[\"activ_nat_et\", \"activ_surf_et\"],\n",
    ")"
   ]
  },
  {
   "cell_type": "code",
   "execution_count": null,
   "metadata": {},
   "outputs": [],
   "source": [
    "\n",
    "\n",
    "\n",
    "\n",
    "    print(f\"*** Done! Preprocessing lasted {round((time.time() - t)/60,1)} minutes.\\n\")\n",
    "\n",
    "    # Run training of the model\n",
    "    print(\"*** 2- Training the model...\\n\")\n",
    "    t = time.time()\n",
    "    model = trainer.train(df_train, Y, text_feature, categorical_features, params)\n",
    "    print(f\"*** Done! Training lasted {round((time.time() - t)/60,1)} minutes.\\n\")\n",
    "\n",
    "    if model_type == \"fasttext\":\n",
    "        fasttext_model_path = run_name + \".bin\"\n",
    "        model.save_model(fasttext_model_path)\n",
    "\n",
    "        artifacts = {\n",
    "            \"fasttext_model_path\": fasttext_model_path,\n",
    "            \"train_data\": \"train_text.txt\",\n",
    "        }\n",
    "\n",
    "        inference_params = {\n",
    "            \"k\": 1,\n",
    "        }\n",
    "        # Infer the signature including parameters\n",
    "        signature = mlflow.models.infer_signature(\n",
    "            params=inference_params,\n",
    "        )\n",
    "\n",
    "        mlflow.pyfunc.log_model(\n",
    "            artifact_path=run_name,\n",
    "            code_path=[\"src/fasttext_classifier/\", \"src/base/\", \"src/utils/\"],\n",
    "            python_model=FastTextWrapper(text_feature, categorical_features),\n",
    "            artifacts=artifacts,\n",
    "            signature=signature,\n",
    "        )\n",
    "    elif model_type == \"pytorch\":\n",
    "        mlflow.pytorch.log_model(pytorch_model=model, artifact_path=run_name)\n",
    "    else:\n",
    "        raise KeyError(\"Model type is not valid.\")\n",
    "\n",
    "    # Log parameters\n",
    "    for param_name, param_value in params.items():\n",
    "        mlflow.log_param(param_name, param_value)\n",
    "    mlflow.log_param(\"features\", categorical_features)\n",
    "    mlflow.log_param(\"Y\", Y)\n",
    "\n",
    "    # Evaluation\n",
    "    print(\"*** 3- Evaluating the model...\\n\")\n",
    "    t = time.time()\n",
    "    if model_type == \"fasttext\":\n",
    "        evaluator = framework_classes[\"evaluator\"](model)\n",
    "    elif model_type == \"pytorch\":\n",
    "        evaluator = framework_classes[\"evaluator\"](model, trainer.tokenizer)\n",
    "    else:\n",
    "        raise KeyError(\"Model type is not valid.\")\n",
    "\n",
    "    accuracies = evaluator.evaluate(df_test, Y, text_feature, categorical_features, 5)\n",
    "\n",
    "    # Log metrics\n",
    "    for metric, value in accuracies.items():\n",
    "        mlflow.log_metric(metric, value)\n",
    "\n",
    "    print(f\"*** Done! Evaluation lasted {round((time.time() - t)/60,1)} minutes.\\n\")\n",
    "\n",
    "    # Tests\n",
    "    print(\"*** 4- Performing standard tests...\\n\")\n",
    "    t = time.time()\n",
    "    with open(\"src/tests/tests.yaml\", \"r\", encoding=\"utf-8\") as stream:\n",
    "        tests = yaml.safe_load(stream)\n",
    "    for case in tests.keys():\n",
    "        run_test(tests[case], preprocessor, evaluator)\n",
    "\n",
    "    print(f\"*** Done! Tests lasted {round((time.time() - t)/60,1)} minutes.\\n\")\n"
   ]
  }
 ],
 "metadata": {
  "kernelspec": {
   "display_name": "base",
   "language": "python",
   "name": "python3"
  },
  "language_info": {
   "codemirror_mode": {
    "name": "ipython",
    "version": 3
   },
   "file_extension": ".py",
   "mimetype": "text/x-python",
   "name": "python",
   "nbconvert_exporter": "python",
   "pygments_lexer": "ipython3",
   "version": "3.11.6"
  }
 },
 "nbformat": 4,
 "nbformat_minor": 2
}
