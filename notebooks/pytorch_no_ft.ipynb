{
 "cells": [
  {
   "cell_type": "markdown",
   "metadata": {},
   "source": [
    "# Test implémentation de FastText avec Pytorch"
   ]
  },
  {
   "cell_type": "code",
   "execution_count": 1,
   "metadata": {},
   "outputs": [],
   "source": [
    "import sys\n",
    "sys.path.append(\"../\")\n",
    "sys.path.append(\"../src/\")"
   ]
  },
  {
   "cell_type": "markdown",
   "metadata": {},
   "source": [
    "## Chargement des données"
   ]
  },
  {
   "cell_type": "code",
   "execution_count": 2,
   "metadata": {},
   "outputs": [],
   "source": [
    "import pandas as pd\n",
    "df_orig = pd.read_parquet(\"../data/extraction_sirene_20220712.parquet\", engine=\"pyarrow\")"
   ]
  },
  {
   "cell_type": "code",
   "execution_count": 3,
   "metadata": {},
   "outputs": [],
   "source": [
    "distinct_values = df_orig[\"APE_SICORE\"].unique().tolist()\n",
    "y_dict = {key: value for key, value in zip(distinct_values, range(len(distinct_values)))}"
   ]
  },
  {
   "cell_type": "code",
   "execution_count": 4,
   "metadata": {},
   "outputs": [],
   "source": [
    "import pandas as pd\n",
    "import yaml\n",
    "\n",
    "df = df_orig.sample(frac=0.0001, random_state=1)"
   ]
  },
  {
   "cell_type": "code",
   "execution_count": 5,
   "metadata": {},
   "outputs": [
    {
     "data": {
      "text/plain": [
       "(1087, 20)"
      ]
     },
     "execution_count": 5,
     "metadata": {},
     "output_type": "execute_result"
    }
   ],
   "source": [
    "df.shape"
   ]
  },
  {
   "cell_type": "markdown",
   "metadata": {},
   "source": [
    "## Pytorch"
   ]
  },
  {
   "cell_type": "code",
   "execution_count": 6,
   "metadata": {},
   "outputs": [
    {
     "name": "stderr",
     "output_type": "stream",
     "text": [
      "/opt/mamba/lib/python3.9/site-packages/tqdm/auto.py:22: TqdmWarning: IProgress not found. Please update jupyter and ipywidgets. See https://ipywidgets.readthedocs.io/en/stable/user_install.html\n",
      "  from .autonotebook import tqdm as notebook_tqdm\n"
     ]
    }
   ],
   "source": [
    "from pytorch_classifier.pytorch_trainer import PytorchTrainer\n",
    "\n",
    "# Trainer module\n",
    "trainer = PytorchTrainer()"
   ]
  },
  {
   "cell_type": "code",
   "execution_count": 7,
   "metadata": {},
   "outputs": [],
   "source": [
    "categorical_features = ['AUTO', 'NAT_SICORE', 'SURF', 'EVT_SICORE']"
   ]
  },
  {
   "cell_type": "code",
   "execution_count": 8,
   "metadata": {},
   "outputs": [],
   "source": [
    "LEARNING_RATE = 3e-4\n",
    "PATIENCE = 5\n",
    "NUM_EPOCHS = 3\n",
    "\n",
    "params = {\n",
    "    \"num_epochs\": NUM_EPOCHS,\n",
    "    \"patience\": PATIENCE,\n",
    "    \"train_proportion\": 0.8,\n",
    "    \"batch_size\": 64,\n",
    "    \"learning_rate\": LEARNING_RATE,\n",
    "    \"buckets\": 2000000,\n",
    "    \"embedding_dim\": 120,\n",
    "    \"min_count\": 3,\n",
    "    \"min_n\": 3,\n",
    "    \"max_n\": 4,\n",
    "    \"word_ngrams\": 3\n",
    "}"
   ]
  },
  {
   "cell_type": "code",
   "execution_count": 9,
   "metadata": {},
   "outputs": [],
   "source": [
    "from pytorch_classifier.pytorch_preprocessor import PytorchPreprocessor\n",
    "from src.constants import TEXT_FEATURE, Y\n",
    "\n",
    "pytorch_preprocessor = PytorchPreprocessor()\n",
    "df_train_py, df_test_py, df_gu_py = pytorch_preprocessor.preprocess(\n",
    "    df=df,\n",
    "    y=Y,\n",
    "    text_feature=TEXT_FEATURE,\n",
    "    categorical_features=categorical_features,\n",
    ")"
   ]
  },
  {
   "cell_type": "code",
   "execution_count": 10,
   "metadata": {},
   "outputs": [
    {
     "data": {
      "text/html": [
       "<div>\n",
       "<style scoped>\n",
       "    .dataframe tbody tr th:only-of-type {\n",
       "        vertical-align: middle;\n",
       "    }\n",
       "\n",
       "    .dataframe tbody tr th {\n",
       "        vertical-align: top;\n",
       "    }\n",
       "\n",
       "    .dataframe thead th {\n",
       "        text-align: right;\n",
       "    }\n",
       "</style>\n",
       "<table border=\"1\" class=\"dataframe\">\n",
       "  <thead>\n",
       "    <tr style=\"text-align: right;\">\n",
       "      <th></th>\n",
       "      <th>LIB_SICORE</th>\n",
       "      <th>AUTO</th>\n",
       "      <th>NAT_SICORE</th>\n",
       "      <th>SURF</th>\n",
       "      <th>EVT_SICORE</th>\n",
       "      <th>APE_NIV5</th>\n",
       "    </tr>\n",
       "    <tr>\n",
       "      <th>LIA_NUM</th>\n",
       "      <th></th>\n",
       "      <th></th>\n",
       "      <th></th>\n",
       "      <th></th>\n",
       "      <th></th>\n",
       "      <th></th>\n",
       "    </tr>\n",
       "  </thead>\n",
       "  <tbody>\n",
       "    <tr>\n",
       "      <th>U69078320937</th>\n",
       "      <td>activit club sport</td>\n",
       "      <td>10</td>\n",
       "      <td>3</td>\n",
       "      <td>0</td>\n",
       "      <td>2</td>\n",
       "      <td>57</td>\n",
       "    </tr>\n",
       "    <tr>\n",
       "      <th>U34075388943</th>\n",
       "      <td>conseil matier immobilier</td>\n",
       "      <td>7</td>\n",
       "      <td>3</td>\n",
       "      <td>0</td>\n",
       "      <td>1</td>\n",
       "      <td>127</td>\n",
       "    </tr>\n",
       "    <tr>\n",
       "      <th>I94150216737</th>\n",
       "      <td>vent correspond</td>\n",
       "      <td>3</td>\n",
       "      <td>1</td>\n",
       "      <td>0</td>\n",
       "      <td>15</td>\n",
       "      <td>8</td>\n",
       "    </tr>\n",
       "    <tr>\n",
       "      <th>U69079330034</th>\n",
       "      <td>conseil commun</td>\n",
       "      <td>1</td>\n",
       "      <td>3</td>\n",
       "      <td>0</td>\n",
       "      <td>1</td>\n",
       "      <td>69</td>\n",
       "    </tr>\n",
       "    <tr>\n",
       "      <th>U35072683244</th>\n",
       "      <td>conseil bat</td>\n",
       "      <td>1</td>\n",
       "      <td>3</td>\n",
       "      <td>0</td>\n",
       "      <td>0</td>\n",
       "      <td>127</td>\n",
       "    </tr>\n",
       "  </tbody>\n",
       "</table>\n",
       "</div>"
      ],
      "text/plain": [
       "                             LIB_SICORE  AUTO  NAT_SICORE  SURF  EVT_SICORE  \\\n",
       "LIA_NUM                                                                       \n",
       "U69078320937         activit club sport    10           3     0           2   \n",
       "U34075388943  conseil matier immobilier     7           3     0           1   \n",
       "I94150216737            vent correspond     3           1     0          15   \n",
       "U69079330034             conseil commun     1           3     0           1   \n",
       "U35072683244                conseil bat     1           3     0           0   \n",
       "\n",
       "              APE_NIV5  \n",
       "LIA_NUM                 \n",
       "U69078320937        57  \n",
       "U34075388943       127  \n",
       "I94150216737         8  \n",
       "U69079330034        69  \n",
       "U35072683244       127  "
      ]
     },
     "execution_count": 10,
     "metadata": {},
     "output_type": "execute_result"
    }
   ],
   "source": [
    "df_train_py.head()"
   ]
  },
  {
   "cell_type": "code",
   "execution_count": 11,
   "metadata": {},
   "outputs": [
    {
     "name": "stderr",
     "output_type": "stream",
     "text": [
      "11it [00:10,  1.04it/s]0:00<?, ?it/s]\n"
     ]
    },
    {
     "name": "stdout",
     "output_type": "stream",
     "text": [
      "Moving GPU: 0.00016379356384277344\n",
      "Forward: 0.6416831016540527\n",
      "Backward: 1.4706690311431885\n",
      "Update: 8.032469034194946\n"
     ]
    },
    {
     "name": "stderr",
     "output_type": "stream",
     "text": [
      "3it [00:00, 35.71it/s]\n",
      " 33%|███▎      | 1/3 [00:10<00:21, 10.71s/it]"
     ]
    },
    {
     "name": "stdout",
     "output_type": "stream",
     "text": [
      "Epoch: 1 | train_loss: 7.15121, val_loss: 6.82917, lr: 3.00E-04, _patience: 5\n"
     ]
    },
    {
     "name": "stderr",
     "output_type": "stream",
     "text": [
      "11it [00:10,  1.09it/s]\n"
     ]
    },
    {
     "name": "stdout",
     "output_type": "stream",
     "text": [
      "Moving GPU: 0.0001900196075439453\n",
      "Forward: 0.6613528728485107\n",
      "Backward: 1.500817060470581\n",
      "Update: 7.374882936477661\n"
     ]
    },
    {
     "name": "stderr",
     "output_type": "stream",
     "text": [
      "3it [00:00, 25.97it/s]\n",
      " 67%|██████▋   | 2/3 [00:20<00:10, 10.42s/it]"
     ]
    },
    {
     "name": "stdout",
     "output_type": "stream",
     "text": [
      "Epoch: 2 | train_loss: 6.56053, val_loss: 6.42009, lr: 3.00E-04, _patience: 5\n"
     ]
    },
    {
     "name": "stderr",
     "output_type": "stream",
     "text": [
      "11it [00:10,  1.08it/s]\n"
     ]
    },
    {
     "name": "stdout",
     "output_type": "stream",
     "text": [
      "Moving GPU: 0.00023031234741210938\n",
      "Forward: 0.6406075954437256\n",
      "Backward: 1.5274953842163086\n",
      "Update: 7.563235521316528\n"
     ]
    },
    {
     "name": "stderr",
     "output_type": "stream",
     "text": [
      "3it [00:00, 36.46it/s]\n",
      "100%|██████████| 3/3 [00:31<00:00, 10.41s/it]\n"
     ]
    },
    {
     "name": "stdout",
     "output_type": "stream",
     "text": [
      "Epoch: 3 | train_loss: 6.05451, val_loss: 6.07726, lr: 3.00E-04, _patience: 5\n"
     ]
    }
   ],
   "source": [
    "pytorch_classifier = trainer.train(df_train_py, Y, TEXT_FEATURE, categorical_features, params)"
   ]
  },
  {
   "cell_type": "code",
   "execution_count": 12,
   "metadata": {},
   "outputs": [],
   "source": [
    "from pytorch_classifier.pytorch_evaluator import PytorchEvaluator\n",
    "\n",
    "evaluator = PytorchEvaluator(model=pytorch_classifier, tokenizer=trainer.tokenizer)"
   ]
  },
  {
   "cell_type": "code",
   "execution_count": 15,
   "metadata": {},
   "outputs": [
    {
     "name": "stderr",
     "output_type": "stream",
     "text": [
      "../src/pytorch_classifier/pytorch_evaluator.py:82: UserWarning: Implicit dimension choice for softmax has been deprecated. Change the call to include dim=X as an argument.\n",
      "  y_prob = F.softmax(z).cpu().numpy()\n"
     ]
    },
    {
     "name": "stdout",
     "output_type": "stream",
     "text": [
      "0\n",
      "             ground_truth_2 ground_truth_3 ground_truth_4 ground_truth_5  \\\n",
      "liasseNb                                                                   \n",
      "M56011948787             56            561           5610          5610C   \n",
      "M60012884685             31            310           3109          3109B   \n",
      "U13070128944             96            960           9609          9609Z   \n",
      "M30019026881             56            561           5610          5610C   \n",
      "M57021047784             56            561           5610          5610C   \n",
      "...                     ...            ...            ...            ...   \n",
      "G30021059293             68            682           6820          6820B   \n",
      "G67029331882             68            682           6820          6820B   \n",
      "U75077803418             86            869           8690          8690F   \n",
      "C89020002737             47            471           4711          4711B   \n",
      "M34011907510             18            181           1813          1813Z   \n",
      "\n",
      "             predictions_2 predictions_3 predictions_4 predictions_5  \\\n",
      "liasseNb                                                               \n",
      "M56011948787            47           478          4781         4781Z   \n",
      "M60012884685            86           862          8623         8623Z   \n",
      "U13070128944            47           479          4799         4799A   \n",
      "M30019026881            96           960          9609         9609Z   \n",
      "M57021047784            68           682          6820         6820B   \n",
      "...                    ...           ...           ...           ...   \n",
      "G30021059293            53           532          5320         5320Z   \n",
      "G67029331882            86           869          8690         8690E   \n",
      "U75077803418            86           869          8690         8690D   \n",
      "C89020002737            24           244          2442         2442Z   \n",
      "M34011907510            86           862          8623         8623Z   \n",
      "\n",
      "              probabilities predictions_1 ground_truth_1  \n",
      "liasseNb                                                  \n",
      "M56011948787       0.020856             G              I  \n",
      "M60012884685       0.017067             Q              C  \n",
      "U13070128944       0.031131             G              S  \n",
      "M30019026881       0.026702             S              I  \n",
      "M57021047784       0.041343             L              I  \n",
      "...                     ...           ...            ...  \n",
      "G30021059293       0.045644             H              L  \n",
      "G67029331882       0.032423             Q              L  \n",
      "U75077803418       0.034163             Q              Q  \n",
      "C89020002737       0.027036             C              G  \n",
      "M34011907510       0.037585             Q              C  \n",
      "\n",
      "[218 rows x 11 columns]\n",
      "1\n",
      "             ground_truth_2 ground_truth_3 ground_truth_4 ground_truth_5  \\\n",
      "liasseNb                                                                   \n",
      "M56011948787             56            561           5610          5610C   \n",
      "M60012884685             31            310           3109          3109B   \n",
      "U13070128944             96            960           9609          9609Z   \n",
      "M30019026881             56            561           5610          5610C   \n",
      "M57021047784             56            561           5610          5610C   \n",
      "...                     ...            ...            ...            ...   \n",
      "G30021059293             68            682           6820          6820B   \n",
      "G67029331882             68            682           6820          6820B   \n",
      "U75077803418             86            869           8690          8690F   \n",
      "C89020002737             47            471           4711          4711B   \n",
      "M34011907510             18            181           1813          1813Z   \n",
      "\n",
      "             predictions_2 predictions_3 predictions_4 predictions_5  \\\n",
      "liasseNb                                                               \n",
      "M56011948787            35           351          3512         3512Z   \n",
      "M60012884685            07           072          0721         0721Z   \n",
      "U13070128944            68           683          6832         6832A   \n",
      "M30019026881            47           478          4781         4781Z   \n",
      "M57021047784            43           439          4399         4399E   \n",
      "...                    ...           ...           ...           ...   \n",
      "G30021059293            59           591          5911         5911C   \n",
      "G67029331882            86           862          8623         8623Z   \n",
      "U75077803418            35           351          3511         3511Z   \n",
      "C89020002737            86           862          8623         8623Z   \n",
      "M34011907510            66           663          6630         6630Z   \n",
      "\n",
      "              probabilities predictions_1 ground_truth_1  \n",
      "liasseNb                                                  \n",
      "M56011948787       0.015481             D              I  \n",
      "M60012884685       0.015848             B              C  \n",
      "U13070128944       0.025234             L              S  \n",
      "M30019026881       0.019458             G              I  \n",
      "M57021047784       0.025764             F              I  \n",
      "...                     ...           ...            ...  \n",
      "G30021059293       0.026395             J              L  \n",
      "G67029331882       0.016863             Q              L  \n",
      "U75077803418       0.027725             D              Q  \n",
      "C89020002737       0.017505             Q              G  \n",
      "M34011907510       0.016816             K              C  \n",
      "\n",
      "[218 rows x 11 columns]\n",
      "2\n",
      "             ground_truth_2 ground_truth_3 ground_truth_4 ground_truth_5  \\\n",
      "liasseNb                                                                   \n",
      "M56011948787             56            561           5610          5610C   \n",
      "M60012884685             31            310           3109          3109B   \n",
      "U13070128944             96            960           9609          9609Z   \n",
      "M30019026881             56            561           5610          5610C   \n",
      "M57021047784             56            561           5610          5610C   \n",
      "...                     ...            ...            ...            ...   \n",
      "G30021059293             68            682           6820          6820B   \n",
      "G67029331882             68            682           6820          6820B   \n",
      "U75077803418             86            869           8690          8690F   \n",
      "C89020002737             47            471           4711          4711B   \n",
      "M34011907510             18            181           1813          1813Z   \n",
      "\n",
      "             predictions_2 predictions_3 predictions_4 predictions_5  \\\n",
      "liasseNb                                                               \n",
      "M56011948787            62           620          6201         6201Z   \n",
      "M60012884685            20           204          2041         2041Z   \n",
      "U13070128944            18           181          1813         1813Z   \n",
      "M30019026881            47           477          4779         4779Z   \n",
      "M57021047784            24           244          2442         2442Z   \n",
      "...                    ...           ...           ...           ...   \n",
      "G30021059293            43           439          4399         4399C   \n",
      "G67029331882            47           477          4778         4778C   \n",
      "U75077803418            01           014          0144         0144Z   \n",
      "C89020002737            64           642          6420         6420Z   \n",
      "M34011907510            46           461          4619         4619A   \n",
      "\n",
      "              probabilities predictions_1 ground_truth_1  \n",
      "liasseNb                                                  \n",
      "M56011948787       0.012843             J              I  \n",
      "M60012884685       0.013981             C              C  \n",
      "U13070128944       0.019903             C              S  \n",
      "M30019026881       0.013511             G              I  \n",
      "M57021047784       0.023407             C              I  \n",
      "...                     ...           ...            ...  \n",
      "G30021059293       0.023915             F              L  \n",
      "G67029331882       0.015679             G              L  \n",
      "U75077803418       0.024654             A              Q  \n",
      "C89020002737       0.016990             K              G  \n",
      "M34011907510       0.015108             G              C  \n",
      "\n",
      "[218 rows x 11 columns]\n",
      "3\n",
      "             ground_truth_2 ground_truth_3 ground_truth_4 ground_truth_5  \\\n",
      "liasseNb                                                                   \n",
      "M56011948787             56            561           5610          5610C   \n",
      "M60012884685             31            310           3109          3109B   \n",
      "U13070128944             96            960           9609          9609Z   \n",
      "M30019026881             56            561           5610          5610C   \n",
      "M57021047784             56            561           5610          5610C   \n",
      "...                     ...            ...            ...            ...   \n",
      "G30021059293             68            682           6820          6820B   \n",
      "G67029331882             68            682           6820          6820B   \n",
      "U75077803418             86            869           8690          8690F   \n",
      "C89020002737             47            471           4711          4711B   \n",
      "M34011907510             18            181           1813          1813Z   \n",
      "\n",
      "             predictions_2 predictions_3 predictions_4 predictions_5  \\\n",
      "liasseNb                                                               \n",
      "M56011948787            47           477          4771         4771Z   \n",
      "M60012884685            23           231          2314         2314Z   \n",
      "U13070128944            86           869          8690         8690F   \n",
      "M30019026881            58           582          5829         5829B   \n",
      "M57021047784            96           960          9609         9609Z   \n",
      "...                    ...           ...           ...           ...   \n",
      "G30021059293            86           869          8690         8690F   \n",
      "G67029331882            43           433          4331         4331Z   \n",
      "U75077803418            86           869          8690         8690E   \n",
      "C89020002737            10           104          1041         1041A   \n",
      "M34011907510            18           181          1813         1813Z   \n",
      "\n",
      "              probabilities predictions_1 ground_truth_1  \n",
      "liasseNb                                                  \n",
      "M56011948787       0.011375             G              I  \n",
      "M60012884685       0.011922             C              C  \n",
      "U13070128944       0.018374             Q              S  \n",
      "M30019026881       0.010457             J              I  \n",
      "M57021047784       0.020567             S              I  \n",
      "...                     ...           ...            ...  \n",
      "G30021059293       0.022053             Q              L  \n",
      "G67029331882       0.015206             F              L  \n",
      "U75077803418       0.021903             Q              Q  \n",
      "C89020002737       0.016796             C              G  \n",
      "M34011907510       0.014153             C              C  \n",
      "\n",
      "[218 rows x 11 columns]\n",
      "4\n",
      "             ground_truth_2 ground_truth_3 ground_truth_4 ground_truth_5  \\\n",
      "liasseNb                                                                   \n",
      "M56011948787             56            561           5610          5610C   \n",
      "M60012884685             31            310           3109          3109B   \n",
      "U13070128944             96            960           9609          9609Z   \n",
      "M30019026881             56            561           5610          5610C   \n",
      "M57021047784             56            561           5610          5610C   \n",
      "...                     ...            ...            ...            ...   \n",
      "G30021059293             68            682           6820          6820B   \n",
      "G67029331882             68            682           6820          6820B   \n",
      "U75077803418             86            869           8690          8690F   \n",
      "C89020002737             47            471           4711          4711B   \n",
      "M34011907510             18            181           1813          1813Z   \n",
      "\n",
      "             predictions_2 predictions_3 predictions_4 predictions_5  \\\n",
      "liasseNb                                                               \n",
      "M56011948787            10           101          1013         1013B   \n",
      "M60012884685            20           205          2053         2053Z   \n",
      "U13070128944            96           960          9609         9609Z   \n",
      "M30019026881            46           463          4639         4639B   \n",
      "M57021047784            43           433          4333         4333Z   \n",
      "...                    ...           ...           ...           ...   \n",
      "G30021059293            47           477          4771         4771Z   \n",
      "G67029331882            25           259          2591         2591Z   \n",
      "U75077803418            82           829          8299         8299Z   \n",
      "C89020002737            47           477          4776         4776Z   \n",
      "M34011907510            38           383          3832         3832Z   \n",
      "\n",
      "              probabilities predictions_1 ground_truth_1  \n",
      "liasseNb                                                  \n",
      "M56011948787       0.010001             C              I  \n",
      "M60012884685       0.009329             C              C  \n",
      "U13070128944       0.018188             S              S  \n",
      "M30019026881       0.010043             G              I  \n",
      "M57021047784       0.019475             F              I  \n",
      "...                     ...           ...            ...  \n",
      "G30021059293       0.021376             G              L  \n",
      "G67029331882       0.014122             C              L  \n",
      "U75077803418       0.020673             N              Q  \n",
      "C89020002737       0.016255             G              G  \n",
      "M34011907510       0.012871             E              C  \n",
      "\n",
      "[218 rows x 11 columns]\n"
     ]
    },
    {
     "data": {
      "image/png": "[encoded data removed]",
      "text/plain": [
       "<Figure size 2000x800 with 2 Axes>"
      ]
     },
     "metadata": {},
     "output_type": "display_data"
    }
   ],
   "source": [
    "evaluation = evaluator.evaluate(\n",
    "    df_test_py, Y, TEXT_FEATURE, categorical_features, 5\n",
    ")"
   ]
  },
  {
   "cell_type": "code",
   "execution_count": 16,
   "metadata": {},
   "outputs": [
    {
     "data": {
      "text/plain": [
       "({'accuracy_level_1': 0.13302752293577982,\n",
       "  'accuracy_level_2': 0.10550458715596331,\n",
       "  'accuracy_level_3': 0.06880733944954129,\n",
       "  'accuracy_level_4': 0.05963302752293578,\n",
       "  'accuracy_level_5': 0.027522935779816515,\n",
       "  'accuracy_level_1_proba_0.05': 0.17889908256880735,\n",
       "  'accuracy_level_2_proba_0.05': 0.1559633027522936,\n",
       "  'accuracy_level_3_proba_0.05': 0.11926605504587157,\n",
       "  'accuracy_level_4_proba_0.05': 0.11009174311926606,\n",
       "  'accuracy_level_5_proba_0.05': 0.0779816513761468,\n",
       "  'accuracy_level_1_proba_0.1': 0.22477064220183487,\n",
       "  'accuracy_level_2_proba_0.1': 0.20642201834862386,\n",
       "  'accuracy_level_3_proba_0.1': 0.16972477064220184,\n",
       "  'accuracy_level_4_proba_0.1': 0.16055045871559634,\n",
       "  'accuracy_level_5_proba_0.1': 0.12844036697247707,\n",
       "  'accuracy_level_1_proba_0.15': 0.26146788990825687,\n",
       "  'accuracy_level_2_proba_0.15': 0.24311926605504589,\n",
       "  'accuracy_level_3_proba_0.15': 0.21100917431192662,\n",
       "  'accuracy_level_4_proba_0.15': 0.2018348623853211,\n",
       "  'accuracy_level_5_proba_0.15': 0.1743119266055046,\n",
       "  'accuracy_level_1_proba_0.2': 0.3119266055045872,\n",
       "  'accuracy_level_2_proba_0.2': 0.29357798165137616,\n",
       "  'accuracy_level_3_proba_0.2': 0.26146788990825687,\n",
       "  'accuracy_level_4_proba_0.2': 0.25229357798165136,\n",
       "  'accuracy_level_5_proba_0.2': 0.22477064220183487,\n",
       "  'accuracy_level_1_proba_0.25': 0.3623853211009174,\n",
       "  'accuracy_level_2_proba_0.25': 0.3440366972477064,\n",
       "  'accuracy_level_3_proba_0.25': 0.3119266055045872,\n",
       "  'accuracy_level_4_proba_0.25': 0.30275229357798167,\n",
       "  'accuracy_level_5_proba_0.25': 0.27522935779816515,\n",
       "  'accuracy_level_1_gap_0.05': 0.1743119266055046,\n",
       "  'accuracy_level_2_gap_0.05': 0.1559633027522936,\n",
       "  'accuracy_level_3_gap_0.05': 0.11926605504587157,\n",
       "  'accuracy_level_4_gap_0.05': 0.11009174311926606,\n",
       "  'accuracy_level_5_gap_0.05': 0.0779816513761468,\n",
       "  'accuracy_level_1_gap_0.1': 0.22477064220183487,\n",
       "  'accuracy_level_2_gap_0.1': 0.20642201834862386,\n",
       "  'accuracy_level_3_gap_0.1': 0.16972477064220184,\n",
       "  'accuracy_level_4_gap_0.1': 0.16055045871559634,\n",
       "  'accuracy_level_5_gap_0.1': 0.12844036697247707,\n",
       "  'accuracy_level_1_gap_0.15': 0.26605504587155965,\n",
       "  'accuracy_level_2_gap_0.15': 0.24770642201834864,\n",
       "  'accuracy_level_3_gap_0.15': 0.21100917431192662,\n",
       "  'accuracy_level_4_gap_0.15': 0.21100917431192662,\n",
       "  'accuracy_level_5_gap_0.15': 0.17889908256880735,\n",
       "  'accuracy_level_1_gap_0.2': 0.29357798165137616,\n",
       "  'accuracy_level_2_gap_0.2': 0.2798165137614679,\n",
       "  'accuracy_level_3_gap_0.2': 0.25688073394495414,\n",
       "  'accuracy_level_4_gap_0.2': 0.25688073394495414,\n",
       "  'accuracy_level_5_gap_0.2': 0.22477064220183487,\n",
       "  'accuracy_level_1_gap_0.25': 0.3348623853211009,\n",
       "  'accuracy_level_2_gap_0.25': 0.3211009174311927,\n",
       "  'accuracy_level_3_gap_0.25': 0.2981651376146789,\n",
       "  'accuracy_level_4_gap_0.25': 0.2981651376146789,\n",
       "  'accuracy_level_5_gap_0.25': 0.26605504587155965,\n",
       "  'top_2_accuracy_level_1': 0.16972477064220184,\n",
       "  'top_2_accuracy_level_2': 0.11926605504587157,\n",
       "  'top_2_accuracy_level_3': 0.07339449541284404,\n",
       "  'top_2_accuracy_level_4': 0.06422018348623854,\n",
       "  'top_2_accuracy_level_5': 0.03211009174311927,\n",
       "  'top_3_accuracy_level_1': 0.23394495412844038,\n",
       "  'top_3_accuracy_level_2': 0.15137614678899083,\n",
       "  'top_3_accuracy_level_3': 0.09174311926605505,\n",
       "  'top_3_accuracy_level_4': 0.08256880733944955,\n",
       "  'top_3_accuracy_level_5': 0.05045871559633028,\n",
       "  'top_4_accuracy_level_1': 0.3119266055045872,\n",
       "  'top_4_accuracy_level_2': 0.1926605504587156,\n",
       "  'top_4_accuracy_level_3': 0.11467889908256881,\n",
       "  'top_4_accuracy_level_4': 0.0963302752293578,\n",
       "  'top_4_accuracy_level_5': 0.06880733944954129},\n",
       " <Figure size 2000x800 with 2 Axes>)"
      ]
     },
     "execution_count": 16,
     "metadata": {},
     "output_type": "execute_result"
    }
   ],
   "source": [
    "evaluation"
   ]
  },
  {
   "cell_type": "code",
   "execution_count": null,
   "metadata": {},
   "outputs": [],
   "source": []
  }
 ],
 "metadata": {
  "kernelspec": {
   "display_name": "Python 3.9.0 ('base')",
   "language": "python",
   "name": "python3"
  },
  "language_info": {
   "codemirror_mode": {
    "name": "ipython",
    "version": 3
   },
   "file_extension": ".py",
   "mimetype": "text/x-python",
   "name": "python",
   "nbconvert_exporter": "python",
   "pygments_lexer": "ipython3",
   "version": "3.9.0"
  },
  "vscode": {
   "interpreter": {
    "hash": "3fa046f995eb80ac40c0869a1f9df46519f4ada8b8c395ef25dd1aa1a1a2fc63"
   }
  }
 },
 "nbformat": 4,
 "nbformat_minor": 4
}
