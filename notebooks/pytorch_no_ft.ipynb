{
 "cells": [
  {
   "cell_type": "markdown",
   "metadata": {},
   "source": [
    "# Test implémentation de FastText avec Pytorch"
   ]
  },
  {
   "cell_type": "code",
   "execution_count": 1,
   "metadata": {},
   "outputs": [],
   "source": [
    "import sys\n",
    "sys.path.append(\"../\")\n",
    "sys.path.append(\"../src/\")"
   ]
  },
  {
   "cell_type": "markdown",
   "metadata": {},
   "source": [
    "## Chargement des données"
   ]
  },
  {
   "cell_type": "code",
   "execution_count": 2,
   "metadata": {},
   "outputs": [],
   "source": [
    "import pandas as pd\n",
    "df_orig = pd.read_parquet(\"../data/extraction_sirene_20220712.parquet\", engine=\"pyarrow\")"
   ]
  },
  {
   "cell_type": "code",
   "execution_count": 3,
   "metadata": {},
   "outputs": [],
   "source": [
    "distinct_values = df_orig[\"APE_SICORE\"].unique().tolist()\n",
    "y_dict = {key: value for key, value in zip(distinct_values, range(len(distinct_values)))}"
   ]
  },
  {
   "cell_type": "code",
   "execution_count": 4,
   "metadata": {},
   "outputs": [],
   "source": [
    "import pandas as pd\n",
    "import yaml\n",
    "\n",
    "df = df_orig.sample(frac=0.0001, random_state=1)"
   ]
  },
  {
   "cell_type": "code",
   "execution_count": 5,
   "metadata": {},
   "outputs": [
    {
     "data": {
      "text/plain": [
       "(1087, 20)"
      ]
     },
     "execution_count": 5,
     "metadata": {},
     "output_type": "execute_result"
    }
   ],
   "source": [
    "df.shape"
   ]
  },
  {
   "cell_type": "markdown",
   "metadata": {},
   "source": [
    "## Pytorch"
   ]
  },
  {
   "cell_type": "code",
   "execution_count": 6,
   "metadata": {},
   "outputs": [
    {
     "name": "stderr",
     "output_type": "stream",
     "text": [
      "/opt/mamba/lib/python3.9/site-packages/tqdm/auto.py:22: TqdmWarning: IProgress not found. Please update jupyter and ipywidgets. See https://ipywidgets.readthedocs.io/en/stable/user_install.html\n",
      "  from .autonotebook import tqdm as notebook_tqdm\n"
     ]
    }
   ],
   "source": [
    "from pytorch_classifier.pytorch_trainer import PytorchTrainer\n",
    "\n",
    "# Trainer module\n",
    "trainer = PytorchTrainer()"
   ]
  },
  {
   "cell_type": "code",
   "execution_count": 7,
   "metadata": {},
   "outputs": [],
   "source": [
    "categorical_features = ['AUTO', 'NAT_SICORE', 'SURF', 'EVT_SICORE']"
   ]
  },
  {
   "cell_type": "code",
   "execution_count": 8,
   "metadata": {},
   "outputs": [],
   "source": [
    "LEARNING_RATE = 3e-4\n",
    "PATIENCE = 5\n",
    "NUM_EPOCHS = 3\n",
    "\n",
    "params = {\n",
    "    \"num_epochs\": NUM_EPOCHS,\n",
    "    \"patience\": PATIENCE,\n",
    "    \"train_proportion\": 0.8,\n",
    "    \"batch_size\": 64,\n",
    "    \"learning_rate\": LEARNING_RATE,\n",
    "    \"buckets\": 2000000,\n",
    "    \"embedding_dim\": 120,\n",
    "    \"min_count\": 3,\n",
    "    \"min_n\": 3,\n",
    "    \"max_n\": 4,\n",
    "    \"word_ngrams\": 3\n",
    "}"
   ]
  },
  {
   "cell_type": "code",
   "execution_count": 9,
   "metadata": {},
   "outputs": [],
   "source": [
    "from pytorch_classifier.pytorch_preprocessor import PytorchPreprocessor\n",
    "from src.constants import TEXT_FEATURE, Y\n",
    "\n",
    "pytorch_preprocessor = PytorchPreprocessor()\n",
    "df_train_py, df_test_py, df_gu_py = pytorch_preprocessor.preprocess(\n",
    "    df=df,\n",
    "    y=Y,\n",
    "    text_feature=TEXT_FEATURE,\n",
    "    categorical_features=categorical_features,\n",
    ")"
   ]
  },
  {
   "cell_type": "code",
   "execution_count": 10,
   "metadata": {},
   "outputs": [
    {
     "data": {
      "text/html": [
       "<div>\n",
       "<style scoped>\n",
       "    .dataframe tbody tr th:only-of-type {\n",
       "        vertical-align: middle;\n",
       "    }\n",
       "\n",
       "    .dataframe tbody tr th {\n",
       "        vertical-align: top;\n",
       "    }\n",
       "\n",
       "    .dataframe thead th {\n",
       "        text-align: right;\n",
       "    }\n",
       "</style>\n",
       "<table border=\"1\" class=\"dataframe\">\n",
       "  <thead>\n",
       "    <tr style=\"text-align: right;\">\n",
       "      <th></th>\n",
       "      <th>LIB_SICORE</th>\n",
       "      <th>AUTO</th>\n",
       "      <th>NAT_SICORE</th>\n",
       "      <th>SURF</th>\n",
       "      <th>EVT_SICORE</th>\n",
       "      <th>APE_NIV1</th>\n",
       "      <th>APE_NIV2</th>\n",
       "      <th>APE_NIV3</th>\n",
       "      <th>APE_NIV4</th>\n",
       "      <th>APE_NIV5</th>\n",
       "    </tr>\n",
       "    <tr>\n",
       "      <th>LIA_NUM</th>\n",
       "      <th></th>\n",
       "      <th></th>\n",
       "      <th></th>\n",
       "      <th></th>\n",
       "      <th></th>\n",
       "      <th></th>\n",
       "      <th></th>\n",
       "      <th></th>\n",
       "      <th></th>\n",
       "      <th></th>\n",
       "    </tr>\n",
       "  </thead>\n",
       "  <tbody>\n",
       "    <tr>\n",
       "      <th>C14017958194</th>\n",
       "      <td>vent voitur occas produit diver march</td>\n",
       "      <td>2</td>\n",
       "      <td>0</td>\n",
       "      <td>0</td>\n",
       "      <td>7</td>\n",
       "      <td>G</td>\n",
       "      <td>45</td>\n",
       "      <td>451</td>\n",
       "      <td>4511</td>\n",
       "      <td>44</td>\n",
       "    </tr>\n",
       "    <tr>\n",
       "      <th>X54014003089</th>\n",
       "      <td>apicultur</td>\n",
       "      <td>9</td>\n",
       "      <td>1</td>\n",
       "      <td>0</td>\n",
       "      <td>0</td>\n",
       "      <td>A</td>\n",
       "      <td>01</td>\n",
       "      <td>014</td>\n",
       "      <td>0149</td>\n",
       "      <td>149</td>\n",
       "    </tr>\n",
       "    <tr>\n",
       "      <th>G69016531995</th>\n",
       "      <td>support patrimoin familial immobili san activi...</td>\n",
       "      <td>2</td>\n",
       "      <td>1</td>\n",
       "      <td>0</td>\n",
       "      <td>5</td>\n",
       "      <td>L</td>\n",
       "      <td>68</td>\n",
       "      <td>683</td>\n",
       "      <td>6832</td>\n",
       "      <td>78</td>\n",
       "    </tr>\n",
       "    <tr>\n",
       "      <th>C69018478430</th>\n",
       "      <td>commerc produit alimentair</td>\n",
       "      <td>2</td>\n",
       "      <td>0</td>\n",
       "      <td>0</td>\n",
       "      <td>6</td>\n",
       "      <td>G</td>\n",
       "      <td>47</td>\n",
       "      <td>471</td>\n",
       "      <td>4711</td>\n",
       "      <td>119</td>\n",
       "    </tr>\n",
       "    <tr>\n",
       "      <th>G45017062449</th>\n",
       "      <td>construct immeubl vu vent</td>\n",
       "      <td>2</td>\n",
       "      <td>1</td>\n",
       "      <td>0</td>\n",
       "      <td>5</td>\n",
       "      <td>F</td>\n",
       "      <td>41</td>\n",
       "      <td>411</td>\n",
       "      <td>4110</td>\n",
       "      <td>269</td>\n",
       "    </tr>\n",
       "  </tbody>\n",
       "</table>\n",
       "</div>"
      ],
      "text/plain": [
       "                                                     LIB_SICORE  AUTO  \\\n",
       "LIA_NUM                                                                 \n",
       "C14017958194              vent voitur occas produit diver march     2   \n",
       "X54014003089                                          apicultur     9   \n",
       "G69016531995  support patrimoin familial immobili san activi...     2   \n",
       "C69018478430                         commerc produit alimentair     2   \n",
       "G45017062449                          construct immeubl vu vent     2   \n",
       "\n",
       "              NAT_SICORE  SURF  EVT_SICORE APE_NIV1 APE_NIV2 APE_NIV3  \\\n",
       "LIA_NUM                                                                 \n",
       "C14017958194           0     0           7        G       45      451   \n",
       "X54014003089           1     0           0        A       01      014   \n",
       "G69016531995           1     0           5        L       68      683   \n",
       "C69018478430           0     0           6        G       47      471   \n",
       "G45017062449           1     0           5        F       41      411   \n",
       "\n",
       "             APE_NIV4  APE_NIV5  \n",
       "LIA_NUM                          \n",
       "C14017958194     4511        44  \n",
       "X54014003089     0149       149  \n",
       "G69016531995     6832        78  \n",
       "C69018478430     4711       119  \n",
       "G45017062449     4110       269  "
      ]
     },
     "execution_count": 10,
     "metadata": {},
     "output_type": "execute_result"
    }
   ],
   "source": [
    "df_train_py.head()"
   ]
  },
  {
   "cell_type": "code",
   "execution_count": 11,
   "metadata": {},
   "outputs": [
    {
     "name": "stderr",
     "output_type": "stream",
     "text": [
      "11it [00:08,  1.27it/s]0:00<?, ?it/s]\n"
     ]
    },
    {
     "name": "stdout",
     "output_type": "stream",
     "text": [
      "Moving GPU: 0.00013875961303710938\n",
      "Forward: 0.5406155586242676\n",
      "Backward: 1.2059204578399658\n",
      "Update: 6.410187482833862\n"
     ]
    },
    {
     "name": "stderr",
     "output_type": "stream",
     "text": [
      "3it [00:00, 23.93it/s]\n",
      " 33%|███▎      | 1/3 [00:08<00:17,  8.77s/it]"
     ]
    },
    {
     "name": "stdout",
     "output_type": "stream",
     "text": [
      "Epoch: 1 | train_loss: 6.95264, val_loss: 6.68026, lr: 3.00E-04, _patience: 5\n"
     ]
    },
    {
     "name": "stderr",
     "output_type": "stream",
     "text": [
      "11it [00:08,  1.31it/s]\n"
     ]
    },
    {
     "name": "stdout",
     "output_type": "stream",
     "text": [
      "Moving GPU: 0.00014090538024902344\n",
      "Forward: 0.5402317047119141\n",
      "Backward: 1.234227180480957\n",
      "Update: 6.138352870941162\n"
     ]
    },
    {
     "name": "stderr",
     "output_type": "stream",
     "text": [
      "3it [00:00, 32.03it/s]\n",
      " 67%|██████▋   | 2/3 [00:17<00:08,  8.61s/it]"
     ]
    },
    {
     "name": "stdout",
     "output_type": "stream",
     "text": [
      "Epoch: 2 | train_loss: 6.40798, val_loss: 6.25496, lr: 3.00E-04, _patience: 5\n"
     ]
    },
    {
     "name": "stderr",
     "output_type": "stream",
     "text": [
      "11it [00:08,  1.27it/s]\n"
     ]
    },
    {
     "name": "stdout",
     "output_type": "stream",
     "text": [
      "Moving GPU: 0.00016045570373535156\n",
      "Forward: 0.5387780666351318\n",
      "Backward: 1.2633168697357178\n",
      "Update: 6.2366578578948975\n"
     ]
    },
    {
     "name": "stderr",
     "output_type": "stream",
     "text": [
      "3it [00:00, 18.43it/s]\n",
      "100%|██████████| 3/3 [00:26<00:00,  8.70s/it]\n"
     ]
    },
    {
     "name": "stdout",
     "output_type": "stream",
     "text": [
      "Epoch: 3 | train_loss: 5.94232, val_loss: 5.89269, lr: 3.00E-04, _patience: 5\n"
     ]
    }
   ],
   "source": [
    "pytorch_classifier = trainer.train(df_train_py, Y, TEXT_FEATURE, categorical_features, params)"
   ]
  },
  {
   "cell_type": "code",
   "execution_count": 12,
   "metadata": {},
   "outputs": [],
   "source": [
    "from pytorch_classifier.pytorch_evaluator import PytorchEvaluator\n",
    "\n",
    "evaluator = PytorchEvaluator(model=pytorch_classifier, tokenizer=trainer.tokenizer)"
   ]
  },
  {
   "cell_type": "code",
   "execution_count": 13,
   "metadata": {},
   "outputs": [],
   "source": [
    "evaluation = evaluator.evaluate(\n",
    "    df_test_py, Y, TEXT_FEATURE, categorical_features, 5\n",
    ")"
   ]
  },
  {
   "cell_type": "code",
   "execution_count": 14,
   "metadata": {},
   "outputs": [
    {
     "data": {
      "text/plain": [
       "{'accuracy_level_1': 0.08755760368663594,\n",
       " 'accuracy_level_2': 0.059907834101382486,\n",
       " 'accuracy_level_3': 0.03225806451612903,\n",
       " 'accuracy_level_4': 0.027649769585253458,\n",
       " 'accuracy_level_5': 0.0}"
      ]
     },
     "execution_count": 14,
     "metadata": {},
     "output_type": "execute_result"
    }
   ],
   "source": [
    "evaluation"
   ]
  },
  {
   "cell_type": "code",
   "execution_count": null,
   "metadata": {},
   "outputs": [],
   "source": []
  }
 ],
 "metadata": {
  "kernelspec": {
   "display_name": "Python 3.9.0 ('base')",
   "language": "python",
   "name": "python3"
  },
  "language_info": {
   "codemirror_mode": {
    "name": "ipython",
    "version": 3
   },
   "file_extension": ".py",
   "mimetype": "text/x-python",
   "name": "python",
   "nbconvert_exporter": "python",
   "pygments_lexer": "ipython3",
   "version": "3.9.0"
  },
  "vscode": {
   "interpreter": {
    "hash": "3fa046f995eb80ac40c0869a1f9df46519f4ada8b8c395ef25dd1aa1a1a2fc63"
   }
  }
 },
 "nbformat": 4,
 "nbformat_minor": 4
}
