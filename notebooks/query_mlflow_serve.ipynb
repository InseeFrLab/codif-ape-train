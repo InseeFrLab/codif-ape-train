{
 "cells": [
  {
   "cell_type": "code",
   "execution_count": 1,
   "metadata": {},
   "outputs": [],
   "source": [
    "import requests\n",
    "import pandas as pd\n",
    "\n",
    "data_path = '../data/extraction_sirene_20220712_harmonized_20221014.parquet'\n",
    "\n",
    "df = pd.read_parquet(data_path, engine=\"pyarrow\")\n",
    "test_data = df.head(10)\n",
    "\n",
    "host = '10.233.10.49'\n",
    "port = '8082'\n",
    "url = f'http://{host}:{port}/invocations'"
   ]
  },
  {
   "cell_type": "code",
   "execution_count": 2,
   "metadata": {},
   "outputs": [
    {
     "data": {
      "text/html": [
       "<div>\n",
       "<style scoped>\n",
       "    .dataframe tbody tr th:only-of-type {\n",
       "        vertical-align: middle;\n",
       "    }\n",
       "\n",
       "    .dataframe tbody tr th {\n",
       "        vertical-align: top;\n",
       "    }\n",
       "\n",
       "    .dataframe thead th {\n",
       "        text-align: right;\n",
       "    }\n",
       "</style>\n",
       "<table border=\"1\" class=\"dataframe\">\n",
       "  <thead>\n",
       "    <tr style=\"text-align: right;\">\n",
       "      <th></th>\n",
       "      <th>DATE</th>\n",
       "      <th>APE_SICORE</th>\n",
       "      <th>LIB_SICORE</th>\n",
       "      <th>EVT_SICORE</th>\n",
       "      <th>AUTO</th>\n",
       "      <th>NAT_SICORE</th>\n",
       "      <th>SURF</th>\n",
       "    </tr>\n",
       "    <tr>\n",
       "      <th>LIA_NUM</th>\n",
       "      <th></th>\n",
       "      <th></th>\n",
       "      <th></th>\n",
       "      <th></th>\n",
       "      <th></th>\n",
       "      <th></th>\n",
       "      <th></th>\n",
       "    </tr>\n",
       "  </thead>\n",
       "  <tbody>\n",
       "    <tr>\n",
       "      <th>U86070530592</th>\n",
       "      <td>2014-09-22 08:28:25</td>\n",
       "      <td>9609Z</td>\n",
       "      <td>MISE EN RELATION D ANIMAUX AVEC L'ETRE HUMAIN</td>\n",
       "      <td>67P</td>\n",
       "      <td>X</td>\n",
       "      <td>None</td>\n",
       "      <td>None</td>\n",
       "    </tr>\n",
       "    <tr>\n",
       "      <th>U33071247848</th>\n",
       "      <td>2014-09-22 08:27:20</td>\n",
       "      <td>7490B</td>\n",
       "      <td>CONSULTANT EN INNOVATION</td>\n",
       "      <td>01P</td>\n",
       "      <td>X</td>\n",
       "      <td>None</td>\n",
       "      <td>None</td>\n",
       "    </tr>\n",
       "    <tr>\n",
       "      <th>C00903254427</th>\n",
       "      <td>2014-09-26 08:00:33</td>\n",
       "      <td>4782Z</td>\n",
       "      <td>ACHAT ET VENTE DE TEXTILES, ACCESSOIRES ET DE ...</td>\n",
       "      <td>05P</td>\n",
       "      <td>Y</td>\n",
       "      <td>10</td>\n",
       "      <td>None</td>\n",
       "    </tr>\n",
       "    <tr>\n",
       "      <th>C91014088499</th>\n",
       "      <td>2014-09-26 03:37:09</td>\n",
       "      <td>4619B</td>\n",
       "      <td>INTERMEDIAIRE DE COMMERCE MISE EN RELATION PRO...</td>\n",
       "      <td>01P</td>\n",
       "      <td>Y</td>\n",
       "      <td>10</td>\n",
       "      <td>2</td>\n",
       "    </tr>\n",
       "    <tr>\n",
       "      <th>C91014088960</th>\n",
       "      <td>2014-09-26 03:41:40</td>\n",
       "      <td>4789Z</td>\n",
       "      <td>BIJOUX SAC ECHARPE FOULARD PORTE-MONNAIE ACCES...</td>\n",
       "      <td>01P</td>\n",
       "      <td>Y</td>\n",
       "      <td>10</td>\n",
       "      <td>None</td>\n",
       "    </tr>\n",
       "    <tr>\n",
       "      <th>C00903254666</th>\n",
       "      <td>2014-09-26 08:03:55</td>\n",
       "      <td>4789Z</td>\n",
       "      <td>VENTE DE LOTS DIVERS SUR LES MARCHES</td>\n",
       "      <td>01P</td>\n",
       "      <td>Y</td>\n",
       "      <td>10</td>\n",
       "      <td>None</td>\n",
       "    </tr>\n",
       "    <tr>\n",
       "      <th>G34544047041</th>\n",
       "      <td>2014-09-21 03:44:16</td>\n",
       "      <td>4778C</td>\n",
       "      <td>CREATION ET EXPLOITATION D'UN FONDS DE COMMERC...</td>\n",
       "      <td>51M</td>\n",
       "      <td>C</td>\n",
       "      <td>None</td>\n",
       "      <td>None</td>\n",
       "    </tr>\n",
       "    <tr>\n",
       "      <th>C00903254237</th>\n",
       "      <td>2014-09-25 19:28:48</td>\n",
       "      <td>4791A</td>\n",
       "      <td>VENTE EN LIGNE D'OBJETS DIVERS</td>\n",
       "      <td>01P</td>\n",
       "      <td>Y</td>\n",
       "      <td>10</td>\n",
       "      <td>None</td>\n",
       "    </tr>\n",
       "    <tr>\n",
       "      <th>C00903254039</th>\n",
       "      <td>2014-09-26 08:02:24</td>\n",
       "      <td>4789Z</td>\n",
       "      <td>VENTE AMBULANTE DE VETEMENTS, BAZAR, LOTS EN T...</td>\n",
       "      <td>01P</td>\n",
       "      <td>Y</td>\n",
       "      <td>10</td>\n",
       "      <td>None</td>\n",
       "    </tr>\n",
       "    <tr>\n",
       "      <th>U33071249612</th>\n",
       "      <td>2014-09-22 08:53:34</td>\n",
       "      <td>8690F</td>\n",
       "      <td>BIOENERGIE</td>\n",
       "      <td>01P</td>\n",
       "      <td>X</td>\n",
       "      <td>None</td>\n",
       "      <td>None</td>\n",
       "    </tr>\n",
       "  </tbody>\n",
       "</table>\n",
       "</div>"
      ],
      "text/plain": [
       "                            DATE APE_SICORE  \\\n",
       "LIA_NUM                                       \n",
       "U86070530592 2014-09-22 08:28:25      9609Z   \n",
       "U33071247848 2014-09-22 08:27:20      7490B   \n",
       "C00903254427 2014-09-26 08:00:33      4782Z   \n",
       "C91014088499 2014-09-26 03:37:09      4619B   \n",
       "C91014088960 2014-09-26 03:41:40      4789Z   \n",
       "C00903254666 2014-09-26 08:03:55      4789Z   \n",
       "G34544047041 2014-09-21 03:44:16      4778C   \n",
       "C00903254237 2014-09-25 19:28:48      4791A   \n",
       "C00903254039 2014-09-26 08:02:24      4789Z   \n",
       "U33071249612 2014-09-22 08:53:34      8690F   \n",
       "\n",
       "                                                     LIB_SICORE EVT_SICORE  \\\n",
       "LIA_NUM                                                                      \n",
       "U86070530592      MISE EN RELATION D ANIMAUX AVEC L'ETRE HUMAIN        67P   \n",
       "U33071247848                           CONSULTANT EN INNOVATION        01P   \n",
       "C00903254427  ACHAT ET VENTE DE TEXTILES, ACCESSOIRES ET DE ...        05P   \n",
       "C91014088499  INTERMEDIAIRE DE COMMERCE MISE EN RELATION PRO...        01P   \n",
       "C91014088960  BIJOUX SAC ECHARPE FOULARD PORTE-MONNAIE ACCES...        01P   \n",
       "C00903254666               VENTE DE LOTS DIVERS SUR LES MARCHES        01P   \n",
       "G34544047041  CREATION ET EXPLOITATION D'UN FONDS DE COMMERC...        51M   \n",
       "C00903254237                     VENTE EN LIGNE D'OBJETS DIVERS        01P   \n",
       "C00903254039  VENTE AMBULANTE DE VETEMENTS, BAZAR, LOTS EN T...        01P   \n",
       "U33071249612                                         BIOENERGIE        01P   \n",
       "\n",
       "             AUTO NAT_SICORE  SURF  \n",
       "LIA_NUM                             \n",
       "U86070530592    X       None  None  \n",
       "U33071247848    X       None  None  \n",
       "C00903254427    Y         10  None  \n",
       "C91014088499    Y         10     2  \n",
       "C91014088960    Y         10  None  \n",
       "C00903254666    Y         10  None  \n",
       "G34544047041    C       None  None  \n",
       "C00903254237    Y         10  None  \n",
       "C00903254039    Y         10  None  \n",
       "U33071249612    X       None  None  "
      ]
     },
     "execution_count": 2,
     "metadata": {},
     "output_type": "execute_result"
    }
   ],
   "source": [
    "test_data"
   ]
  },
  {
   "cell_type": "code",
   "execution_count": 3,
   "metadata": {},
   "outputs": [
    {
     "data": {
      "text/plain": [
       "'{\"columns\":[\"DATE\",\"APE_SICORE\",\"LIB_SICORE\",\"EVT_SICORE\",\"AUTO\",\"NAT_SICORE\",\"SURF\"],\"index\":[\"U86070530592\",\"U33071247848\",\"C00903254427\",\"C91014088499\",\"C91014088960\",\"C00903254666\",\"G34544047041\",\"C00903254237\",\"C00903254039\",\"U33071249612\"],\"data\":[[1411374505000,\"9609Z\",\"MISE EN RELATION D ANIMAUX AVEC L\\'ETRE HUMAIN\",\"67P\",\"X\",null,null],[1411374440000,\"7490B\",\"CONSULTANT EN INNOVATION\",\"01P\",\"X\",null,null],[1411718433000,\"4782Z\",\"ACHAT ET VENTE DE TEXTILES, ACCESSOIRES ET DE TOUS PRODUITS NON REGLEMENTES SUR MARCHES\",\"05P\",\"Y\",\"10\",null],[1411702629000,\"4619B\",\"INTERMEDIAIRE DE COMMERCE MISE EN RELATION PRODUCTEURS CONSOMMATEURS ORGANISATION ET DISTRIBUTION DES COMMANDES\",\"01P\",\"Y\",\"10\",\"2\"],[1411702900000,\"4789Z\",\"BIJOUX SAC ECHARPE FOULARD PORTE-MONNAIE ACCESSOIRE DES FEMMES\",\"01P\",\"Y\",\"10\",null],[1411718635000,\"4789Z\",\"VENTE DE LOTS DIVERS SUR LES MARCHES\",\"01P\",\"Y\",\"10\",null],[1411271056000,\"4778C\",\"CREATION ET EXPLOITATION D\\'UN FONDS DE COMMERCE DE VENTE DE PRODUITS REGIONNAUX ET DE BIEN ETRE VENTE AU DETAIL DE SAVON\",\"51M\",\"C\",null,null],[1411673328000,\"4791A\",\"VENTE EN LIGNE D\\'OBJETS DIVERS\",\"01P\",\"Y\",\"10\",null],[1411718544000,\"4789Z\",\"VENTE AMBULANTE DE VETEMENTS, BAZAR, LOTS EN TOUT GENRE, ACCESSOIRES DE DOUCHE ET TOILETTE\",\"01P\",\"Y\",\"10\",null],[1411376014000,\"8690F\",\"BIOENERGIE\",\"01P\",\"X\",null,null]]}'"
      ]
     },
     "execution_count": 3,
     "metadata": {},
     "output_type": "execute_result"
    }
   ],
   "source": [
    "test_data.to_json(orient='split')"
   ]
  },
  {
   "cell_type": "code",
   "execution_count": 4,
   "metadata": {},
   "outputs": [],
   "source": [
    "import json\n",
    "\n",
    "split = test_data.drop(columns=['DATE']).to_dict(orient='split')\n",
    "del split['index']\n",
    "http_data = {\"dataframe_split\": split}\n",
    "http_data = json.dumps(http_data)"
   ]
  },
  {
   "cell_type": "code",
   "execution_count": 5,
   "metadata": {},
   "outputs": [
    {
     "data": {
      "text/plain": [
       "'{\"dataframe_split\": {\"columns\": [\"APE_SICORE\", \"LIB_SICORE\", \"EVT_SICORE\", \"AUTO\", \"NAT_SICORE\", \"SURF\"], \"data\": [[\"9609Z\", \"MISE EN RELATION D ANIMAUX AVEC L\\'ETRE HUMAIN\", \"67P\", \"X\", null, null], [\"7490B\", \"CONSULTANT EN INNOVATION\", \"01P\", \"X\", null, null], [\"4782Z\", \"ACHAT ET VENTE DE TEXTILES, ACCESSOIRES ET DE TOUS PRODUITS NON REGLEMENTES SUR MARCHES\", \"05P\", \"Y\", \"10\", null], [\"4619B\", \"INTERMEDIAIRE DE COMMERCE MISE EN RELATION PRODUCTEURS CONSOMMATEURS ORGANISATION ET DISTRIBUTION DES COMMANDES\", \"01P\", \"Y\", \"10\", \"2\"], [\"4789Z\", \"BIJOUX SAC ECHARPE FOULARD PORTE-MONNAIE ACCESSOIRE DES FEMMES\", \"01P\", \"Y\", \"10\", null], [\"4789Z\", \"VENTE DE LOTS DIVERS SUR LES MARCHES\", \"01P\", \"Y\", \"10\", null], [\"4778C\", \"CREATION ET EXPLOITATION D\\'UN FONDS DE COMMERCE DE VENTE DE PRODUITS REGIONNAUX ET DE BIEN ETRE VENTE AU DETAIL DE SAVON\", \"51M\", \"C\", null, null], [\"4791A\", \"VENTE EN LIGNE D\\'OBJETS DIVERS\", \"01P\", \"Y\", \"10\", null], [\"4789Z\", \"VENTE AMBULANTE DE VETEMENTS, BAZAR, LOTS EN TOUT GENRE, ACCESSOIRES DE DOUCHE ET TOILETTE\", \"01P\", \"Y\", \"10\", null], [\"8690F\", \"BIOENERGIE\", \"01P\", \"X\", null, null]]}}'"
      ]
     },
     "execution_count": 5,
     "metadata": {},
     "output_type": "execute_result"
    }
   ],
   "source": [
    "http_data"
   ]
  },
  {
   "cell_type": "code",
   "execution_count": 6,
   "metadata": {},
   "outputs": [
    {
     "data": {
      "text/plain": [
       "{'predictions': [[['__label__8690F'],\n",
       "   ['__label__8690F'],\n",
       "   ['__label__4789Z'],\n",
       "   ['__label__4789Z'],\n",
       "   ['__label__4789Z'],\n",
       "   ['__label__4789Z'],\n",
       "   ['__label__5630Z'],\n",
       "   ['__label__4789Z'],\n",
       "   ['__label__4789Z'],\n",
       "   ['__label__8690F']],\n",
       "  [[0.1294127255678177],\n",
       "   [0.042097724974155426],\n",
       "   [0.19194278120994568],\n",
       "   [0.1968362182378769],\n",
       "   [0.11921291798353195],\n",
       "   [0.05501529201865196],\n",
       "   [0.24509501457214355],\n",
       "   [0.056662432849407196],\n",
       "   [0.16452647745609283],\n",
       "   [0.020974241197109222]]]}"
      ]
     },
     "execution_count": 6,
     "metadata": {},
     "output_type": "execute_result"
    }
   ],
   "source": [
    "# Send a batch of data to the endpoint with a post request\n",
    "headers = {\n",
    "    'Content-Type': 'application/json',\n",
    "}\n",
    "r = requests.post(url=url, headers=headers, data=http_data)\n",
    "\n",
    "result = eval(r.text)\n",
    "\n",
    "result"
   ]
  },
  {
   "cell_type": "code",
   "execution_count": null,
   "metadata": {},
   "outputs": [],
   "source": []
  }
 ],
 "metadata": {
  "kernelspec": {
   "display_name": "base",
   "language": "python",
   "name": "python3"
  },
  "language_info": {
   "codemirror_mode": {
    "name": "ipython",
    "version": 3
   },
   "file_extension": ".py",
   "mimetype": "text/x-python",
   "name": "python",
   "nbconvert_exporter": "python",
   "pygments_lexer": "ipython3",
   "version": "3.10.4"
  },
  "orig_nbformat": 4,
  "vscode": {
   "interpreter": {
    "hash": "3fa046f995eb80ac40c0869a1f9df46519f4ada8b8c395ef25dd1aa1a1a2fc63"
   }
  }
 },
 "nbformat": 4,
 "nbformat_minor": 2
}
