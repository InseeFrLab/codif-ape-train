{
 "cells": [
  {
   "cell_type": "markdown",
   "id": "8549431c-6a29-4f96-a18d-4d123c8dd243",
   "metadata": {},
   "source": [
    "# Exploration des données de Sirene"
   ]
  },
  {
   "cell_type": "markdown",
   "id": "af4e4578",
   "metadata": {},
   "source": [
    "## Importation des différents packages nécessaires."
   ]
  },
  {
   "cell_type": "code",
   "execution_count": 1,
   "id": "aa9ee43e-b8d9-4c5f-8b60-6512c958a173",
   "metadata": {},
   "outputs": [
    {
     "name": "stderr",
     "output_type": "stream",
     "text": [
      "[nltk_data] Downloading package stopwords to /home/coder/nltk_data...\n",
      "[nltk_data]   Unzipping corpora/stopwords.zip.\n"
     ]
    },
    {
     "data": {
      "text/plain": [
       "True"
      ]
     },
     "execution_count": 1,
     "metadata": {},
     "output_type": "execute_result"
    }
   ],
   "source": [
    "import pandas as pd\n",
    "import dask.dataframe as dd\n",
    "import random\n",
    "import itertools\n",
    "import numpy as np\n",
    "from datetime import datetime\n",
    "from tqdm import tqdm\n",
    "import nltk\n",
    "import string\n",
    "import swifter\n",
    "from nltk.corpus import stopwords\n",
    "import fasttext\n",
    "nltk.download('stopwords')"
   ]
  },
  {
   "cell_type": "markdown",
   "id": "a7fde385",
   "metadata": {},
   "source": [
    "## Importation des données"
   ]
  },
  {
   "cell_type": "code",
   "execution_count": 2,
   "id": "8da137d5",
   "metadata": {},
   "outputs": [],
   "source": [
    "DBRaw = dd.read_parquet('../data/extraction_sirene_20220510.parquet', engine='pyarrow')"
   ]
  },
  {
   "cell_type": "markdown",
   "id": "0cb18498",
   "metadata": {},
   "source": [
    "Temporaire : On restreint les données à 1% de la base initiales."
   ]
  },
  {
   "cell_type": "code",
   "execution_count": 3,
   "id": "18d42b9e",
   "metadata": {},
   "outputs": [],
   "source": [
    "DBRaw = DBRaw.sample(frac= 0.01, random_state=1234)"
   ]
  },
  {
   "cell_type": "markdown",
   "id": "32ebd953",
   "metadata": {},
   "source": [
    "On transforme les valeurs manquantes en NaN."
   ]
  },
  {
   "cell_type": "code",
   "execution_count": 4,
   "id": "f109d898",
   "metadata": {},
   "outputs": [],
   "source": [
    "DBRaw = DBRaw.fillna(value=np.nan)"
   ]
  },
  {
   "cell_type": "markdown",
   "id": "bdbec49e",
   "metadata": {},
   "source": [
    "On garde seulement les variables potentiellement intéressantes : \n",
    "- ``APE_SICORE :`` Code APE (Activité Principale Exercée) retenu lors du traitement de codification (soit Sicore soit gestionnaire) ;\n",
    "- ``NAT_SICORE :`` Nature de l'activité de l'entreprise ;\n",
    "- ``SED_SICORE :`` Sédentarité de l'entreprise ;\n",
    "- ``EVT_SICORE :`` Sédentarité de l'entreprise ;\n",
    "- ``LIB_SICORE :`` Sédentarité de l'entreprise ;\n",
    "- ``DATE :`` Sédentarité de l'entreprise ;\n",
    "- ``AUTO :`` Type de liasse extrait de la base brute Sirène ;\n",
    "- ``SURF :`` Surface en $m^2$ de l'établissement.\n"
   ]
  },
  {
   "cell_type": "code",
   "execution_count": 5,
   "id": "550efe05",
   "metadata": {},
   "outputs": [],
   "source": [
    "Var2Keep = [\"APE_SICORE\",\"LIB_SICORE\",\"AUTO\",\"DATE\",\"NAT_SICORE\",\"SED_SICORE\",\"EVT_SICORE\",\"SURF\"]\n",
    "DB = DBRaw[Var2Keep]"
   ]
  },
  {
   "cell_type": "markdown",
   "id": "6338f6ef",
   "metadata": {},
   "source": [
    "On supprime les liasses où une valeur est manquante pour l'une de ces deux variables (6.77% de la base). Il s'agit principalement du code APE donc il n'est pas nécessaire de l'imputer."
   ]
  },
  {
   "cell_type": "code",
   "execution_count": 6,
   "id": "921dbd95",
   "metadata": {},
   "outputs": [],
   "source": [
    "DB = DB.dropna(subset=['APE_SICORE'])  "
   ]
  },
  {
   "cell_type": "markdown",
   "id": "21ed07a1",
   "metadata": {},
   "source": [
    "On a finalement 10.8 millions de liasses."
   ]
  },
  {
   "cell_type": "code",
   "execution_count": null,
   "id": "252a27b0",
   "metadata": {},
   "outputs": [],
   "source": [
    "DB.shape[0].compute()"
   ]
  },
  {
   "cell_type": "markdown",
   "id": "4e7a6ff3",
   "metadata": {},
   "source": [
    "## I- Modèle 1"
   ]
  },
  {
   "cell_type": "markdown",
   "id": "f94485c9",
   "metadata": {},
   "source": [
    "On estime un modèle FastText standard en utilisant seulement les libellés comme features."
   ]
  },
  {
   "cell_type": "markdown",
   "id": "14b69513",
   "metadata": {},
   "source": [
    "### 1) Preprocessing "
   ]
  },
  {
   "cell_type": "code",
   "execution_count": 7,
   "id": "4e191f79",
   "metadata": {},
   "outputs": [],
   "source": [
    "DB1 = DB[[\"APE_SICORE\",\"LIB_SICORE\"]]\n",
    "DB1 = DB1.dropna(subset=['LIB_SICORE'])  "
   ]
  },
  {
   "cell_type": "code",
   "execution_count": 8,
   "id": "b0b2a6dc",
   "metadata": {},
   "outputs": [],
   "source": [
    "stopwords_ = set(stopwords.words('french') + ['a'])\n",
    "def CleanLib(lib):\n",
    "    # On supprime toutes les ponctuations\n",
    "    lib = lib.translate(str.maketrans(string.punctuation, ' ' * len(string.punctuation)))\n",
    "    # On supprime tous les chiffres\n",
    "    lib = lib.translate(str.maketrans(string.digits, ' ' * len(string.digits)))\n",
    "\n",
    "    # On supprime les stopwords et on renvoie les mots en majuscule\n",
    "    return \" \".join([x.lower() for x in lib.split() if x.lower() not in stopwords_])"
   ]
  },
  {
   "cell_type": "code",
   "execution_count": 9,
   "id": "7d247a1f",
   "metadata": {},
   "outputs": [],
   "source": [
    "DB1[\"LIB_CLEAN\"] = DB1[\"LIB_SICORE\"].apply(lambda x: CleanLib(x), meta=pd.Series(dtype='str', name='LIB_CLEAN'))\n",
    "df = DB1.compute()"
   ]
  },
  {
   "cell_type": "markdown",
   "id": "97fb0e9e",
   "metadata": {},
   "source": [
    "### 2) Splitting"
   ]
  },
  {
   "cell_type": "markdown",
   "id": "8268132b",
   "metadata": {},
   "source": [
    "On mélange de manière aléatoires les index puis on les divise en 2 groupes selon un certain pourcentage (ici 80% et 20%)\n"
   ]
  },
  {
   "cell_type": "code",
   "execution_count": 11,
   "id": "4094786a",
   "metadata": {},
   "outputs": [],
   "source": [
    "random.seed(123456)\n",
    "Idx = random.sample(df.index.values.tolist(), df.shape[0])\n",
    "Groups = np.split(Idx, [int(len(Idx)*0.8)])"
   ]
  },
  {
   "cell_type": "code",
   "execution_count": null,
   "id": "693b4426",
   "metadata": {},
   "outputs": [],
   "source": [
    "with open(\"../data/train_text.txt\", 'w') as f:\n",
    "    for idx in range(len(Groups[0])):\n",
    "        aLine = \"__label__{} {}\".format(df.at[Groups[0][idx],\"APE_SICORE\"], df.at[Groups[0][idx],\"LIB_CLEAN\"])\n",
    "        f.write(\"%s\\n\" % aLine)\n"
   ]
  },
  {
   "cell_type": "markdown",
   "id": "18d5a745",
   "metadata": {},
   "source": [
    "### 3) Training"
   ]
  },
  {
   "cell_type": "markdown",
   "id": "66f5fae1",
   "metadata": {},
   "source": [
    "On définit plusieurs options pour le modèle."
   ]
  },
  {
   "cell_type": "code",
   "execution_count": null,
   "id": "c6994b7a",
   "metadata": {},
   "outputs": [],
   "source": [
    "config_fasttext={\"dim\": 150,\n",
    "\"lr\": 0.2,\n",
    "\"epoch\": 80,\n",
    "\"wordNgrams\": 3,\n",
    "\"minn\": 3,\n",
    "\"maxn\": 4,\n",
    "\"minCount\": 3,\n",
    "\"bucket\": 3000000,\n",
    "\"thread\": 25,\n",
    "\"loss\": 'ova',\n",
    "\"label_prefix\": '__label__'}"
   ]
  },
  {
   "cell_type": "code",
   "execution_count": 18,
   "id": "89d9f244",
   "metadata": {},
   "outputs": [
    {
     "name": "stderr",
     "output_type": "stream",
     "text": [
      "Warning : `load_model` does not return WordVectorModel or SupervisedModel any more, but a `FastText` object which is very similar.\n"
     ]
    }
   ],
   "source": [
    "#model1 = fasttext.train_supervised(input=\"../data/train_text.txt\", **config_fasttext)\n",
    "model1 = fasttext.load_model(\"../models/fasttextmodel1.bin\")"
   ]
  },
  {
   "cell_type": "code",
   "execution_count": 19,
   "id": "a94c070b",
   "metadata": {},
   "outputs": [],
   "source": [
    "TypeData = [\"Train\", \"Test\"]\n",
    "dico_lib= { TypeData[i] : {Groups[i][idx] : {\"TrueValue\" : df.at[Groups[1][idx],\"APE_SICORE\"],\n",
    "                                                \"Libelle\" : df.at[Groups[1][idx],\"LIB_CLEAN\"]} \n",
    "                                                for idx in range(len(Groups[1]))\n",
    "                            } for i in range(len(TypeData))\n",
    "}"
   ]
  },
  {
   "cell_type": "markdown",
   "id": "1e8673bd",
   "metadata": {},
   "source": [
    "### Evaluation du modèle"
   ]
  },
  {
   "cell_type": "code",
   "execution_count": null,
   "id": "e6024388",
   "metadata": {},
   "outputs": [],
   "source": [
    "def get_pred(lib, mod):\n",
    "    out = mod.predict(lib)\n",
    "    pred5 = out[0][0].replace(\"__label__\",\"\")\n",
    "    prob = out[1][0]\n",
    "    return [pred, prob]"
   ]
  },
  {
   "cell_type": "markdown",
   "id": "98521cfa",
   "metadata": {},
   "source": [
    "Accuracy of the training set"
   ]
  },
  {
   "cell_type": "code",
   "execution_count": 165,
   "id": "b8f78aa3",
   "metadata": {},
   "outputs": [
    {
     "data": {
      "application/vnd.jupyter.widget-view+json": {
       "model_id": "e8ebae229c984928967d6fd140e92f5f",
       "version_major": 2,
       "version_minor": 0
      },
      "text/plain": [
       "Pandas Apply:   0%|          | 0/87128 [00:00<?, ?it/s]"
      ]
     },
     "metadata": {},
     "output_type": "display_data"
    },
    {
     "data": {
      "text/plain": [
       "84.77068221467266"
      ]
     },
     "execution_count": 165,
     "metadata": {},
     "output_type": "execute_result"
    }
   ],
   "source": [
    "df_train = df.loc[Groups[0], :]\n",
    "df_train[['PREDICTION', 'PROBA']] = df_train['LIB_CLEAN'].swifter.apply(lambda x: get_pred(x, model1)).to_list()\n",
    "df_train['GoodPREDICTION'] = df_train['APE_SICORE'] == df_train['PREDICTION']\n",
    "for i in range(2,5):\n",
    "    df_train['PREDICTION_NIV'+ str(i)] = df_train['PREDICTION'].str[:i]\n",
    "    \n",
    "sum(df_train['GoodPREDICTION'])/df_train.shape[0] * 100"
   ]
  },
  {
   "cell_type": "markdown",
   "id": "3bf9a3e5",
   "metadata": {},
   "source": [
    "Accuracy of the testing set"
   ]
  },
  {
   "cell_type": "code",
   "execution_count": 166,
   "id": "3c94be99",
   "metadata": {},
   "outputs": [
    {
     "data": {
      "application/vnd.jupyter.widget-view+json": {
       "model_id": "518c54719c8a4d77a66a4f38e8ef7b9c",
       "version_major": 2,
       "version_minor": 0
      },
      "text/plain": [
       "Pandas Apply:   0%|          | 0/21783 [00:00<?, ?it/s]"
      ]
     },
     "metadata": {},
     "output_type": "display_data"
    },
    {
     "data": {
      "text/plain": [
       "85.27750998485058"
      ]
     },
     "execution_count": 166,
     "metadata": {},
     "output_type": "execute_result"
    }
   ],
   "source": [
    "df_test = df.loc[Groups[1], :]\n",
    "df_test[['PREDICTION', 'PROBA']] = df_test['LIB_CLEAN'].swifter.apply(lambda x: get_pred(x, model1)).to_list()\n",
    "df_test['GoodPREDICTION'] = df_test['APE_SICORE'] == df_test['PREDICTION']\n",
    "for i in range(2,5):\n",
    "    df_test['PREDICTION_NIV'+ str(i)] = df_test['PREDICTION'].str[:i]\n",
    "\n",
    "sum(df_test['GoodPREDICTION'])/df_test.shape[0] * 100"
   ]
  },
  {
   "cell_type": "markdown",
   "id": "cd37f0db",
   "metadata": {},
   "source": [
    "On importe un document qui contient des informations sur les différents codes APE"
   ]
  },
  {
   "cell_type": "code",
   "execution_count": 167,
   "id": "700ded39",
   "metadata": {},
   "outputs": [],
   "source": [
    "df_naf =  pd.read_csv(r\"../data/naf_extended.csv\",sep=\",\",encoding=\"utf-8\",dtype=str)\n",
    "df_naf[[\"NIV3\",\"NIV4\",\"NIV5\"]] = df_naf[[\"NIV3\",\"NIV4\",\"NIV5\"]].apply(lambda x: x.str.replace('.', ''))\n",
    "df_naf.set_index(\"NIV5\", inplace=True)"
   ]
  },
  {
   "cell_type": "markdown",
   "id": "d3110b60",
   "metadata": {},
   "source": [
    "On calcule la prédiction pour le niveau 1 grâce à la table importée"
   ]
  },
  {
   "cell_type": "code",
   "execution_count": 168,
   "id": "8900b930",
   "metadata": {},
   "outputs": [
    {
     "data": {
      "application/vnd.jupyter.widget-view+json": {
       "model_id": "d6232a26e16f4b0492bcbe58085769fd",
       "version_major": 2,
       "version_minor": 0
      },
      "text/plain": [
       "Pandas Apply:   0%|          | 0/21783 [00:00<?, ?it/s]"
      ]
     },
     "metadata": {},
     "output_type": "display_data"
    },
    {
     "data": {
      "application/vnd.jupyter.widget-view+json": {
       "model_id": "99169799c27841819474a05f0808cba5",
       "version_major": 2,
       "version_minor": 0
      },
      "text/plain": [
       "Pandas Apply:   0%|          | 0/87128 [00:00<?, ?it/s]"
      ]
     },
     "metadata": {},
     "output_type": "display_data"
    }
   ],
   "source": [
    "df_test['PREDICTION_NIV1'] = df_test[\"PREDICTION_NIV2\"].swifter.apply(lambda x : pd.unique(df_naf[\"NIV1\"][df_naf[\"NIV2\"]== x])[0])\n",
    "df_train['PREDICTION_NIV1'] = df_train[\"PREDICTION_NIV2\"].swifter.apply(lambda x : pd.unique(df_naf[\"NIV1\"][df_naf[\"NIV2\"]== x])[0])"
   ]
  },
  {
   "cell_type": "markdown",
   "id": "d8a40ad1",
   "metadata": {},
   "source": [
    "On regarde la precision le rappel et le F1 pour les différentes classes désaggrégées (Niveau 5)"
   ]
  },
  {
   "cell_type": "code",
   "execution_count": 169,
   "id": "0585dcbd",
   "metadata": {},
   "outputs": [],
   "source": [
    "df_naf = df_naf.join(df_train.groupby(['APE_SICORE']).size().rename(\"Size_TRAIN\").to_frame())\n",
    "df_naf = df_naf.join(df_test.groupby(['APE_SICORE']).size().rename(\"Size_TEST\").to_frame())\n",
    "df_naf = df_naf.join(df_test.groupby(['APE_SICORE']).mean('GoodPREDICTION').rename(columns={\"GoodPREDICTION\":\"Recall_TEST\"}))\n",
    "df_naf = df_naf.join(df_test.groupby(['PREDICTION']).mean('GoodPREDICTION').rename(columns={\"GoodPREDICTION\":\"Precision_TEST\"}))\n",
    "df_naf = df_naf.join(2 * 1/(1/df_naf[\"Precision_TEST\"] + 1/df_naf[\"Recall_TEST\"]).rename(\"F1_TEST\").to_frame())"
   ]
  },
  {
   "cell_type": "markdown",
   "id": "799478a0",
   "metadata": {},
   "source": [
    "On fait la même chose pour le niveau le plus aggrégé (Niveau 1)"
   ]
  },
  {
   "cell_type": "code",
   "execution_count": 170,
   "id": "d6ecfb8d",
   "metadata": {},
   "outputs": [
    {
     "name": "stderr",
     "output_type": "stream",
     "text": [
      "100%|██████████| 3/3 [00:37<00:00, 12.53s/it]\n"
     ]
    }
   ],
   "source": [
    "for aNiv in tqdm([\"NIV1\",\"NIV2\",\"NIV3\"]):\n",
    "    df_test[\"APE_\" + aNiv] = df_test[\"APE_SICORE\"].apply(lambda x : df_naf.loc[x][aNiv])\n",
    "    df_train[\"APE_\" + aNiv] = df_train[\"APE_SICORE\"].apply(lambda x : df_naf.loc[x][aNiv])"
   ]
  },
  {
   "cell_type": "code",
   "execution_count": 185,
   "id": "a900752a",
   "metadata": {},
   "outputs": [],
   "source": [
    "Results_NIV1 = df_train.groupby(['APE_NIV1']).size().rename(\"Size_TRAIN\").to_frame()\n",
    "Results_NIV1 = Results_NIV1.join(df_test.groupby(['APE_NIV1']).size().rename(\"Size_TEST\").to_frame())\n",
    "Results_NIV1 = Results_NIV1.join(df_test.groupby(['APE_NIV1']).mean('GoodPREDICTION').rename(columns={\"GoodPREDICTION\":\"Recall_TEST\"}))\n",
    "Results_NIV1 = Results_NIV1.join(df_test.groupby(['PREDICTION_NIV1']).mean('GoodPREDICTION').rename(columns={\"GoodPREDICTION\":\"Precision_TEST\"}))\n",
    "Results_NIV1 = Results_NIV1.join(2 * 1/(1/Results_NIV1[\"Precision_TEST\"] + 1/Results_NIV1[\"Recall_TEST\"]).rename(\"F1_TEST\").to_frame())\n",
    "Results_NIV1[\"LIB_NIV1\"] = [pd.unique(df_naf[\"LIB_NIV1\"][df_naf[\"NIV1\"]== x])[0] for x in Results_NIV1.index.values]"
   ]
  },
  {
   "cell_type": "code",
   "execution_count": 186,
   "id": "f71ab364",
   "metadata": {},
   "outputs": [
    {
     "data": {
      "text/html": [
       "<div>\n",
       "<style scoped>\n",
       "    .dataframe tbody tr th:only-of-type {\n",
       "        vertical-align: middle;\n",
       "    }\n",
       "\n",
       "    .dataframe tbody tr th {\n",
       "        vertical-align: top;\n",
       "    }\n",
       "\n",
       "    .dataframe thead th {\n",
       "        text-align: right;\n",
       "    }\n",
       "</style>\n",
       "<table border=\"1\" class=\"dataframe\">\n",
       "  <thead>\n",
       "    <tr style=\"text-align: right;\">\n",
       "      <th></th>\n",
       "      <th>Size_TRAIN</th>\n",
       "      <th>Size_TEST</th>\n",
       "      <th>Recall_TEST</th>\n",
       "      <th>Precision_TEST</th>\n",
       "      <th>F1_TEST</th>\n",
       "      <th>LIB_NIV1</th>\n",
       "    </tr>\n",
       "    <tr>\n",
       "      <th>APE_NIV1</th>\n",
       "      <th></th>\n",
       "      <th></th>\n",
       "      <th></th>\n",
       "      <th></th>\n",
       "      <th></th>\n",
       "      <th></th>\n",
       "    </tr>\n",
       "  </thead>\n",
       "  <tbody>\n",
       "    <tr>\n",
       "      <th>A</th>\n",
       "      <td>2341</td>\n",
       "      <td>631</td>\n",
       "      <td>0.882726</td>\n",
       "      <td>0.799139</td>\n",
       "      <td>0.838855</td>\n",
       "      <td>Agriculture, sylviculture et pêche</td>\n",
       "    </tr>\n",
       "    <tr>\n",
       "      <th>B</th>\n",
       "      <td>19</td>\n",
       "      <td>6</td>\n",
       "      <td>1.000000</td>\n",
       "      <td>1.000000</td>\n",
       "      <td>1.000000</td>\n",
       "      <td>Industries extractives</td>\n",
       "    </tr>\n",
       "    <tr>\n",
       "      <th>C</th>\n",
       "      <td>3153</td>\n",
       "      <td>801</td>\n",
       "      <td>0.779026</td>\n",
       "      <td>0.855967</td>\n",
       "      <td>0.815686</td>\n",
       "      <td>Industrie manufacturière</td>\n",
       "    </tr>\n",
       "    <tr>\n",
       "      <th>D</th>\n",
       "      <td>765</td>\n",
       "      <td>175</td>\n",
       "      <td>0.982857</td>\n",
       "      <td>0.934783</td>\n",
       "      <td>0.958217</td>\n",
       "      <td>Production et distribution d'électricité, de g...</td>\n",
       "    </tr>\n",
       "    <tr>\n",
       "      <th>E</th>\n",
       "      <td>203</td>\n",
       "      <td>54</td>\n",
       "      <td>0.722222</td>\n",
       "      <td>0.780000</td>\n",
       "      <td>0.750000</td>\n",
       "      <td>Production et distribution d'eau ; assainissem...</td>\n",
       "    </tr>\n",
       "    <tr>\n",
       "      <th>F</th>\n",
       "      <td>6971</td>\n",
       "      <td>1743</td>\n",
       "      <td>0.865175</td>\n",
       "      <td>0.872180</td>\n",
       "      <td>0.868664</td>\n",
       "      <td>Construction</td>\n",
       "    </tr>\n",
       "    <tr>\n",
       "      <th>G</th>\n",
       "      <td>14452</td>\n",
       "      <td>3644</td>\n",
       "      <td>0.806257</td>\n",
       "      <td>0.811602</td>\n",
       "      <td>0.808921</td>\n",
       "      <td>Commerce ; réparation d'automobiles et de moto...</td>\n",
       "    </tr>\n",
       "    <tr>\n",
       "      <th>H</th>\n",
       "      <td>4905</td>\n",
       "      <td>1209</td>\n",
       "      <td>0.916460</td>\n",
       "      <td>0.894992</td>\n",
       "      <td>0.905599</td>\n",
       "      <td>Transports et entreposage</td>\n",
       "    </tr>\n",
       "    <tr>\n",
       "      <th>I</th>\n",
       "      <td>3798</td>\n",
       "      <td>922</td>\n",
       "      <td>0.848156</td>\n",
       "      <td>0.890661</td>\n",
       "      <td>0.868889</td>\n",
       "      <td>Hébergement et restauration</td>\n",
       "    </tr>\n",
       "    <tr>\n",
       "      <th>J</th>\n",
       "      <td>3278</td>\n",
       "      <td>862</td>\n",
       "      <td>0.759861</td>\n",
       "      <td>0.747717</td>\n",
       "      <td>0.753740</td>\n",
       "      <td>Information et communication</td>\n",
       "    </tr>\n",
       "    <tr>\n",
       "      <th>K</th>\n",
       "      <td>2673</td>\n",
       "      <td>649</td>\n",
       "      <td>0.771957</td>\n",
       "      <td>0.745536</td>\n",
       "      <td>0.758516</td>\n",
       "      <td>Activités financières et d'assurance</td>\n",
       "    </tr>\n",
       "    <tr>\n",
       "      <th>L</th>\n",
       "      <td>13107</td>\n",
       "      <td>3218</td>\n",
       "      <td>0.920758</td>\n",
       "      <td>0.909175</td>\n",
       "      <td>0.914930</td>\n",
       "      <td>Activités immobilières</td>\n",
       "    </tr>\n",
       "    <tr>\n",
       "      <th>M</th>\n",
       "      <td>11076</td>\n",
       "      <td>2743</td>\n",
       "      <td>0.854539</td>\n",
       "      <td>0.853295</td>\n",
       "      <td>0.853916</td>\n",
       "      <td>Activités spécialisées, scientifiques et techn...</td>\n",
       "    </tr>\n",
       "    <tr>\n",
       "      <th>N</th>\n",
       "      <td>4637</td>\n",
       "      <td>1154</td>\n",
       "      <td>0.798960</td>\n",
       "      <td>0.832882</td>\n",
       "      <td>0.815568</td>\n",
       "      <td>Activités de services administratifs et de sou...</td>\n",
       "    </tr>\n",
       "    <tr>\n",
       "      <th>O</th>\n",
       "      <td>50</td>\n",
       "      <td>17</td>\n",
       "      <td>0.823529</td>\n",
       "      <td>0.700000</td>\n",
       "      <td>0.756757</td>\n",
       "      <td>Administration publique</td>\n",
       "    </tr>\n",
       "    <tr>\n",
       "      <th>P</th>\n",
       "      <td>2755</td>\n",
       "      <td>734</td>\n",
       "      <td>0.833787</td>\n",
       "      <td>0.868085</td>\n",
       "      <td>0.850591</td>\n",
       "      <td>Enseignement</td>\n",
       "    </tr>\n",
       "    <tr>\n",
       "      <th>Q</th>\n",
       "      <td>5957</td>\n",
       "      <td>1432</td>\n",
       "      <td>0.918994</td>\n",
       "      <td>0.908213</td>\n",
       "      <td>0.913572</td>\n",
       "      <td>Santé humaine et action sociale</td>\n",
       "    </tr>\n",
       "    <tr>\n",
       "      <th>R</th>\n",
       "      <td>2479</td>\n",
       "      <td>627</td>\n",
       "      <td>0.845295</td>\n",
       "      <td>0.810398</td>\n",
       "      <td>0.827479</td>\n",
       "      <td>Arts, spectacles et activités récréatives</td>\n",
       "    </tr>\n",
       "    <tr>\n",
       "      <th>S</th>\n",
       "      <td>4509</td>\n",
       "      <td>1161</td>\n",
       "      <td>0.847545</td>\n",
       "      <td>0.846816</td>\n",
       "      <td>0.847180</td>\n",
       "      <td>Autres activités de services</td>\n",
       "    </tr>\n",
       "  </tbody>\n",
       "</table>\n",
       "</div>"
      ],
      "text/plain": [
       "          Size_TRAIN  Size_TEST  Recall_TEST  Precision_TEST   F1_TEST  \\\n",
       "APE_NIV1                                                                 \n",
       "A               2341        631     0.882726        0.799139  0.838855   \n",
       "B                 19          6     1.000000        1.000000  1.000000   \n",
       "C               3153        801     0.779026        0.855967  0.815686   \n",
       "D                765        175     0.982857        0.934783  0.958217   \n",
       "E                203         54     0.722222        0.780000  0.750000   \n",
       "F               6971       1743     0.865175        0.872180  0.868664   \n",
       "G              14452       3644     0.806257        0.811602  0.808921   \n",
       "H               4905       1209     0.916460        0.894992  0.905599   \n",
       "I               3798        922     0.848156        0.890661  0.868889   \n",
       "J               3278        862     0.759861        0.747717  0.753740   \n",
       "K               2673        649     0.771957        0.745536  0.758516   \n",
       "L              13107       3218     0.920758        0.909175  0.914930   \n",
       "M              11076       2743     0.854539        0.853295  0.853916   \n",
       "N               4637       1154     0.798960        0.832882  0.815568   \n",
       "O                 50         17     0.823529        0.700000  0.756757   \n",
       "P               2755        734     0.833787        0.868085  0.850591   \n",
       "Q               5957       1432     0.918994        0.908213  0.913572   \n",
       "R               2479        627     0.845295        0.810398  0.827479   \n",
       "S               4509       1161     0.847545        0.846816  0.847180   \n",
       "\n",
       "                                                   LIB_NIV1  \n",
       "APE_NIV1                                                     \n",
       "A                        Agriculture, sylviculture et pêche  \n",
       "B                                    Industries extractives  \n",
       "C                                  Industrie manufacturière  \n",
       "D         Production et distribution d'électricité, de g...  \n",
       "E         Production et distribution d'eau ; assainissem...  \n",
       "F                                              Construction  \n",
       "G         Commerce ; réparation d'automobiles et de moto...  \n",
       "H                                 Transports et entreposage  \n",
       "I                               Hébergement et restauration  \n",
       "J                              Information et communication  \n",
       "K                      Activités financières et d'assurance  \n",
       "L                                    Activités immobilières  \n",
       "M         Activités spécialisées, scientifiques et techn...  \n",
       "N         Activités de services administratifs et de sou...  \n",
       "O                                   Administration publique  \n",
       "P                                              Enseignement  \n",
       "Q                           Santé humaine et action sociale  \n",
       "R                 Arts, spectacles et activités récréatives  \n",
       "S                              Autres activités de services  "
      ]
     },
     "execution_count": 186,
     "metadata": {},
     "output_type": "execute_result"
    }
   ],
   "source": [
    "Results_NIV1"
   ]
  },
  {
   "cell_type": "code",
   "execution_count": 188,
   "id": "5f1cd562",
   "metadata": {},
   "outputs": [],
   "source": [
    "from sklearn.metrics import roc_curve, auc\n",
    "import plotly.graph_objects as go"
   ]
  },
  {
   "cell_type": "code",
   "execution_count": 203,
   "id": "e1f42295",
   "metadata": {},
   "outputs": [],
   "source": [
    "y_true = df_test.APE_NIV1.to_list()\n",
    "y_pred = df_test.PREDICTION_NIV1.to_list()"
   ]
  },
  {
   "cell_type": "code",
   "execution_count": 210,
   "id": "3b78edba",
   "metadata": {},
   "outputs": [
    {
     "data": {
      "text/plain": [
       "[]"
      ]
     },
     "execution_count": 210,
     "metadata": {},
     "output_type": "execute_result"
    }
   ],
   "source": [
    "[ x for x in df_test.APE_NIV1.to_list() if x not in y_true]"
   ]
  },
  {
   "cell_type": "code",
   "execution_count": 206,
   "id": "ce0df2c7",
   "metadata": {},
   "outputs": [],
   "source": [
    "from sklearn.metrics import confusion_matrix"
   ]
  },
  {
   "cell_type": "code",
   "execution_count": 212,
   "id": "b44b91af",
   "metadata": {},
   "outputs": [
    {
     "data": {
      "text/plain": [
       "array([[ 611,    0,    1,    1,    0,    0,    5,    1,    1,    0,    0,\n",
       "           5,    3,    0,    0,    0,    0,    1,    2,    0],\n",
       "       [   0,    6,    0,    0,    0,    0,    0,    0,    0,    0,    0,\n",
       "           0,    0,    0,    0,    0,    0,    0,    0,    0],\n",
       "       [  15,    0,  678,    0,    0,   19,   33,    0,    6,   12,    1,\n",
       "           5,   24,    4,    1,    2,    1,    0,    0,    0],\n",
       "       [   0,    0,    0,  173,    0,    0,    1,    0,    0,    0,    0,\n",
       "           0,    0,    1,    0,    0,    0,    0,    0,    0],\n",
       "       [   0,    0,    1,    2,   42,    1,    3,    0,    0,    0,    0,\n",
       "           0,    0,    1,    2,    0,    0,    0,    2,    0],\n",
       "       [   3,    0,    7,    2,    1, 1645,    4,    3,    2,   11,    2,\n",
       "          31,    9,   16,    0,    0,    0,    5,    2,    0],\n",
       "       [  25,    0,   23,    1,    6,   18, 3447,    6,   13,   20,    5,\n",
       "          20,   20,   20,    0,    4,    3,    2,   11,    0],\n",
       "       [   0,    0,    0,    1,    0,    5,   11, 1157,    2,    1,    0,\n",
       "           2,   14,    4,    0,    0,    6,    2,    4,    0],\n",
       "       [   0,    0,    1,    0,    0,    0,   16,   48,  833,    4,    1,\n",
       "          12,    4,    0,    0,    1,    0,    0,    2,    0],\n",
       "       [   7,    0,    0,    0,    0,    4,   16,    1,    0,  755,    3,\n",
       "           3,   45,    6,    0,    2,    6,    7,    7,    0],\n",
       "       [   1,    0,    1,    0,    0,    2,    2,    1,    1,    2,  578,\n",
       "          18,   37,    4,    1,    0,    1,    0,    0,    0],\n",
       "       [   3,    0,    1,    1,    0,   13,    8,    3,   11,   10,   17,\n",
       "        3132,    6,    8,    0,    1,    2,    0,    2,    0],\n",
       "       [   5,    0,    8,    3,    0,    5,   35,    5,    5,   36,   49,\n",
       "          16, 2490,   23,    1,   11,   21,   20,   10,    0],\n",
       "       [  17,    0,    3,    0,    1,   10,   16,    6,    0,    6,   12,\n",
       "          10,   35,  988,    0,    3,    7,    7,   33,    0],\n",
       "       [   0,    0,    0,    0,    0,    1,    0,    0,    0,    0,    0,\n",
       "           0,    1,    0,   15,    0,    0,    0,    0,    0],\n",
       "       [   1,    0,    0,    0,    0,    1,    5,    2,    0,    5,    2,\n",
       "           1,   20,    3,    0,  654,    2,   30,    8,    0],\n",
       "       [   0,    0,    1,    0,    0,    0,    2,    1,    0,    6,    1,\n",
       "           3,    4,    4,    0,    6, 1344,    3,   57,    0],\n",
       "       [   4,    0,    2,    0,    0,    3,    4,    2,    3,    3,    1,\n",
       "           0,   17,    8,    0,    9,    2,  559,   10,    0],\n",
       "       [   5,    0,    2,    0,    0,    2,   12,    2,    1,    5,    0,\n",
       "           1,   18,   17,    0,   12,   54,   18, 1012,    0],\n",
       "       [   0,    0,    0,    0,    0,    0,    0,    0,    0,    0,    0,\n",
       "           0,    0,    0,    0,    0,    0,    0,    0,    1]])"
      ]
     },
     "execution_count": 212,
     "metadata": {},
     "output_type": "execute_result"
    }
   ],
   "source": [
    "\n"
   ]
  },
  {
   "cell_type": "code",
   "execution_count": 214,
   "id": "d9c87e83",
   "metadata": {},
   "outputs": [
    {
     "data": {
      "image/png": "[encoded data removed]",
      "text/plain": [
       "<Figure size 1080x576 with 2 Axes>"
      ]
     },
     "metadata": {
      "needs_background": "light"
     },
     "output_type": "display_data"
    }
   ],
   "source": [
    "import seaborn as sns\n",
    "import matplotlib.pyplot as plt\n",
    "plt.figure(figsize = (15,8))\n",
    "ax = sns.heatmap(confusion_matrix(y_true, y_pred), annot=True, cmap='Blues')"
   ]
  },
  {
   "cell_type": "code",
   "execution_count": null,
   "id": "e0b306cc",
   "metadata": {},
   "outputs": [],
   "source": []
  },
  {
   "cell_type": "markdown",
   "id": "1a35f41c",
   "metadata": {},
   "source": [
    "- matrice de confusin poiur chaque sous groupe\n",
    "- hyper parametres\n",
    "- checker les libellés, leurs qualité, stats descr\n",
    "- "
   ]
  }
 ],
 "metadata": {
  "kernelspec": {
   "display_name": "Python 3 (ipykernel)",
   "language": "python",
   "name": "python3"
  },
  "language_info": {
   "codemirror_mode": {
    "name": "ipython",
    "version": 3
   },
   "file_extension": ".py",
   "mimetype": "text/x-python",
   "name": "python",
   "nbconvert_exporter": "python",
   "pygments_lexer": "ipython3",
   "version": "3.10.4"
  }
 },
 "nbformat": 4,
 "nbformat_minor": 5
}
