{
 "cells": [
  {
   "cell_type": "markdown",
   "id": "8549431c-6a29-4f96-a18d-4d123c8dd243",
   "metadata": {},
   "source": [
    "# Exploration des données de Sirene"
   ]
  },
  {
   "cell_type": "markdown",
   "id": "af4e4578",
   "metadata": {},
   "source": [
    "## Importation des différents packages nécessaires."
   ]
  },
  {
   "cell_type": "code",
   "execution_count": 97,
   "id": "aa9ee43e-b8d9-4c5f-8b60-6512c958a173",
   "metadata": {},
   "outputs": [
    {
     "name": "stderr",
     "output_type": "stream",
     "text": [
      "[nltk_data] Downloading package stopwords to /home/coder/nltk_data...\n",
      "[nltk_data]   Package stopwords is already up-to-date!\n"
     ]
    },
    {
     "data": {
      "text/plain": [
       "True"
      ]
     },
     "execution_count": 97,
     "metadata": {},
     "output_type": "execute_result"
    }
   ],
   "source": [
    "import pandas as pd\n",
    "import dask.dataframe as dd\n",
    "import random\n",
    "import numpy as np\n",
    "from datetime import datetime\n",
    "from tqdm import tqdm\n",
    "import nltk\n",
    "import string\n",
    "from nltk.corpus import stopwords\n",
    "import fasttext\n",
    "nltk.download('stopwords')"
   ]
  },
  {
   "cell_type": "markdown",
   "id": "a7fde385",
   "metadata": {},
   "source": [
    "## Importation des données"
   ]
  },
  {
   "cell_type": "code",
   "execution_count": 2,
   "id": "8da137d5",
   "metadata": {},
   "outputs": [],
   "source": [
    "DBRaw = dd.read_parquet('../data/extraction_sirene_20220510.parquet', engine='pyarrow')"
   ]
  },
  {
   "cell_type": "markdown",
   "id": "32ebd953",
   "metadata": {},
   "source": [
    "On transforme les valeurs manquantes en NaN."
   ]
  },
  {
   "cell_type": "code",
   "execution_count": 3,
   "id": "f109d898",
   "metadata": {},
   "outputs": [],
   "source": [
    "DBRaw = DBRaw.fillna(value=np.nan)"
   ]
  },
  {
   "cell_type": "markdown",
   "id": "bdbec49e",
   "metadata": {},
   "source": [
    "On garde seulement les variables potentiellement intéressantes : \n",
    "- ``APE_SICORE :`` Code APE (Activité Principale Exercée) retenu lors du traitement de codification (soit Sicore soit gestionnaire) ;\n",
    "- ``NAT_SICORE :`` Nature de l'activité de l'entreprise ;\n",
    "- ``SED_SICORE :`` Sédentarité de l'entreprise ;\n",
    "- ``EVT_SICORE :`` Sédentarité de l'entreprise ;\n",
    "- ``LIB_SICORE :`` Sédentarité de l'entreprise ;\n",
    "- ``DATE :`` Sédentarité de l'entreprise ;\n",
    "- ``AUTO :`` Type de liasse extrait de la base brute Sirène ;\n",
    "- ``SURF :`` Surface en $m^2$ de l'établissement.\n"
   ]
  },
  {
   "cell_type": "code",
   "execution_count": 4,
   "id": "550efe05",
   "metadata": {},
   "outputs": [],
   "source": [
    "Var2Keep = [\"APE_SICORE\",\"LIB_SICORE\",\"AUTO\",\"DATE\",\"NAT_SICORE\",\"SED_SICORE\",\"EVT_SICORE\",\"SURF\"]\n",
    "DB = DBRaw[Var2Keep]"
   ]
  },
  {
   "cell_type": "markdown",
   "id": "6338f6ef",
   "metadata": {},
   "source": [
    "On supprime les liasses où une valeur est manquante pour l'une de ces deux variables (6.77% de la base). Il s'agit principalement du code APE donc il n'est pas nécessaire de l'imputer."
   ]
  },
  {
   "cell_type": "code",
   "execution_count": 5,
   "id": "921dbd95",
   "metadata": {},
   "outputs": [],
   "source": [
    "DB = DB.dropna(subset=['APE_SICORE'])  "
   ]
  },
  {
   "cell_type": "markdown",
   "id": "21ed07a1",
   "metadata": {},
   "source": [
    "On a finalement 10.8 millions de liasses."
   ]
  },
  {
   "cell_type": "code",
   "execution_count": 6,
   "id": "252a27b0",
   "metadata": {},
   "outputs": [
    {
     "data": {
      "text/plain": [
       "10887847"
      ]
     },
     "execution_count": 6,
     "metadata": {},
     "output_type": "execute_result"
    }
   ],
   "source": [
    "DB.shape[0].compute()"
   ]
  },
  {
   "cell_type": "markdown",
   "id": "4e7a6ff3",
   "metadata": {},
   "source": [
    "## I- Modèle 1"
   ]
  },
  {
   "cell_type": "markdown",
   "id": "f94485c9",
   "metadata": {},
   "source": [
    "On estime un modèle FastText standard en utilisant seulement les libellés comme features."
   ]
  },
  {
   "cell_type": "markdown",
   "id": "14b69513",
   "metadata": {},
   "source": [
    "### 1) Preprocessing "
   ]
  },
  {
   "cell_type": "code",
   "execution_count": 7,
   "id": "4e191f79",
   "metadata": {},
   "outputs": [],
   "source": [
    "DB1 = DB[[\"APE_SICORE\",\"LIB_SICORE\"]]\n",
    "DB1 = DB1.dropna(subset=['LIB_SICORE'])  "
   ]
  },
  {
   "cell_type": "code",
   "execution_count": 13,
   "id": "b0b2a6dc",
   "metadata": {},
   "outputs": [],
   "source": [
    "stopwords_ = set(stopwords.words('french') + ['a'])\n",
    "def CleanLib(lib):\n",
    "    # On supprime toutes les ponctuations\n",
    "    lib = lib.translate(str.maketrans(string.punctuation, ' ' * len(string.punctuation)))\n",
    "    # On supprime tous les chiffres\n",
    "    lib = lib.translate(str.maketrans(string.digits, ' ' * len(string.digits)))\n",
    "\n",
    "    # On supprime les stopwords et on renvoie les mots en majuscule\n",
    "    return \" \".join([x.lower() for x in lib.split() if x.lower() not in stopwords_])"
   ]
  },
  {
   "cell_type": "code",
   "execution_count": 17,
   "id": "7d247a1f",
   "metadata": {},
   "outputs": [],
   "source": [
    "DB1[\"LIB_CLEAN\"] = DB1[\"LIB_SICORE\"].apply(lambda x: CleanLib(x), meta=pd.Series(dtype='str', name='LIB_CLEAN'))\n",
    "df = DB1.compute()"
   ]
  },
  {
   "cell_type": "code",
   "execution_count": 18,
   "id": "3313f31b",
   "metadata": {},
   "outputs": [
    {
     "data": {
      "text/html": [
       "<div>\n",
       "<style scoped>\n",
       "    .dataframe tbody tr th:only-of-type {\n",
       "        vertical-align: middle;\n",
       "    }\n",
       "\n",
       "    .dataframe tbody tr th {\n",
       "        vertical-align: top;\n",
       "    }\n",
       "\n",
       "    .dataframe thead th {\n",
       "        text-align: right;\n",
       "    }\n",
       "</style>\n",
       "<table border=\"1\" class=\"dataframe\">\n",
       "  <thead>\n",
       "    <tr style=\"text-align: right;\">\n",
       "      <th></th>\n",
       "      <th>APE_SICORE</th>\n",
       "      <th>LIB_SICORE</th>\n",
       "      <th>LIB_CLEAN</th>\n",
       "    </tr>\n",
       "    <tr>\n",
       "      <th>LIA_NUM</th>\n",
       "      <th></th>\n",
       "      <th></th>\n",
       "      <th></th>\n",
       "    </tr>\n",
       "  </thead>\n",
       "  <tbody>\n",
       "    <tr>\n",
       "      <th>C00903254625</th>\n",
       "      <td>4799A</td>\n",
       "      <td>VENTE A DOMICILE ET/OU SUR MARCHES DE LINGERIE...</td>\n",
       "      <td>vente domicile marches lingerie sextoys maroqu...</td>\n",
       "    </tr>\n",
       "    <tr>\n",
       "      <th>U33071247848</th>\n",
       "      <td>7490B</td>\n",
       "      <td>CONSULTANT EN INNOVATION</td>\n",
       "      <td>consultant innovation</td>\n",
       "    </tr>\n",
       "    <tr>\n",
       "      <th>C00903254427</th>\n",
       "      <td>4782Z</td>\n",
       "      <td>ACHAT ET VENTE DE TEXTILES, ACCESSOIRES ET DE ...</td>\n",
       "      <td>achat vente textiles accessoires tous produits...</td>\n",
       "    </tr>\n",
       "    <tr>\n",
       "      <th>C74019662643</th>\n",
       "      <td>7120B</td>\n",
       "      <td>LA CERTIFICATION DE BATIMENT GARANTISSANT LA P...</td>\n",
       "      <td>certification batiment garantissant performanc...</td>\n",
       "    </tr>\n",
       "    <tr>\n",
       "      <th>C91014088499</th>\n",
       "      <td>4619B</td>\n",
       "      <td>INTERMEDIAIRE DE COMMERCE MISE EN RELATION PRO...</td>\n",
       "      <td>intermediaire commerce mise relation producteu...</td>\n",
       "    </tr>\n",
       "    <tr>\n",
       "      <th>...</th>\n",
       "      <td>...</td>\n",
       "      <td>...</td>\n",
       "      <td>...</td>\n",
       "    </tr>\n",
       "    <tr>\n",
       "      <th>M69013888553</th>\n",
       "      <td>4299Z</td>\n",
       "      <td>AMENAGEMENT DE TERRAINS ET SALLE DE SPORT NOTA...</td>\n",
       "      <td>amenagement terrains salle sport notamment pos...</td>\n",
       "    </tr>\n",
       "    <tr>\n",
       "      <th>M25017641443</th>\n",
       "      <td>8211Z</td>\n",
       "      <td>SERVICES ADMINISTRATIFS DIVERS</td>\n",
       "      <td>services administratifs divers</td>\n",
       "    </tr>\n",
       "    <tr>\n",
       "      <th>M25017649123</th>\n",
       "      <td>9512Z</td>\n",
       "      <td>REPARATION DE TELEPHONES</td>\n",
       "      <td>reparation telephones</td>\n",
       "    </tr>\n",
       "    <tr>\n",
       "      <th>A00990824223</th>\n",
       "      <td>8891A</td>\n",
       "      <td>ACCUEIL DE JEUNES ENFANTS</td>\n",
       "      <td>accueil jeunes enfants</td>\n",
       "    </tr>\n",
       "    <tr>\n",
       "      <th>U75271421363</th>\n",
       "      <td>8559A</td>\n",
       "      <td>FORMATION CONTINUE D ADULTES</td>\n",
       "      <td>formation continue adultes</td>\n",
       "    </tr>\n",
       "  </tbody>\n",
       "</table>\n",
       "<p>10887707 rows × 3 columns</p>\n",
       "</div>"
      ],
      "text/plain": [
       "             APE_SICORE                                         LIB_SICORE  \\\n",
       "LIA_NUM                                                                      \n",
       "C00903254625      4799A  VENTE A DOMICILE ET/OU SUR MARCHES DE LINGERIE...   \n",
       "U33071247848      7490B                           CONSULTANT EN INNOVATION   \n",
       "C00903254427      4782Z  ACHAT ET VENTE DE TEXTILES, ACCESSOIRES ET DE ...   \n",
       "C74019662643      7120B  LA CERTIFICATION DE BATIMENT GARANTISSANT LA P...   \n",
       "C91014088499      4619B  INTERMEDIAIRE DE COMMERCE MISE EN RELATION PRO...   \n",
       "...                 ...                                                ...   \n",
       "M69013888553      4299Z  AMENAGEMENT DE TERRAINS ET SALLE DE SPORT NOTA...   \n",
       "M25017641443      8211Z                     SERVICES ADMINISTRATIFS DIVERS   \n",
       "M25017649123      9512Z                           REPARATION DE TELEPHONES   \n",
       "A00990824223      8891A                          ACCUEIL DE JEUNES ENFANTS   \n",
       "U75271421363      8559A                       FORMATION CONTINUE D ADULTES   \n",
       "\n",
       "                                                      LIB_CLEAN  \n",
       "LIA_NUM                                                          \n",
       "C00903254625  vente domicile marches lingerie sextoys maroqu...  \n",
       "U33071247848                              consultant innovation  \n",
       "C00903254427  achat vente textiles accessoires tous produits...  \n",
       "C74019662643  certification batiment garantissant performanc...  \n",
       "C91014088499  intermediaire commerce mise relation producteu...  \n",
       "...                                                         ...  \n",
       "M69013888553  amenagement terrains salle sport notamment pos...  \n",
       "M25017641443                     services administratifs divers  \n",
       "M25017649123                              reparation telephones  \n",
       "A00990824223                             accueil jeunes enfants  \n",
       "U75271421363                         formation continue adultes  \n",
       "\n",
       "[10887707 rows x 3 columns]"
      ]
     },
     "execution_count": 18,
     "metadata": {},
     "output_type": "execute_result"
    }
   ],
   "source": [
    "df"
   ]
  },
  {
   "cell_type": "markdown",
   "id": "97fb0e9e",
   "metadata": {},
   "source": [
    "### 2) Splitting"
   ]
  },
  {
   "cell_type": "markdown",
   "id": "8268132b",
   "metadata": {},
   "source": [
    "On mélange de manière aléatoires les index puis on les divise en 3 groupes selon un certain pourcentage (ici 70%, 20% et 10%)\n"
   ]
  },
  {
   "cell_type": "code",
   "execution_count": 70,
   "id": "4094786a",
   "metadata": {},
   "outputs": [],
   "source": [
    "random.seed(123456)\n",
    "Idx = random.sample(df.index.values.tolist(), df.shape[0])\n",
    "Groups = np.split(Idx, [int(len(Idx)*0.7), int(len(Idx)*0.9)])"
   ]
  },
  {
   "cell_type": "code",
   "execution_count": 91,
   "id": "693b4426",
   "metadata": {},
   "outputs": [],
   "source": [
    "with open(\"../data/train_text.txt\", 'w') as f:\n",
    "    for idx in range(len(Groups[0])):\n",
    "        aLine = \"__label__{} {}\".format(df.at[Groups[0][idx],\"APE_SICORE\"], df.at[Groups[0][idx],\"LIB_CLEAN\"])\n",
    "        f.write(\"%s\\n\" % aLine)\n"
   ]
  },
  {
   "cell_type": "code",
   "execution_count": 92,
   "id": "3b52cbd0",
   "metadata": {},
   "outputs": [],
   "source": [
    "with open(\"../data/test_text.txt\", 'w') as f:\n",
    "    for idx in range(len(Groups[1])):\n",
    "        aLine = \"__label__{} {}\".format(df.at[Groups[1][idx],\"APE_SICORE\"], df.at[Groups[1][idx],\"LIB_CLEAN\"])\n",
    "        f.write(\"%s\\n\" % aLine)"
   ]
  },
  {
   "cell_type": "code",
   "execution_count": 93,
   "id": "5215d9df",
   "metadata": {},
   "outputs": [],
   "source": [
    "with open(\"../data/validation_text.txt\", 'w') as f:\n",
    "    for idx in range(len(Groups[2])):\n",
    "        aLine = \"__label__{} {}\".format(df.at[Groups[2][idx],\"APE_SICORE\"], df.at[Groups[2][idx],\"LIB_CLEAN\"])\n",
    "        f.write(\"%s\\n\" % aLine)"
   ]
  },
  {
   "cell_type": "markdown",
   "id": "18d5a745",
   "metadata": {},
   "source": [
    "### 3) Training"
   ]
  },
  {
   "cell_type": "markdown",
   "id": "66f5fae1",
   "metadata": {},
   "source": [
    "On définit plusieurs options pour le modèle."
   ]
  },
  {
   "cell_type": "code",
   "execution_count": 94,
   "id": "c6994b7a",
   "metadata": {},
   "outputs": [],
   "source": [
    "config_fasttext={\"dim\": 150,\n",
    "\"lr\": 0.2,\n",
    "\"epoch\": 80,\n",
    "\"wordNgrams\": 3,\n",
    "\"minn\": 3,\n",
    "\"maxn\": 4,\n",
    "\"minCount\": 3,\n",
    "\"bucket\": 3000000,\n",
    "\"thread\": 25,\n",
    "\"loss\": 'ova',\n",
    "\"label_prefix\": '__label__'}"
   ]
  },
  {
   "cell_type": "code",
   "execution_count": 98,
   "id": "89d9f244",
   "metadata": {},
   "outputs": [
    {
     "name": "stderr",
     "output_type": "stream",
     "text": [
      "Read 54M words\n",
      "Number of words:  52388\n",
      "Number of labels: 727\n",
      "Progress:   4.4% words/sec/thread:   11253 lr:  0.191228 avg.loss:  2.714532 ETA:   4h 8m30s avg.loss:  2.345083 ETA:   4h19m21ss 0.192981 avg.loss:  2.554645 ETA:   4h10m44s 8m50s"
     ]
    }
   ],
   "source": [
    "model1 = fasttext.train_supervised(input=\"../data/train_text.txt\", **config_fasttext)"
   ]
  },
  {
   "cell_type": "code",
   "execution_count": null,
   "id": "a94c070b",
   "metadata": {},
   "outputs": [],
   "source": []
  }
 ],
 "metadata": {
  "kernelspec": {
   "display_name": "Python 3 (ipykernel)",
   "language": "python",
   "name": "python3"
  },
  "language_info": {
   "codemirror_mode": {
    "name": "ipython",
    "version": 3
   },
   "file_extension": ".py",
   "mimetype": "text/x-python",
   "name": "python",
   "nbconvert_exporter": "python",
   "pygments_lexer": "ipython3",
   "version": "3.10.4"
  }
 },
 "nbformat": 4,
 "nbformat_minor": 5
}
