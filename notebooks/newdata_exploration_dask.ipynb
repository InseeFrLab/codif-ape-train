{
 "cells": [
  {
   "cell_type": "markdown",
   "id": "8549431c-6a29-4f96-a18d-4d123c8dd243",
   "metadata": {},
   "source": [
    "# Exploration des données de Sirene"
   ]
  },
  {
   "cell_type": "markdown",
   "id": "af4e4578",
   "metadata": {},
   "source": [
    "## Importation des différents packages nécessaires."
   ]
  },
  {
   "cell_type": "code",
   "execution_count": 40,
   "id": "aa9ee43e-b8d9-4c5f-8b60-6512c958a173",
   "metadata": {},
   "outputs": [
    {
     "name": "stderr",
     "output_type": "stream",
     "text": [
      "[nltk_data] Downloading package stopwords to /home/coder/nltk_data...\n",
      "[nltk_data]   Package stopwords is already up-to-date!\n"
     ]
    },
    {
     "data": {
      "text/plain": [
       "True"
      ]
     },
     "execution_count": 40,
     "metadata": {},
     "output_type": "execute_result"
    }
   ],
   "source": [
    "import pandas as pd\n",
    "import dask.dataframe as dd\n",
    "import random\n",
    "import itertools\n",
    "import numpy as np\n",
    "from datetime import datetime\n",
    "from tqdm import tqdm\n",
    "import nltk\n",
    "import string\n",
    "from nltk.corpus import stopwords\n",
    "import fasttext\n",
    "nltk.download('stopwords')"
   ]
  },
  {
   "cell_type": "markdown",
   "id": "a7fde385",
   "metadata": {},
   "source": [
    "## Importation des données"
   ]
  },
  {
   "cell_type": "code",
   "execution_count": 41,
   "id": "8da137d5",
   "metadata": {},
   "outputs": [],
   "source": [
    "DBRaw = dd.read_parquet('../data/extraction_sirene_20220510.parquet', engine='pyarrow')"
   ]
  },
  {
   "cell_type": "markdown",
   "id": "0cb18498",
   "metadata": {},
   "source": [
    "Temporaire : On restreint les données à 1% de la base initiales."
   ]
  },
  {
   "cell_type": "code",
   "execution_count": 42,
   "id": "18d42b9e",
   "metadata": {},
   "outputs": [],
   "source": [
    "DBRaw = DBRaw.sample(frac= 0.01, random_state=1234)"
   ]
  },
  {
   "cell_type": "markdown",
   "id": "32ebd953",
   "metadata": {},
   "source": [
    "On transforme les valeurs manquantes en NaN."
   ]
  },
  {
   "cell_type": "code",
   "execution_count": 43,
   "id": "f109d898",
   "metadata": {},
   "outputs": [],
   "source": [
    "DBRaw = DBRaw.fillna(value=np.nan)"
   ]
  },
  {
   "cell_type": "markdown",
   "id": "bdbec49e",
   "metadata": {},
   "source": [
    "On garde seulement les variables potentiellement intéressantes : \n",
    "- ``APE_SICORE :`` Code APE (Activité Principale Exercée) retenu lors du traitement de codification (soit Sicore soit gestionnaire) ;\n",
    "- ``NAT_SICORE :`` Nature de l'activité de l'entreprise ;\n",
    "- ``SED_SICORE :`` Sédentarité de l'entreprise ;\n",
    "- ``EVT_SICORE :`` Sédentarité de l'entreprise ;\n",
    "- ``LIB_SICORE :`` Sédentarité de l'entreprise ;\n",
    "- ``DATE :`` Sédentarité de l'entreprise ;\n",
    "- ``AUTO :`` Type de liasse extrait de la base brute Sirène ;\n",
    "- ``SURF :`` Surface en $m^2$ de l'établissement.\n"
   ]
  },
  {
   "cell_type": "code",
   "execution_count": 44,
   "id": "550efe05",
   "metadata": {},
   "outputs": [],
   "source": [
    "Var2Keep = [\"APE_SICORE\",\"LIB_SICORE\",\"AUTO\",\"DATE\",\"NAT_SICORE\",\"SED_SICORE\",\"EVT_SICORE\",\"SURF\"]\n",
    "DB = DBRaw[Var2Keep]"
   ]
  },
  {
   "cell_type": "markdown",
   "id": "6338f6ef",
   "metadata": {},
   "source": [
    "On supprime les liasses où une valeur est manquante pour l'une de ces deux variables (6.77% de la base). Il s'agit principalement du code APE donc il n'est pas nécessaire de l'imputer."
   ]
  },
  {
   "cell_type": "code",
   "execution_count": 45,
   "id": "921dbd95",
   "metadata": {},
   "outputs": [],
   "source": [
    "DB = DB.dropna(subset=['APE_SICORE'])  "
   ]
  },
  {
   "cell_type": "markdown",
   "id": "21ed07a1",
   "metadata": {},
   "source": [
    "On a finalement 10.8 millions de liasses."
   ]
  },
  {
   "cell_type": "code",
   "execution_count": null,
   "id": "252a27b0",
   "metadata": {},
   "outputs": [],
   "source": [
    "DB.shape[0].compute()"
   ]
  },
  {
   "cell_type": "markdown",
   "id": "4e7a6ff3",
   "metadata": {},
   "source": [
    "## I- Modèle 1"
   ]
  },
  {
   "cell_type": "markdown",
   "id": "f94485c9",
   "metadata": {},
   "source": [
    "On estime un modèle FastText standard en utilisant seulement les libellés comme features."
   ]
  },
  {
   "cell_type": "markdown",
   "id": "14b69513",
   "metadata": {},
   "source": [
    "### 1) Preprocessing "
   ]
  },
  {
   "cell_type": "code",
   "execution_count": 46,
   "id": "4e191f79",
   "metadata": {},
   "outputs": [],
   "source": [
    "DB1 = DB[[\"APE_SICORE\",\"LIB_SICORE\"]]\n",
    "DB1 = DB1.dropna(subset=['LIB_SICORE'])  "
   ]
  },
  {
   "cell_type": "code",
   "execution_count": 47,
   "id": "b0b2a6dc",
   "metadata": {},
   "outputs": [],
   "source": [
    "stopwords_ = set(stopwords.words('french') + ['a'])\n",
    "def CleanLib(lib):\n",
    "    # On supprime toutes les ponctuations\n",
    "    lib = lib.translate(str.maketrans(string.punctuation, ' ' * len(string.punctuation)))\n",
    "    # On supprime tous les chiffres\n",
    "    lib = lib.translate(str.maketrans(string.digits, ' ' * len(string.digits)))\n",
    "\n",
    "    # On supprime les stopwords et on renvoie les mots en majuscule\n",
    "    return \" \".join([x.lower() for x in lib.split() if x.lower() not in stopwords_])"
   ]
  },
  {
   "cell_type": "code",
   "execution_count": 48,
   "id": "7d247a1f",
   "metadata": {},
   "outputs": [],
   "source": [
    "DB1[\"LIB_CLEAN\"] = DB1[\"LIB_SICORE\"].apply(lambda x: CleanLib(x), meta=pd.Series(dtype='str', name='LIB_CLEAN'))\n",
    "df = DB1.compute()"
   ]
  },
  {
   "cell_type": "code",
   "execution_count": null,
   "id": "3313f31b",
   "metadata": {},
   "outputs": [],
   "source": [
    "df"
   ]
  },
  {
   "cell_type": "markdown",
   "id": "97fb0e9e",
   "metadata": {},
   "source": [
    "### 2) Splitting"
   ]
  },
  {
   "cell_type": "markdown",
   "id": "8268132b",
   "metadata": {},
   "source": [
    "On mélange de manière aléatoires les index puis on les divise en 2 groupes selon un certain pourcentage (ici 80% et 20%)\n"
   ]
  },
  {
   "cell_type": "code",
   "execution_count": 49,
   "id": "4094786a",
   "metadata": {},
   "outputs": [],
   "source": [
    "random.seed(123456)\n",
    "Idx = random.sample(df.index.values.tolist(), df.shape[0])\n",
    "Groups = np.split(Idx, [int(len(Idx)*0.8)])"
   ]
  },
  {
   "cell_type": "code",
   "execution_count": null,
   "id": "693b4426",
   "metadata": {},
   "outputs": [],
   "source": [
    "with open(\"../data/train_text.txt\", 'w') as f:\n",
    "    for idx in range(len(Groups[0])):\n",
    "        aLine = \"__label__{} {}\".format(df.at[Groups[0][idx],\"APE_SICORE\"], df.at[Groups[0][idx],\"LIB_CLEAN\"])\n",
    "        f.write(\"%s\\n\" % aLine)\n"
   ]
  },
  {
   "cell_type": "markdown",
   "id": "18d5a745",
   "metadata": {},
   "source": [
    "### 3) Training"
   ]
  },
  {
   "cell_type": "markdown",
   "id": "66f5fae1",
   "metadata": {},
   "source": [
    "On définit plusieurs options pour le modèle."
   ]
  },
  {
   "cell_type": "code",
   "execution_count": null,
   "id": "c6994b7a",
   "metadata": {},
   "outputs": [],
   "source": [
    "config_fasttext={\"dim\": 150,\n",
    "\"lr\": 0.2,\n",
    "\"epoch\": 80,\n",
    "\"wordNgrams\": 3,\n",
    "\"minn\": 3,\n",
    "\"maxn\": 4,\n",
    "\"minCount\": 3,\n",
    "\"bucket\": 3000000,\n",
    "\"thread\": 25,\n",
    "\"loss\": 'ova',\n",
    "\"label_prefix\": '__label__'}"
   ]
  },
  {
   "cell_type": "code",
   "execution_count": 51,
   "id": "89d9f244",
   "metadata": {},
   "outputs": [
    {
     "name": "stderr",
     "output_type": "stream",
     "text": [
      "Warning : `load_model` does not return WordVectorModel or SupervisedModel any more, but a `FastText` object which is very similar.\n"
     ]
    }
   ],
   "source": [
    "#model1 = fasttext.train_supervised(input=\"../data/train_text.txt\", **config_fasttext)\n",
    "model1 = fasttext.load_model(\"../fasttext_model1.bin\")"
   ]
  },
  {
   "cell_type": "code",
   "execution_count": 52,
   "id": "a94c070b",
   "metadata": {},
   "outputs": [],
   "source": [
    "TypeData = [\"Train\", \"Test\"]\n",
    "dico_lib= { TypeData[i] : {Groups[i][idx] : {\"TrueValue\" : df.at[Groups[1][idx],\"APE_SICORE\"],\n",
    "                                                \"Libelle\" : df.at[Groups[1][idx],\"LIB_CLEAN\"]} \n",
    "                                                for idx in range(len(Groups[1]))\n",
    "                            } for i in range(len(TypeData))\n",
    "}"
   ]
  },
  {
   "cell_type": "code",
   "execution_count": 76,
   "id": "1d1fb69b",
   "metadata": {},
   "outputs": [
    {
     "ename": "AttributeError",
     "evalue": "'numpy.ndarray' object has no attribute 'find'",
     "output_type": "error",
     "traceback": [
      "\u001b[0;31m---------------------------------------------------------------------------\u001b[0m",
      "\u001b[0;31mAttributeError\u001b[0m                            Traceback (most recent call last)",
      "\u001b[1;32m/home/coder/work/codification-ape/notebooks/newdata_exploration_dask.ipynb Cell 32'\u001b[0m in \u001b[0;36m<cell line: 1>\u001b[0;34m()\u001b[0m\n\u001b[0;32m----> <a href='vscode-notebook-cell://projet-ape-770845-0.kub.sspcloud.fr/home/coder/work/codification-ape/notebooks/newdata_exploration_dask.ipynb#ch0000049vscode-remote?line=0'>1</a>\u001b[0m model1\u001b[39m.\u001b[39;49mpredict(df_train[\u001b[39m'\u001b[39;49m\u001b[39mLIB_CLEAN\u001b[39;49m\u001b[39m'\u001b[39;49m]\u001b[39m.\u001b[39;49mto_numpy())\n",
      "File \u001b[0;32m~/local/bin/conda/envs/basesspcloud/lib/python3.10/site-packages/fasttext/FastText.py:225\u001b[0m, in \u001b[0;36m_FastText.predict\u001b[0;34m(self, text, k, threshold, on_unicode_error)\u001b[0m\n\u001b[1;32m    <a href='file:///home/coder/local/bin/conda/envs/basesspcloud/lib/python3.10/site-packages/fasttext/FastText.py?line=222'>223</a>\u001b[0m     \u001b[39mreturn\u001b[39;00m all_labels, all_probs\n\u001b[1;32m    <a href='file:///home/coder/local/bin/conda/envs/basesspcloud/lib/python3.10/site-packages/fasttext/FastText.py?line=223'>224</a>\u001b[0m \u001b[39melse\u001b[39;00m:\n\u001b[0;32m--> <a href='file:///home/coder/local/bin/conda/envs/basesspcloud/lib/python3.10/site-packages/fasttext/FastText.py?line=224'>225</a>\u001b[0m     text \u001b[39m=\u001b[39m check(text)\n\u001b[1;32m    <a href='file:///home/coder/local/bin/conda/envs/basesspcloud/lib/python3.10/site-packages/fasttext/FastText.py?line=225'>226</a>\u001b[0m     predictions \u001b[39m=\u001b[39m \u001b[39mself\u001b[39m\u001b[39m.\u001b[39mf\u001b[39m.\u001b[39mpredict(text, k, threshold, on_unicode_error)\n\u001b[1;32m    <a href='file:///home/coder/local/bin/conda/envs/basesspcloud/lib/python3.10/site-packages/fasttext/FastText.py?line=226'>227</a>\u001b[0m     \u001b[39mif\u001b[39;00m predictions:\n",
      "File \u001b[0;32m~/local/bin/conda/envs/basesspcloud/lib/python3.10/site-packages/fasttext/FastText.py:211\u001b[0m, in \u001b[0;36m_FastText.predict.<locals>.check\u001b[0;34m(entry)\u001b[0m\n\u001b[1;32m    <a href='file:///home/coder/local/bin/conda/envs/basesspcloud/lib/python3.10/site-packages/fasttext/FastText.py?line=209'>210</a>\u001b[0m \u001b[39mdef\u001b[39;00m \u001b[39mcheck\u001b[39m(entry):\n\u001b[0;32m--> <a href='file:///home/coder/local/bin/conda/envs/basesspcloud/lib/python3.10/site-packages/fasttext/FastText.py?line=210'>211</a>\u001b[0m     \u001b[39mif\u001b[39;00m entry\u001b[39m.\u001b[39;49mfind(\u001b[39m'\u001b[39m\u001b[39m\\n\u001b[39;00m\u001b[39m'\u001b[39m) \u001b[39m!=\u001b[39m \u001b[39m-\u001b[39m\u001b[39m1\u001b[39m:\n\u001b[1;32m    <a href='file:///home/coder/local/bin/conda/envs/basesspcloud/lib/python3.10/site-packages/fasttext/FastText.py?line=211'>212</a>\u001b[0m         \u001b[39mraise\u001b[39;00m \u001b[39mValueError\u001b[39;00m(\n\u001b[1;32m    <a href='file:///home/coder/local/bin/conda/envs/basesspcloud/lib/python3.10/site-packages/fasttext/FastText.py?line=212'>213</a>\u001b[0m             \u001b[39m\"\u001b[39m\u001b[39mpredict processes one line at a time (remove \u001b[39m\u001b[39m\\'\u001b[39;00m\u001b[39m\\\\\u001b[39;00m\u001b[39mn\u001b[39m\u001b[39m\\'\u001b[39;00m\u001b[39m)\u001b[39m\u001b[39m\"\u001b[39m\n\u001b[1;32m    <a href='file:///home/coder/local/bin/conda/envs/basesspcloud/lib/python3.10/site-packages/fasttext/FastText.py?line=213'>214</a>\u001b[0m         )\n\u001b[1;32m    <a href='file:///home/coder/local/bin/conda/envs/basesspcloud/lib/python3.10/site-packages/fasttext/FastText.py?line=214'>215</a>\u001b[0m     entry \u001b[39m+\u001b[39m\u001b[39m=\u001b[39m \u001b[39m\"\u001b[39m\u001b[39m\\n\u001b[39;00m\u001b[39m\"\u001b[39m\n",
      "\u001b[0;31mAttributeError\u001b[0m: 'numpy.ndarray' object has no attribute 'find'"
     ]
    }
   ],
   "source": [
    "model1.predict(df_train['LIB_CLEAN'].to_list())"
   ]
  },
  {
   "cell_type": "code",
   "execution_count": 92,
   "id": "a2dba91e",
   "metadata": {},
   "outputs": [],
   "source": [
    "out = model1.predict(df_train['LIB_CLEAN'].to_list())"
   ]
  },
  {
   "cell_type": "code",
   "execution_count": 99,
   "id": "e573bab6",
   "metadata": {},
   "outputs": [
    {
     "name": "stderr",
     "output_type": "stream",
     "text": [
      "/home/coder/local/bin/conda/envs/basesspcloud/lib/python3.10/site-packages/numpy/core/fromnumeric.py:3199: VisibleDeprecationWarning: Creating an ndarray from ragged nested sequences (which is a list-or-tuple of lists-or-tuples-or ndarrays with different lengths or shapes) is deprecated. If you meant to do this, you must specify 'dtype=object' when creating the ndarray.\n",
      "  return asarray(a).ndim\n"
     ]
    },
    {
     "ename": "ValueError",
     "evalue": "Columns must be same length as key",
     "output_type": "error",
     "traceback": [
      "\u001b[0;31m---------------------------------------------------------------------------\u001b[0m",
      "\u001b[0;31mValueError\u001b[0m                                Traceback (most recent call last)",
      "\u001b[1;32m/home/coder/work/codification-ape/notebooks/newdata_exploration_dask.ipynb Cell 34'\u001b[0m in \u001b[0;36m<cell line: 2>\u001b[0;34m()\u001b[0m\n\u001b[1;32m      <a href='vscode-notebook-cell://projet-ape-770845-0.kub.sspcloud.fr/home/coder/work/codification-ape/notebooks/newdata_exploration_dask.ipynb#ch0000056vscode-remote?line=0'>1</a>\u001b[0m df_train \u001b[39m=\u001b[39m df\u001b[39m.\u001b[39mloc[Groups[\u001b[39m0\u001b[39m], :]\n\u001b[0;32m----> <a href='vscode-notebook-cell://projet-ape-770845-0.kub.sspcloud.fr/home/coder/work/codification-ape/notebooks/newdata_exploration_dask.ipynb#ch0000056vscode-remote?line=1'>2</a>\u001b[0m df_train[[\u001b[39m'\u001b[39m\u001b[39mPREDICTION\u001b[39m\u001b[39m'\u001b[39m, \u001b[39m'\u001b[39m\u001b[39mPROBA\u001b[39m\u001b[39m'\u001b[39m]] \u001b[39m=\u001b[39m get_pred(df_train[\u001b[39m'\u001b[39m\u001b[39mLIB_CLEAN\u001b[39m\u001b[39m'\u001b[39m]\u001b[39m.\u001b[39mto_list(), model1)\n\u001b[1;32m      <a href='vscode-notebook-cell://projet-ape-770845-0.kub.sspcloud.fr/home/coder/work/codification-ape/notebooks/newdata_exploration_dask.ipynb#ch0000056vscode-remote?line=2'>3</a>\u001b[0m df_train[\u001b[39m'\u001b[39m\u001b[39mGoodPREDICTION\u001b[39m\u001b[39m'\u001b[39m] \u001b[39m=\u001b[39m df_train[\u001b[39m'\u001b[39m\u001b[39mAPE_SICORE\u001b[39m\u001b[39m'\u001b[39m] \u001b[39m==\u001b[39m df_train[\u001b[39m'\u001b[39m\u001b[39mPREDICTION\u001b[39m\u001b[39m'\u001b[39m]\n\u001b[1;32m      <a href='vscode-notebook-cell://projet-ape-770845-0.kub.sspcloud.fr/home/coder/work/codification-ape/notebooks/newdata_exploration_dask.ipynb#ch0000056vscode-remote?line=3'>4</a>\u001b[0m \u001b[39msum\u001b[39m(df_train[\u001b[39m'\u001b[39m\u001b[39mGoodPREDICTION\u001b[39m\u001b[39m'\u001b[39m])\u001b[39m/\u001b[39mdf_train\u001b[39m.\u001b[39mshape[\u001b[39m0\u001b[39m] \u001b[39m*\u001b[39m \u001b[39m100\u001b[39m\n",
      "File \u001b[0;32m~/local/bin/conda/envs/basesspcloud/lib/python3.10/site-packages/pandas/core/frame.py:3643\u001b[0m, in \u001b[0;36mDataFrame.__setitem__\u001b[0;34m(self, key, value)\u001b[0m\n\u001b[1;32m   <a href='file:///home/coder/local/bin/conda/envs/basesspcloud/lib/python3.10/site-packages/pandas/core/frame.py?line=3640'>3641</a>\u001b[0m     \u001b[39mself\u001b[39m\u001b[39m.\u001b[39m_setitem_frame(key, value)\n\u001b[1;32m   <a href='file:///home/coder/local/bin/conda/envs/basesspcloud/lib/python3.10/site-packages/pandas/core/frame.py?line=3641'>3642</a>\u001b[0m \u001b[39melif\u001b[39;00m \u001b[39misinstance\u001b[39m(key, (Series, np\u001b[39m.\u001b[39mndarray, \u001b[39mlist\u001b[39m, Index)):\n\u001b[0;32m-> <a href='file:///home/coder/local/bin/conda/envs/basesspcloud/lib/python3.10/site-packages/pandas/core/frame.py?line=3642'>3643</a>\u001b[0m     \u001b[39mself\u001b[39;49m\u001b[39m.\u001b[39;49m_setitem_array(key, value)\n\u001b[1;32m   <a href='file:///home/coder/local/bin/conda/envs/basesspcloud/lib/python3.10/site-packages/pandas/core/frame.py?line=3643'>3644</a>\u001b[0m \u001b[39melif\u001b[39;00m \u001b[39misinstance\u001b[39m(value, DataFrame):\n\u001b[1;32m   <a href='file:///home/coder/local/bin/conda/envs/basesspcloud/lib/python3.10/site-packages/pandas/core/frame.py?line=3644'>3645</a>\u001b[0m     \u001b[39mself\u001b[39m\u001b[39m.\u001b[39m_set_item_frame_value(key, value)\n",
      "File \u001b[0;32m~/local/bin/conda/envs/basesspcloud/lib/python3.10/site-packages/pandas/core/frame.py:3699\u001b[0m, in \u001b[0;36mDataFrame._setitem_array\u001b[0;34m(self, key, value)\u001b[0m\n\u001b[1;32m   <a href='file:///home/coder/local/bin/conda/envs/basesspcloud/lib/python3.10/site-packages/pandas/core/frame.py?line=3695'>3696</a>\u001b[0m \u001b[39melif\u001b[39;00m np\u001b[39m.\u001b[39mndim(value) \u001b[39m>\u001b[39m \u001b[39m1\u001b[39m:\n\u001b[1;32m   <a href='file:///home/coder/local/bin/conda/envs/basesspcloud/lib/python3.10/site-packages/pandas/core/frame.py?line=3696'>3697</a>\u001b[0m     \u001b[39m# list of lists\u001b[39;00m\n\u001b[1;32m   <a href='file:///home/coder/local/bin/conda/envs/basesspcloud/lib/python3.10/site-packages/pandas/core/frame.py?line=3697'>3698</a>\u001b[0m     value \u001b[39m=\u001b[39m DataFrame(value)\u001b[39m.\u001b[39mvalues\n\u001b[0;32m-> <a href='file:///home/coder/local/bin/conda/envs/basesspcloud/lib/python3.10/site-packages/pandas/core/frame.py?line=3698'>3699</a>\u001b[0m     \u001b[39mreturn\u001b[39;00m \u001b[39mself\u001b[39;49m\u001b[39m.\u001b[39;49m_setitem_array(key, value)\n\u001b[1;32m   <a href='file:///home/coder/local/bin/conda/envs/basesspcloud/lib/python3.10/site-packages/pandas/core/frame.py?line=3700'>3701</a>\u001b[0m \u001b[39melse\u001b[39;00m:\n\u001b[1;32m   <a href='file:///home/coder/local/bin/conda/envs/basesspcloud/lib/python3.10/site-packages/pandas/core/frame.py?line=3701'>3702</a>\u001b[0m     \u001b[39mself\u001b[39m\u001b[39m.\u001b[39m_iset_not_inplace(key, value)\n",
      "File \u001b[0;32m~/local/bin/conda/envs/basesspcloud/lib/python3.10/site-packages/pandas/core/frame.py:3694\u001b[0m, in \u001b[0;36mDataFrame._setitem_array\u001b[0;34m(self, key, value)\u001b[0m\n\u001b[1;32m   <a href='file:///home/coder/local/bin/conda/envs/basesspcloud/lib/python3.10/site-packages/pandas/core/frame.py?line=3690'>3691</a>\u001b[0m         \u001b[39mself\u001b[39m[col] \u001b[39m=\u001b[39m value\n\u001b[1;32m   <a href='file:///home/coder/local/bin/conda/envs/basesspcloud/lib/python3.10/site-packages/pandas/core/frame.py?line=3692'>3693</a>\u001b[0m \u001b[39melif\u001b[39;00m \u001b[39misinstance\u001b[39m(value, np\u001b[39m.\u001b[39mndarray) \u001b[39mand\u001b[39;00m value\u001b[39m.\u001b[39mndim \u001b[39m==\u001b[39m \u001b[39m2\u001b[39m:\n\u001b[0;32m-> <a href='file:///home/coder/local/bin/conda/envs/basesspcloud/lib/python3.10/site-packages/pandas/core/frame.py?line=3693'>3694</a>\u001b[0m     \u001b[39mself\u001b[39;49m\u001b[39m.\u001b[39;49m_iset_not_inplace(key, value)\n\u001b[1;32m   <a href='file:///home/coder/local/bin/conda/envs/basesspcloud/lib/python3.10/site-packages/pandas/core/frame.py?line=3695'>3696</a>\u001b[0m \u001b[39melif\u001b[39;00m np\u001b[39m.\u001b[39mndim(value) \u001b[39m>\u001b[39m \u001b[39m1\u001b[39m:\n\u001b[1;32m   <a href='file:///home/coder/local/bin/conda/envs/basesspcloud/lib/python3.10/site-packages/pandas/core/frame.py?line=3696'>3697</a>\u001b[0m     \u001b[39m# list of lists\u001b[39;00m\n\u001b[1;32m   <a href='file:///home/coder/local/bin/conda/envs/basesspcloud/lib/python3.10/site-packages/pandas/core/frame.py?line=3697'>3698</a>\u001b[0m     value \u001b[39m=\u001b[39m DataFrame(value)\u001b[39m.\u001b[39mvalues\n",
      "File \u001b[0;32m~/local/bin/conda/envs/basesspcloud/lib/python3.10/site-packages/pandas/core/frame.py:3721\u001b[0m, in \u001b[0;36mDataFrame._iset_not_inplace\u001b[0;34m(self, key, value)\u001b[0m\n\u001b[1;32m   <a href='file:///home/coder/local/bin/conda/envs/basesspcloud/lib/python3.10/site-packages/pandas/core/frame.py?line=3718'>3719</a>\u001b[0m \u001b[39mif\u001b[39;00m \u001b[39mself\u001b[39m\u001b[39m.\u001b[39mcolumns\u001b[39m.\u001b[39mis_unique:\n\u001b[1;32m   <a href='file:///home/coder/local/bin/conda/envs/basesspcloud/lib/python3.10/site-packages/pandas/core/frame.py?line=3719'>3720</a>\u001b[0m     \u001b[39mif\u001b[39;00m np\u001b[39m.\u001b[39mshape(value)[\u001b[39m-\u001b[39m\u001b[39m1\u001b[39m] \u001b[39m!=\u001b[39m \u001b[39mlen\u001b[39m(key):\n\u001b[0;32m-> <a href='file:///home/coder/local/bin/conda/envs/basesspcloud/lib/python3.10/site-packages/pandas/core/frame.py?line=3720'>3721</a>\u001b[0m         \u001b[39mraise\u001b[39;00m \u001b[39mValueError\u001b[39;00m(\u001b[39m\"\u001b[39m\u001b[39mColumns must be same length as key\u001b[39m\u001b[39m\"\u001b[39m)\n\u001b[1;32m   <a href='file:///home/coder/local/bin/conda/envs/basesspcloud/lib/python3.10/site-packages/pandas/core/frame.py?line=3722'>3723</a>\u001b[0m     \u001b[39mfor\u001b[39;00m i, col \u001b[39min\u001b[39;00m \u001b[39menumerate\u001b[39m(key):\n\u001b[1;32m   <a href='file:///home/coder/local/bin/conda/envs/basesspcloud/lib/python3.10/site-packages/pandas/core/frame.py?line=3723'>3724</a>\u001b[0m         \u001b[39mself\u001b[39m[col] \u001b[39m=\u001b[39m igetitem(value, i)\n",
      "\u001b[0;31mValueError\u001b[0m: Columns must be same length as key"
     ]
    }
   ],
   "source": [
    "df_train = df.loc[Groups[0], :]\n",
    "df_train[['PREDICTION', 'PROBA']] = get_pred(df_train['LIB_CLEAN'].to_list(), model1)\n",
    "df_train['GoodPREDICTION'] = df_train['APE_SICORE'] == df_train['PREDICTION']\n",
    "sum(df_train['GoodPREDICTION'])/df_train.shape[0] * 100"
   ]
  },
  {
   "cell_type": "code",
   "execution_count": 124,
   "id": "9cd39d82",
   "metadata": {},
   "outputs": [],
   "source": [
    "def get_preds(libs, mod):\n",
    "    out = mod.predict(libs)\n",
    "    pred = [x.replace(\"__label__\",\"\") for i,x in enumerate(list(itertools.chain(*out[0])))]\n",
    "    prob = out[1]\n",
    "    return [pred, prob]"
   ]
  },
  {
   "cell_type": "code",
   "execution_count": 115,
   "id": "e6024388",
   "metadata": {},
   "outputs": [],
   "source": [
    "def get_pred(lib, mod):\n",
    "    out = mod.predict(lib)\n",
    "    pred = out[0][0].replace(\"__label__\",\"\")\n",
    "    prob = out[1][0]\n",
    "    return [pred, prob]"
   ]
  },
  {
   "cell_type": "code",
   "execution_count": 126,
   "id": "ae2d4ed2",
   "metadata": {},
   "outputs": [
    {
     "ename": "ValueError",
     "evalue": "2 columns passed, passed data had 87128 columns",
     "output_type": "error",
     "traceback": [
      "\u001b[0;31m---------------------------------------------------------------------------\u001b[0m",
      "\u001b[0;31mAssertionError\u001b[0m                            Traceback (most recent call last)",
      "File \u001b[0;32m~/local/bin/conda/envs/basesspcloud/lib/python3.10/site-packages/pandas/core/internals/construction.py:982\u001b[0m, in \u001b[0;36m_finalize_columns_and_data\u001b[0;34m(content, columns, dtype)\u001b[0m\n\u001b[1;32m    <a href='file:///home/coder/local/bin/conda/envs/basesspcloud/lib/python3.10/site-packages/pandas/core/internals/construction.py?line=980'>981</a>\u001b[0m \u001b[39mtry\u001b[39;00m:\n\u001b[0;32m--> <a href='file:///home/coder/local/bin/conda/envs/basesspcloud/lib/python3.10/site-packages/pandas/core/internals/construction.py?line=981'>982</a>\u001b[0m     columns \u001b[39m=\u001b[39m _validate_or_indexify_columns(contents, columns)\n\u001b[1;32m    <a href='file:///home/coder/local/bin/conda/envs/basesspcloud/lib/python3.10/site-packages/pandas/core/internals/construction.py?line=982'>983</a>\u001b[0m \u001b[39mexcept\u001b[39;00m \u001b[39mAssertionError\u001b[39;00m \u001b[39mas\u001b[39;00m err:\n\u001b[1;32m    <a href='file:///home/coder/local/bin/conda/envs/basesspcloud/lib/python3.10/site-packages/pandas/core/internals/construction.py?line=983'>984</a>\u001b[0m     \u001b[39m# GH#26429 do not raise user-facing AssertionError\u001b[39;00m\n",
      "File \u001b[0;32m~/local/bin/conda/envs/basesspcloud/lib/python3.10/site-packages/pandas/core/internals/construction.py:1030\u001b[0m, in \u001b[0;36m_validate_or_indexify_columns\u001b[0;34m(content, columns)\u001b[0m\n\u001b[1;32m   <a href='file:///home/coder/local/bin/conda/envs/basesspcloud/lib/python3.10/site-packages/pandas/core/internals/construction.py?line=1027'>1028</a>\u001b[0m \u001b[39mif\u001b[39;00m \u001b[39mnot\u001b[39;00m is_mi_list \u001b[39mand\u001b[39;00m \u001b[39mlen\u001b[39m(columns) \u001b[39m!=\u001b[39m \u001b[39mlen\u001b[39m(content):  \u001b[39m# pragma: no cover\u001b[39;00m\n\u001b[1;32m   <a href='file:///home/coder/local/bin/conda/envs/basesspcloud/lib/python3.10/site-packages/pandas/core/internals/construction.py?line=1028'>1029</a>\u001b[0m     \u001b[39m# caller's responsibility to check for this...\u001b[39;00m\n\u001b[0;32m-> <a href='file:///home/coder/local/bin/conda/envs/basesspcloud/lib/python3.10/site-packages/pandas/core/internals/construction.py?line=1029'>1030</a>\u001b[0m     \u001b[39mraise\u001b[39;00m \u001b[39mAssertionError\u001b[39;00m(\n\u001b[1;32m   <a href='file:///home/coder/local/bin/conda/envs/basesspcloud/lib/python3.10/site-packages/pandas/core/internals/construction.py?line=1030'>1031</a>\u001b[0m         \u001b[39mf\u001b[39m\u001b[39m\"\u001b[39m\u001b[39m{\u001b[39;00m\u001b[39mlen\u001b[39m(columns)\u001b[39m}\u001b[39;00m\u001b[39m columns passed, passed data had \u001b[39m\u001b[39m\"\u001b[39m\n\u001b[1;32m   <a href='file:///home/coder/local/bin/conda/envs/basesspcloud/lib/python3.10/site-packages/pandas/core/internals/construction.py?line=1031'>1032</a>\u001b[0m         \u001b[39mf\u001b[39m\u001b[39m\"\u001b[39m\u001b[39m{\u001b[39;00m\u001b[39mlen\u001b[39m(content)\u001b[39m}\u001b[39;00m\u001b[39m columns\u001b[39m\u001b[39m\"\u001b[39m\n\u001b[1;32m   <a href='file:///home/coder/local/bin/conda/envs/basesspcloud/lib/python3.10/site-packages/pandas/core/internals/construction.py?line=1032'>1033</a>\u001b[0m     )\n\u001b[1;32m   <a href='file:///home/coder/local/bin/conda/envs/basesspcloud/lib/python3.10/site-packages/pandas/core/internals/construction.py?line=1033'>1034</a>\u001b[0m \u001b[39melif\u001b[39;00m is_mi_list:\n\u001b[1;32m   <a href='file:///home/coder/local/bin/conda/envs/basesspcloud/lib/python3.10/site-packages/pandas/core/internals/construction.py?line=1034'>1035</a>\u001b[0m \n\u001b[1;32m   <a href='file:///home/coder/local/bin/conda/envs/basesspcloud/lib/python3.10/site-packages/pandas/core/internals/construction.py?line=1035'>1036</a>\u001b[0m     \u001b[39m# check if nested list column, length of each sub-list should be equal\u001b[39;00m\n",
      "\u001b[0;31mAssertionError\u001b[0m: 2 columns passed, passed data had 87128 columns",
      "\nThe above exception was the direct cause of the following exception:\n",
      "\u001b[0;31mValueError\u001b[0m                                Traceback (most recent call last)",
      "\u001b[1;32m/home/coder/work/codification-ape/notebooks/newdata_exploration_dask.ipynb Cell 37'\u001b[0m in \u001b[0;36m<cell line: 1>\u001b[0;34m()\u001b[0m\n\u001b[0;32m----> <a href='vscode-notebook-cell://projet-ape-770845-0.kub.sspcloud.fr/home/coder/work/codification-ape/notebooks/newdata_exploration_dask.ipynb#ch0000065vscode-remote?line=0'>1</a>\u001b[0m pd\u001b[39m.\u001b[39;49mDataFrame(get_preds(df_train[\u001b[39m'\u001b[39;49m\u001b[39mLIB_CLEAN\u001b[39;49m\u001b[39m'\u001b[39;49m]\u001b[39m.\u001b[39;49mto_list(), model1), columns\u001b[39m=\u001b[39;49m[\u001b[39m\"\u001b[39;49m\u001b[39mA\u001b[39;49m\u001b[39m\"\u001b[39;49m, \u001b[39m\"\u001b[39;49m\u001b[39mZ\u001b[39;49m\u001b[39m\"\u001b[39;49m])\n",
      "File \u001b[0;32m~/local/bin/conda/envs/basesspcloud/lib/python3.10/site-packages/pandas/core/frame.py:721\u001b[0m, in \u001b[0;36mDataFrame.__init__\u001b[0;34m(self, data, index, columns, dtype, copy)\u001b[0m\n\u001b[1;32m    <a href='file:///home/coder/local/bin/conda/envs/basesspcloud/lib/python3.10/site-packages/pandas/core/frame.py?line=715'>716</a>\u001b[0m     \u001b[39mif\u001b[39;00m columns \u001b[39mis\u001b[39;00m \u001b[39mnot\u001b[39;00m \u001b[39mNone\u001b[39;00m:\n\u001b[1;32m    <a href='file:///home/coder/local/bin/conda/envs/basesspcloud/lib/python3.10/site-packages/pandas/core/frame.py?line=716'>717</a>\u001b[0m         \u001b[39m# error: Argument 1 to \"ensure_index\" has incompatible type\u001b[39;00m\n\u001b[1;32m    <a href='file:///home/coder/local/bin/conda/envs/basesspcloud/lib/python3.10/site-packages/pandas/core/frame.py?line=717'>718</a>\u001b[0m         \u001b[39m# \"Collection[Any]\"; expected \"Union[Union[Union[ExtensionArray,\u001b[39;00m\n\u001b[1;32m    <a href='file:///home/coder/local/bin/conda/envs/basesspcloud/lib/python3.10/site-packages/pandas/core/frame.py?line=718'>719</a>\u001b[0m         \u001b[39m# ndarray], Index, Series], Sequence[Any]]\"\u001b[39;00m\n\u001b[1;32m    <a href='file:///home/coder/local/bin/conda/envs/basesspcloud/lib/python3.10/site-packages/pandas/core/frame.py?line=719'>720</a>\u001b[0m         columns \u001b[39m=\u001b[39m ensure_index(columns)  \u001b[39m# type: ignore[arg-type]\u001b[39;00m\n\u001b[0;32m--> <a href='file:///home/coder/local/bin/conda/envs/basesspcloud/lib/python3.10/site-packages/pandas/core/frame.py?line=720'>721</a>\u001b[0m     arrays, columns, index \u001b[39m=\u001b[39m nested_data_to_arrays(\n\u001b[1;32m    <a href='file:///home/coder/local/bin/conda/envs/basesspcloud/lib/python3.10/site-packages/pandas/core/frame.py?line=721'>722</a>\u001b[0m         \u001b[39m# error: Argument 3 to \"nested_data_to_arrays\" has incompatible\u001b[39;49;00m\n\u001b[1;32m    <a href='file:///home/coder/local/bin/conda/envs/basesspcloud/lib/python3.10/site-packages/pandas/core/frame.py?line=722'>723</a>\u001b[0m         \u001b[39m# type \"Optional[Collection[Any]]\"; expected \"Optional[Index]\"\u001b[39;49;00m\n\u001b[1;32m    <a href='file:///home/coder/local/bin/conda/envs/basesspcloud/lib/python3.10/site-packages/pandas/core/frame.py?line=723'>724</a>\u001b[0m         data,\n\u001b[1;32m    <a href='file:///home/coder/local/bin/conda/envs/basesspcloud/lib/python3.10/site-packages/pandas/core/frame.py?line=724'>725</a>\u001b[0m         columns,\n\u001b[1;32m    <a href='file:///home/coder/local/bin/conda/envs/basesspcloud/lib/python3.10/site-packages/pandas/core/frame.py?line=725'>726</a>\u001b[0m         index,  \u001b[39m# type: ignore[arg-type]\u001b[39;49;00m\n\u001b[1;32m    <a href='file:///home/coder/local/bin/conda/envs/basesspcloud/lib/python3.10/site-packages/pandas/core/frame.py?line=726'>727</a>\u001b[0m         dtype,\n\u001b[1;32m    <a href='file:///home/coder/local/bin/conda/envs/basesspcloud/lib/python3.10/site-packages/pandas/core/frame.py?line=727'>728</a>\u001b[0m     )\n\u001b[1;32m    <a href='file:///home/coder/local/bin/conda/envs/basesspcloud/lib/python3.10/site-packages/pandas/core/frame.py?line=728'>729</a>\u001b[0m     mgr \u001b[39m=\u001b[39m arrays_to_mgr(\n\u001b[1;32m    <a href='file:///home/coder/local/bin/conda/envs/basesspcloud/lib/python3.10/site-packages/pandas/core/frame.py?line=729'>730</a>\u001b[0m         arrays,\n\u001b[1;32m    <a href='file:///home/coder/local/bin/conda/envs/basesspcloud/lib/python3.10/site-packages/pandas/core/frame.py?line=730'>731</a>\u001b[0m         columns,\n\u001b[0;32m   (...)\u001b[0m\n\u001b[1;32m    <a href='file:///home/coder/local/bin/conda/envs/basesspcloud/lib/python3.10/site-packages/pandas/core/frame.py?line=733'>734</a>\u001b[0m         typ\u001b[39m=\u001b[39mmanager,\n\u001b[1;32m    <a href='file:///home/coder/local/bin/conda/envs/basesspcloud/lib/python3.10/site-packages/pandas/core/frame.py?line=734'>735</a>\u001b[0m     )\n\u001b[1;32m    <a href='file:///home/coder/local/bin/conda/envs/basesspcloud/lib/python3.10/site-packages/pandas/core/frame.py?line=735'>736</a>\u001b[0m \u001b[39melse\u001b[39;00m:\n",
      "File \u001b[0;32m~/local/bin/conda/envs/basesspcloud/lib/python3.10/site-packages/pandas/core/internals/construction.py:519\u001b[0m, in \u001b[0;36mnested_data_to_arrays\u001b[0;34m(data, columns, index, dtype)\u001b[0m\n\u001b[1;32m    <a href='file:///home/coder/local/bin/conda/envs/basesspcloud/lib/python3.10/site-packages/pandas/core/internals/construction.py?line=515'>516</a>\u001b[0m \u001b[39mif\u001b[39;00m is_named_tuple(data[\u001b[39m0\u001b[39m]) \u001b[39mand\u001b[39;00m columns \u001b[39mis\u001b[39;00m \u001b[39mNone\u001b[39;00m:\n\u001b[1;32m    <a href='file:///home/coder/local/bin/conda/envs/basesspcloud/lib/python3.10/site-packages/pandas/core/internals/construction.py?line=516'>517</a>\u001b[0m     columns \u001b[39m=\u001b[39m ensure_index(data[\u001b[39m0\u001b[39m]\u001b[39m.\u001b[39m_fields)\n\u001b[0;32m--> <a href='file:///home/coder/local/bin/conda/envs/basesspcloud/lib/python3.10/site-packages/pandas/core/internals/construction.py?line=518'>519</a>\u001b[0m arrays, columns \u001b[39m=\u001b[39m to_arrays(data, columns, dtype\u001b[39m=\u001b[39;49mdtype)\n\u001b[1;32m    <a href='file:///home/coder/local/bin/conda/envs/basesspcloud/lib/python3.10/site-packages/pandas/core/internals/construction.py?line=519'>520</a>\u001b[0m columns \u001b[39m=\u001b[39m ensure_index(columns)\n\u001b[1;32m    <a href='file:///home/coder/local/bin/conda/envs/basesspcloud/lib/python3.10/site-packages/pandas/core/internals/construction.py?line=521'>522</a>\u001b[0m \u001b[39mif\u001b[39;00m index \u001b[39mis\u001b[39;00m \u001b[39mNone\u001b[39;00m:\n",
      "File \u001b[0;32m~/local/bin/conda/envs/basesspcloud/lib/python3.10/site-packages/pandas/core/internals/construction.py:883\u001b[0m, in \u001b[0;36mto_arrays\u001b[0;34m(data, columns, dtype)\u001b[0m\n\u001b[1;32m    <a href='file:///home/coder/local/bin/conda/envs/basesspcloud/lib/python3.10/site-packages/pandas/core/internals/construction.py?line=879'>880</a>\u001b[0m     data \u001b[39m=\u001b[39m [\u001b[39mtuple\u001b[39m(x) \u001b[39mfor\u001b[39;00m x \u001b[39min\u001b[39;00m data]\n\u001b[1;32m    <a href='file:///home/coder/local/bin/conda/envs/basesspcloud/lib/python3.10/site-packages/pandas/core/internals/construction.py?line=880'>881</a>\u001b[0m     arr \u001b[39m=\u001b[39m _list_to_arrays(data)\n\u001b[0;32m--> <a href='file:///home/coder/local/bin/conda/envs/basesspcloud/lib/python3.10/site-packages/pandas/core/internals/construction.py?line=882'>883</a>\u001b[0m content, columns \u001b[39m=\u001b[39m _finalize_columns_and_data(arr, columns, dtype)\n\u001b[1;32m    <a href='file:///home/coder/local/bin/conda/envs/basesspcloud/lib/python3.10/site-packages/pandas/core/internals/construction.py?line=883'>884</a>\u001b[0m \u001b[39mreturn\u001b[39;00m content, columns\n",
      "File \u001b[0;32m~/local/bin/conda/envs/basesspcloud/lib/python3.10/site-packages/pandas/core/internals/construction.py:985\u001b[0m, in \u001b[0;36m_finalize_columns_and_data\u001b[0;34m(content, columns, dtype)\u001b[0m\n\u001b[1;32m    <a href='file:///home/coder/local/bin/conda/envs/basesspcloud/lib/python3.10/site-packages/pandas/core/internals/construction.py?line=981'>982</a>\u001b[0m     columns \u001b[39m=\u001b[39m _validate_or_indexify_columns(contents, columns)\n\u001b[1;32m    <a href='file:///home/coder/local/bin/conda/envs/basesspcloud/lib/python3.10/site-packages/pandas/core/internals/construction.py?line=982'>983</a>\u001b[0m \u001b[39mexcept\u001b[39;00m \u001b[39mAssertionError\u001b[39;00m \u001b[39mas\u001b[39;00m err:\n\u001b[1;32m    <a href='file:///home/coder/local/bin/conda/envs/basesspcloud/lib/python3.10/site-packages/pandas/core/internals/construction.py?line=983'>984</a>\u001b[0m     \u001b[39m# GH#26429 do not raise user-facing AssertionError\u001b[39;00m\n\u001b[0;32m--> <a href='file:///home/coder/local/bin/conda/envs/basesspcloud/lib/python3.10/site-packages/pandas/core/internals/construction.py?line=984'>985</a>\u001b[0m     \u001b[39mraise\u001b[39;00m \u001b[39mValueError\u001b[39;00m(err) \u001b[39mfrom\u001b[39;00m \u001b[39merr\u001b[39;00m\n\u001b[1;32m    <a href='file:///home/coder/local/bin/conda/envs/basesspcloud/lib/python3.10/site-packages/pandas/core/internals/construction.py?line=986'>987</a>\u001b[0m \u001b[39mif\u001b[39;00m \u001b[39mlen\u001b[39m(contents) \u001b[39mand\u001b[39;00m contents[\u001b[39m0\u001b[39m]\u001b[39m.\u001b[39mdtype \u001b[39m==\u001b[39m np\u001b[39m.\u001b[39mobject_:\n\u001b[1;32m    <a href='file:///home/coder/local/bin/conda/envs/basesspcloud/lib/python3.10/site-packages/pandas/core/internals/construction.py?line=987'>988</a>\u001b[0m     contents \u001b[39m=\u001b[39m _convert_object_array(contents, dtype\u001b[39m=\u001b[39mdtype)\n",
      "\u001b[0;31mValueError\u001b[0m: 2 columns passed, passed data had 87128 columns"
     ]
    }
   ],
   "source": [
    "pd.DataFrame(get_preds(df_train['LIB_CLEAN'].to_list(), model1), columns=[\"A\", \"Z\"])"
   ]
  },
  {
   "cell_type": "markdown",
   "id": "98521cfa",
   "metadata": {},
   "source": [
    "Accuracy of the training set"
   ]
  },
  {
   "cell_type": "code",
   "execution_count": 69,
   "id": "704baa2c",
   "metadata": {},
   "outputs": [],
   "source": [
    "import swifter"
   ]
  },
  {
   "cell_type": "code",
   "execution_count": 114,
   "id": "0edf7927",
   "metadata": {},
   "outputs": [
    {
     "data": {
      "text/html": [
       "<div>\n",
       "<style scoped>\n",
       "    .dataframe tbody tr th:only-of-type {\n",
       "        vertical-align: middle;\n",
       "    }\n",
       "\n",
       "    .dataframe tbody tr th {\n",
       "        vertical-align: top;\n",
       "    }\n",
       "\n",
       "    .dataframe thead th {\n",
       "        text-align: right;\n",
       "    }\n",
       "</style>\n",
       "<table border=\"1\" class=\"dataframe\">\n",
       "  <thead>\n",
       "    <tr style=\"text-align: right;\">\n",
       "      <th></th>\n",
       "      <th>APE_SICORE</th>\n",
       "      <th>LIB_SICORE</th>\n",
       "      <th>LIB_CLEAN</th>\n",
       "      <th>PREDICTION</th>\n",
       "      <th>PROBA</th>\n",
       "      <th>GoodPREDICTION</th>\n",
       "    </tr>\n",
       "    <tr>\n",
       "      <th>LIA_NUM</th>\n",
       "      <th></th>\n",
       "      <th></th>\n",
       "      <th></th>\n",
       "      <th></th>\n",
       "      <th></th>\n",
       "      <th></th>\n",
       "    </tr>\n",
       "  </thead>\n",
       "  <tbody>\n",
       "    <tr>\n",
       "      <th>C80018017548</th>\n",
       "      <td>7732Z</td>\n",
       "      <td>LOCATION VENTE NEGOCE D ENGINS DE LEVAGE MANUT...</td>\n",
       "      <td>location vente negoce engins levage manutention</td>\n",
       "      <td>__label__7732Z</td>\n",
       "      <td>0.731069</td>\n",
       "      <td>False</td>\n",
       "    </tr>\n",
       "    <tr>\n",
       "      <th>G69518206328</th>\n",
       "      <td>7912Z</td>\n",
       "      <td>L ORGANISATION ET VENTE DE VOYAGES  DE SEJOURS...</td>\n",
       "      <td>organisation vente voyages sejours tous servic...</td>\n",
       "      <td>__label__7911Z</td>\n",
       "      <td>0.665421</td>\n",
       "      <td>False</td>\n",
       "    </tr>\n",
       "    <tr>\n",
       "      <th>C17010634985</th>\n",
       "      <td>4789Z</td>\n",
       "      <td>VENTE BONBONS, BARBE A PAPA, BALLONS, JOUETS, ...</td>\n",
       "      <td>vente bonbons barbe papa ballons jouets gadget...</td>\n",
       "      <td>__label__4789Z</td>\n",
       "      <td>0.749097</td>\n",
       "      <td>False</td>\n",
       "    </tr>\n",
       "    <tr>\n",
       "      <th>G72529491466</th>\n",
       "      <td>4791A</td>\n",
       "      <td>E COMMERCE   VENTE EN LIGNE DE TOUS PRODUITS N...</td>\n",
       "      <td>e commerce vente ligne tous produits non regle...</td>\n",
       "      <td>__label__4791A</td>\n",
       "      <td>0.919653</td>\n",
       "      <td>False</td>\n",
       "    </tr>\n",
       "    <tr>\n",
       "      <th>C00910025737</th>\n",
       "      <td>5520Z</td>\n",
       "      <td>LOCATION PARA HOTELIERE</td>\n",
       "      <td>location para hoteliere</td>\n",
       "      <td>__label__5510Z</td>\n",
       "      <td>0.430157</td>\n",
       "      <td>False</td>\n",
       "    </tr>\n",
       "    <tr>\n",
       "      <th>...</th>\n",
       "      <td>...</td>\n",
       "      <td>...</td>\n",
       "      <td>...</td>\n",
       "      <td>...</td>\n",
       "      <td>...</td>\n",
       "      <td>...</td>\n",
       "    </tr>\n",
       "    <tr>\n",
       "      <th>O00070527658</th>\n",
       "      <td>7912Z</td>\n",
       "      <td>7912Z</td>\n",
       "      <td>z</td>\n",
       "      <td>__label__0111Z</td>\n",
       "      <td>0.060097</td>\n",
       "      <td>False</td>\n",
       "    </tr>\n",
       "    <tr>\n",
       "      <th>C42014009270</th>\n",
       "      <td>5510Z</td>\n",
       "      <td>AUBERGE, RESTAURATION TRADITIONNELLE, BAR, DEP...</td>\n",
       "      <td>auberge restauration traditionnelle bar depot ...</td>\n",
       "      <td>__label__5610A</td>\n",
       "      <td>0.912446</td>\n",
       "      <td>False</td>\n",
       "    </tr>\n",
       "    <tr>\n",
       "      <th>G92019614326</th>\n",
       "      <td>6820B</td>\n",
       "      <td>L ACQUISITION  L ADMINISTRATION ET L EXPLOITAT...</td>\n",
       "      <td>acquisition administration exploitation bail l...</td>\n",
       "      <td>__label__6820B</td>\n",
       "      <td>0.991948</td>\n",
       "      <td>False</td>\n",
       "    </tr>\n",
       "    <tr>\n",
       "      <th>U34073642903</th>\n",
       "      <td>7021Z</td>\n",
       "      <td>CONSEIL EN COMMUNICATION</td>\n",
       "      <td>conseil communication</td>\n",
       "      <td>__label__7021Z</td>\n",
       "      <td>0.962683</td>\n",
       "      <td>False</td>\n",
       "    </tr>\n",
       "    <tr>\n",
       "      <th>U75175179091</th>\n",
       "      <td>1813Z</td>\n",
       "      <td>MAQUETTISTE</td>\n",
       "      <td>maquettiste</td>\n",
       "      <td>__label__1813Z</td>\n",
       "      <td>0.743178</td>\n",
       "      <td>False</td>\n",
       "    </tr>\n",
       "  </tbody>\n",
       "</table>\n",
       "<p>87128 rows × 6 columns</p>\n",
       "</div>"
      ],
      "text/plain": [
       "             APE_SICORE                                         LIB_SICORE  \\\n",
       "LIA_NUM                                                                      \n",
       "C80018017548      7732Z  LOCATION VENTE NEGOCE D ENGINS DE LEVAGE MANUT...   \n",
       "G69518206328      7912Z  L ORGANISATION ET VENTE DE VOYAGES  DE SEJOURS...   \n",
       "C17010634985      4789Z  VENTE BONBONS, BARBE A PAPA, BALLONS, JOUETS, ...   \n",
       "G72529491466      4791A  E COMMERCE   VENTE EN LIGNE DE TOUS PRODUITS N...   \n",
       "C00910025737      5520Z                            LOCATION PARA HOTELIERE   \n",
       "...                 ...                                                ...   \n",
       "O00070527658      7912Z                                              7912Z   \n",
       "C42014009270      5510Z  AUBERGE, RESTAURATION TRADITIONNELLE, BAR, DEP...   \n",
       "G92019614326      6820B  L ACQUISITION  L ADMINISTRATION ET L EXPLOITAT...   \n",
       "U34073642903      7021Z                           CONSEIL EN COMMUNICATION   \n",
       "U75175179091      1813Z                                        MAQUETTISTE   \n",
       "\n",
       "                                                      LIB_CLEAN  \\\n",
       "LIA_NUM                                                           \n",
       "C80018017548    location vente negoce engins levage manutention   \n",
       "G69518206328  organisation vente voyages sejours tous servic...   \n",
       "C17010634985  vente bonbons barbe papa ballons jouets gadget...   \n",
       "G72529491466  e commerce vente ligne tous produits non regle...   \n",
       "C00910025737                            location para hoteliere   \n",
       "...                                                         ...   \n",
       "O00070527658                                                  z   \n",
       "C42014009270  auberge restauration traditionnelle bar depot ...   \n",
       "G92019614326  acquisition administration exploitation bail l...   \n",
       "U34073642903                              conseil communication   \n",
       "U75175179091                                        maquettiste   \n",
       "\n",
       "                  PREDICTION     PROBA  GoodPREDICTION  \n",
       "LIA_NUM                                                 \n",
       "C80018017548  __label__7732Z  0.731069           False  \n",
       "G69518206328  __label__7911Z  0.665421           False  \n",
       "C17010634985  __label__4789Z  0.749097           False  \n",
       "G72529491466  __label__4791A  0.919653           False  \n",
       "C00910025737  __label__5510Z  0.430157           False  \n",
       "...                      ...       ...             ...  \n",
       "O00070527658  __label__0111Z  0.060097           False  \n",
       "C42014009270  __label__5610A  0.912446           False  \n",
       "G92019614326  __label__6820B  0.991948           False  \n",
       "U34073642903  __label__7021Z  0.962683           False  \n",
       "U75175179091  __label__1813Z  0.743178           False  \n",
       "\n",
       "[87128 rows x 6 columns]"
      ]
     },
     "execution_count": 114,
     "metadata": {},
     "output_type": "execute_result"
    }
   ],
   "source": [
    "df_train"
   ]
  },
  {
   "cell_type": "code",
   "execution_count": 119,
   "id": "b8f78aa3",
   "metadata": {},
   "outputs": [
    {
     "data": {
      "application/vnd.jupyter.widget-view+json": {
       "model_id": "f26f3b9c357f4f0d86da7234c646ba74",
       "version_major": 2,
       "version_minor": 0
      },
      "text/plain": [
       "Pandas Apply:   0%|          | 0/87128 [00:00<?, ?it/s]"
      ]
     },
     "metadata": {},
     "output_type": "display_data"
    },
    {
     "data": {
      "text/plain": [
       "84.77068221467266"
      ]
     },
     "execution_count": 119,
     "metadata": {},
     "output_type": "execute_result"
    }
   ],
   "source": [
    "df_train = df.loc[Groups[0], :]\n",
    "df_train[['PREDICTION', 'PROBA']] = df_train['LIB_CLEAN'].swifter.apply(lambda x: get_pred(x, model1)).to_list()\n",
    "df_train['GoodPREDICTION'] = df_train['APE_SICORE'] == df_train['PREDICTION']\n",
    "sum(df_train['GoodPREDICTION'])/df_train.shape[0] * 100"
   ]
  },
  {
   "cell_type": "markdown",
   "id": "3bf9a3e5",
   "metadata": {},
   "source": [
    "Accuracy of the testing set"
   ]
  },
  {
   "cell_type": "code",
   "execution_count": 70,
   "id": "3c94be99",
   "metadata": {},
   "outputs": [
    {
     "data": {
      "application/vnd.jupyter.widget-view+json": {
       "model_id": "958803b59c30497eb1a234fb3ee484de",
       "version_major": 2,
       "version_minor": 0
      },
      "text/plain": [
       "Pandas Apply:   0%|          | 0/21783 [00:00<?, ?it/s]"
      ]
     },
     "metadata": {},
     "output_type": "display_data"
    },
    {
     "data": {
      "text/plain": [
       "85.27750998485058"
      ]
     },
     "execution_count": 70,
     "metadata": {},
     "output_type": "execute_result"
    }
   ],
   "source": [
    "df_test = df.loc[Groups[1], :]\n",
    "df_test[['PREDICTION', 'PROBA']] = df_test['LIB_CLEAN'].swifter.apply(lambda x: get_pred(x, model1)).to_list()\n",
    "df_test['GoodPREDICTION'] = df_test['APE_SICORE'] == df_test['PREDICTION']\n",
    "sum(df_test['GoodPREDICTION'])/df_test.shape[0] * 100"
   ]
  },
  {
   "cell_type": "code",
   "execution_count": null,
   "id": "dacf039b",
   "metadata": {},
   "outputs": [],
   "source": [
    "df_naf =  pd.read_csv(r\"../data/naf_extended.csv\",sep=\",\",encoding=\"utf-8\",dtype=str)\n",
    "df_naf[\"NIV5\"] = df_naf[\"NIV5\"].str.replace(\".\",\"\")        \n",
    "df_naf.set_index(\"NIV5\", inplace=True)"
   ]
  },
  {
   "cell_type": "code",
   "execution_count": null,
   "id": "61f8994b",
   "metadata": {},
   "outputs": [],
   "source": [
    "df_naf = df_naf[[\"NIV1\",\"NIV2\", \"NIV3\", \"NIV4\", \"LIB_NIV5\"]]"
   ]
  },
  {
   "cell_type": "markdown",
   "id": "d8a40ad1",
   "metadata": {},
   "source": [
    "On regarde la precision le rappel et le F1 pour les différentes classes désaggrégées."
   ]
  },
  {
   "cell_type": "code",
   "execution_count": null,
   "id": "0585dcbd",
   "metadata": {},
   "outputs": [],
   "source": [
    "df_naf = df_naf.join(df_train.groupby(['APE_SICORE']).size().rename(\"Size_TRAIN\").to_frame())\n",
    "df_naf = df_naf.join(df_test.groupby(['APE_SICORE']).size().rename(\"Size_TEST\").to_frame())\n",
    "df_naf = df_naf.join(df_test.groupby(['APE_SICORE']).mean('GoodPREDICTION').rename(columns={\"GoodPREDICTION\":\"Recall_TEST\"}))\n",
    "df_naf = df_naf.join(df_test.groupby(['PREDICTION']).mean('GoodPREDICTION').rename(columns={\"GoodPREDICTION\":\"Precision_TEST\"}))\n",
    "df_naf = df_naf.join(2 * 1/(1/df_naf[\"Precision_TEST\"] + 1/df_naf[\"Recall_TEST\"]).rename(\"F1_TEST\").to_frame())"
   ]
  },
  {
   "cell_type": "markdown",
   "id": "799478a0",
   "metadata": {},
   "source": [
    "On fait la même chose au niveau moins aggrégé"
   ]
  }
 ],
 "metadata": {
  "kernelspec": {
   "display_name": "Python 3 (ipykernel)",
   "language": "python",
   "name": "python3"
  },
  "language_info": {
   "codemirror_mode": {
    "name": "ipython",
    "version": 3
   },
   "file_extension": ".py",
   "mimetype": "text/x-python",
   "name": "python",
   "nbconvert_exporter": "python",
   "pygments_lexer": "ipython3",
   "version": "3.10.4"
  }
 },
 "nbformat": 4,
 "nbformat_minor": 5
}
