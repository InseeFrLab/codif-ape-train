{
 "cells": [
  {
   "cell_type": "markdown",
   "id": "8549431c-6a29-4f96-a18d-4d123c8dd243",
   "metadata": {},
   "source": [
    "# Exploration des données de Sirene"
   ]
  },
  {
   "cell_type": "markdown",
   "id": "af4e4578",
   "metadata": {},
   "source": [
    "## Importation des différents packages nécessaires."
   ]
  },
  {
   "cell_type": "code",
   "execution_count": 247,
   "id": "aa9ee43e-b8d9-4c5f-8b60-6512c958a173",
   "metadata": {},
   "outputs": [
    {
     "ename": "ModuleNotFoundError",
     "evalue": "No module named 'dask_ml'",
     "output_type": "error",
     "traceback": [
      "\u001b[0;31m---------------------------------------------------------------------------\u001b[0m",
      "\u001b[0;31mModuleNotFoundError\u001b[0m                       Traceback (most recent call last)",
      "\u001b[1;32m/home/coder/work/codification-ape/notebooks/newdata_exploration_dask.ipynb Cell 3'\u001b[0m in \u001b[0;36m<cell line: 16>\u001b[0;34m()\u001b[0m\n\u001b[1;32m     <a href='vscode-notebook-cell://projet-ape-485067-0.kub.sspcloud.fr/home/coder/work/codification-ape/notebooks/newdata_exploration_dask.ipynb#ch0000002vscode-remote?line=13'>14</a>\u001b[0m \u001b[39mimport\u001b[39;00m \u001b[39mmatplotlib\u001b[39;00m\u001b[39m.\u001b[39;00m\u001b[39mpyplot\u001b[39;00m \u001b[39mas\u001b[39;00m \u001b[39mplt\u001b[39;00m\n\u001b[1;32m     <a href='vscode-notebook-cell://projet-ape-485067-0.kub.sspcloud.fr/home/coder/work/codification-ape/notebooks/newdata_exploration_dask.ipynb#ch0000002vscode-remote?line=14'>15</a>\u001b[0m \u001b[39mfrom\u001b[39;00m \u001b[39msklearn\u001b[39;00m\u001b[39m.\u001b[39;00m\u001b[39mmetrics\u001b[39;00m \u001b[39mimport\u001b[39;00m confusion_matrix\n\u001b[0;32m---> <a href='vscode-notebook-cell://projet-ape-485067-0.kub.sspcloud.fr/home/coder/work/codification-ape/notebooks/newdata_exploration_dask.ipynb#ch0000002vscode-remote?line=15'>16</a>\u001b[0m \u001b[39mfrom\u001b[39;00m \u001b[39mdask_ml\u001b[39;00m\u001b[39m.\u001b[39;00m\u001b[39mdatasets\u001b[39;00m \u001b[39mimport\u001b[39;00m make_regression\n\u001b[1;32m     <a href='vscode-notebook-cell://projet-ape-485067-0.kub.sspcloud.fr/home/coder/work/codification-ape/notebooks/newdata_exploration_dask.ipynb#ch0000002vscode-remote?line=16'>17</a>\u001b[0m nltk\u001b[39m.\u001b[39mdownload(\u001b[39m'\u001b[39m\u001b[39mstopwords\u001b[39m\u001b[39m'\u001b[39m)\n",
      "\u001b[0;31mModuleNotFoundError\u001b[0m: No module named 'dask_ml'"
     ]
    }
   ],
   "source": [
    "import pandas as pd\n",
    "import dask.dataframe as dd\n",
    "from dask_ml.model_selection import train_test_split\n",
    "import random\n",
    "import itertools\n",
    "import numpy as np\n",
    "from datetime import datetime\n",
    "from tqdm import tqdm\n",
    "import nltk\n",
    "import string\n",
    "import swifter\n",
    "from nltk.corpus import stopwords\n",
    "import fasttext\n",
    "import seaborn as sns\n",
    "import matplotlib.pyplot as plt\n",
    "from sklearn.metrics import confusion_matrix\n",
    "nltk.download('stopwords')"
   ]
  },
  {
   "cell_type": "markdown",
   "id": "a7fde385",
   "metadata": {},
   "source": [
    "## Importation des données"
   ]
  },
  {
   "cell_type": "code",
   "execution_count": 257,
   "id": "8da137d5",
   "metadata": {},
   "outputs": [],
   "source": [
    "DBRaw = dd.read_parquet('../data/extraction_sirene_20220510.parquet', engine='pyarrow')"
   ]
  },
  {
   "cell_type": "markdown",
   "id": "0cb18498",
   "metadata": {},
   "source": [
    "Temporaire : On restreint les données à 1% de la base initiales."
   ]
  },
  {
   "cell_type": "code",
   "execution_count": 258,
   "id": "18d42b9e",
   "metadata": {},
   "outputs": [],
   "source": [
    "#DBRaw = DBRaw.sample(frac= 0.01, random_state=1234)"
   ]
  },
  {
   "cell_type": "markdown",
   "id": "32ebd953",
   "metadata": {},
   "source": [
    "On transforme les valeurs manquantes en NaN."
   ]
  },
  {
   "cell_type": "code",
   "execution_count": 220,
   "id": "f109d898",
   "metadata": {},
   "outputs": [],
   "source": [
    "DBRaw = DBRaw.fillna(value=np.nan)"
   ]
  },
  {
   "cell_type": "markdown",
   "id": "bdbec49e",
   "metadata": {},
   "source": [
    "On garde seulement les variables potentiellement intéressantes : \n",
    "- ``APE_SICORE :`` Code APE (Activité Principale Exercée) retenu lors du traitement de codification (soit Sicore soit gestionnaire) ;\n",
    "- ``NAT_SICORE :`` Nature de l'activité de l'entreprise ;\n",
    "- ``SED_SICORE :`` Sédentarité de l'entreprise ;\n",
    "- ``EVT_SICORE :`` Sédentarité de l'entreprise ;\n",
    "- ``LIB_SICORE :`` Sédentarité de l'entreprise ;\n",
    "- ``DATE :`` Sédentarité de l'entreprise ;\n",
    "- ``AUTO :`` Type de liasse extrait de la base brute Sirène ;\n",
    "- ``SURF :`` Surface en $m^2$ de l'établissement.\n"
   ]
  },
  {
   "cell_type": "code",
   "execution_count": 221,
   "id": "550efe05",
   "metadata": {},
   "outputs": [],
   "source": [
    "Var2Keep = [\"APE_SICORE\",\"LIB_SICORE\",\"AUTO\",\"DATE\",\"NAT_SICORE\",\"SED_SICORE\",\"EVT_SICORE\",\"SURF\"]\n",
    "DB = DBRaw[Var2Keep]"
   ]
  },
  {
   "cell_type": "markdown",
   "id": "6338f6ef",
   "metadata": {},
   "source": [
    "On supprime les liasses où une valeur est manquante pour l'une de ces deux variables (6.77% de la base). Il s'agit principalement du code APE donc il n'est pas nécessaire de l'imputer."
   ]
  },
  {
   "cell_type": "code",
   "execution_count": 222,
   "id": "921dbd95",
   "metadata": {},
   "outputs": [],
   "source": [
    "DB = DB.dropna(subset=['APE_SICORE'])  "
   ]
  },
  {
   "cell_type": "markdown",
   "id": "21ed07a1",
   "metadata": {},
   "source": [
    "On a finalement 10.8 millions de liasses."
   ]
  },
  {
   "cell_type": "code",
   "execution_count": 223,
   "id": "252a27b0",
   "metadata": {},
   "outputs": [
    {
     "data": {
      "text/plain": [
       "10887847"
      ]
     },
     "execution_count": 223,
     "metadata": {},
     "output_type": "execute_result"
    }
   ],
   "source": [
    "DB.shape[0].compute()"
   ]
  },
  {
   "cell_type": "markdown",
   "id": "4e7a6ff3",
   "metadata": {},
   "source": [
    "## I- Modèle 1"
   ]
  },
  {
   "cell_type": "markdown",
   "id": "f94485c9",
   "metadata": {},
   "source": [
    "On estime un modèle FastText standard en utilisant seulement les libellés comme features."
   ]
  },
  {
   "cell_type": "markdown",
   "id": "14b69513",
   "metadata": {},
   "source": [
    "### 1) Preprocessing "
   ]
  },
  {
   "cell_type": "code",
   "execution_count": 224,
   "id": "4e191f79",
   "metadata": {},
   "outputs": [],
   "source": [
    "DB1 = DB[[\"APE_SICORE\",\"LIB_SICORE\"]]\n",
    "DB1 = DB1.dropna(subset=['LIB_SICORE'])  "
   ]
  },
  {
   "cell_type": "code",
   "execution_count": 225,
   "id": "b0b2a6dc",
   "metadata": {},
   "outputs": [],
   "source": [
    "stopwords_ = set(stopwords.words('french') + ['a'])\n",
    "def CleanLib(lib):\n",
    "    # On supprime toutes les ponctuations\n",
    "    lib = lib.translate(str.maketrans(string.punctuation, ' ' * len(string.punctuation)))\n",
    "    # On supprime tous les chiffres\n",
    "    lib = lib.translate(str.maketrans(string.digits, ' ' * len(string.digits)))\n",
    "\n",
    "    # On supprime les stopwords et on renvoie les mots en majuscule\n",
    "    return \" \".join([x.lower() for x in lib.split() if x.lower() not in stopwords_])"
   ]
  },
  {
   "cell_type": "code",
   "execution_count": 226,
   "id": "7d247a1f",
   "metadata": {},
   "outputs": [],
   "source": [
    "DB1[\"LIB_CLEAN\"] = DB1[\"LIB_SICORE\"].apply(lambda x: CleanLib(x), meta=pd.Series(dtype='str', name='LIB_CLEAN'))\n",
    "df = DB1.compute()"
   ]
  },
  {
   "cell_type": "markdown",
   "id": "97fb0e9e",
   "metadata": {},
   "source": [
    "### 2) Splitting"
   ]
  },
  {
   "cell_type": "markdown",
   "id": "8268132b",
   "metadata": {},
   "source": [
    "On mélange de manière aléatoire les index puis on les divise en 2 groupes selon un certain pourcentage (ici 80% et 20%)\n"
   ]
  },
  {
   "cell_type": "code",
   "execution_count": 227,
   "id": "4094786a",
   "metadata": {},
   "outputs": [],
   "source": [
    "random.seed(123456)\n",
    "Idx = random.sample(df.index.values.tolist(), df.shape[0])\n",
    "Groups = np.split(Idx, [int(len(Idx)*0.8)])"
   ]
  },
  {
   "cell_type": "code",
   "execution_count": 228,
   "id": "693b4426",
   "metadata": {},
   "outputs": [],
   "source": [
    "with open(\"../data/train_text.txt\", 'w') as f:\n",
    "    for idx in range(len(Groups[0])):\n",
    "        aLine = \"__label__{} {}\".format(df.at[Groups[0][idx],\"APE_SICORE\"], df.at[Groups[0][idx],\"LIB_CLEAN\"])\n",
    "        f.write(\"%s\\n\" % aLine)\n"
   ]
  },
  {
   "cell_type": "markdown",
   "id": "18d5a745",
   "metadata": {},
   "source": [
    "### 3) Training"
   ]
  },
  {
   "cell_type": "markdown",
   "id": "66f5fae1",
   "metadata": {},
   "source": [
    "On définit plusieurs options pour le modèle."
   ]
  },
  {
   "cell_type": "code",
   "execution_count": 229,
   "id": "c6994b7a",
   "metadata": {},
   "outputs": [],
   "source": [
    "config_fasttext={\"dim\": 150,\n",
    "\"lr\": 0.2,\n",
    "\"epoch\": 80,\n",
    "\"wordNgrams\": 3,\n",
    "\"minn\": 3,\n",
    "\"maxn\": 4,\n",
    "\"minCount\": 3,\n",
    "\"bucket\": 3000000,\n",
    "\"thread\": 25,\n",
    "\"loss\": 'ova',\n",
    "\"label_prefix\": '__label__'}"
   ]
  },
  {
   "cell_type": "code",
   "execution_count": 230,
   "id": "89d9f244",
   "metadata": {},
   "outputs": [
    {
     "name": "stderr",
     "output_type": "stream",
     "text": [
      "Read 62M words\n",
      "Number of words:  56089\n",
      "Number of labels: 727\n",
      "Progress: 100.0% words/sec/thread:   10583 lr:  0.000000 avg.loss:  1.697424 ETA:   0h 0m 0s  0.9% words/sec/thread:   10750 lr:  0.198260 avg.loss:  2.567585 ETA:   5h 8m14s 8m43s  1.1% words/sec/thread:   10788 lr:  0.197822 avg.loss:  3.465041 ETA:   5h 6m29s 0.197219 avg.loss:  4.308239 ETA:   5h 2m54s  1.5% words/sec/thread:   10846 lr:  0.197072 avg.loss:  4.507812 ETA:   5h 3m41s  2.6% words/sec/thread:   10667 lr:  0.194735 avg.loss:  4.417874 ETA:   5h 5m 7s  2.7% words/sec/thread:   10656 lr:  0.194660 avg.loss:  4.421676 ETA:   5h 5m20s 4.231048 ETA:   4h55m46s ETA:   4h54m43s29s 4.152184 ETA:   4h48m29sh48m40s  5.7% words/sec/thread:   10914 lr:  0.188533 avg.loss:  4.143776 ETA:   4h48m44s  4h48m48s 0.187403 avg.loss:  4.078829 ETA:   4h48m34s 4.034964 ETA:   4h45m49s  7.7% words/sec/thread:   10860 lr:  0.184563 avg.loss:  4.009751 ETA:   4h44m 2s  8.1% words/sec/thread:   10786 lr:  0.183808 avg.loss:  3.993657 ETA:   4h44m50s ETA:   4h44m52s  9.0% words/sec/thread:   10724 lr:  0.181966 avg.loss:  3.937924 ETA:   4h43m36s  4h43m16s  4h43m10s  4h43m 7sm 7s 10.2% words/sec/thread:   10704 lr:  0.179625 avg.loss:  3.837563 ETA:   4h40m28s 3.875091 ETA:   4h40m 2s 3.874885 ETA:   4h40m 1s 0.177281 avg.loss:  4.014402 ETA:   4h37m19s ETA:   4h33m47s 3.968005 ETA:   4h33m21s 3.966179 ETA:   4h33m15s 14.2% words/sec/thread:   10661 lr:  0.171567 avg.loss:  3.914241 ETA:   4h28m58sm48s 15.3% words/sec/thread:   10684 lr:  0.169404 avg.loss:  3.831054 ETA:   4h25m 1s 15.3% words/sec/thread:   10683 lr:  0.169372 avg.loss:  3.830504 ETA:   4h24m58s 15.9% words/sec/thread:   10700 lr:  0.168177 avg.loss:  3.796532 ETA:   4h22m42s14s words/sec/thread:   10750 lr:  0.164710 avg.loss:  3.690943 ETA:   4h16m 5ss ETA:   4h 7m27sh 7m19s 6m26s 3.461567 ETA:   4h 3m29s ETA:   4h 3m28s ETA:   4h 3m16s  4h 3m15s 3.455064 ETA:   4h 3m 9s 21.8% words/sec/thread:   10795 lr:  0.156418 avg.loss:  3.441148 ETA:   4h 2m11s ETA:   4h 1m39s 23.0% words/sec/thread:   10797 lr:  0.153941 avg.loss:  3.365454 ETA:   3h58m18s 23.2% words/sec/thread:   10793 lr:  0.153631 avg.loss:  3.354848 ETA:   3h57m55ss ETA:   3h55m59s 3.307617 ETA:   3h55m46s37s16s 24.6% words/sec/thread:   10758 lr:  0.150718 avg.loss:  3.275587 ETA:   3h54m10s54m 7s 24.7% words/sec/thread:   10757 lr:  0.150605 avg.loss:  3.272455 ETA:   3h54m 1s 25.3% words/sec/thread:   10758 lr:  0.149382 avg.loss:  3.240515 ETA:   3h52m 4s 25.8% words/sec/thread:   10748 lr:  0.148470 avg.loss:  3.221590 ETA:   3h50m53s 0.148148 avg.loss:  3.213471 ETA:   3h50m28s  3h50m16s 26.1% words/sec/thread:   10739 lr:  0.147711 avg.loss:  3.201472 ETA:   3h49m53s 26.5% words/sec/thread:   10732 lr:  0.147040 avg.loss:  3.183546 ETA:   3h48m59s ETA:   3h48m45s 27.4% words/sec/thread:   10714 lr:  0.145272 avg.loss:  3.145437 ETA:   3h46m38s 3.143068 ETA:   3h46m17s 27.6% words/sec/thread:   10712 lr:  0.144811 avg.loss:  3.137953 ETA:   3h45m56s 27.8% words/sec/thread:   10718 lr:  0.144435 avg.loss:  3.132114 ETA:   3h45m14s 28.0% words/sec/thread:   10712 lr:  0.143928 avg.loss:  3.122589 ETA:   3h44m33s 28.4% words/sec/thread:   10718 lr:  0.143206 avg.loss:  3.107782 ETA:   3h43m19s 28.6% words/sec/thread:   10724 lr:  0.142782 avg.loss:  3.096347 ETA:   3h42m32s 30.4% words/sec/thread:   10771 lr:  0.139132 avg.loss:  3.004238 ETA:   3h35m53s47s avg.loss:  2.998827 ETA:   3h35m33s lr:  0.138866 avg.loss:  2.998354 ETA:   3h35m31s 30.6% words/sec/thread:   10768 lr:  0.138812 avg.loss:  2.996742 ETA:   3h35m27s34m53s  3h34m46s  3h34m39s ETA:   3h34m36s 2.975560 ETA:   3h34m18sm58s33m57s 2.958211 ETA:   3h33m 8s 32.1% words/sec/thread:   10739 lr:  0.135879 avg.loss:  2.924515 ETA:   3h31m29s  3h31m28s10s 32.3% words/sec/thread:   10734 lr:  0.135405 avg.loss:  2.913499 ETA:   3h30m50ss 2.861546 ETA:   3h26m37s ETA:   3h24m47s40s 34.3% words/sec/thread:   10753 lr:  0.131429 avg.loss:  2.828902 ETA:   3h24m17s 2.799556 ETA:   3h22m28s 35.0% words/sec/thread:   10744 lr:  0.130097 avg.loss:  2.798035 ETA:   3h22m23s58s 35.3% words/sec/thread:   10738 lr:  0.129378 avg.loss:  2.781487 ETA:   3h21m22s  3h20m20s 36.0% words/sec/thread:   10728 lr:  0.127940 avg.loss:  2.753360 ETA:   3h19m20s 0.127573 avg.loss:  2.746616 ETA:   3h18m49s 36.3% words/sec/thread:   10724 lr:  0.127452 avg.loss:  2.743960 ETA:   3h18m38sh18m27s 2.711079 ETA:   3h15m29s29s 2.710638 ETA:   3h15m27s 0.125224 avg.loss:  2.710393 ETA:   3h15m25s 2.709224 ETA:   3h15m18s ETA:   3h15m17s 37.5% words/sec/thread:   10709 lr:  0.125100 avg.loss:  2.708541 ETA:   3h15m15ss 37.7% words/sec/thread:   10706 lr:  0.124700 avg.loss:  2.701957 ETA:   3h14m40s 2.701527 ETA:   3h14m38s 0.122613 avg.loss:  2.670131 ETA:   3h11m16s 38.7% words/sec/thread:   10714 lr:  0.122608 avg.loss:  2.670065 ETA:   3h11m15s ETA:   3h10m14s 39.1% words/sec/thread:   10709 lr:  0.121797 avg.loss:  2.659535 ETA:   3h10m 6sm21s 2.650829 ETA:   3h 9m19s 40.0% words/sec/thread:   10692 lr:  0.120040 avg.loss:  2.636208 ETA:   3h 7m38s 0.120014 avg.loss:  2.635877 ETA:   3h 7m36sm12s words/sec/thread:   10696 lr:  0.119491 avg.loss:  2.627299 ETA:   3h 6m42s words/sec/thread:   10699 lr:  0.119121 avg.loss:  2.620611 ETA:   3h 6m 5s 40.7% words/sec/thread:   10695 lr:  0.118553 avg.loss:  2.612796 ETA:   3h 5m16s 4m21s 41.1% words/sec/thread:   10691 lr:  0.117712 avg.loss:  2.601218 ETA:   3h 4m 1s  3h 3m45s 43.0% words/sec/thread:   10643 lr:  0.114054 avg.loss:  2.545954 ETA:   2h59m 7s lr:  0.114043 avg.loss:  2.545802 ETA:   2h59m 6s 43.0% words/sec/thread:   10641 lr:  0.114011 avg.loss:  2.545354 ETA:   2h59m 4s lr:  0.114003 avg.loss:  2.545252 ETA:   2h59m 3s  2h55m47s 44.2% words/sec/thread:   10624 lr:  0.111603 avg.loss:  2.512247 ETA:   2h55m34s avg.loss:  2.504802 ETA:   2h54m43ss 45.3% words/sec/thread:   10619 lr:  0.109474 avg.loss:  2.480786 ETA:   2h52m18s 45.4% words/sec/thread:   10617 lr:  0.109195 avg.loss:  2.476373 ETA:   2h51m53s ETA:   2h49m36s 0.107354 avg.loss:  2.448672 ETA:   2h49m 6s13s 2.437554 ETA:   2h47m37s 2.436547 ETA:   2h47m29s  2h41m 4sm28s 49.5% words/sec/thread:   10631 lr:  0.100900 avg.loss:  2.374224 ETA:   2h38m37s10s ETA:   2h37m58s ETA:   2h36m44s25s 52.5% words/sec/thread:   10658 lr:  0.095036 avg.loss:  2.315448 ETA:   2h29m 2s ETA:   2h27m49s 0.093635 avg.loss:  2.302707 ETA:   2h26m48s26m 0s 2.297759 ETA:   2h25m57s47s  10658 lr:  0.088674 avg.loss:  2.251108 ETA:   2h19m 3s 55.7% words/sec/thread:   10658 lr:  0.088577 avg.loss:  2.249923 ETA:   2h18m54s  2h18m50s 56.3% words/sec/thread:   10661 lr:  0.087361 avg.loss:  2.237523 ETA:   2h16m58s55s  2h16m46s  2h16m45s 56.4% words/sec/thread:   10660 lr:  0.087202 avg.loss:  2.235608 ETA:   2h16m43s avg.loss:  2.231834 ETA:   2h16m 7s  10663 lr:  0.086751 avg.loss:  2.231153 ETA:   2h15m58s 2.219392 ETA:   2h13m51s% words/sec/thread:   10667 lr:  0.085358 avg.loss:  2.218931 ETA:   2h13m44s 57.5% words/sec/thread:   10665 lr:  0.084933 avg.loss:  2.215660 ETA:   2h13m 6s 58.4% words/sec/thread:   10664 lr:  0.083150 avg.loss:  2.201868 ETA:   2h10m19s 58.6% words/sec/thread:   10663 lr:  0.082872 avg.loss:  2.199234 ETA:   2h 9m54s29s avg.loss:  2.194886 ETA:   2h 9m17s 7s lr:  0.082147 avg.loss:  2.191340 ETA:   2h 8m48s 58.9% words/sec/thread:   10660 lr:  0.082137 avg.loss:  2.191227 ETA:   2h 8m47s  2h 8m34s  2h 7m35s  2h 7m30s ETA:   2h 5m 2sm53s  2h 4m42s avg.loss:  2.155299 ETA:   2h 3m12s 0.078232 avg.loss:  2.152366 ETA:   2h 2m46s 0.078166 avg.loss:  2.151718 ETA:   2h 2m40sm45s avg.loss:  2.145929 ETA:   2h 1m43ss  2h 0m50s% words/sec/thread:   10645 lr:  0.076935 avg.loss:  2.140242 ETA:   2h 0m47s 0m17s58m 1s 63.2% words/sec/thread:   10651 lr:  0.073568 avg.loss:  2.113497 ETA:   1h55m26ss 63.4% words/sec/thread:   10649 lr:  0.073153 avg.loss:  2.110902 ETA:   1h54m48s 63.4% words/sec/thread:   10649 lr:  0.073123 avg.loss:  2.110720 ETA:   1h54m46s 63.8% words/sec/thread:   10646 lr:  0.072312 avg.loss:  2.104039 ETA:   1h53m31s53m19s 64.8% words/sec/thread:   10646 lr:  0.070397 avg.loss:  2.091569 ETA:   1h50m31s 64.8% words/sec/thread:   10646 lr:  0.070389 avg.loss:  2.091514 ETA:   1h50m30s 64.8% words/sec/thread:   10645 lr:  0.070375 avg.loss:  2.091433 ETA:   1h50m29s50m18sm 5s ETA:   1h49m36s ETA:   1h49m33s47m48s 2.074557 ETA:   1h46m51s ETA:   1h46m44s lr:  0.067962 avg.loss:  2.073999 ETA:   1h46m42s avg.loss:  2.073952 ETA:   1h46m41s 2.071885 ETA:   1h46m10sm57s55s44m25s 2.047102 ETA:   1h40m30s 68.0% words/sec/thread:   10647 lr:  0.064013 avg.loss:  2.047033 ETA:   1h40m29s 68.0% words/sec/thread:   10647 lr:  0.063988 avg.loss:  2.046886 ETA:   1h40m27s 68.2% words/sec/thread:   10646 lr:  0.063534 avg.loss:  2.043937 ETA:   1h39m45s 68.5% words/sec/thread:   10643 lr:  0.062914 avg.loss:  2.040376 ETA:   1h38m47s 68.6% words/sec/thread:   10643 lr:  0.062862 avg.loss:  2.040111 ETA:   1h38m43s 0.062124 avg.loss:  2.034754 ETA:   1h37m34s37m21s 69.0% words/sec/thread:   10640 lr:  0.061945 avg.loss:  2.033762 ETA:   1h37m18s 69.1% words/sec/thread:   10640 lr:  0.061841 avg.loss:  2.033179 ETA:   1h37m 8s ETA:   1h36m38sm36s 69.3% words/sec/thread:   10638 lr:  0.061434 avg.loss:  2.030576 ETA:   1h36m31s ETA:   1h34m44s 5ssm14s 70.7% words/sec/thread:   10643 lr:  0.058581 avg.loss:  2.014034 ETA:   1h31m59sh31m49s 2.012367 ETA:   1h31m33s10s31m 9s 71.9% words/sec/thread:   10643 lr:  0.056206 avg.loss:  1.997439 ETA:   1h28m16s lr:  0.055513 avg.loss:  1.991903 ETA:   1h27m12sm43s23m26s  1h23m20sm35s ETA:   1h22m13s 73.8% words/sec/thread:   10637 lr:  0.052310 avg.loss:  1.972244 ETA:   1h22m11s avg.loss:  1.970962 ETA:   1h21m53sm31s13s 74.9% words/sec/thread:   10639 lr:  0.050191 avg.loss:  1.959879 ETA:   1h18m51s  1h18m 9s 1.956869 ETA:   1h18m 4s 0.047915 avg.loss:  1.944906 ETA:   1h15m16ssm27s 77.3% words/sec/thread:   10639 lr:  0.045407 avg.loss:  1.928036 ETA:   1h11m20s57s 1.919725 ETA:   1h 9m28s  1h 9m19s 1.917554 ETA:   1h 8m57s  1h 8m24s 1.914109 ETA:   1h 8m12sh 7m49s 1.909914 ETA:   1h 7m17s38sh 5m23s 1.902095 ETA:   1h 5m22s lr:  0.041529 avg.loss:  1.901784 ETA:   1h 5m18s ETA:   1h 3m53s lr:  0.040335 avg.loss:  1.895232 ETA:   1h 3m24s ETA:   1h 2m24s ETA:   1h 2m16s  10629 lr:  0.039591 avg.loss:  1.891732 ETA:   1h 2m15s ETA:   1h 1m57sh 1m52s37s avg.loss:  1.887504 ETA:   1h 0m53s 80.8% words/sec/thread:   10626 lr:  0.038491 avg.loss:  1.886364 ETA:   1h 0m32sm10s  1h 0m 9s ETA:   1h 0m 0s 1.884004 ETA:   0h59m48s59m42s 1.881840 ETA:   0h59m 3sh58m49s58m41s 1.880739 ETA:   0h58m40s 81.6% words/sec/thread:   10623 lr:  0.036887 avg.loss:  1.878847 ETA:   0h58m 2s 1.878363 ETA:   0h57m52s  0h57m47s  10622 lr:  0.036533 avg.loss:  1.877223 ETA:   0h57m29sh56m52sh56m47s 82.0% words/sec/thread:   10621 lr:  0.036078 avg.loss:  1.875336 ETA:   0h56m46s 82.8% words/sec/thread:   10622 lr:  0.034389 avg.loss:  1.866735 ETA:   0h54m 6s 82.8% words/sec/thread:   10621 lr:  0.034325 avg.loss:  1.866454 ETA:   0h54m 0sh53m59s 82.9% words/sec/thread:   10621 lr:  0.034241 avg.loss:  1.866107 ETA:   0h53m53s 0.034214 avg.loss:  1.865963 ETA:   0h53m50s ETA:   0h53m46sm27s50s52m42s51m14ss ETA:   0h48m 1s 84.8% words/sec/thread:   10617 lr:  0.030328 avg.loss:  1.846211 ETA:   0h47m44ssh47m28s47m 1s 1.842598 ETA:   0h46m51s  0h45m14s 85.7% words/sec/thread:   10616 lr:  0.028695 avg.loss:  1.837184 ETA:   0h45m10s 85.7% words/sec/thread:   10616 lr:  0.028635 avg.loss:  1.836934 ETA:   0h45m 5s37s  0h43m12s47s  0h41m47s 1.823557 ETA:   0h40m40s 1.822652 ETA:   0h40m18s40m14s avg.loss:  1.815563 ETA:   0h37m45s ETA:   0h37m24s 0.023480 avg.loss:  1.812515 ETA:   0h36m59s 1.812163 ETA:   0h36m54s 88.3% words/sec/thread:   10607 lr:  0.023370 avg.loss:  1.811839 ETA:   0h36m49s ETA:   0h34m59s 89.1% words/sec/thread:   10608 lr:  0.021785 avg.loss:  1.803564 ETA:   0h34m19sm 5s58s% words/sec/thread:   10607 lr:  0.021413 avg.loss:  1.801306 ETA:   0h33m44s 1.796660 ETA:   0h32m24s lr:  0.019711 avg.loss:  1.792370 ETA:   0h31m 4s 1.791962 ETA:   0h30m58s ETA:   0h30m15sh30m14s avg.loss:  1.788257 ETA:   0h29m57s 0.018653 avg.loss:  1.786248 ETA:   0h29m24s 90.8% words/sec/thread:   10600 lr:  0.018466 avg.loss:  1.785164 ETA:   0h29m 7s ETA:   0h28m53sh28m22s 91.7% words/sec/thread:   10596 lr:  0.016657 avg.loss:  1.774668 ETA:   0h26m16s avg.loss:  1.774591 ETA:   0h26m15s 91.7% words/sec/thread:   10596 lr:  0.016600 avg.loss:  1.774350 ETA:   0h26m11s31s 1.770479 ETA:   0h25m 1s  0h24m 7s 92.4% words/sec/thread:   10592 lr:  0.015179 avg.loss:  1.767789 ETA:   0h23m57s 0.015010 avg.loss:  1.767092 ETA:   0h23m41s ETA:   0h22m56s avg.loss:  1.763754 ETA:   0h22m23s 93.4% words/sec/thread:   10593 lr:  0.013171 avg.loss:  1.759242 ETA:   0h20m46s  0h20m42s avg.loss:  1.755099 ETA:   0h19m32sh18m35s  10590 lr:  0.011764 avg.loss:  1.751706 ETA:   0h18m34s18m22s 94.5% words/sec/thread:   10588 lr:  0.010994 avg.loss:  1.747717 ETA:   0h17m21s 94.6% words/sec/thread:   10588 lr:  0.010762 avg.loss:  1.746423 ETA:   0h16m59s 94.7% words/sec/thread:   10587 lr:  0.010534 avg.loss:  1.745173 ETA:   0h16m37s 94.7% words/sec/thread:   10587 lr:  0.010524 avg.loss:  1.745117 ETA:   0h16m36s ETA:   0h16m35sh16m33s 94.9% words/sec/thread:   10587 lr:  0.010251 avg.loss:  1.743548 ETA:   0h16m11s ETA:   0h13m56s  0h13m43sm40s 1.732019 ETA:   0h12m37s 1.729863 ETA:   0h12m 2sh11m50s 96.4% words/sec/thread:   10580 lr:  0.007265 avg.loss:  1.728027 ETA:   0h11m28s  0h 9m52s 97.7% words/sec/thread:   10581 lr:  0.004519 avg.loss:  1.715735 ETA:   0h 7m 8s 1.706062 ETA:   0h 3m24s 99.1% words/sec/thread:   10587 lr:  0.001762 avg.loss:  1.703932 ETA:   0h 2m46s ETA:   0h 2m 2s57s 99.5% words/sec/thread:   10585 lr:  0.001029 avg.loss:  1.701125 ETA:   0h 1m37s 99.6% words/sec/thread:   10584 lr:  0.000752 avg.loss:  1.700037 ETA:   0h 1m11s  0h 0m30s ETA:   0h 0m 1s\n"
     ]
    }
   ],
   "source": [
    "model1 = fasttext.train_supervised(input=\"../data/train_text.txt\", **config_fasttext)\n",
    "#model1 = fasttext.load_model(\"../models/fasttextmodel1.bin\")"
   ]
  },
  {
   "cell_type": "markdown",
   "id": "1e8673bd",
   "metadata": {},
   "source": [
    "### Evaluation du modèle"
   ]
  },
  {
   "cell_type": "code",
   "execution_count": 231,
   "id": "e6024388",
   "metadata": {},
   "outputs": [],
   "source": [
    "def get_pred(lib, mod):\n",
    "    out = mod.predict(lib)\n",
    "    pred = out[0][0].replace(\"__label__\",\"\")\n",
    "    prob = out[1][0]\n",
    "    return [pred, prob]"
   ]
  },
  {
   "cell_type": "code",
   "execution_count": 232,
   "id": "2cb0fe9c",
   "metadata": {},
   "outputs": [],
   "source": [
    "df = df.rename(columns={\"APE_SICORE\":\"APE_NIV5\"})"
   ]
  },
  {
   "cell_type": "markdown",
   "id": "98521cfa",
   "metadata": {},
   "source": [
    "Accuracy of the training set"
   ]
  },
  {
   "cell_type": "code",
   "execution_count": 233,
   "id": "b8f78aa3",
   "metadata": {},
   "outputs": [
    {
     "data": {
      "application/vnd.jupyter.widget-view+json": {
       "model_id": "edb16074ceef44e9bbcc262d7a14abfa",
       "version_major": 2,
       "version_minor": 0
      },
      "text/plain": [
       "Pandas Apply:   0%|          | 0/8710165 [00:00<?, ?it/s]"
      ]
     },
     "metadata": {},
     "output_type": "display_data"
    },
    {
     "data": {
      "text/plain": [
       "86.14177802601903"
      ]
     },
     "execution_count": 233,
     "metadata": {},
     "output_type": "execute_result"
    }
   ],
   "source": [
    "df_train = df.loc[Groups[0], :]\n",
    "df_train[['PREDICTION_NIV5', 'PROBA']] = df_train['LIB_CLEAN'].swifter.apply(lambda x: get_pred(x, model1)).to_list()\n",
    "df_train['GoodPREDICTION'] = df_train['APE_NIV5'] == df_train['PREDICTION_NIV5']\n",
    "for i in range(2,5):\n",
    "    df_train['PREDICTION_NIV'+ str(i)] = df_train['PREDICTION_NIV5'].str[:i]\n",
    "    \n",
    "sum(df_train['GoodPREDICTION'])/df_train.shape[0] * 100"
   ]
  },
  {
   "cell_type": "markdown",
   "id": "3bf9a3e5",
   "metadata": {},
   "source": [
    "Accuracy of the testing set"
   ]
  },
  {
   "cell_type": "code",
   "execution_count": 234,
   "id": "3c94be99",
   "metadata": {},
   "outputs": [
    {
     "data": {
      "application/vnd.jupyter.widget-view+json": {
       "model_id": "c4ce237b25ad48b4ba6cf5aeea1ce576",
       "version_major": 2,
       "version_minor": 0
      },
      "text/plain": [
       "Pandas Apply:   0%|          | 0/2177542 [00:00<?, ?it/s]"
      ]
     },
     "metadata": {},
     "output_type": "display_data"
    },
    {
     "data": {
      "text/plain": [
       "80.45447573456677"
      ]
     },
     "execution_count": 234,
     "metadata": {},
     "output_type": "execute_result"
    }
   ],
   "source": [
    "df_test = df.loc[Groups[1], :]\n",
    "df_test[['PREDICTION_NIV5', 'PROBA']] = df_test['LIB_CLEAN'].swifter.apply(lambda x: get_pred(x, model1)).to_list()\n",
    "df_test['GoodPREDICTION'] = df_test['APE_NIV5'] == df_test['PREDICTION_NIV5']\n",
    "for i in range(2,5):\n",
    "    df_test['PREDICTION_NIV'+ str(i)] = df_test['PREDICTION_NIV5'].str[:i]\n",
    "\n",
    "sum(df_test['GoodPREDICTION'])/df_test.shape[0] * 100"
   ]
  },
  {
   "cell_type": "markdown",
   "id": "cd37f0db",
   "metadata": {},
   "source": [
    "On importe un document qui contient des informations sur les différents codes APE"
   ]
  },
  {
   "cell_type": "code",
   "execution_count": 235,
   "id": "700ded39",
   "metadata": {},
   "outputs": [],
   "source": [
    "df_naf =  pd.read_csv(r\"../data/naf_extended.csv\",sep=\",\",encoding=\"utf-8\",dtype=str)\n",
    "df_naf[[\"NIV3\",\"NIV4\",\"NIV5\"]] = df_naf[[\"NIV3\",\"NIV4\",\"NIV5\"]].apply(lambda x: x.str.replace('.', ''))\n",
    "df_naf.set_index(\"NIV5\", inplace=True, drop=False)"
   ]
  },
  {
   "cell_type": "markdown",
   "id": "d3110b60",
   "metadata": {},
   "source": [
    "On calcule la prédiction pour le niveau 1 grâce à la table importée"
   ]
  },
  {
   "cell_type": "code",
   "execution_count": 236,
   "id": "8900b930",
   "metadata": {},
   "outputs": [
    {
     "data": {
      "application/vnd.jupyter.widget-view+json": {
       "model_id": "b0a3b39a0e4a444faa7c2a528ba4ead9",
       "version_major": 2,
       "version_minor": 0
      },
      "text/plain": [
       "Pandas Apply:   0%|          | 0/2177542 [00:00<?, ?it/s]"
      ]
     },
     "metadata": {},
     "output_type": "display_data"
    },
    {
     "data": {
      "application/vnd.jupyter.widget-view+json": {
       "model_id": "e41964c997fd4b7f9c7a67bb3fcd20ad",
       "version_major": 2,
       "version_minor": 0
      },
      "text/plain": [
       "Pandas Apply:   0%|          | 0/8710165 [00:00<?, ?it/s]"
      ]
     },
     "metadata": {},
     "output_type": "display_data"
    }
   ],
   "source": [
    "df_test['PREDICTION_NIV1'] = df_test[\"PREDICTION_NIV2\"].swifter.apply(lambda x : pd.unique(df_naf[\"NIV1\"][df_naf[\"NIV2\"]== x])[0])\n",
    "df_train['PREDICTION_NIV1'] = df_train[\"PREDICTION_NIV2\"].swifter.apply(lambda x : pd.unique(df_naf[\"NIV1\"][df_naf[\"NIV2\"]== x])[0])"
   ]
  },
  {
   "cell_type": "markdown",
   "id": "d8a40ad1",
   "metadata": {},
   "source": [
    "On regarde la precision, le rappel et le F1 pour tous les différentes sous catégories du code APE"
   ]
  },
  {
   "cell_type": "code",
   "execution_count": 237,
   "id": "d6ecfb8d",
   "metadata": {},
   "outputs": [
    {
     "name": "stderr",
     "output_type": "stream",
     "text": [
      "100%|██████████| 4/4 [31:04<00:00, 466.11s/it]\n"
     ]
    }
   ],
   "source": [
    "for aNiv in tqdm([\"NIV1\",\"NIV2\",\"NIV3\",\"NIV4\"]):\n",
    "    df_test[\"APE_\" + aNiv] = df_test[\"APE_NIV5\"].apply(lambda x : df_naf.loc[x][aNiv])\n",
    "    df_train[\"APE_\" + aNiv] = df_train[\"APE_NIV5\"].apply(lambda x : df_naf.loc[x][aNiv])"
   ]
  },
  {
   "cell_type": "code",
   "execution_count": 238,
   "id": "ea0491ee",
   "metadata": {},
   "outputs": [],
   "source": [
    "def get_results(naf, train, test):\n",
    "    Results = dict()\n",
    "    for aNiv in [\"NIV1\",\"NIV2\",\"NIV3\", \"NIV4\", \"NIV5\"]:\n",
    "        Results[aNiv] = train.groupby(['APE_'+ aNiv]).size().rename(\"Size_TRAIN\").to_frame()\n",
    "        Results[aNiv] = Results[aNiv].join(test.groupby(['APE_'+ aNiv]).size().rename(\"Size_TEST\").to_frame())\n",
    "        Results[aNiv] = Results[aNiv].join(test.groupby(['APE_'+ aNiv]).mean('GoodPREDICTION').rename(columns={\"GoodPREDICTION\":\"Recall_TEST\"}))\n",
    "        Results[aNiv] = Results[aNiv].join(test.groupby(['PREDICTION_'+ aNiv]).mean('GoodPREDICTION').rename(columns={\"GoodPREDICTION\":\"Precision_TEST\"}))\n",
    "        Results[aNiv] = Results[aNiv].join(2 * 1/(1/Results[aNiv][\"Precision_TEST\"] + 1/Results[aNiv][\"Recall_TEST\"]).rename(\"F1_TEST\").to_frame())\n",
    "        Results[aNiv][\"LIB_\"+ aNiv] = [pd.unique(naf[\"LIB_\"+ aNiv][naf[aNiv]== x])[0] for x in Results[aNiv].index.values]\n",
    "\n",
    "    return Results"
   ]
  },
  {
   "cell_type": "code",
   "execution_count": 239,
   "id": "848e7ed0",
   "metadata": {},
   "outputs": [],
   "source": [
    "Results = get_results(df_naf, df_train, df_test)"
   ]
  },
  {
   "cell_type": "code",
   "execution_count": 240,
   "id": "2266bc28",
   "metadata": {},
   "outputs": [
    {
     "data": {
      "text/html": [
       "<div>\n",
       "<style scoped>\n",
       "    .dataframe tbody tr th:only-of-type {\n",
       "        vertical-align: middle;\n",
       "    }\n",
       "\n",
       "    .dataframe tbody tr th {\n",
       "        vertical-align: top;\n",
       "    }\n",
       "\n",
       "    .dataframe thead th {\n",
       "        text-align: right;\n",
       "    }\n",
       "</style>\n",
       "<table border=\"1\" class=\"dataframe\">\n",
       "  <thead>\n",
       "    <tr style=\"text-align: right;\">\n",
       "      <th></th>\n",
       "      <th>Size_TRAIN</th>\n",
       "      <th>Size_TEST</th>\n",
       "      <th>Recall_TEST</th>\n",
       "      <th>Precision_TEST</th>\n",
       "      <th>F1_TEST</th>\n",
       "      <th>LIB_NIV5</th>\n",
       "    </tr>\n",
       "    <tr>\n",
       "      <th>APE_NIV5</th>\n",
       "      <th></th>\n",
       "      <th></th>\n",
       "      <th></th>\n",
       "      <th></th>\n",
       "      <th></th>\n",
       "      <th></th>\n",
       "    </tr>\n",
       "  </thead>\n",
       "  <tbody>\n",
       "    <tr>\n",
       "      <th>0111Z</th>\n",
       "      <td>31586</td>\n",
       "      <td>7924.0</td>\n",
       "      <td>0.955326</td>\n",
       "      <td>0.360048</td>\n",
       "      <td>0.522989</td>\n",
       "      <td>Culture de céréales (à l'exception du riz), de...</td>\n",
       "    </tr>\n",
       "    <tr>\n",
       "      <th>0112Z</th>\n",
       "      <td>24</td>\n",
       "      <td>6.0</td>\n",
       "      <td>0.333333</td>\n",
       "      <td>1.000000</td>\n",
       "      <td>0.500000</td>\n",
       "      <td>Culture du riz</td>\n",
       "    </tr>\n",
       "    <tr>\n",
       "      <th>0113Z</th>\n",
       "      <td>17286</td>\n",
       "      <td>4426.0</td>\n",
       "      <td>0.911884</td>\n",
       "      <td>0.953686</td>\n",
       "      <td>0.932317</td>\n",
       "      <td>Culture de légumes, de melons, de racines et d...</td>\n",
       "    </tr>\n",
       "    <tr>\n",
       "      <th>0114Z</th>\n",
       "      <td>999</td>\n",
       "      <td>253.0</td>\n",
       "      <td>0.833992</td>\n",
       "      <td>0.985981</td>\n",
       "      <td>0.903640</td>\n",
       "      <td>Culture de la canne à sucre</td>\n",
       "    </tr>\n",
       "    <tr>\n",
       "      <th>0115Z</th>\n",
       "      <td>48</td>\n",
       "      <td>16.0</td>\n",
       "      <td>0.125000</td>\n",
       "      <td>1.000000</td>\n",
       "      <td>0.222222</td>\n",
       "      <td>Culture du tabac</td>\n",
       "    </tr>\n",
       "    <tr>\n",
       "      <th>...</th>\n",
       "      <td>...</td>\n",
       "      <td>...</td>\n",
       "      <td>...</td>\n",
       "      <td>...</td>\n",
       "      <td>...</td>\n",
       "      <td>...</td>\n",
       "    </tr>\n",
       "    <tr>\n",
       "      <th>9602B</th>\n",
       "      <td>78065</td>\n",
       "      <td>19617.0</td>\n",
       "      <td>0.949483</td>\n",
       "      <td>0.950209</td>\n",
       "      <td>0.949846</td>\n",
       "      <td>Soins de beauté</td>\n",
       "    </tr>\n",
       "    <tr>\n",
       "      <th>9603Z</th>\n",
       "      <td>7798</td>\n",
       "      <td>1991.0</td>\n",
       "      <td>0.921647</td>\n",
       "      <td>0.909767</td>\n",
       "      <td>0.915669</td>\n",
       "      <td>Services funéraires</td>\n",
       "    </tr>\n",
       "    <tr>\n",
       "      <th>9604Z</th>\n",
       "      <td>29608</td>\n",
       "      <td>7398.0</td>\n",
       "      <td>0.706002</td>\n",
       "      <td>0.794856</td>\n",
       "      <td>0.747799</td>\n",
       "      <td>Entretien corporel</td>\n",
       "    </tr>\n",
       "    <tr>\n",
       "      <th>9609Z</th>\n",
       "      <td>170575</td>\n",
       "      <td>42546.0</td>\n",
       "      <td>0.750153</td>\n",
       "      <td>0.733701</td>\n",
       "      <td>0.741836</td>\n",
       "      <td>Autres services personnels n.c.a.</td>\n",
       "    </tr>\n",
       "    <tr>\n",
       "      <th>9900Z</th>\n",
       "      <td>100</td>\n",
       "      <td>33.0</td>\n",
       "      <td>0.818182</td>\n",
       "      <td>0.900000</td>\n",
       "      <td>0.857143</td>\n",
       "      <td>Activités des organisations et organismes extr...</td>\n",
       "    </tr>\n",
       "  </tbody>\n",
       "</table>\n",
       "<p>727 rows × 6 columns</p>\n",
       "</div>"
      ],
      "text/plain": [
       "          Size_TRAIN  Size_TEST  Recall_TEST  Precision_TEST   F1_TEST  \\\n",
       "APE_NIV5                                                                 \n",
       "0111Z          31586     7924.0     0.955326        0.360048  0.522989   \n",
       "0112Z             24        6.0     0.333333        1.000000  0.500000   \n",
       "0113Z          17286     4426.0     0.911884        0.953686  0.932317   \n",
       "0114Z            999      253.0     0.833992        0.985981  0.903640   \n",
       "0115Z             48       16.0     0.125000        1.000000  0.222222   \n",
       "...              ...        ...          ...             ...       ...   \n",
       "9602B          78065    19617.0     0.949483        0.950209  0.949846   \n",
       "9603Z           7798     1991.0     0.921647        0.909767  0.915669   \n",
       "9604Z          29608     7398.0     0.706002        0.794856  0.747799   \n",
       "9609Z         170575    42546.0     0.750153        0.733701  0.741836   \n",
       "9900Z            100       33.0     0.818182        0.900000  0.857143   \n",
       "\n",
       "                                                   LIB_NIV5  \n",
       "APE_NIV5                                                     \n",
       "0111Z     Culture de céréales (à l'exception du riz), de...  \n",
       "0112Z                                        Culture du riz  \n",
       "0113Z     Culture de légumes, de melons, de racines et d...  \n",
       "0114Z                           Culture de la canne à sucre  \n",
       "0115Z                                      Culture du tabac  \n",
       "...                                                     ...  \n",
       "9602B                                       Soins de beauté  \n",
       "9603Z                                   Services funéraires  \n",
       "9604Z                                    Entretien corporel  \n",
       "9609Z                     Autres services personnels n.c.a.  \n",
       "9900Z     Activités des organisations et organismes extr...  \n",
       "\n",
       "[727 rows x 6 columns]"
      ]
     },
     "execution_count": 240,
     "metadata": {},
     "output_type": "execute_result"
    }
   ],
   "source": [
    "Results[\"NIV5\"]"
   ]
  },
  {
   "cell_type": "markdown",
   "id": "f2cb625a",
   "metadata": {},
   "source": [
    "On calcule les matrices de confusion pour chaque catégories et sous catégorie afin de vérifier la prédiction au sein d'une même catégorie."
   ]
  },
  {
   "cell_type": "code",
   "execution_count": 241,
   "id": "4f07b61a",
   "metadata": {},
   "outputs": [],
   "source": [
    "def get_matrix(test, cat, mod):\n",
    "    sub_cat = \"NIV\" + str(int(cat[-1]) + 1 )\n",
    "    filtered_df = df_test[(df_test[\"APE_\" + cat] == mod) & (df_test[\"PREDICTION_\" + cat] == mod)]\n",
    "    cm = confusion_matrix(filtered_df[\"APE_\" + sub_cat].to_list(), filtered_df[\"PREDICTION_\" + sub_cat].to_list(), normalize = 'true')\n",
    "    return cm"
   ]
  },
  {
   "cell_type": "markdown",
   "id": "0397ec23",
   "metadata": {},
   "source": [
    "On regarde d'abord au niveau le plus aggrégé."
   ]
  },
  {
   "cell_type": "code",
   "execution_count": 242,
   "id": "6aa73110",
   "metadata": {},
   "outputs": [
    {
     "data": {
      "text/plain": [
       "<AxesSubplot:>"
      ]
     },
     "execution_count": 242,
     "metadata": {},
     "output_type": "execute_result"
    },
    {
     "data": {
      "image/png": "[encoded data removed]",
      "text/plain": [
       "<Figure size 1440x576 with 2 Axes>"
      ]
     },
     "metadata": {
      "needs_background": "light"
     },
     "output_type": "display_data"
    }
   ],
   "source": [
    "target_names = np.sort(pd.unique(df_test[\"APE_NIV1\"]))\n",
    "fig, ax = plt.subplots(figsize=(20,8))\n",
    "sns.heatmap(confusion_matrix(df_test[\"APE_NIV1\"].to_list(), df_test[\"PREDICTION_NIV1\"].to_list(), normalize = 'true'),\n",
    "             annot=True, fmt='.2f',cmap='Blues', xticklabels=target_names, yticklabels=target_names)"
   ]
  },
  {
   "cell_type": "markdown",
   "id": "00c87e8f",
   "metadata": {},
   "source": [
    "Ensuite on peut regarder les résultats au sein de chaque sous catégorie. Ci-dessous on s'intéresse à la ligne \"G\" et on vérifie comment sont prédit les codes au sein de cette catégorie."
   ]
  },
  {
   "cell_type": "code",
   "execution_count": 243,
   "id": "a1bcd91b",
   "metadata": {},
   "outputs": [],
   "source": [
    "ConfMatrices = {aNiv : {mod : get_matrix(df_test, aNiv, mod) for mod in pd.unique(df_test[\"APE_\" + aNiv])} for aNiv in [\"NIV1\",\"NIV2\",\"NIV3\",\"NIV4\"]}"
   ]
  },
  {
   "cell_type": "code",
   "execution_count": 244,
   "id": "9dd5917a",
   "metadata": {},
   "outputs": [
    {
     "data": {
      "text/plain": [
       "<AxesSubplot:>"
      ]
     },
     "execution_count": 244,
     "metadata": {},
     "output_type": "execute_result"
    },
    {
     "data": {
      "image/png": "[encoded data removed]",
      "text/plain": [
       "<Figure size 1440x576 with 2 Axes>"
      ]
     },
     "metadata": {
      "needs_background": "light"
     },
     "output_type": "display_data"
    }
   ],
   "source": [
    "aNiv = \"NIV1\"\n",
    "aMod = \"Q\"\n",
    "\n",
    "aSubNiv = \"NIV\" + str(int(aNiv[-1]) + 1 )\n",
    "target_names = np.sort(pd.unique(df_test[\"APE_\" + aSubNiv][df_test[\"APE_\" + aNiv] == aMod]))\n",
    "fig, ax = plt.subplots(figsize=(20,8))\n",
    "sns.heatmap(ConfMatrices[aNiv][aMod], annot=True, fmt='.2f',cmap='Blues', xticklabels=target_names, yticklabels=target_names)\n"
   ]
  },
  {
   "cell_type": "markdown",
   "id": "e03a455e",
   "metadata": {},
   "source": [
    "- hyper parametres\n",
    "- checker les libellés, leurs qualité, stats descr "
   ]
  },
  {
   "cell_type": "code",
   "execution_count": 261,
   "id": "b4a146af",
   "metadata": {},
   "outputs": [],
   "source": [
    "def clean_lib(lib):\n",
    "    # On supprime toutes les ponctuations\n",
    "    lib = lib.translate(\n",
    "        str.maketrans(string.punctuation, ' ' * len(string.punctuation))\n",
    "    )\n",
    "    # On supprime tous les chiffres\n",
    "    lib = lib.translate(\n",
    "        str.maketrans(string.digits, ' ' * len(string.digits))\n",
    "    )\n",
    "\n",
    "    # On supprime les stopwords et on renvoie les mots en majuscule\n",
    "    return \" \".join([x.lower() for x in lib.split() if x.lower() not in stopwords_])\n",
    "\n",
    "\n",
    "def run_preprocessing(ddf):\n",
    "    \"\"\"\n",
    "    Preprocess the input data\n",
    "    \"\"\"\n",
    "    # On se restreint à nos deux variables d'intérêt\n",
    "    ddf = ddf[[\"APE_SICORE\", \"LIB_SICORE\"]]\n",
    "\n",
    "    # On définit les valeurs manquantes comme des NaN\n",
    "    ddf = ddf.fillna(value=np.nan)\n",
    "\n",
    "    # On supprime les valeurs manquantes\n",
    "    ddf = ddf.dropna()\n",
    "\n",
    "    ddf[\"LIB_CLEAN\"] = ddf[\"LIB_SICORE\"].apply(lambda x: clean_lib(x),\n",
    "                                               meta=pd.Series(dtype='str',\n",
    "                                               name='LIB_CLEAN'))\n",
    "\n",
    "    # train/test split\n",
    "    X_train, X_test, y_train, y_test = train_test_split(ddf[\"LIB_CLEAN\"],\n",
    "                                                        ddf[\"APE_SICORE\"],\n",
    "                                                        test_size=0.2,\n",
    "                                                        random_state=0)\n",
    "    return X_train, X_test, y_train, y_test\n",
    "\n",
    "\n",
    "def get_pred(lib: str, mod: fasttext.FastText):\n",
    "    \"\"\"\n",
    "    Returns the prediction of model `mod` on text `lib`\n",
    "    along with the output probability.\n",
    "\n",
    "    Args:\n",
    "        lib: Text description.\n",
    "        mod: Model.\n",
    "\n",
    "    Returns:\n",
    "        List: List with the prediction and probability for the\n",
    "            given text.\n",
    "    \"\"\"\n",
    "    out = mod.predict(lib)\n",
    "    pred = out[0][0].replace(\"__label__\", \"\")\n",
    "    prob = out[1][0]\n",
    "    return [pred, prob]\n",
    "\n",
    "def run_training(X_train, y_train, dim, epoch, wordNgrams):\n",
    "\n",
    "    # train the model with training_data\n",
    "    with open(\"../data/train_text.txt\", \"w\") as f:\n",
    "        for x, y in zip(X_train, y_train):\n",
    "            formatted_item = \"__label__{} {}\".format(\n",
    "                y,x\n",
    "            )\n",
    "            f.write(\"%s\\n\" % formatted_item)\n",
    "\n",
    "    model = fasttext.train_supervised(\n",
    "        \"../data/train_text.txt\", dim=dim, epoch=epoch,\n",
    "        wordNgrams=wordNgrams\n",
    "    )\n",
    "    return model\n",
    "\n",
    "\n",
    "def run_prediction(df_test, df_train, mod):\n",
    "\n",
    "    # predict testing data\n",
    "    df_test[['PREDICTION_NIV5', 'PROBA']] = df_test['LIB_CLEAN'].apply(\n",
    "        lambda x: get_pred(x, mod)).to_list()\n",
    "    df_test['GoodPREDICTION'] = df_test['APE_NIV5'] == df_test['PREDICTION_NIV5']\n",
    "    for i in range(2, 5):\n",
    "        df_test['PREDICTION_NIV' + str(i)] = df_test['PREDICTION_NIV5'].str[:i]\n",
    "\n",
    "    # predict training data\n",
    "    df_train[['PREDICTION_NIV5', 'PROBA']] = df_train['LIB_CLEAN'].apply(\n",
    "        lambda x: get_pred(x, mod)).to_list()\n",
    "    df_train['GoodPREDICTION'] = df_train['APE_NIV5'] == df_train['PREDICTION_NIV5']\n",
    "    for i in range(2, 5):\n",
    "        df_train['PREDICTION_NIV' + str(i)] = df_train['PREDICTION_NIV5'].str[:i]\n",
    "\n",
    "    return df_test, df_train"
   ]
  },
  {
   "cell_type": "code",
   "execution_count": null,
   "id": "9ca4acd5",
   "metadata": {},
   "outputs": [],
   "source": [
    "ddf = dd.read_parquet(data_url, engine='pyarrow')\n"
   ]
  },
  {
   "cell_type": "code",
   "execution_count": 259,
   "id": "e444374d",
   "metadata": {},
   "outputs": [],
   "source": [
    "# Preprocess data\n",
    "X_train, X_test, y_train, y_test = run_preprocessing(DBRaw)"
   ]
  },
  {
   "cell_type": "code",
   "execution_count": 262,
   "id": "bab2b337",
   "metadata": {},
   "outputs": [
    {
     "name": "stderr",
     "output_type": "stream",
     "text": [
      "Read 0M words\n",
      "Number of words:  15463\n",
      "Number of labels: 643\n",
      "Progress: 100.0% words/sec/thread:   11730 lr:  0.000000 avg.loss:  3.815387 ETA:   0h 0m 0s\n"
     ]
    }
   ],
   "source": [
    "# Run training of the model\n",
    "model = run_training(X_train, y_train, 10, 4, 4)"
   ]
  },
  {
   "cell_type": "code",
   "execution_count": 264,
   "id": "0b59f751",
   "metadata": {},
   "outputs": [
    {
     "data": {
      "text/plain": [
       "Dask Series Structure:\n",
       "npartitions=1\n",
       "    object\n",
       "       ...\n",
       "Name: LIB_CLEAN, dtype: object\n",
       "Dask Name: split, 11 tasks"
      ]
     },
     "execution_count": 264,
     "metadata": {},
     "output_type": "execute_result"
    }
   ],
   "source": [
    "X_train"
   ]
  },
  {
   "cell_type": "code",
   "execution_count": 265,
   "id": "fa396844",
   "metadata": {},
   "outputs": [
    {
     "data": {
      "text/plain": [
       "Dask Series Structure:\n",
       "npartitions=1\n",
       "    object\n",
       "       ...\n",
       "Name: APE_SICORE, dtype: object\n",
       "Dask Name: split, 11 tasks"
      ]
     },
     "execution_count": 265,
     "metadata": {},
     "output_type": "execute_result"
    }
   ],
   "source": [
    "y_train"
   ]
  },
  {
   "cell_type": "code",
   "execution_count": 273,
   "id": "33a8a447",
   "metadata": {},
   "outputs": [
    {
     "data": {
      "text/plain": [
       "LIA_NUM\n",
       "U69074630297                                        coursier velo\n",
       "G33826332360                      loueur meuble non professionnel\n",
       "C92016034838    realisation missions coaching conseil particul...\n",
       "M63013106504                                traitement charpentes\n",
       "C13106127208    conseil entreprises specifications procedures ...\n",
       "                                      ...                        \n",
       "I75640205929                                 vente correspondance\n",
       "I75690262887                                 vente correspondance\n",
       "O00075913994                                                    b\n",
       "M2B027106401                                           patisserie\n",
       "G31528482954                           courtier prets immobiliers\n",
       "Name: LIB_CLEAN, Length: 22054, dtype: object"
      ]
     },
     "execution_count": 273,
     "metadata": {},
     "output_type": "execute_result"
    }
   ],
   "source": [
    "X_test.compute()"
   ]
  },
  {
   "cell_type": "code",
   "execution_count": 272,
   "id": "56ad9bc0",
   "metadata": {},
   "outputs": [
    {
     "ename": "MergeError",
     "evalue": "No common columns to perform merge on. Merge options: left_on=None, right_on=None, left_index=False, right_index=False",
     "output_type": "error",
     "traceback": [
      "\u001b[0;31m---------------------------------------------------------------------------\u001b[0m",
      "\u001b[0;31mMergeError\u001b[0m                                Traceback (most recent call last)",
      "\u001b[1;32m/home/coder/work/codification-ape/notebooks/newdata_exploration_dask.ipynb Cell 60'\u001b[0m in \u001b[0;36m<cell line: 1>\u001b[0;34m()\u001b[0m\n\u001b[0;32m----> <a href='vscode-notebook-cell://projet-ape-485067-0.kub.sspcloud.fr/home/coder/work/codification-ape/notebooks/newdata_exploration_dask.ipynb#ch0000064vscode-remote?line=0'>1</a>\u001b[0m df_test \u001b[39m=\u001b[39m pd\u001b[39m.\u001b[39;49mmerge(X_test\u001b[39m.\u001b[39;49mcompute(), y_test\u001b[39m.\u001b[39;49mcompute())\n",
      "File \u001b[0;32m~/local/bin/conda/envs/basesspcloud/lib/python3.10/site-packages/pandas/core/reshape/merge.py:107\u001b[0m, in \u001b[0;36mmerge\u001b[0;34m(left, right, how, on, left_on, right_on, left_index, right_index, sort, suffixes, copy, indicator, validate)\u001b[0m\n\u001b[1;32m     <a href='file:///home/coder/local/bin/conda/envs/basesspcloud/lib/python3.10/site-packages/pandas/core/reshape/merge.py?line=89'>90</a>\u001b[0m \u001b[39m@Substitution\u001b[39m(\u001b[39m\"\u001b[39m\u001b[39m\\n\u001b[39;00m\u001b[39mleft : DataFrame or named Series\u001b[39m\u001b[39m\"\u001b[39m)\n\u001b[1;32m     <a href='file:///home/coder/local/bin/conda/envs/basesspcloud/lib/python3.10/site-packages/pandas/core/reshape/merge.py?line=90'>91</a>\u001b[0m \u001b[39m@Appender\u001b[39m(_merge_doc, indents\u001b[39m=\u001b[39m\u001b[39m0\u001b[39m)\n\u001b[1;32m     <a href='file:///home/coder/local/bin/conda/envs/basesspcloud/lib/python3.10/site-packages/pandas/core/reshape/merge.py?line=91'>92</a>\u001b[0m \u001b[39mdef\u001b[39;00m \u001b[39mmerge\u001b[39m(\n\u001b[0;32m   (...)\u001b[0m\n\u001b[1;32m    <a href='file:///home/coder/local/bin/conda/envs/basesspcloud/lib/python3.10/site-packages/pandas/core/reshape/merge.py?line=104'>105</a>\u001b[0m     validate: \u001b[39mstr\u001b[39m \u001b[39m|\u001b[39m \u001b[39mNone\u001b[39;00m \u001b[39m=\u001b[39m \u001b[39mNone\u001b[39;00m,\n\u001b[1;32m    <a href='file:///home/coder/local/bin/conda/envs/basesspcloud/lib/python3.10/site-packages/pandas/core/reshape/merge.py?line=105'>106</a>\u001b[0m ) \u001b[39m-\u001b[39m\u001b[39m>\u001b[39m DataFrame:\n\u001b[0;32m--> <a href='file:///home/coder/local/bin/conda/envs/basesspcloud/lib/python3.10/site-packages/pandas/core/reshape/merge.py?line=106'>107</a>\u001b[0m     op \u001b[39m=\u001b[39m _MergeOperation(\n\u001b[1;32m    <a href='file:///home/coder/local/bin/conda/envs/basesspcloud/lib/python3.10/site-packages/pandas/core/reshape/merge.py?line=107'>108</a>\u001b[0m         left,\n\u001b[1;32m    <a href='file:///home/coder/local/bin/conda/envs/basesspcloud/lib/python3.10/site-packages/pandas/core/reshape/merge.py?line=108'>109</a>\u001b[0m         right,\n\u001b[1;32m    <a href='file:///home/coder/local/bin/conda/envs/basesspcloud/lib/python3.10/site-packages/pandas/core/reshape/merge.py?line=109'>110</a>\u001b[0m         how\u001b[39m=\u001b[39;49mhow,\n\u001b[1;32m    <a href='file:///home/coder/local/bin/conda/envs/basesspcloud/lib/python3.10/site-packages/pandas/core/reshape/merge.py?line=110'>111</a>\u001b[0m         on\u001b[39m=\u001b[39;49mon,\n\u001b[1;32m    <a href='file:///home/coder/local/bin/conda/envs/basesspcloud/lib/python3.10/site-packages/pandas/core/reshape/merge.py?line=111'>112</a>\u001b[0m         left_on\u001b[39m=\u001b[39;49mleft_on,\n\u001b[1;32m    <a href='file:///home/coder/local/bin/conda/envs/basesspcloud/lib/python3.10/site-packages/pandas/core/reshape/merge.py?line=112'>113</a>\u001b[0m         right_on\u001b[39m=\u001b[39;49mright_on,\n\u001b[1;32m    <a href='file:///home/coder/local/bin/conda/envs/basesspcloud/lib/python3.10/site-packages/pandas/core/reshape/merge.py?line=113'>114</a>\u001b[0m         left_index\u001b[39m=\u001b[39;49mleft_index,\n\u001b[1;32m    <a href='file:///home/coder/local/bin/conda/envs/basesspcloud/lib/python3.10/site-packages/pandas/core/reshape/merge.py?line=114'>115</a>\u001b[0m         right_index\u001b[39m=\u001b[39;49mright_index,\n\u001b[1;32m    <a href='file:///home/coder/local/bin/conda/envs/basesspcloud/lib/python3.10/site-packages/pandas/core/reshape/merge.py?line=115'>116</a>\u001b[0m         sort\u001b[39m=\u001b[39;49msort,\n\u001b[1;32m    <a href='file:///home/coder/local/bin/conda/envs/basesspcloud/lib/python3.10/site-packages/pandas/core/reshape/merge.py?line=116'>117</a>\u001b[0m         suffixes\u001b[39m=\u001b[39;49msuffixes,\n\u001b[1;32m    <a href='file:///home/coder/local/bin/conda/envs/basesspcloud/lib/python3.10/site-packages/pandas/core/reshape/merge.py?line=117'>118</a>\u001b[0m         copy\u001b[39m=\u001b[39;49mcopy,\n\u001b[1;32m    <a href='file:///home/coder/local/bin/conda/envs/basesspcloud/lib/python3.10/site-packages/pandas/core/reshape/merge.py?line=118'>119</a>\u001b[0m         indicator\u001b[39m=\u001b[39;49mindicator,\n\u001b[1;32m    <a href='file:///home/coder/local/bin/conda/envs/basesspcloud/lib/python3.10/site-packages/pandas/core/reshape/merge.py?line=119'>120</a>\u001b[0m         validate\u001b[39m=\u001b[39;49mvalidate,\n\u001b[1;32m    <a href='file:///home/coder/local/bin/conda/envs/basesspcloud/lib/python3.10/site-packages/pandas/core/reshape/merge.py?line=120'>121</a>\u001b[0m     )\n\u001b[1;32m    <a href='file:///home/coder/local/bin/conda/envs/basesspcloud/lib/python3.10/site-packages/pandas/core/reshape/merge.py?line=121'>122</a>\u001b[0m     \u001b[39mreturn\u001b[39;00m op\u001b[39m.\u001b[39mget_result()\n",
      "File \u001b[0;32m~/local/bin/conda/envs/basesspcloud/lib/python3.10/site-packages/pandas/core/reshape/merge.py:682\u001b[0m, in \u001b[0;36m_MergeOperation.__init__\u001b[0;34m(self, left, right, how, on, left_on, right_on, axis, left_index, right_index, sort, suffixes, copy, indicator, validate)\u001b[0m\n\u001b[1;32m    <a href='file:///home/coder/local/bin/conda/envs/basesspcloud/lib/python3.10/site-packages/pandas/core/reshape/merge.py?line=677'>678</a>\u001b[0m     \u001b[39m# stacklevel chosen to be correct when this is reached via pd.merge\u001b[39;00m\n\u001b[1;32m    <a href='file:///home/coder/local/bin/conda/envs/basesspcloud/lib/python3.10/site-packages/pandas/core/reshape/merge.py?line=678'>679</a>\u001b[0m     \u001b[39m# (and not DataFrame.join)\u001b[39;00m\n\u001b[1;32m    <a href='file:///home/coder/local/bin/conda/envs/basesspcloud/lib/python3.10/site-packages/pandas/core/reshape/merge.py?line=679'>680</a>\u001b[0m     warnings\u001b[39m.\u001b[39mwarn(msg, \u001b[39mFutureWarning\u001b[39;00m, stacklevel\u001b[39m=\u001b[39mfind_stack_level())\n\u001b[0;32m--> <a href='file:///home/coder/local/bin/conda/envs/basesspcloud/lib/python3.10/site-packages/pandas/core/reshape/merge.py?line=681'>682</a>\u001b[0m \u001b[39mself\u001b[39;49m\u001b[39m.\u001b[39;49m_validate_specification()\n\u001b[1;32m    <a href='file:///home/coder/local/bin/conda/envs/basesspcloud/lib/python3.10/site-packages/pandas/core/reshape/merge.py?line=683'>684</a>\u001b[0m cross_col \u001b[39m=\u001b[39m \u001b[39mNone\u001b[39;00m\n\u001b[1;32m    <a href='file:///home/coder/local/bin/conda/envs/basesspcloud/lib/python3.10/site-packages/pandas/core/reshape/merge.py?line=684'>685</a>\u001b[0m \u001b[39mif\u001b[39;00m \u001b[39mself\u001b[39m\u001b[39m.\u001b[39mhow \u001b[39m==\u001b[39m \u001b[39m\"\u001b[39m\u001b[39mcross\u001b[39m\u001b[39m\"\u001b[39m:\n",
      "File \u001b[0;32m~/local/bin/conda/envs/basesspcloud/lib/python3.10/site-packages/pandas/core/reshape/merge.py:1349\u001b[0m, in \u001b[0;36m_MergeOperation._validate_specification\u001b[0;34m(self)\u001b[0m\n\u001b[1;32m   <a href='file:///home/coder/local/bin/conda/envs/basesspcloud/lib/python3.10/site-packages/pandas/core/reshape/merge.py?line=1346'>1347</a>\u001b[0m common_cols \u001b[39m=\u001b[39m left_cols\u001b[39m.\u001b[39mintersection(right_cols)\n\u001b[1;32m   <a href='file:///home/coder/local/bin/conda/envs/basesspcloud/lib/python3.10/site-packages/pandas/core/reshape/merge.py?line=1347'>1348</a>\u001b[0m \u001b[39mif\u001b[39;00m \u001b[39mlen\u001b[39m(common_cols) \u001b[39m==\u001b[39m \u001b[39m0\u001b[39m:\n\u001b[0;32m-> <a href='file:///home/coder/local/bin/conda/envs/basesspcloud/lib/python3.10/site-packages/pandas/core/reshape/merge.py?line=1348'>1349</a>\u001b[0m     \u001b[39mraise\u001b[39;00m MergeError(\n\u001b[1;32m   <a href='file:///home/coder/local/bin/conda/envs/basesspcloud/lib/python3.10/site-packages/pandas/core/reshape/merge.py?line=1349'>1350</a>\u001b[0m         \u001b[39m\"\u001b[39m\u001b[39mNo common columns to perform merge on. \u001b[39m\u001b[39m\"\u001b[39m\n\u001b[1;32m   <a href='file:///home/coder/local/bin/conda/envs/basesspcloud/lib/python3.10/site-packages/pandas/core/reshape/merge.py?line=1350'>1351</a>\u001b[0m         \u001b[39mf\u001b[39m\u001b[39m\"\u001b[39m\u001b[39mMerge options: left_on=\u001b[39m\u001b[39m{\u001b[39;00m\u001b[39mself\u001b[39m\u001b[39m.\u001b[39mleft_on\u001b[39m}\u001b[39;00m\u001b[39m, \u001b[39m\u001b[39m\"\u001b[39m\n\u001b[1;32m   <a href='file:///home/coder/local/bin/conda/envs/basesspcloud/lib/python3.10/site-packages/pandas/core/reshape/merge.py?line=1351'>1352</a>\u001b[0m         \u001b[39mf\u001b[39m\u001b[39m\"\u001b[39m\u001b[39mright_on=\u001b[39m\u001b[39m{\u001b[39;00m\u001b[39mself\u001b[39m\u001b[39m.\u001b[39mright_on\u001b[39m}\u001b[39;00m\u001b[39m, \u001b[39m\u001b[39m\"\u001b[39m\n\u001b[1;32m   <a href='file:///home/coder/local/bin/conda/envs/basesspcloud/lib/python3.10/site-packages/pandas/core/reshape/merge.py?line=1352'>1353</a>\u001b[0m         \u001b[39mf\u001b[39m\u001b[39m\"\u001b[39m\u001b[39mleft_index=\u001b[39m\u001b[39m{\u001b[39;00m\u001b[39mself\u001b[39m\u001b[39m.\u001b[39mleft_index\u001b[39m}\u001b[39;00m\u001b[39m, \u001b[39m\u001b[39m\"\u001b[39m\n\u001b[1;32m   <a href='file:///home/coder/local/bin/conda/envs/basesspcloud/lib/python3.10/site-packages/pandas/core/reshape/merge.py?line=1353'>1354</a>\u001b[0m         \u001b[39mf\u001b[39m\u001b[39m\"\u001b[39m\u001b[39mright_index=\u001b[39m\u001b[39m{\u001b[39;00m\u001b[39mself\u001b[39m\u001b[39m.\u001b[39mright_index\u001b[39m}\u001b[39;00m\u001b[39m\"\u001b[39m\n\u001b[1;32m   <a href='file:///home/coder/local/bin/conda/envs/basesspcloud/lib/python3.10/site-packages/pandas/core/reshape/merge.py?line=1354'>1355</a>\u001b[0m     )\n\u001b[1;32m   <a href='file:///home/coder/local/bin/conda/envs/basesspcloud/lib/python3.10/site-packages/pandas/core/reshape/merge.py?line=1355'>1356</a>\u001b[0m \u001b[39mif\u001b[39;00m (\n\u001b[1;32m   <a href='file:///home/coder/local/bin/conda/envs/basesspcloud/lib/python3.10/site-packages/pandas/core/reshape/merge.py?line=1356'>1357</a>\u001b[0m     \u001b[39mnot\u001b[39;00m left_cols\u001b[39m.\u001b[39mjoin(common_cols, how\u001b[39m=\u001b[39m\u001b[39m\"\u001b[39m\u001b[39minner\u001b[39m\u001b[39m\"\u001b[39m)\u001b[39m.\u001b[39mis_unique\n\u001b[1;32m   <a href='file:///home/coder/local/bin/conda/envs/basesspcloud/lib/python3.10/site-packages/pandas/core/reshape/merge.py?line=1357'>1358</a>\u001b[0m     \u001b[39mor\u001b[39;00m \u001b[39mnot\u001b[39;00m right_cols\u001b[39m.\u001b[39mjoin(common_cols, how\u001b[39m=\u001b[39m\u001b[39m\"\u001b[39m\u001b[39minner\u001b[39m\u001b[39m\"\u001b[39m)\u001b[39m.\u001b[39mis_unique\n\u001b[1;32m   <a href='file:///home/coder/local/bin/conda/envs/basesspcloud/lib/python3.10/site-packages/pandas/core/reshape/merge.py?line=1358'>1359</a>\u001b[0m ):\n\u001b[1;32m   <a href='file:///home/coder/local/bin/conda/envs/basesspcloud/lib/python3.10/site-packages/pandas/core/reshape/merge.py?line=1359'>1360</a>\u001b[0m     \u001b[39mraise\u001b[39;00m MergeError(\u001b[39mf\u001b[39m\u001b[39m\"\u001b[39m\u001b[39mData columns not unique: \u001b[39m\u001b[39m{\u001b[39;00m\u001b[39mrepr\u001b[39m(common_cols)\u001b[39m}\u001b[39;00m\u001b[39m\"\u001b[39m)\n",
      "\u001b[0;31mMergeError\u001b[0m: No common columns to perform merge on. Merge options: left_on=None, right_on=None, left_index=False, right_index=False"
     ]
    }
   ],
   "source": [
    "df_test = pd.merge(X_test.compute(), y_test.compute())\n"
   ]
  },
  {
   "cell_type": "code",
   "execution_count": 263,
   "id": "f8cfec6e",
   "metadata": {},
   "outputs": [
    {
     "ename": "AttributeError",
     "evalue": "'Series' object has no attribute 'merge'",
     "output_type": "error",
     "traceback": [
      "\u001b[0;31m---------------------------------------------------------------------------\u001b[0m",
      "\u001b[0;31mAttributeError\u001b[0m                            Traceback (most recent call last)",
      "\u001b[1;32m/home/coder/work/codification-ape/notebooks/newdata_exploration_dask.ipynb Cell 58'\u001b[0m in \u001b[0;36m<cell line: 1>\u001b[0;34m()\u001b[0m\n\u001b[0;32m----> <a href='vscode-notebook-cell://projet-ape-485067-0.kub.sspcloud.fr/home/coder/work/codification-ape/notebooks/newdata_exploration_dask.ipynb#ch0000060vscode-remote?line=0'>1</a>\u001b[0m df_train \u001b[39m=\u001b[39m X_train\u001b[39m.\u001b[39;49mmerge(y_train)\u001b[39m.\u001b[39mcompute()\n\u001b[1;32m      <a href='vscode-notebook-cell://projet-ape-485067-0.kub.sspcloud.fr/home/coder/work/codification-ape/notebooks/newdata_exploration_dask.ipynb#ch0000060vscode-remote?line=1'>2</a>\u001b[0m df_test \u001b[39m=\u001b[39m X_test\u001b[39m.\u001b[39mmerge(y_test)\u001b[39m.\u001b[39mcompute()\n",
      "\u001b[0;31mAttributeError\u001b[0m: 'Series' object has no attribute 'merge'"
     ]
    }
   ],
   "source": [
    "df_train = dd.multi.merge(X_train, y_train).compute()\n",
    "df_test = dd.merge(X_test, y_test).compute()\n"
   ]
  },
  {
   "cell_type": "code",
   "execution_count": null,
   "id": "79f1ed48",
   "metadata": {},
   "outputs": [],
   "source": [
    "\n",
    "# Run training of the model\n",
    "df_test, df_train = run_prediction(df_test, df_train, model)\n",
    "\n",
    "# calculate accuracy on test data\n",
    "accuracy_test = sum(df_test['GoodPREDICTION'])/df_test.shape[0] * 100\n",
    "# calculate accuracy on train data\n",
    "accuracy_train = sum(df_train['GoodPREDICTION'])/df_train.shape[0] * 100"
   ]
  }
 ],
 "metadata": {
  "kernelspec": {
   "display_name": "Python 3 (ipykernel)",
   "language": "python",
   "name": "python3"
  },
  "language_info": {
   "codemirror_mode": {
    "name": "ipython",
    "version": 3
   },
   "file_extension": ".py",
   "mimetype": "text/x-python",
   "name": "python",
   "nbconvert_exporter": "python",
   "pygments_lexer": "ipython3",
   "version": "3.10.4"
  }
 },
 "nbformat": 4,
 "nbformat_minor": 5
}
